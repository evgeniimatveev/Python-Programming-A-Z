{
 "cells": [
  {
   "cell_type": "markdown",
   "metadata": {},
   "source": [
    "# PYTHON PROGRAMMING FUNDAMENTALS\n"
   ]
  },
  {
   "cell_type": "markdown",
   "metadata": {},
   "source": [
    "# FUNCTIONS\n",
    "- A function is a block of code that can run whenever it is called (by the main function for example).\n",
    "- Data or arguments can be passed to the function and also returned from the function. \n"
   ]
  },
  {
   "cell_type": "code",
   "execution_count": null,
   "metadata": {},
   "outputs": [],
   "source": []
  },
  {
   "cell_type": "code",
   "execution_count": 11,
   "metadata": {},
   "outputs": [
    {
     "name": "stdout",
     "output_type": "stream",
     "text": [
      "Hello World!\n",
      "Hello World!\n",
      "Square of 4: 16\n",
      "10 multiplied by 10: 100\n",
      "I am 20 years old\n",
      "I am 30 years old\n",
      "Sum of 100 and 8: 108\n",
      "Happy New Year Ryan, I wish you Happiness!\n",
      "Happy New Year Laila, I wish you Wealth!\n",
      "Area: 78.5 | Circumference: 31.400000000000002\n",
      "🎬 Welcome to the Movie Recommendation App!\n"
     ]
    },
    {
     "name": "stdin",
     "output_type": "stream",
     "text": [
      "Enter your age (or type -1 to quit):  60\n"
     ]
    },
    {
     "name": "stdout",
     "output_type": "stream",
     "text": [
      "Recommended Movie: The Shawshank Redemption 🎥\n"
     ]
    },
    {
     "name": "stdin",
     "output_type": "stream",
     "text": [
      "Enter your age (or type -1 to quit):  14\n"
     ]
    },
    {
     "name": "stdout",
     "output_type": "stream",
     "text": [
      "Recommended Movie: Spider-Man 🕸️\n"
     ]
    },
    {
     "name": "stdin",
     "output_type": "stream",
     "text": [
      "Enter your age (or type -1 to quit):  12\n"
     ]
    },
    {
     "name": "stdout",
     "output_type": "stream",
     "text": [
      "Recommended Movie: Frozen ❄️\n"
     ]
    },
    {
     "name": "stdin",
     "output_type": "stream",
     "text": [
      "Enter your age (or type -1 to quit):  -1\n"
     ]
    },
    {
     "name": "stdout",
     "output_type": "stream",
     "text": [
      "Thank you for using the app. Goodbye! 😊\n"
     ]
    },
    {
     "data": {
      "text/plain": [
       "'\\n🚀 Tip:\\nPractice writing your own functions for common tasks, like:\\n- Converting units (miles to kilometers)\\n- Performing calculations (average, percentage, etc.)\\n- Interacting with users (basic apps like calculators or quizzes)\\n'"
      ]
     },
     "execution_count": 11,
     "metadata": {},
     "output_type": "execute_result"
    }
   ],
   "source": [
    "##### ====================================================\n",
    "# PYTHON PROGRAMMING FUNDAMENTALS: FUNCTIONS 🛠️\n",
    "# ====================================================\n",
    "\n",
    "\"\"\"\n",
    "A function is a block of reusable code that performs a specific task. \n",
    "Functions make your code modular, easier to read, debug, and maintain. 🚀\n",
    "\n",
    "**Key Points about Functions:**\n",
    "- Functions are defined using the `def` keyword.\n",
    "- They can take input arguments (parameters) and can return outputs.\n",
    "- Functions allow code reuse, reducing redundancy.\n",
    "\n",
    "\"\"\"\n",
    "\n",
    "# ====================================================\n",
    "# Example 1: Basic Function Without Arguments 👋\n",
    "# ====================================================\n",
    "# Define a simple function\n",
    "def my_function():\n",
    "    print('Hello World!')\n",
    "\n",
    "# Call the function multiple times\n",
    "my_function()\n",
    "my_function()\n",
    "\n",
    "\"\"\"\n",
    "💡 Output:\n",
    "Hello World!\n",
    "Hello World!\n",
    "\"\"\"\n",
    "\n",
    "# ====================================================\n",
    "# Example 2: Function with a Return Statement ➕\n",
    "# ====================================================\n",
    "# A function that returns the square of a number\n",
    "def squared(x):\n",
    "    return x ** 2\n",
    "\n",
    "# Call the function and store the result\n",
    "output = squared(4)\n",
    "\n",
    "# Print the result\n",
    "print(\"Square of 4:\", output)  # Output: 16\n",
    "\n",
    "\"\"\"\n",
    "💡 Explanation:\n",
    "1. The `squared` function calculates `x ** 2` and returns it.\n",
    "2. The `return` keyword allows us to use the result elsewhere.\n",
    "\"\"\"\n",
    "\n",
    "# ====================================================\n",
    "# Example 3: Functions with Arguments 🧮\n",
    "# ====================================================\n",
    "# Function that multiplies a number by 10\n",
    "def multiply(x):\n",
    "    return x * 10\n",
    "\n",
    "print(\"10 multiplied by 10:\", multiply(10))  # Output: 100\n",
    "\n",
    "\"\"\"\n",
    "💡 Explanation:\n",
    "- The `multiply` function accepts one parameter, `x`, and multiplies it by 10.\n",
    "\"\"\"\n",
    "\n",
    "# ====================================================\n",
    "# Example 4: Default Parameter Values 🎛️\n",
    "# ====================================================\n",
    "# Function with a default argument\n",
    "def my_function(age=20):\n",
    "    print(\"I am {} years old\".format(age))\n",
    "\n",
    "# Call the function with and without arguments\n",
    "my_function()       # Output: I am 20 years old\n",
    "my_function(30)     # Output: I am 30 years old\n",
    "\n",
    "\"\"\"\n",
    "💡 Explanation:\n",
    "- If no value is provided, `age` defaults to 20.\n",
    "- When an argument is passed, it overrides the default value.\n",
    "\"\"\"\n",
    "\n",
    "# ====================================================\n",
    "# Example 5: Function with Multiple Parameters 🧮\n",
    "# ====================================================\n",
    "# Function to calculate the sum of two numbers\n",
    "def summation(x=100, y=0):\n",
    "    return x + y\n",
    "\n",
    "print(\"Sum of 100 and 8:\", summation(100, 8))  # Output: 108\n",
    "\n",
    "\"\"\"\n",
    "💡 Explanation:\n",
    "- This function adds two numbers, `x` and `y`, and returns the result.\n",
    "- Default values allow flexible usage.\n",
    "\"\"\"\n",
    "\n",
    "# ====================================================\n",
    "# Example 6: Function with Multiple Arguments 🎉\n",
    "# ====================================================\n",
    "# A greeting function\n",
    "def greetings_function(name, greeting):\n",
    "    print(\"Happy New Year {}, I wish you {}!\".format(name, greeting))\n",
    "\n",
    "# Call the function with arguments\n",
    "greetings_function(\"Ryan\", \"Happiness\")\n",
    "greetings_function(\"Laila\", \"Wealth\")\n",
    "\n",
    "\"\"\"\n",
    "💡 Explanation:\n",
    "- This function takes two parameters, `name` and `greeting`, and constructs a message.\n",
    "\"\"\"\n",
    "\n",
    "# ====================================================\n",
    "# Example 7: Function Returning Multiple Values 🌈\n",
    "# ====================================================\n",
    "# Function to calculate the area and circumference of a circle\n",
    "def circle(r):\n",
    "    return (r ** 2 * 3.14, 2 * 3.14 * r)\n",
    "\n",
    "area, circumference = circle(5)\n",
    "print(\"Area:\", area, \"| Circumference:\", circumference)\n",
    "\n",
    "\"\"\"\n",
    "💡 Explanation:\n",
    "- This function calculates and returns both the area and circumference of a circle.\n",
    "- Multiple return values are unpacked into variables `area` and `circumference`.\n",
    "\"\"\"\n",
    "\n",
    "# ====================================================\n",
    "# Simple Project: Age-Based Movie Recommendation App 🎥\n",
    "# ====================================================\n",
    "\n",
    "\"\"\"\n",
    "🛠️ Mini Project:\n",
    "Let's build a simple **Movie Recommendation App** using functions!\n",
    "\"\"\"\n",
    "\n",
    "# Step 1: Define a function to recommend a movie\n",
    "def recommend_movie(age):\n",
    "    if age < 13:\n",
    "        return \"Recommended Movie: Frozen ❄️\"\n",
    "    elif 13 <= age < 18:\n",
    "        return \"Recommended Movie: Spider-Man 🕸️\"\n",
    "    else:\n",
    "        return \"Recommended Movie: The Shawshank Redemption 🎥\"\n",
    "\n",
    "# Step 2: Create a main function to interact with the user\n",
    "def movie_app():\n",
    "    print(\"🎬 Welcome to the Movie Recommendation App!\")\n",
    "    while True:\n",
    "        # Ask the user for their age\n",
    "        try:\n",
    "            age = int(input(\"Enter your age (or type -1 to quit): \"))\n",
    "            if age == -1:\n",
    "                print(\"Thank you for using the app. Goodbye! 😊\")\n",
    "                break\n",
    "            # Call the `recommend_movie` function\n",
    "            print(recommend_movie(age))\n",
    "        except ValueError:\n",
    "            print(\"Please enter a valid number.\")\n",
    "\n",
    "# Step 3: Run the app\n",
    "movie_app()\n",
    "\n",
    "\"\"\"\n",
    "💡 What We Did:\n",
    "1. Used a function `recommend_movie` to define movie recommendations based on age.\n",
    "2. Added a loop in `movie_app` to repeatedly take user input.\n",
    "3. Handled invalid inputs gracefully using `try-except`.\n",
    "\"\"\"\n",
    "\n",
    "# ====================================================\n",
    "# Summary:\n",
    "# - Functions make code modular, reusable, and easier to debug.\n",
    "# - They can take arguments, return values, and even have default parameters.\n",
    "# - Use functions to organize your code, as we did in the Movie App. 🎉\n",
    "\n",
    "\"\"\"\n",
    "🚀 Tip:\n",
    "Practice writing your own functions for common tasks, like:\n",
    "- Converting units (miles to kilometers)\n",
    "- Performing calculations (average, percentage, etc.)\n",
    "- Interacting with users (basic apps like calculators or quizzes)\n",
    "\"\"\""
   ]
  },
  {
   "cell_type": "code",
   "execution_count": null,
   "metadata": {},
   "outputs": [],
   "source": []
  },
  {
   "cell_type": "code",
   "execution_count": null,
   "metadata": {},
   "outputs": [],
   "source": []
  },
  {
   "cell_type": "code",
   "execution_count": null,
   "metadata": {},
   "outputs": [],
   "source": []
  },
  {
   "cell_type": "code",
   "execution_count": null,
   "metadata": {},
   "outputs": [],
   "source": []
  },
  {
   "cell_type": "code",
   "execution_count": null,
   "metadata": {},
   "outputs": [],
   "source": []
  },
  {
   "cell_type": "code",
   "execution_count": null,
   "metadata": {},
   "outputs": [],
   "source": []
  },
  {
   "cell_type": "code",
   "execution_count": null,
   "metadata": {},
   "outputs": [],
   "source": []
  },
  {
   "cell_type": "code",
   "execution_count": null,
   "metadata": {},
   "outputs": [],
   "source": []
  },
  {
   "cell_type": "markdown",
   "metadata": {},
   "source": [
    "# KEEP IT UP! YOU SHOULD BE PROUD OF YOUR NEWLY ACQUIRED PROGRAMMING SKILLS!"
   ]
  }
 ],
 "metadata": {
  "kernelspec": {
   "display_name": "Python [conda env:base] *",
   "language": "python",
   "name": "conda-base-py"
  },
  "language_info": {
   "codemirror_mode": {
    "name": "ipython",
    "version": 3
   },
   "file_extension": ".py",
   "mimetype": "text/x-python",
   "name": "python",
   "nbconvert_exporter": "python",
   "pygments_lexer": "ipython3",
   "version": "3.12.3"
  }
 },
 "nbformat": 4,
 "nbformat_minor": 4
}
