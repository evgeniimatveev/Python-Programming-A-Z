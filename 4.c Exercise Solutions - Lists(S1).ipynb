{
 "cells": [
  {
   "cell_type": "markdown",
   "metadata": {},
   "source": [
    "# <font color='red'> *ABSOLUTE BEGINNER LEVEL* </font> \n",
    "# <font color='red'> LISTS </font> "
   ]
  },
  {
   "cell_type": "markdown",
   "metadata": {},
   "source": [
    "# <font color='blue'> 1. PRINT FIRST, SECOND AND LAST ELEMENT IN THE LIST </font> \n",
    "Remember that the first element of the list has an index of 0"
   ]
  },
  {
   "cell_type": "code",
   "execution_count": 1,
   "metadata": {
    "scrolled": true
   },
   "outputs": [
    {
     "name": "stdout",
     "output_type": "stream",
     "text": [
      "The first name in the list: sara\n",
      "The second name in the list: chanel\n",
      "The last name in the list: rob\n",
      "\n",
      "Here is the complete list of names:\n",
      "1. sara\n",
      "2. chanel\n",
      "3. mike\n",
      "4. ryan\n",
      "5. holy\n",
      "6. alex\n",
      "7. rob\n"
     ]
    },
    {
     "name": "stdin",
     "output_type": "stream",
     "text": [
      "\n",
      "Enter your name to add it to the list:  Tom\n"
     ]
    },
    {
     "name": "stdout",
     "output_type": "stream",
     "text": [
      "\n",
      "Updated list of names:\n",
      "1. sara\n",
      "2. chanel\n",
      "3. mike\n",
      "4. ryan\n",
      "5. holy\n",
      "6. alex\n",
      "7. rob\n",
      "8. Tom\n"
     ]
    }
   ],
   "source": [
    "# 📝 List of Names\n",
    "# This list contains the names of several people\n",
    "names = [\"sara\", \"chanel\", \"mike\", \"ryan\", \"holy\", \"alex\", \"rob\"]\n",
    "\n",
    "# 📌 Print the first element of the list\n",
    "# In Python, indexing starts at 0, so the first element has an index of 0\n",
    "print(f\"The first name in the list: {names[0]}\")  # sara\n",
    "\n",
    "# 📌 Print the second element of the list\n",
    "# The second element is at index 1\n",
    "print(f\"The second name in the list: {names[1]}\")  # chanel\n",
    "\n",
    "# 📌 Print the last element of the list\n",
    "# The index -1 points to the last element of the list\n",
    "print(f\"The last name in the list: {names[-1]}\")  # rob\n",
    "\n",
    "# ✨ Extra: Print all names using a loop\n",
    "print(\"\\nHere is the complete list of names:\")\n",
    "for index, name in enumerate(names):  # Using enumerate to get both index and name\n",
    "    print(f\"{index + 1}. {name}\")\n",
    "\n",
    "# 🛠 Try it yourself: Add your name to the list\n",
    "# Let's add a new name and print the updated list\n",
    "new_name = input(\"\\nEnter your name to add it to the list: \")\n",
    "names.append(new_name)  # The append method adds an element to the end of the list\n",
    "\n",
    "print(\"\\nUpdated list of names:\")\n",
    "for index, name in enumerate(names):\n",
    "    print(f\"{index + 1}. {name}\")\n",
    "\n",
    "# 🎉 Great job! You successfully updated the list.\n"
   ]
  },
  {
   "cell_type": "markdown",
   "metadata": {},
   "source": [
    "# <font color='blue'> 2. PRINT (1) ALL ELEMENTS IN THE LIST, (2) \"chanel\" \"mitch\" \"ryan\", (3) FIRST THREE ELEMENTS, (4) LAST THREE ELEMENTS, (5) SKIP EACH OTHER ELEMENT </font> \n",
    "Solution: \n",
    "- print(names[:])\n",
    "- print(names[1:4])\n",
    "- print(names[:3])\n",
    "- print(names[-3:])\n",
    "- print(names[::2])"
   ]
  },
  {
   "cell_type": "code",
   "execution_count": null,
   "metadata": {},
   "outputs": [],
   "source": [
    "\n"
   ]
  },
  {
   "cell_type": "code",
   "execution_count": 3,
   "metadata": {},
   "outputs": [
    {
     "name": "stdout",
     "output_type": "stream",
     "text": [
      "All elements in the list:\n",
      "['chanel', 'elena', 'ryan', 'mitch', 'deb', 'rob']\n",
      "\n",
      "Specific names from the list:\n",
      "chanel mitch ryan\n",
      "\n",
      "First three elements in the list:\n",
      "['chanel', 'elena', 'ryan']\n",
      "\n",
      "Last three elements in the list:\n",
      "['mitch', 'deb', 'rob']\n",
      "\n",
      "Every second element in the list:\n",
      "['chanel', 'ryan', 'deb']\n"
     ]
    }
   ],
   "source": [
    "# 📋 Step 1: Create a list of names\n",
    "names = [\"chanel\", \"elena\", \"ryan\", \"mitch\", \"deb\", \"rob\"]  # This is our list of names.\n",
    "\n",
    "# 1️⃣ 📝 Print all elements in the list\n",
    "print(\"All elements in the list:\")  # Display the full list as it is\n",
    "print(names)  # Prints: ['chanel', 'elena', 'ryan', 'mitch', 'deb', 'rob']\n",
    "\n",
    "# 2️⃣ 🎯 Print specific names: \"chanel\", \"mitch\", \"ryan\"\n",
    "print(\"\\nSpecific names from the list:\")  \n",
    "# Access specific elements using their indexes:\n",
    "# - \"chanel\" is at index 0\n",
    "# - \"mitch\" is at index 3\n",
    "# - \"ryan\" is at index 2\n",
    "print(names[0], names[3], names[2])  # Prints: chanel mitch ryan\n",
    "\n",
    "# 3️⃣ 🔍 Print the first three elements\n",
    "print(\"\\nFirst three elements in the list:\")  \n",
    "# Use slicing to get the first three elements. Slicing works as:\n",
    "# - Start at index 0 (default)\n",
    "# - Stop at index 3 (not inclusive)\n",
    "print(names[:3])  # Prints: ['chanel', 'elena', 'ryan']\n",
    "\n",
    "# 4️⃣ 🛑 Print the last three elements\n",
    "print(\"\\nLast three elements in the list:\")  \n",
    "# Use negative indexing and slicing to get the last three elements:\n",
    "# - Start at index -3 (third from the end)\n",
    "# - Go to the end of the list\n",
    "print(names[-3:])  # Prints: ['mitch', 'deb', 'rob']\n",
    "\n",
    "# 5️⃣ ⏭️ Print every second element\n",
    "print(\"\\nEvery second element in the list:\")  \n",
    "# Use slicing with a step of 2:\n",
    "# - Start at index 0 (default)\n",
    "# - Skip every second element\n",
    "print(names[::2])  # Prints: ['chanel', 'ryan', 'deb']\n",
    "\n"
   ]
  },
  {
   "cell_type": "markdown",
   "metadata": {},
   "source": [
    "# <font color='blue'> 3. PRINT (1) SALLY, (2) SARA, SALLY, JOE (3) ALY (WITH TWO DIFFERENT WAYS) </font> \n"
   ]
  },
  {
   "cell_type": "code",
   "execution_count": 6,
   "metadata": {},
   "outputs": [],
   "source": []
  },
  {
   "cell_type": "code",
   "execution_count": 9,
   "metadata": {},
   "outputs": [
    {
     "name": "stdout",
     "output_type": "stream",
     "text": [
      "1️⃣ Printing 'sally':\n",
      "sally\n",
      "\n",
      "2️⃣ Printing the entire nested list ['sara', 'sally', 'joe']:\n",
      "['sara', 'sally', 'joe']\n",
      "\n",
      "3️⃣ Printing 'aly' (Method 1 - Positive Indexing):\n",
      "aly\n",
      "\n",
      "3️⃣ Printing 'aly' (Method 2 - Negative Indexing):\n",
      "aly\n",
      "\n",
      "🔄 Loop through the nested list:\n",
      "sara\n",
      "sally\n",
      "joe\n",
      "\n",
      "🆕 Adding 'alex' to the nested list:\n",
      "['sara', 'sally', 'joe', 'alex']\n",
      "\n",
      "🔄 Updated main list:\n",
      "['Mitch', ['sara', 'sally', 'joe', 'alex'], 'peter', 'aly']\n",
      "\n",
      "🔍 Check if 'sally' is in the nested list:\n",
      "True\n",
      "\n",
      "🔍 Check if 'aly' is in the main list:\n",
      "True\n"
     ]
    }
   ],
   "source": [
    "# Step 1: Create the list with a nested structure\n",
    "my_list = [\"Mitch\", [\"sara\", \"sally\", \"joe\"], \"peter\", \"aly\"]  # The main list\n",
    "\n",
    "# 1️⃣ Print \"Sally\"\n",
    "print(\"1️⃣ Printing 'sally':\")  \n",
    "print(my_list[1][1])  # Access \"sally\" from the nested list at index [1][1]\n",
    "# Explanation:\n",
    "# - `my_list[1]` points to the nested list: [\"sara\", \"sally\", \"joe\"]\n",
    "# - `[1]` accesses the second element of that nested list\n",
    "# Output: sally\n",
    "\n",
    "# 2️⃣ Print \"Sara\", \"Sally\", \"Joe\"\n",
    "print(\"\\n2️⃣ Printing the entire nested list ['sara', 'sally', 'joe']:\")  \n",
    "print(my_list[1])  # Print the nested list directly at index [1]\n",
    "# Explanation:\n",
    "# - `my_list[1]` gives the entire nested list: [\"sara\", \"sally\", \"joe\"]\n",
    "# Output: ['sara', 'sally', 'joe']\n",
    "\n",
    "# 3️⃣ Print \"Aly\" using two methods\n",
    "print(\"\\n3️⃣ Printing 'aly' (Method 1 - Positive Indexing):\")  \n",
    "print(my_list[3])  # Access \"aly\" at index 3 (positive indexing)\n",
    "# Explanation:\n",
    "# - `my_list[3]` points to the fourth element in the main list\n",
    "# Output: aly\n",
    "\n",
    "print(\"\\n3️⃣ Printing 'aly' (Method 2 - Negative Indexing):\")  \n",
    "print(my_list[-1])  # Access \"aly\" using negative indexing\n",
    "# Explanation:\n",
    "# - `my_list[-1]` counts from the end of the list to get \"aly\"\n",
    "# Output: aly\n",
    "\n",
    "# 🔄 Loop through the nested list and print each name\n",
    "print(\"\\n🔄 Loop through the nested list:\")\n",
    "nested_list = my_list[1]  # Extract the nested list\n",
    "for name in nested_list:\n",
    "    print(name)  \n",
    "# Output:\n",
    "# sara\n",
    "# sally\n",
    "# joe\n",
    "\n",
    "# 🆕 Add a new name to the nested list\n",
    "print(\"\\n🆕 Adding 'alex' to the nested list:\")\n",
    "nested_list.append(\"alex\")  # Add a new name to the nested list\n",
    "print(nested_list)  \n",
    "# Output: ['sara', 'sally', 'joe', 'alex']\n",
    "\n",
    "# 🔄 Print the updated main list\n",
    "print(\"\\n🔄 Updated main list:\")\n",
    "print(my_list)  \n",
    "# Output: ['Mitch', ['sara', 'sally', 'joe', 'alex'], 'peter', 'aly']\n",
    "\n",
    "# 🔍 Check if specific elements exist in the lists\n",
    "print(\"\\n🔍 Check if 'sally' is in the nested list:\")\n",
    "print(\"sally\" in nested_list)  # Output: True\n",
    "\n",
    "print(\"\\n🔍 Check if 'aly' is in the main list:\")\n",
    "print(\"aly\" in my_list)  # Output: True"
   ]
  },
  {
   "cell_type": "code",
   "execution_count": null,
   "metadata": {},
   "outputs": [],
   "source": []
  },
  {
   "cell_type": "code",
   "execution_count": null,
   "metadata": {},
   "outputs": [],
   "source": []
  },
  {
   "cell_type": "code",
   "execution_count": null,
   "metadata": {},
   "outputs": [],
   "source": []
  },
  {
   "cell_type": "markdown",
   "metadata": {},
   "source": [
    "# <font color='blue'> 4. PRINT THE LENGTH OF THE LIST AND ADD YOUR NAME TO THE LIST (EXTERNAL RESEARCH) </font> \n",
    "    - research the method: append()"
   ]
  },
  {
   "cell_type": "code",
   "execution_count": null,
   "metadata": {},
   "outputs": [],
   "source": []
  },
  {
   "cell_type": "code",
   "execution_count": 13,
   "metadata": {},
   "outputs": [
    {
     "name": "stdout",
     "output_type": "stream",
     "text": [
      "1️⃣ Length of the main list:\n",
      "4\n",
      "\n",
      "2️⃣ Adding 'Ryan' to the main list:\n",
      "['Mitch', ['sara', 'sally', 'joe'], 'peter', 'aly', 'Ryan']\n",
      "\n",
      "🔄 New length of the main list:\n",
      "5\n",
      "\n",
      "3️⃣ Adding 'Alex' to the nested list:\n",
      "['Mitch', ['sara', 'sally', 'joe', 'Alex'], 'peter', 'aly', 'Ryan']\n",
      "\n",
      "🔍 Total number of names (main list + nested list):\n",
      "8\n"
     ]
    }
   ],
   "source": [
    "# Step 1: Create the list\n",
    "my_list = [\"Mitch\", [\"sara\", \"sally\", \"joe\"], \"peter\", \"aly\"]  # A list with a nested structure\n",
    "\n",
    "# 1️⃣ Print the length of the list 📏\n",
    "print(\"1️⃣ Length of the main list:\")  \n",
    "print(len(my_list))  \n",
    "# Explanation:\n",
    "# - `len(my_list)` calculates the number of elements in the main list.\n",
    "# - In this case, there are 4 elements: \"Mitch\", the nested list, \"peter\", and \"aly\".\n",
    "# Output: 4\n",
    "\n",
    "# 2️⃣ Add a new name to the list 🆕\n",
    "print(\"\\n2️⃣ Adding 'Ryan' to the main list:\")\n",
    "my_list.append(\"Ryan\")  # Use the `.append()` method to add \"Ryan\" to the end of the list\n",
    "print(my_list)  \n",
    "# Explanation:\n",
    "# - `.append()` adds an element to the end of the list.\n",
    "# - Now the list has 5 elements, and \"Ryan\" is added at the last position.\n",
    "# Output: ['Mitch', ['sara', 'sally', 'joe'], 'peter', 'aly', 'Ryan']\n",
    "\n",
    "# 🔄 BONUS: Print the new length of the list\n",
    "print(\"\\n🔄 New length of the main list:\")  \n",
    "print(len(my_list))  \n",
    "# Explanation:\n",
    "# - The length increases to 5 after adding a new element.\n",
    "# Output: 5\n",
    "\n",
    "# 3️⃣ Advanced Feature: Add your name to the nested list 🎁\n",
    "print(\"\\n3️⃣ Adding 'Alex' to the nested list:\")  \n",
    "nested_list = my_list[1]  # Extract the nested list\n",
    "nested_list.append(\"Alex\")  # Add \"Alex\" to the nested list\n",
    "print(my_list)  \n",
    "# Explanation:\n",
    "# - `my_list[1]` accesses the nested list: [\"sara\", \"sally\", \"joe\"]\n",
    "# - `.append(\"Alex\")` adds \"Alex\" to the nested list.\n",
    "# Output: ['Mitch', ['sara', 'sally', 'joe', 'Alex'], 'peter', 'aly', 'Ryan']\n",
    "\n",
    "# 🔍 BONUS: Print the total number of names in both lists\n",
    "print(\"\\n🔍 Total number of names (main list + nested list):\")\n",
    "total_names = len(my_list) + len(my_list[1]) - 1  # Subtract 1 to avoid double-counting the nested list itself\n",
    "print(total_names)\n",
    "# Explanation:\n",
    "# - Count the elements of the main list + elements in the nested list\n",
    "# - Subtract 1 because the nested list itself is already part of the main list.\n",
    "# Output: Total names (excluding nested structure itself)"
   ]
  },
  {
   "cell_type": "code",
   "execution_count": 13,
   "metadata": {},
   "outputs": [],
   "source": []
  },
  {
   "cell_type": "code",
   "execution_count": null,
   "metadata": {},
   "outputs": [],
   "source": []
  },
  {
   "cell_type": "markdown",
   "metadata": {},
   "source": [
    "# <font color='blue'> 5. REMOVE \"PETER\" FROM THE LIST USING TWO DIFFERENT METHODS (EXTERNAL RESEARCH)  </font> \n",
    "    - remove()\n",
    "    - del "
   ]
  },
  {
   "cell_type": "code",
   "execution_count": 15,
   "metadata": {},
   "outputs": [],
   "source": []
  },
  {
   "cell_type": "code",
   "execution_count": 16,
   "metadata": {},
   "outputs": [],
   "source": []
  },
  {
   "cell_type": "code",
   "execution_count": 17,
   "metadata": {},
   "outputs": [
    {
     "name": "stdout",
     "output_type": "stream",
     "text": [
      "1️⃣ Length of the main list:\n",
      "4\n",
      "\n",
      "2️⃣ Adding 'Ryan' to the main list:\n",
      "['Mitch', ['sara', 'sally', 'joe'], 'peter', 'aly', 'Ryan']\n",
      "\n",
      "🔄 New length of the main list:\n",
      "5\n",
      "\n",
      "3️⃣ Adding 'Alex' to the nested list:\n",
      "['Mitch', ['sara', 'sally', 'joe', 'Alex'], 'peter', 'aly', 'Ryan']\n",
      "\n",
      "🔍 Total number of names (main list + nested list):\n",
      "8\n"
     ]
    }
   ],
   "source": [
    "# Step 1: Create the list\n",
    "my_list = [\"Mitch\", [\"sara\", \"sally\", \"joe\"], \"peter\", \"aly\"]  # A list with a nested structure\n",
    "\n",
    "# 1️⃣ Print the length of the list 📏\n",
    "print(\"1️⃣ Length of the main list:\")  \n",
    "print(len(my_list))  \n",
    "# Explanation:\n",
    "# - `len(my_list)` calculates the number of elements in the main list.\n",
    "# - In this case, there are 4 elements: \"Mitch\", the nested list, \"peter\", and \"aly\".\n",
    "# Output: 4\n",
    "\n",
    "# 2️⃣ Add a new name to the list 🆕\n",
    "print(\"\\n2️⃣ Adding 'Ryan' to the main list:\")\n",
    "my_list.append(\"Ryan\")  # Use the `.append()` method to add \"Ryan\" to the end of the list\n",
    "print(my_list)  \n",
    "# Explanation:\n",
    "# - `.append()` adds an element to the end of the list.\n",
    "# - Now the list has 5 elements, and \"Ryan\" is added at the last position.\n",
    "# Output: ['Mitch', ['sara', 'sally', 'joe'], 'peter', 'aly', 'Ryan']\n",
    "\n",
    "# 🔄 BONUS: Print the new length of the list\n",
    "print(\"\\n🔄 New length of the main list:\")  \n",
    "print(len(my_list))  \n",
    "# Explanation:\n",
    "# - The length increases to 5 after adding a new element.\n",
    "# Output: 5\n",
    "\n",
    "# 3️⃣ Advanced Feature: Add your name to the nested list 🎁\n",
    "print(\"\\n3️⃣ Adding 'Alex' to the nested list:\")  \n",
    "nested_list = my_list[1]  # Extract the nested list\n",
    "nested_list.append(\"Alex\")  # Add \"Alex\" to the nested list\n",
    "print(my_list)  \n",
    "# Explanation:\n",
    "# - `my_list[1]` accesses the nested list: [\"sara\", \"sally\", \"joe\"]\n",
    "# - `.append(\"Alex\")` adds \"Alex\" to the nested list.\n",
    "# Output: ['Mitch', ['sara', 'sally', 'joe', 'Alex'], 'peter', 'aly', 'Ryan']\n",
    "\n",
    "# 🔍 BONUS: Print the total number of names in both lists\n",
    "print(\"\\n🔍 Total number of names (main list + nested list):\")\n",
    "total_names = len(my_list) + len(my_list[1]) - 1  # Subtract 1 to avoid double-counting the nested list itself\n",
    "print(total_names)\n",
    "# Explanation:\n",
    "# - Count the elements of the main list + elements in the nested list\n",
    "# - Subtract 1 because the nested list itself is already part of the main list.\n",
    "# Output: Total names (excluding nested structure itself)"
   ]
  },
  {
   "cell_type": "code",
   "execution_count": 21,
   "metadata": {},
   "outputs": [],
   "source": []
  },
  {
   "cell_type": "code",
   "execution_count": 22,
   "metadata": {},
   "outputs": [],
   "source": []
  },
  {
   "cell_type": "code",
   "execution_count": null,
   "metadata": {},
   "outputs": [],
   "source": []
  },
  {
   "cell_type": "markdown",
   "metadata": {},
   "source": [
    "# <font color='blue'> 6. SORT ELEMENTS IN A LIST AND REVERSE ALL ELEMENTS TO GO FROM MAXIMUM TO MINIMUM </font> \n",
    "    - sort()\n",
    "    - reverse()\n",
    "   "
   ]
  },
  {
   "cell_type": "code",
   "execution_count": 39,
   "metadata": {},
   "outputs": [
    {
     "name": "stdout",
     "output_type": "stream",
     "text": [
      "[10, 15, 20, 30, 40, 45, 50]\n"
     ]
    }
   ],
   "source": [
    "my_list = [50, 20, 30, 10, 40, 15, 45]\n",
    "my_list.sort()\n",
    "print(my_list)\n",
    "\n"
   ]
  },
  {
   "cell_type": "code",
   "execution_count": 40,
   "metadata": {},
   "outputs": [
    {
     "name": "stdout",
     "output_type": "stream",
     "text": [
      "[50, 45, 40, 30, 20, 15, 10]\n"
     ]
    }
   ],
   "source": [
    "my_list.reverse()\n",
    "print(my_list)\n"
   ]
  },
  {
   "cell_type": "code",
   "execution_count": null,
   "metadata": {},
   "outputs": [],
   "source": []
  },
  {
   "cell_type": "code",
   "execution_count": null,
   "metadata": {},
   "outputs": [],
   "source": []
  },
  {
   "cell_type": "code",
   "execution_count": 22,
   "metadata": {},
   "outputs": [
    {
     "name": "stdout",
     "output_type": "stream",
     "text": [
      "Original list:\n",
      "[50, 20, 30, 10, 40, 15, 45]\n",
      "\n",
      "1️⃣ Sorting the list in ascending order:\n",
      "[10, 15, 20, 30, 40, 45, 50]\n",
      "\n",
      "2️⃣ Reversing the sorted list to get descending order:\n",
      "[50, 45, 40, 30, 20, 15, 10]\n",
      "\n",
      "🛠 BONUS: Sorting the list in descending order directly using `sort(reverse=True)`:\n",
      "[50, 45, 40, 30, 20, 15, 10]\n",
      "\n",
      "🔄 BONUS: Reverse the list without modifying the original using slicing:\n",
      "[10, 15, 20, 30, 40, 45, 50]\n",
      "\n",
      "🎁 BONUS: Sorting a list of strings alphabetically:\n",
      "['apple', 'banana', 'cherry', 'date']\n",
      "\n",
      "🧠 BONUS: Sorting strings in reverse alphabetical order:\n",
      "['date', 'cherry', 'banana', 'apple']\n"
     ]
    }
   ],
   "source": [
    "# Step 1: Create an unsorted list\n",
    "my_list = [50, 20, 30, 10, 40, 15, 45]  # A list of unsorted numbers\n",
    "print(\"Original list:\")\n",
    "print(my_list)\n",
    "# Output: [50, 20, 30, 10, 40, 15, 45]\n",
    "\n",
    "# 1️⃣ Sorting the list in ascending order\n",
    "print(\"\\n1️⃣ Sorting the list in ascending order:\")\n",
    "my_list.sort()  # Sort the list in-place in ascending order\n",
    "print(my_list)\n",
    "# Explanation:\n",
    "# - `sort()` arranges the list in ascending order.\n",
    "# - It modifies the original list.\n",
    "# Output: [10, 15, 20, 30, 40, 45, 50]\n",
    "\n",
    "# 2️⃣ Reversing the sorted list to get descending order\n",
    "print(\"\\n2️⃣ Reversing the sorted list to get descending order:\")\n",
    "my_list.reverse()  # Reverse the order of elements in-place\n",
    "print(my_list)\n",
    "# Explanation:\n",
    "# - `reverse()` reverses the order of elements in the list.\n",
    "# - After reversing, the largest element comes first.\n",
    "# Output: [50, 45, 40, 30, 20, 15, 10]\n",
    "\n",
    "# 🛠 BONUS: Sorting the list in descending order directly\n",
    "print(\"\\n🛠 BONUS: Sorting the list in descending order directly using `sort(reverse=True)`:\")\n",
    "my_list.sort(reverse=True)  # Sort the list in descending order in one step\n",
    "print(my_list)\n",
    "# Explanation:\n",
    "# - `sort(reverse=True)` is a shortcut to sort the list in descending order.\n",
    "# Output: [50, 45, 40, 30, 20, 15, 10]\n",
    "\n",
    "# 🔄 BONUS: Reverse the list without modifying the original (using slicing)\n",
    "print(\"\\n🔄 BONUS: Reverse the list without modifying the original using slicing:\")\n",
    "reversed_list = my_list[::-1]  # Slicing with a step of -1 reverses the list\n",
    "print(reversed_list)\n",
    "# Explanation:\n",
    "# - `[::-1]` creates a new list with elements in reverse order.\n",
    "# - The original list remains unchanged.\n",
    "# Output: [10, 15, 20, 30, 40, 45, 50]\n",
    "\n",
    "# 🎁 BONUS: Sort a list of strings alphabetically\n",
    "string_list = [\"banana\", \"apple\", \"cherry\", \"date\"]\n",
    "print(\"\\n🎁 BONUS: Sorting a list of strings alphabetically:\")\n",
    "string_list.sort()\n",
    "print(string_list)\n",
    "# Explanation:\n",
    "# - `sort()` can also sort strings alphabetically.\n",
    "# Output: ['apple', 'banana', 'cherry', 'date']\n",
    "\n",
    "# 🧠 BONUS: Sort strings in reverse alphabetical order\n",
    "print(\"\\n🧠 BONUS: Sorting strings in reverse alphabetical order:\")\n",
    "string_list.sort(reverse=True)\n",
    "print(string_list)\n",
    "# Output: ['date', 'cherry', 'banana', 'apple']"
   ]
  },
  {
   "cell_type": "code",
   "execution_count": null,
   "metadata": {},
   "outputs": [],
   "source": []
  },
  {
   "cell_type": "markdown",
   "metadata": {},
   "source": [
    "# <font color='blue'> 7. CREATE A NEW LIST THAT CONTAINS THE LAST ELEMENTS IN THE NESTED LISTS </font> \n",
    "   "
   ]
  },
  {
   "cell_type": "code",
   "execution_count": 43,
   "metadata": {},
   "outputs": [
    {
     "data": {
      "text/plain": [
       "[['chips', 'jelly', 'chocolate'],\n",
       " ['sweet potatoes', 'potatoes'],\n",
       " ['peanuts', 'protein bar']]"
      ]
     },
     "execution_count": 43,
     "metadata": {},
     "output_type": "execute_result"
    }
   ],
   "source": [
    "grocery_list = [['chips','jelly','chocolate'],['sweet potatoes','potatoes'],['peanuts','protein bar']]\n",
    "grocery_list"
   ]
  },
  {
   "cell_type": "code",
   "execution_count": 44,
   "metadata": {},
   "outputs": [
    {
     "data": {
      "text/plain": [
       "['chocolate', 'potatoes', 'protein bar']"
      ]
     },
     "execution_count": 44,
     "metadata": {},
     "output_type": "execute_result"
    }
   ],
   "source": [
    "new_list = []\n",
    "new_list.append(grocery_list[0][-1])\n",
    "new_list.append(grocery_list[1][-1])\n",
    "new_list.append(grocery_list[2][-1])\n",
    "\n",
    "new_list"
   ]
  },
  {
   "cell_type": "code",
   "execution_count": null,
   "metadata": {},
   "outputs": [],
   "source": []
  },
  {
   "cell_type": "code",
   "execution_count": null,
   "metadata": {},
   "outputs": [],
   "source": []
  },
  {
   "cell_type": "code",
   "execution_count": null,
   "metadata": {},
   "outputs": [],
   "source": []
  },
  {
   "cell_type": "code",
   "execution_count": 25,
   "metadata": {},
   "outputs": [
    {
     "name": "stdout",
     "output_type": "stream",
     "text": [
      "Original nested list:\n",
      "[['chips', 'jelly', 'chocolate'], ['sweet potatoes', 'potatoes'], ['peanuts', 'protein bar']]\n",
      "\n",
      "1️⃣ New list containing the last elements:\n",
      "['chocolate', 'potatoes', 'protein bar']\n",
      "\n",
      "2️⃣ New list containing the first elements:\n",
      "['chips', 'sweet potatoes', 'peanuts']\n",
      "\n",
      "3️⃣ Combined list (first + last elements):\n",
      "['chips', 'sweet potatoes', 'peanuts', 'chocolate', 'potatoes', 'protein bar']\n",
      "\n",
      "4️⃣ Flattened list (all elements in one list):\n",
      "['chips', 'jelly', 'chocolate', 'sweet potatoes', 'potatoes', 'peanuts', 'protein bar']\n"
     ]
    }
   ],
   "source": [
    "# Step 1: Create the nested list\n",
    "grocery_list = [\n",
    "    ['chips', 'jelly', 'chocolate'],  # First nested list\n",
    "    ['sweet potatoes', 'potatoes'],  # Second nested list\n",
    "    ['peanuts', 'protein bar']       # Third nested list\n",
    "]\n",
    "\n",
    "# Print the original nested list\n",
    "print(\"Original nested list:\")\n",
    "print(grocery_list)\n",
    "# Output:\n",
    "# [\n",
    "#     ['chips', 'jelly', 'chocolate'],\n",
    "#     ['sweet potatoes', 'potatoes'],\n",
    "#     ['peanuts', 'protein bar']\n",
    "# ]\n",
    "\n",
    "# 1️⃣ Extract the last elements from each nested list\n",
    "new_list = []  # Initialize an empty list to store the results\n",
    "\n",
    "# Using a loop to extract the last element from each nested list\n",
    "for sublist in grocery_list:\n",
    "    new_list.append(sublist[-1])  # Append the last element of the current sublist\n",
    "\n",
    "# Print the new list\n",
    "print(\"\\n1️⃣ New list containing the last elements:\")\n",
    "print(new_list)\n",
    "# Output: ['chocolate', 'potatoes', 'protein bar']\n",
    "\n",
    "# 2️⃣ BONUS: Extract the first elements from each nested list\n",
    "first_elements = [sublist[0] for sublist in grocery_list]  # List comprehension for first elements\n",
    "print(\"\\n2️⃣ New list containing the first elements:\")\n",
    "print(first_elements)\n",
    "# Output: ['chips', 'sweet potatoes', 'peanuts']\n",
    "\n",
    "# 3️⃣ BONUS: Combine the first and last elements into a single list\n",
    "combined_list = first_elements + new_list  # Combine the two lists\n",
    "print(\"\\n3️⃣ Combined list (first + last elements):\")\n",
    "print(combined_list)\n",
    "# Output: ['chips', 'sweet potatoes', 'peanuts', 'chocolate', 'potatoes', 'protein bar']\n",
    "\n",
    "# 4️⃣ BONUS: Flatten the entire nested list\n",
    "flattened_list = [item for sublist in grocery_list for item in sublist]  # Double loop for flattening\n",
    "print(\"\\n4️⃣ Flattened list (all elements in one list):\")\n",
    "print(flattened_list)\n",
    "# Output: ['chips', 'jelly', 'chocolate', 'sweet potatoes', 'potatoes', 'peanuts', 'protein bar']"
   ]
  },
  {
   "cell_type": "code",
   "execution_count": null,
   "metadata": {},
   "outputs": [],
   "source": []
  },
  {
   "cell_type": "markdown",
   "metadata": {},
   "source": [
    "# <font color='blue'> 8. CREATE A LIST WITH 5 OF YOUR CLOSEST FRIENDS AND SORT THEM ALPHABETICALLY </font> \n",
    "   "
   ]
  },
  {
   "cell_type": "code",
   "execution_count": 49,
   "metadata": {},
   "outputs": [],
   "source": [
    "name = [\"Amanda\", \"Ryan\", \"Joe\", \"Chanel\", \"Peter\"]\n",
    "name.sort()"
   ]
  },
  {
   "cell_type": "code",
   "execution_count": 50,
   "metadata": {},
   "outputs": [
    {
     "data": {
      "text/plain": [
       "['Amanda', 'Chanel', 'Joe', 'Peter', 'Ryan']"
      ]
     },
     "execution_count": 50,
     "metadata": {},
     "output_type": "execute_result"
    }
   ],
   "source": [
    "name"
   ]
  },
  {
   "cell_type": "code",
   "execution_count": null,
   "metadata": {},
   "outputs": [],
   "source": []
  },
  {
   "cell_type": "code",
   "execution_count": null,
   "metadata": {},
   "outputs": [],
   "source": []
  },
  {
   "cell_type": "code",
   "execution_count": null,
   "metadata": {},
   "outputs": [],
   "source": []
  },
  {
   "cell_type": "code",
   "execution_count": 28,
   "metadata": {},
   "outputs": [
    {
     "name": "stdout",
     "output_type": "stream",
     "text": [
      "Original list of friends:\n",
      "['Amanda', 'Ryan', 'Joe', 'Chanel', 'Peter']\n",
      "\n",
      "1️⃣ Sorting the list alphabetically:\n",
      "['Amanda', 'Chanel', 'Joe', 'Peter', 'Ryan']\n",
      "\n",
      "2️⃣ BONUS: Sorting the list in reverse alphabetical order:\n",
      "['Ryan', 'Peter', 'Joe', 'Chanel', 'Amanda']\n",
      "\n",
      "3️⃣ BONUS: Adding a new friend ('Alex') and sorting the list again:\n",
      "List after adding 'Alex':\n",
      "['Ryan', 'Peter', 'Joe', 'Chanel', 'Amanda', 'Alex']\n",
      "Sorted list after adding 'Alex':\n",
      "['Alex', 'Amanda', 'Chanel', 'Joe', 'Peter', 'Ryan']\n",
      "\n",
      "4️⃣ BONUS: Finding the longest and shortest names in the list:\n",
      "Longest name: Amanda\n",
      "Shortest name: Joe\n",
      "\n",
      "5️⃣ BONUS: Counting the total number of friends:\n",
      "Total number of friends: 6\n"
     ]
    }
   ],
   "source": [
    "# Step 1: Create a list of your closest friends\n",
    "friends = [\"Amanda\", \"Ryan\", \"Joe\", \"Chanel\", \"Peter\"]  # Original list of friends\n",
    "print(\"Original list of friends:\")\n",
    "print(friends)\n",
    "# Output: ['Amanda', 'Ryan', 'Joe', 'Chanel', 'Peter']\n",
    "\n",
    "# 1️⃣ Sort the list alphabetically\n",
    "print(\"\\n1️⃣ Sorting the list alphabetically:\")\n",
    "friends.sort()  # Sort the list in-place in ascending alphabetical order\n",
    "print(friends)\n",
    "# Explanation:\n",
    "# - The `sort()` method arranges the elements in alphabetical order.\n",
    "# - This modifies the original list.\n",
    "# Output: ['Amanda', 'Chanel', 'Joe', 'Peter', 'Ryan']\n",
    "\n",
    "# 2️⃣ BONUS: Sort the list in reverse alphabetical order\n",
    "print(\"\\n2️⃣ BONUS: Sorting the list in reverse alphabetical order:\")\n",
    "friends.sort(reverse=True)  # Sort the list in reverse alphabetical order\n",
    "print(friends)\n",
    "# Explanation:\n",
    "# - Adding `reverse=True` sorts the list from Z to A.\n",
    "# Output: ['Ryan', 'Peter', 'Joe', 'Chanel', 'Amanda']\n",
    "\n",
    "# 3️⃣ BONUS: Add a new friend to the list and sort again\n",
    "print(\"\\n3️⃣ BONUS: Adding a new friend ('Alex') and sorting the list again:\")\n",
    "friends.append(\"Alex\")  # Add a new friend to the list\n",
    "print(\"List after adding 'Alex':\")\n",
    "print(friends)\n",
    "# Sort the updated list alphabetically\n",
    "friends.sort()\n",
    "print(\"Sorted list after adding 'Alex':\")\n",
    "print(friends)\n",
    "# Output: ['Alex', 'Amanda', 'Chanel', 'Joe', 'Peter', 'Ryan']\n",
    "\n",
    "# 4️⃣ BONUS: Find the longest and shortest names\n",
    "print(\"\\n4️⃣ BONUS: Finding the longest and shortest names in the list:\")\n",
    "longest_name = max(friends, key=len)  # Find the longest name by length\n",
    "shortest_name = min(friends, key=len)  # Find the shortest name by length\n",
    "print(f\"Longest name: {longest_name}\")\n",
    "print(f\"Shortest name: {shortest_name}\")\n",
    "# Output:\n",
    "# Longest name: Amanda\n",
    "# Shortest name: Joe\n",
    "\n",
    "# 5️⃣ BONUS: Count the total number of friends\n",
    "print(\"\\n5️⃣ BONUS: Counting the total number of friends:\")\n",
    "total_friends = len(friends)  # Get the number of elements in the list\n",
    "print(f\"Total number of friends: {total_friends}\")\n",
    "# Output: Total number of friends: 6"
   ]
  },
  {
   "cell_type": "code",
   "execution_count": null,
   "metadata": {},
   "outputs": [],
   "source": []
  },
  {
   "cell_type": "markdown",
   "metadata": {},
   "source": [
    "# NOW YOU KNOW HOW LISTS WORK, KEEP IT UP!"
   ]
  }
 ],
 "metadata": {
  "kernelspec": {
   "display_name": "Python [conda env:base] *",
   "language": "python",
   "name": "conda-base-py"
  },
  "language_info": {
   "codemirror_mode": {
    "name": "ipython",
    "version": 3
   },
   "file_extension": ".py",
   "mimetype": "text/x-python",
   "name": "python",
   "nbconvert_exporter": "python",
   "pygments_lexer": "ipython3",
   "version": "3.12.3"
  }
 },
 "nbformat": 4,
 "nbformat_minor": 4
}
