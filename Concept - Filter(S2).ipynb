{
 "cells": [
  {
   "cell_type": "markdown",
   "metadata": {},
   "source": [
    "# PYTHON PROGRAMMING FUNDAMENTALS\n"
   ]
  },
  {
   "cell_type": "markdown",
   "metadata": {},
   "source": [
    "# FILTER"
   ]
  },
  {
   "cell_type": "code",
   "execution_count": null,
   "metadata": {},
   "outputs": [],
   "source": []
  },
  {
   "cell_type": "code",
   "execution_count": 2,
   "metadata": {},
   "outputs": [
    {
     "name": "stdout",
     "output_type": "stream",
     "text": [
      "Even Numbers: [10, 50, 40, 14, 2, 6]\n",
      "\n",
      "Ages >= 21: [21, 22, 24, 39, 35]\n",
      "\n",
      "Ages Between 20 and 25: [21, 22, 24]\n",
      "\n",
      "Even Numbers Using Custom Function: [10, 50, 40, 14, 2, 6]\n"
     ]
    },
    {
     "data": {
      "text/plain": [
       "\"\\n🌟 Summary:\\n- `filter()` is a powerful tool for extracting elements based on a condition.\\n- Combine it with lambda functions for quick, inline logic.\\n- Use custom functions for more complex and reusable conditions.\\n\\nKeep practicing, and soon you'll be using `filter()` to build efficient data pipelines! 🚀\\n\""
      ]
     },
     "execution_count": 2,
     "metadata": {},
     "output_type": "execute_result"
    }
   ],
   "source": [
    "# ================================================\n",
    "# Python Programming Fundamentals: FILTER Function 🔍\n",
    "# ================================================\n",
    "\n",
    "\"\"\"\n",
    "The `filter()` function is a built-in Python function used to filter items from an iterable (like a list or tuple) \n",
    "based on a condition (a function that returns `True` or `False`). Only the items that satisfy the condition \n",
    "(i.e., return `True`) are included in the result.\n",
    "\n",
    "Syntax:\n",
    "    filter(function, iterable)\n",
    "\n",
    "- `function`: A function that evaluates each item in the iterable. It must return either `True` or `False`.\n",
    "- `iterable`: The sequence (e.g., list, tuple, string) to be filtered.\n",
    "\n",
    "The result is a filter object, which can be converted into a list, tuple, etc., as needed.\n",
    "\"\"\"\n",
    "\n",
    "# ================================================\n",
    "# Example 1: Filter Even Numbers from a List 🔢\n",
    "# ================================================\n",
    "\n",
    "# Define a list of numbers\n",
    "my_list = [10, 50, 40, 3, 9, 14, 2, 6]\n",
    "\n",
    "# Use the `filter()` function with a lambda function to select even numbers\n",
    "out = list(filter(lambda x: (x % 2 == 0), my_list))\n",
    "\n",
    "# Print the filtered result\n",
    "print(\"Even Numbers:\", out)  # Output: [10, 50, 40, 14, 2, 6]\n",
    "\n",
    "\"\"\"\n",
    "💡 Explanation:\n",
    "1. `lambda x: (x % 2 == 0)` is a small function that checks if a number is divisible by 2 (even).\n",
    "2. `filter()` applies this lambda function to each element in `my_list`.\n",
    "3. Only the numbers that return `True` (even numbers) are included in the final list.\n",
    "\"\"\"\n",
    "\n",
    "# ================================================\n",
    "# Example 2: Filter Ages Greater Than 21 🔞\n",
    "# ================================================\n",
    "\n",
    "# Define a list of ages\n",
    "mylist_age = [5, 15, 18, 21, 22, 24, 39, 35]\n",
    "\n",
    "# Use `filter()` to select ages greater than or equal to 21\n",
    "out = list(filter(lambda x: (x >= 21), mylist_age))\n",
    "\n",
    "# Print the result\n",
    "print(\"\\nAges >= 21:\", out)  # Output: [21, 22, 24, 39, 35]\n",
    "\n",
    "\"\"\"\n",
    "💡 Explanation:\n",
    "1. The lambda function `lambda x: (x >= 21)` checks if each age is 21 or older.\n",
    "2. `filter()` evaluates this condition for every age in `mylist_age`.\n",
    "3. The resulting list contains only ages greater than or equal to 21.\n",
    "\"\"\"\n",
    "\n",
    "# ================================================\n",
    "# Example 3: Filter Ages Between 20 and 25 Inclusive 🌟\n",
    "# ================================================\n",
    "\n",
    "# Use `filter()` to find ages between 20 and 25 (inclusive)\n",
    "out = list(filter(lambda x: (x >= 20 and x <= 25), mylist_age))\n",
    "\n",
    "# Print the result\n",
    "print(\"\\nAges Between 20 and 25:\", out)  # Output: [21, 22, 24]\n",
    "\n",
    "\"\"\"\n",
    "💡 Explanation:\n",
    "1. The lambda function `lambda x: (x >= 20 and x <= 25)` defines the range condition.\n",
    "2. Only ages satisfying both conditions (`x >= 20` and `x <= 25`) are included.\n",
    "3. This demonstrates how complex conditions can be passed to `filter()`.\n",
    "\"\"\"\n",
    "\n",
    "# ================================================\n",
    "# Why Use `filter()`? 🔑\n",
    "# ================================================\n",
    "\"\"\"\n",
    "✨ Advantages of `filter()`:\n",
    "1. Clean and concise: Helps write conditional logic without needing explicit loops.\n",
    "2. Efficient: Applies the condition function directly to each element of the iterable.\n",
    "3. Flexible: Works with any iterable (lists, tuples, sets, etc.).\n",
    "\n",
    "🚀 Tip:\n",
    "If you're working with lists or other collections, combining `filter()` with lambda functions is a quick way \n",
    "to apply custom filtering logic. However, for readability in larger projects, consider using named functions.\n",
    "\"\"\"\n",
    "\n",
    "# ================================================\n",
    "# Custom Function Alternative (Optional) 🔄\n",
    "# ================================================\n",
    "\n",
    "# Define a custom function to filter even numbers\n",
    "def is_even(number):\n",
    "    return number % 2 == 0\n",
    "\n",
    "# Use `filter()` with the custom function\n",
    "out = list(filter(is_even, my_list))\n",
    "print(\"\\nEven Numbers Using Custom Function:\", out)  # Output: [10, 50, 40, 14, 2, 6]\n",
    "\n",
    "\"\"\"\n",
    "💡 Explanation:\n",
    "1. The `is_even` function is a reusable function that checks for even numbers.\n",
    "2. Using named functions makes the code more readable and reusable.\n",
    "\"\"\"\n",
    "\n",
    "\"\"\"\n",
    "🌟 Summary:\n",
    "- `filter()` is a powerful tool for extracting elements based on a condition.\n",
    "- Combine it with lambda functions for quick, inline logic.\n",
    "- Use custom functions for more complex and reusable conditions.\n",
    "\n",
    "Keep practicing, and soon you'll be using `filter()` to build efficient data pipelines! 🚀\n",
    "\"\"\""
   ]
  },
  {
   "cell_type": "code",
   "execution_count": null,
   "metadata": {},
   "outputs": [],
   "source": []
  },
  {
   "cell_type": "code",
   "execution_count": null,
   "metadata": {},
   "outputs": [],
   "source": []
  },
  {
   "cell_type": "code",
   "execution_count": null,
   "metadata": {},
   "outputs": [],
   "source": []
  },
  {
   "cell_type": "markdown",
   "metadata": {},
   "source": [
    "# KEEP IT UP! YOU SHOULD BE PROUD OF YOUR NEWLY ACQUIRED PROGRAMMING SKILLS!"
   ]
  }
 ],
 "metadata": {
  "kernelspec": {
   "display_name": "Python [conda env:base] *",
   "language": "python",
   "name": "conda-base-py"
  },
  "language_info": {
   "codemirror_mode": {
    "name": "ipython",
    "version": 3
   },
   "file_extension": ".py",
   "mimetype": "text/x-python",
   "name": "python",
   "nbconvert_exporter": "python",
   "pygments_lexer": "ipython3",
   "version": "3.12.3"
  }
 },
 "nbformat": 4,
 "nbformat_minor": 4
}
