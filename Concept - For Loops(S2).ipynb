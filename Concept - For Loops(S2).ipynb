{
 "cells": [
  {
   "cell_type": "markdown",
   "metadata": {},
   "source": [
    "# PYTHON PROGRAMMING FUNDAMENTALS\n"
   ]
  },
  {
   "cell_type": "markdown",
   "metadata": {},
   "source": [
    "# FOR LOOPS\n",
    "- For loops are used for iterating over a sequence (a list, a tuple, a dictionary, a set, or a string).\n",
    "\n",
    "- An action can be executed once for each item in a list, tuple of the for loop."
   ]
  },
  {
   "cell_type": "code",
   "execution_count": null,
   "metadata": {},
   "outputs": [],
   "source": []
  },
  {
   "cell_type": "code",
   "execution_count": null,
   "metadata": {},
   "outputs": [],
   "source": [
    "# =====================================================\n",
    "# PYTHON PROGRAMMING FUNDAMENTALS: FOR LOOPS 🌀\n",
    "# =====================================================\n",
    "\n",
    "# What is a For Loop? 🤔\n",
    "# ----------------------\n",
    "# A `for` loop is used to iterate over a sequence (like a list, tuple, dictionary, string, or range).\n",
    "# It repeats the code block for each item in the sequence.\n",
    "\n",
    "# Basic Syntax:\n",
    "# for variable in sequence:\n",
    "#     # Code block to execute for each item\n",
    "\n",
    "# Example 1: Print each item in a list\n",
    "print(\"Example 1: Iterating through a list of words:\")\n",
    "my_list = [\"hello\", \"world\"]\n",
    "for item in my_list:\n",
    "    print(item)  # Print each word\n",
    "print(\"\\n\")\n",
    "\n",
    "\n",
    "# Example 2: Iterate through a longer list\n",
    "print(\"Example 2: Iterating through a list of fruits:\")\n",
    "fruits = [\"apple\", \"blueberries\", \"mango\", \"watermelon\", \"apricots\"]\n",
    "for fruit in fruits:\n",
    "    print(fruit)\n",
    "print(\"\\n\")\n",
    "\n",
    "\n",
    "# Example 3: Stop the loop when a specific item is found\n",
    "print(\"Example 3: Stop printing once 'mango' is found:\")\n",
    "for fruit in fruits:\n",
    "    if fruit == \"mango\":\n",
    "        print(fruit)\n",
    "        break  # Stop the loop here\n",
    "print(\"\\n\")\n",
    "\n",
    "\n",
    "# Example 4: Perform operations inside a loop\n",
    "print(\"Example 4: Squaring numbers in a list:\")\n",
    "numbers = [1, 2, 3, 4, 5]\n",
    "squared_numbers = []  # Empty list to store results\n",
    "for number in numbers:\n",
    "    squared = number * number  # Square each number\n",
    "    squared_numbers.append(squared)  # Add to the result list\n",
    "print(\"Squared Numbers:\", squared_numbers)\n",
    "print(\"\\n\")\n",
    "\n",
    "\n",
    "# Example 5: Modify elements in a list\n",
    "print(\"Example 5: Multiplying each number by 10:\")\n",
    "multiplied_numbers = []\n",
    "for number in numbers:\n",
    "    multiplied_numbers.append(number * 10)\n",
    "print(\"Multiplied Numbers:\", multiplied_numbers)\n",
    "print(\"\\n\")\n",
    "\n",
    "\n",
    "# Advanced Examples 🌟\n",
    "# --------------------\n",
    "\n",
    "# Example 6: Use range to iterate through numbers\n",
    "print(\"Example 6: Using the range() function:\")\n",
    "for i in range(1, 6):  # Range starts at 1, ends before 6\n",
    "    print(f\"Current Number: {i}\")\n",
    "print(\"\\n\")\n",
    "\n",
    "# Example 7: Loop through a dictionary and access keys/values\n",
    "print(\"Example 7: Iterating through a dictionary:\")\n",
    "my_dict = {\"name\": \"Alice\", \"age\": 25, \"city\": \"New York\"}\n",
    "for key, value in my_dict.items():\n",
    "    print(f\"{key}: {value}\")\n",
    "print(\"\\n\")\n",
    "\n",
    "\n",
    "# Example 8: Nested Loops (Loop within a loop)\n",
    "print(\"Example 8: Nested Loops:\")\n",
    "outer_list = [1, 2]\n",
    "inner_list = [\"a\", \"b\", \"c\"]\n",
    "for outer in outer_list:\n",
    "    for inner in inner_list:\n",
    "        print(f\"Outer: {outer}, Inner: {inner}\")\n",
    "print(\"\\n\")\n",
    "\n",
    "\n",
    "# --- BONUS IDEA ---\n",
    "# Add a practical example to engage learners!\n",
    "# Example 9: Find the sum of all even numbers in a list\n",
    "print(\"Example 9: Find the sum of even numbers in a list:\")\n",
    "numbers = [1, 2, 3, 4, 5, 6, 7, 8, 9, 10]\n",
    "sum_even = 0\n",
    "for number in numbers:\n",
    "    if number % 2 == 0:  # Check if the number is even\n",
    "        sum_even += number  # Add it to the sum\n",
    "print(\"Sum of even numbers:\", sum_even)\n",
    "print(\"\\n\")\n",
    "\n",
    "# --- SUMMARY ---\n",
    "# 1️⃣ The `for` loop is a versatile tool in Python for iterating over sequences.\n",
    "# 2️⃣ Use it to access elements, modify them, or perform operations on collections like lists or dictionaries.\n",
    "# 3️⃣ Combine with conditional statements (`if`) and functions (`range()`, `.items()`) for more control and variety.\n",
    "\n",
    "# 🌟 PRACTICE IDEA:\n",
    "# Write a program that takes a list of numbers and prints:\n",
    "# - All odd numbers\n",
    "# - Their sum\n",
    "# - And their average"
   ]
  },
  {
   "cell_type": "code",
   "execution_count": null,
   "metadata": {},
   "outputs": [],
   "source": []
  },
  {
   "cell_type": "code",
   "execution_count": null,
   "metadata": {},
   "outputs": [],
   "source": []
  },
  {
   "cell_type": "code",
   "execution_count": null,
   "metadata": {},
   "outputs": [],
   "source": []
  },
  {
   "cell_type": "code",
   "execution_count": null,
   "metadata": {},
   "outputs": [],
   "source": []
  },
  {
   "cell_type": "code",
   "execution_count": null,
   "metadata": {},
   "outputs": [],
   "source": []
  },
  {
   "cell_type": "markdown",
   "metadata": {},
   "source": [
    "# KEEP IT UP! YOU ARE GETTING BETTER AT IT EVERY DAY!"
   ]
  }
 ],
 "metadata": {
  "kernelspec": {
   "display_name": "Python [conda env:base] *",
   "language": "python",
   "name": "conda-base-py"
  },
  "language_info": {
   "codemirror_mode": {
    "name": "ipython",
    "version": 3
   },
   "file_extension": ".py",
   "mimetype": "text/x-python",
   "name": "python",
   "nbconvert_exporter": "python",
   "pygments_lexer": "ipython3",
   "version": "3.12.3"
  }
 },
 "nbformat": 4,
 "nbformat_minor": 4
}
