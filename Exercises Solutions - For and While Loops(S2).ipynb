{
 "cells": [
  {
   "cell_type": "markdown",
   "metadata": {},
   "source": [
    "# <font color='red'> *INTERMEDIATE LEVEL* </font> \n",
    "## <font color='red'> FOR AND WHILE LOOPS </font> "
   ]
  },
  {
   "cell_type": "markdown",
   "metadata": {},
   "source": [
    "# <font color='blue'> 1. WHAT WILL THIS CODE GENERATE?"
   ]
  },
  {
   "cell_type": "code",
   "execution_count": 1,
   "metadata": {},
   "outputs": [
    {
     "name": "stdout",
     "output_type": "stream",
     "text": [
      "iphone\n",
      "blackberry\n",
      "google\n"
     ]
    }
   ],
   "source": [
    "# Define a list of phone brands\n",
    "my_phones = [\"iphone\", \"blackberry\", \"samsung\", \"google\"]\n",
    "\n",
    "# Initialize a counter variable\n",
    "i = 0\n",
    "\n",
    "# Start a while loop to iterate over the list\n",
    "while i < len(my_phones):  # Condition: loop until i is less than the length of the list\n",
    "    phone = my_phones[i]  # Access the current element in the list\n",
    "    i += 1  # Increment the counter to move to the next element\n",
    "\n",
    "    # If the current phone brand is \"samsung\", skip printing it\n",
    "    if phone == \"samsung\":\n",
    "        continue  # Skip the rest of the loop for this iteration\n",
    "    \n",
    "    # Print the current phone brand\n",
    "    print(phone)"
   ]
  },
  {
   "cell_type": "markdown",
   "metadata": {},
   "source": [
    "# <font color='blue'> 2. WRITE A CODE THAT DISPLAYS ALL NUMBERS FROM 1 TO 20 USING WHILE AND FOR LOOPS"
   ]
  },
  {
   "cell_type": "code",
   "execution_count": 5,
   "metadata": {},
   "outputs": [
    {
     "name": "stdout",
     "output_type": "stream",
     "text": [
      "1\n",
      "2\n",
      "3\n",
      "4\n",
      "5\n",
      "6\n",
      "7\n",
      "8\n",
      "9\n",
      "10\n",
      "11\n",
      "12\n",
      "13\n",
      "14\n",
      "15\n",
      "16\n",
      "17\n",
      "18\n",
      "19\n",
      "20\n",
      "1\n",
      "2\n",
      "3\n",
      "4\n",
      "5\n",
      "6\n",
      "7\n",
      "8\n",
      "9\n",
      "10\n",
      "11\n",
      "12\n",
      "13\n",
      "14\n",
      "15\n",
      "16\n",
      "17\n",
      "18\n",
      "19\n",
      "20\n"
     ]
    }
   ],
   "source": [
    "# Example using while loop\n",
    "i = 1  # Initialize the counter variable\n",
    "while i <= 20:  # Continue looping while i is less than or equal to 20\n",
    "    print(i)  # Print the current value of i\n",
    "    i = i + 1  # Increment the counter to avoid infinite loop\n",
    "\n",
    "# Example using for loop\n",
    "for i in range(1, 21):  # range() generates numbers from 1 to 20\n",
    "    print(i)  # Print each number in the range\n"
   ]
  },
  {
   "cell_type": "markdown",
   "metadata": {},
   "source": [
    "# <font color='blue'> 3. WRITE A CODE THAT GENERATES THE FOLLOWING TABLE\n",
    "- 1   1    1\n",
    "- 2   4    8\n",
    "- 3   9   27\n",
    "- 4  16   64\n",
    "- 5  25  125\n",
    "- 6  36  216\n",
    "- 7  49  343\n",
    "- 8  64  512\n",
    "- 9  81  729\n",
    "- 10 100 1000"
   ]
  },
  {
   "cell_type": "code",
   "execution_count": null,
   "metadata": {},
   "outputs": [],
   "source": [
    "# Loop through numbers 1 to 10\n",
    "for x in range(1, 11):  \n",
    "    # Print the current number, its square, and its cube\n",
    "    print('{:<3} {:<4} {:<5}'.format(x, x*x, x**3))"
   ]
  },
  {
   "cell_type": "markdown",
   "metadata": {},
   "source": [
    "# <font color='blue'> 4. CREATE A ROLLING DICE GAME, THE GAME SHOULD ASSUME TWO DICE (#1, and #2) ARE BEING THROWN AND A RANDOM NUMBER IS GENERATED EVERYTIME. THE GAME SHOULD PROMPT THE USER TO ASK IF HE/SHE WOULD LIKE TO KEEP PLAYING OR NOT </font> \n"
   ]
  },
  {
   "cell_type": "code",
   "execution_count": 7,
   "metadata": {},
   "outputs": [
    {
     "name": "stdout",
     "output_type": "stream",
     "text": [
      "\n",
      "Rolling the dice, please wait! 🎲🎲\n",
      "\n",
      "🎲 Rolling results for Dice #1: 4\n",
      "🎲 Rolling results for Dice #2: 1\n",
      "✨ Total of the two dice: 5\n"
     ]
    },
    {
     "name": "stdin",
     "output_type": "stream",
     "text": [
      "\n",
      "Do you want to roll again? (y/n):  y\n"
     ]
    },
    {
     "name": "stdout",
     "output_type": "stream",
     "text": [
      "\n",
      "Rolling the dice, please wait! 🎲🎲\n",
      "\n",
      "🎲 Rolling results for Dice #1: 1\n",
      "🎲 Rolling results for Dice #2: 4\n",
      "✨ Total of the two dice: 5\n"
     ]
    },
    {
     "name": "stdin",
     "output_type": "stream",
     "text": [
      "\n",
      "Do you want to roll again? (y/n):  y\n"
     ]
    },
    {
     "name": "stdout",
     "output_type": "stream",
     "text": [
      "\n",
      "Rolling the dice, please wait! 🎲🎲\n",
      "\n",
      "🎲 Rolling results for Dice #1: 1\n",
      "🎲 Rolling results for Dice #2: 2\n",
      "✨ Total of the two dice: 3\n"
     ]
    },
    {
     "name": "stdin",
     "output_type": "stream",
     "text": [
      "\n",
      "Do you want to roll again? (y/n):  n\n"
     ]
    },
    {
     "name": "stdout",
     "output_type": "stream",
     "text": [
      "\n",
      "Thank you for playing! Hope to see you again! 😊\n"
     ]
    }
   ],
   "source": [
    "import random  # Importing the random module to generate random numbers\n",
    "\n",
    "# Initialize the game with a flag to keep rolling\n",
    "keep_rolling = \"y\"\n",
    "\n",
    "# Game loop\n",
    "while keep_rolling.lower() == \"y\":  # Continue as long as the user inputs \"y\" or \"Y\"\n",
    "    print(\"\\nRolling the dice, please wait! 🎲🎲\\n\")\n",
    "    \n",
    "    # Generate random numbers for two dice\n",
    "    dice_1 = random.randint(1, 6)  # Dice #1 rolls a number between 1 and 6\n",
    "    dice_2 = random.randint(1, 6)  # Dice #2 rolls a number between 1 and 6\n",
    "    \n",
    "    # Display the results\n",
    "    print(f\"🎲 Rolling results for Dice #1: {dice_1}\")\n",
    "    print(f\"🎲 Rolling results for Dice #2: {dice_2}\")\n",
    "    \n",
    "    # Bonus: Display the total of the two dice\n",
    "    total = dice_1 + dice_2\n",
    "    print(f\"✨ Total of the two dice: {total}\")\n",
    "    \n",
    "    # Ask the user if they want to play again\n",
    "    keep_rolling = input(\"\\nDo you want to roll again? (y/n): \").strip().lower()\n",
    "\n",
    "# Game exit message\n",
    "print(\"\\nThank you for playing! Hope to see you again! 😊\")"
   ]
  },
  {
   "cell_type": "markdown",
   "metadata": {},
   "source": [
    "# <font color='blue'> 5. DEVELOP A CODE THAT PRINT OUT THE MULTIPLICATION TABLE. THE CODE SHOULD PROMPT THE USER TO ENTER THE MAXIMUM NUMBER TO BE PRINTED (FROM 1 TO 9) "
   ]
  },
  {
   "cell_type": "code",
   "execution_count": 9,
   "metadata": {},
   "outputs": [
    {
     "name": "stdin",
     "output_type": "stream",
     "text": [
      "Enter a number between 1 and 9 to print its multiplication table:  5\n"
     ]
    },
    {
     "name": "stdout",
     "output_type": "stream",
     "text": [
      "\n",
      "Multiplication Table for 5:\n",
      "\n",
      "5 x 1 = 5\n",
      "5 x 2 = 10\n",
      "5 x 3 = 15\n",
      "5 x 4 = 20\n",
      "5 x 5 = 25\n",
      "5 x 6 = 30\n",
      "5 x 7 = 35\n",
      "5 x 8 = 40\n",
      "5 x 9 = 45\n",
      "5 x 10 = 50\n"
     ]
    }
   ],
   "source": [
    "# Step 1: Prompt the user for a number to generate its multiplication table\n",
    "# Ensure that the user enters a valid integer between 1 and 9\n",
    "number = int(input(\"Enter a number between 1 and 9 to print its multiplication table: \"))\n",
    "\n",
    "# Step 2: Input validation\n",
    "# Check if the number is within the allowed range (1 to 9)\n",
    "if 1 <= number <= 9:\n",
    "    # Step 3: Loop to generate and display the multiplication table\n",
    "    # The range is from 1 to 10 (inclusive of 1 and exclusive of 11) to get the standard table from 1 to 10\n",
    "    print(f\"\\nMultiplication Table for {number}:\\n\")\n",
    "    for i in range(1, 11):  # Loop from 1 to 10\n",
    "        # Step 4: Print each line of the table in a readable format\n",
    "        print(f\"{number} x {i} = {number * i}\")\n",
    "else:\n",
    "    # Step 5: Handle invalid input\n",
    "    print(\"❌ Error: Please enter a number between 1 and 9!\")"
   ]
  },
  {
   "cell_type": "markdown",
   "metadata": {},
   "source": [
    "#  <font color='blue'> 6. WRITE A CODE THAT TAKES MAXIMUM AND MIMUMUM LIMITS FROM A USER AND PRINT OUT THE EVEN NUMBERS ONLY BETWEEN THE PROVIDED RANGE"
   ]
  },
  {
   "cell_type": "code",
   "execution_count": 15,
   "metadata": {},
   "outputs": [
    {
     "name": "stdin",
     "output_type": "stream",
     "text": [
      "Enter a number (lower bound):  5\n",
      "Enter a number (upper bound):  9\n"
     ]
    },
    {
     "name": "stdout",
     "output_type": "stream",
     "text": [
      "\n",
      "Even numbers between 5 and 9 are:\n",
      "6\n",
      "8\n"
     ]
    }
   ],
   "source": [
    "# Step 1: Prompt the user to input the lower bound of the range\n",
    "min_limit = int(input(\"Enter a number (lower bound): \"))\n",
    "\n",
    "# Step 2: Prompt the user to input the upper bound of the range\n",
    "max_limit = int(input(\"Enter a number (upper bound): \"))\n",
    "\n",
    "# Step 3: Validate that the lower bound is less than the upper bound\n",
    "# This ensures a logical range\n",
    "if min_limit > max_limit:\n",
    "    print(\"❌ Error: Lower bound cannot be greater than the upper bound.\")\n",
    "else:\n",
    "    print(f\"\\nEven numbers between {min_limit} and {max_limit} are:\")\n",
    "\n",
    "    # Step 4: Use a for loop to iterate through the range\n",
    "    # range(min_limit, max_limit + 1) ensures the max_limit is inclusive\n",
    "    for i in range(min_limit, max_limit + 1):  \n",
    "        # Step 5: Check if the current number is even\n",
    "        if i % 2 == 0:\n",
    "            print(i)  # Print the even number"
   ]
  },
  {
   "cell_type": "markdown",
   "metadata": {},
   "source": [
    "# <font color='blue'> 7. WHAT DOES THIS CODE GENERATE?"
   ]
  },
  {
   "cell_type": "code",
   "execution_count": 17,
   "metadata": {},
   "outputs": [
    {
     "name": "stdout",
     "output_type": "stream",
     "text": [
      "H\n",
      "e\n",
      "l\n",
      "l\n",
      " \n",
      "w\n",
      "r\n",
      "l\n",
      "d\n"
     ]
    }
   ],
   "source": [
    "for letter in 'Hello world':  # Loop through each character in the string 'Hello world'\n",
    "    if letter == 'o':         # Check if the current letter is 'o'\n",
    "        continue              # Skip the rest of the loop for this iteration if 'o' is found\n",
    "    print(letter)             # Print the current letter (if it's not 'o')"
   ]
  },
  {
   "cell_type": "markdown",
   "metadata": {},
   "source": [
    "#  <font color='blue'> 8. WRITE A CODE THAT TAKES A LIST OF TEMPERATURES FROM A USER AND CONVERT THEM FROM CELCIUS TO FEHRENHEIT"
   ]
  },
  {
   "cell_type": "code",
   "execution_count": 21,
   "metadata": {},
   "outputs": [
    {
     "name": "stdout",
     "output_type": "stream",
     "text": [
      "Enter a list of temperatures in degrees Celsius, separated by a space:\n"
     ]
    },
    {
     "name": "stdin",
     "output_type": "stream",
     "text": [
      " 45\n"
     ]
    },
    {
     "name": "stdout",
     "output_type": "stream",
     "text": [
      "Temperatures in degrees Celsius vs Fahrenheit:\n",
      " [45] [113.0]\n"
     ]
    }
   ],
   "source": [
    "# Step 1: Ask the user to enter temperatures in Celsius, separated by a space\n",
    "print('Enter a list of temperatures in degrees Celsius, separated by a space:')\n",
    "# Step 2: Use input() to read the user's input, split it by spaces, and convert each value to an integer\n",
    "Temp_C = [int(x) for x in input().split()]  \n",
    "# Temp_C now contains a list of temperatures in Celsius\n",
    "\n",
    "# Step 3: Convert each Celsius temperature to Fahrenheit using the formula:\n",
    "# Fahrenheit = (Celsius * 9/5) + 32\n",
    "Temp_F = [((float(9)/5) * i + 32) for i in Temp_C]  \n",
    "\n",
    "# Step 4: Print the original temperatures in Celsius and their Fahrenheit equivalents\n",
    "print('Temperatures in degrees Celsius vs Fahrenheit:\\n', Temp_C, Temp_F)"
   ]
  },
  {
   "cell_type": "markdown",
   "metadata": {},
   "source": [
    "# <font color='blue'> 9. CREATE A PASSWORD GENERATOR THAT TAKES THE REQUIRED PASSWORD LENGTH FROM THE USER AND GENERATE A PASSWORD. THE PASSWORD SHOULD BE A MIX OF CHARACTERS, NUMBERS AND SPECIAL CHARACTERS"
   ]
  },
  {
   "cell_type": "code",
   "execution_count": null,
   "metadata": {},
   "outputs": [],
   "source": []
  },
  {
   "cell_type": "code",
   "execution_count": 25,
   "metadata": {},
   "outputs": [
    {
     "name": "stdin",
     "output_type": "stream",
     "text": [
      "Enter the length of the password (minimum 6):  12\n"
     ]
    },
    {
     "name": "stdout",
     "output_type": "stream",
     "text": [
      "Your secure password is: 9CMuchkLm2ZH\n"
     ]
    }
   ],
   "source": [
    "# Step 1: Import necessary libraries\n",
    "import string  # Provides sets of characters (letters, digits, punctuation)\n",
    "import random  # For generating random selections\n",
    "\n",
    "# Step 2: Define the character set\n",
    "# ascii_letters includes both lowercase and uppercase letters\n",
    "# punctuation includes special characters like @, #, %, etc.\n",
    "# digits include numbers from 0-9\n",
    "characters = string.ascii_letters + string.punctuation + string.digits\n",
    "\n",
    "# Step 3: Get the desired password length from the user\n",
    "length = int(input('Enter the length of the password (minimum 6): '))\n",
    "\n",
    "# Step 4: Validate the input length\n",
    "if length < 6:\n",
    "    print(\"Password length should be at least 6 characters.\")\n",
    "else:\n",
    "    # Step 5: Initialize an empty password\n",
    "    password = \"\"\n",
    "\n",
    "    # Step 6: Generate the password by randomly selecting characters\n",
    "    for i in range(0, length):\n",
    "        # random.choice picks a random character from the `characters` set\n",
    "        password += random.choice(characters)\n",
    "\n",
    "    # Step 7: Display the generated password\n",
    "    print(f\"Your secure password is: {password}\")"
   ]
  },
  {
   "cell_type": "markdown",
   "metadata": {},
   "source": [
    "# <font color='blue'> 10. WRITE A CODE THAT TAKES STRING FROM A USER AND SORT THE WORDS AND PRINT ALL WORDS"
   ]
  },
  {
   "cell_type": "code",
   "execution_count": 27,
   "metadata": {},
   "outputs": [
    {
     "name": "stdin",
     "output_type": "stream",
     "text": [
      "Enter a sentence explaining how you feel today?!:  im ok\n"
     ]
    },
    {
     "name": "stdout",
     "output_type": "stream",
     "text": [
      "Words are sorted as follows:\n",
      "im\n",
      "ok\n"
     ]
    }
   ],
   "source": [
    "# Step 1: Prompt the user to enter a sentence\n",
    "# Example input: \"Today is a great day to learn Python!\"\n",
    "string = input(\"Enter a sentence explaining how you feel today?!: \")\n",
    "\n",
    "# Step 2: Split the sentence into a list of words\n",
    "# The split() method breaks the string into words based on spaces\n",
    "words = string.split()\n",
    "\n",
    "# Step 3: Sort the list of words alphabetically\n",
    "# The sort() method modifies the list in place and orders the words\n",
    "words.sort()\n",
    "\n",
    "# Step 4: Display the sorted words\n",
    "print(\"Words are sorted as follows:\")\n",
    "\n",
    "# Step 5: Iterate over the sorted list and print each word\n",
    "for word in words:\n",
    "    print(word)\n"
   ]
  },
  {
   "cell_type": "markdown",
   "metadata": {},
   "source": [
    "# <font color='blue'> 11. PRINT THE CORRESPONDING ELEMENTS IN BOTH LISTS BELOW USING TWO DIFFERENT METHODS"
   ]
  },
  {
   "cell_type": "code",
   "execution_count": 31,
   "metadata": {},
   "outputs": [
    {
     "name": "stdout",
     "output_type": "stream",
     "text": [
      "black iphone\n",
      "black Samsung\n",
      "black BlackBerry\n",
      "white iphone\n",
      "white Samsung\n",
      "white BlackBerry\n",
      "gold iphone\n",
      "gold Samsung\n",
      "gold BlackBerry\n"
     ]
    }
   ],
   "source": [
    "# Define two lists\n",
    "color_list = [\"black\", \"white\", \"gold\"]\n",
    "phone_list = [\"iphone\", \"Samsung\", \"BlackBerry\"]\n",
    "\n",
    "# Iterate through both lists using nested loops\n",
    "for color in color_list:\n",
    "    for phone in phone_list:\n",
    "        print(color, phone)  # Print each combination of colors and phones"
   ]
  },
  {
   "cell_type": "code",
   "execution_count": 33,
   "metadata": {},
   "outputs": [
    {
     "name": "stdout",
     "output_type": "stream",
     "text": [
      "[('black', 'iphone'), ('black', 'Samsung'), ('black', 'BlackBerry'), ('white', 'iphone'), ('white', 'Samsung'), ('white', 'BlackBerry'), ('gold', 'iphone'), ('gold', 'Samsung'), ('gold', 'BlackBerry')]\n"
     ]
    }
   ],
   "source": [
    "# Define two lists\n",
    "color_list = [\"black\", \"white\", \"gold\"]\n",
    "phone_list = [\"iphone\", \"Samsung\", \"BlackBerry\"]\n",
    "\n",
    "# Create a list of tuples containing all combinations of colors and phones\n",
    "new_list = [(color, phone) for color in color_list for phone in phone_list]\n",
    "\n",
    "# Print the resulting list\n",
    "print(new_list)"
   ]
  },
  {
   "cell_type": "markdown",
   "metadata": {},
   "source": [
    "# <font color='blue'> 12. WRITE A CODE THAT TAKES A STRING AND CALCULATES THE NUMBER OF UPPER AND LOWER CASE CHARACTERS IN IT"
   ]
  },
  {
   "cell_type": "code",
   "execution_count": 36,
   "metadata": {},
   "outputs": [
    {
     "name": "stdin",
     "output_type": "stream",
     "text": [
      "Enter a string to analyze:  hi there how are you\n"
     ]
    },
    {
     "name": "stdout",
     "output_type": "stream",
     "text": [
      "Number of Upper Case Characters = 0\n",
      "Number of Lower Case Characters = 16\n"
     ]
    }
   ],
   "source": [
    "# Get input string from the user\n",
    "input_str = input(\"Enter a string to analyze: \")\n",
    "\n",
    "# Initialize counters for uppercase and lowercase characters\n",
    "upper_case = 0\n",
    "lower_case = 0\n",
    "\n",
    "# Loop through each character in the input string\n",
    "for char in input_str:\n",
    "    # Check if the character is uppercase\n",
    "    if char.isupper():\n",
    "        upper_case = upper_case + 1  # Increment uppercase counter\n",
    "    # Check if the character is lowercase\n",
    "    elif char.islower():\n",
    "        lower_case = lower_case + 1  # Increment lowercase counter\n",
    "    # For any other character (e.g., digits, punctuation), do nothing\n",
    "    else:\n",
    "        pass\n",
    "\n",
    "# Print the results\n",
    "print(\"Number of Upper Case Characters =\", upper_case)\n",
    "print(\"Number of Lower Case Characters =\", lower_case)"
   ]
  },
  {
   "cell_type": "code",
   "execution_count": null,
   "metadata": {},
   "outputs": [],
   "source": []
  },
  {
   "cell_type": "markdown",
   "metadata": {},
   "source": [
    "# <font color='blue'> 13. WRITE A CODE THAT TAKES A RANGE FROM 100 AND 900 AND ONLY PRINTS NUMBERS WHERE ALL DIGITS ARE EVEN "
   ]
  },
  {
   "cell_type": "code",
   "execution_count": null,
   "metadata": {},
   "outputs": [],
   "source": [
    "min = int(input(\"Enter a number (lower bound: \"))\n",
    "max = int(input(\"Enter a number (Upper bound: \"))\n",
    "\n",
    "numbers = []\n",
    "\n",
    "for i in range(min, max):\n",
    "    s = str(i)\n",
    "    if (int(s[0])%2==0) and (int(s[1])%2==0) and (int(s[2])%2==0) :\n",
    "        numbers.append(s)\n",
    "print(numbers)"
   ]
  },
  {
   "cell_type": "code",
   "execution_count": null,
   "metadata": {},
   "outputs": [],
   "source": []
  },
  {
   "cell_type": "code",
   "execution_count": 45,
   "metadata": {},
   "outputs": [
    {
     "name": "stdin",
     "output_type": "stream",
     "text": [
      "Enter a number (lower bound, must be >= 100):  77\n",
      "Enter a number (upper bound, must be <= 900):  861\n"
     ]
    },
    {
     "name": "stdout",
     "output_type": "stream",
     "text": [
      "Please enter a valid range between 100 and 900 where lower bound < upper bound.\n"
     ]
    }
   ],
   "source": [
    "# Prompt user for lower and upper bounds of the range\n",
    "min = int(input(\"Enter a number (lower bound, must be >= 100): \"))  # Lower bound\n",
    "max = int(input(\"Enter a number (upper bound, must be <= 900): \"))  # Upper bound\n",
    "\n",
    "# Validate input to ensure both bounds are three-digit numbers\n",
    "if min < 100 or max > 900 or min >= max:\n",
    "    print(\"Please enter a valid range between 100 and 900 where lower bound < upper bound.\")\n",
    "else:\n",
    "    # Initialize an empty list to store valid numbers\n",
    "    numbers = []\n",
    "\n",
    "    # Loop through each number in the range [min, max)\n",
    "    for i in range(min, max):\n",
    "        s = str(i)  # Convert the number to a string to access each digit\n",
    "\n",
    "        # Check if all digits are even\n",
    "        if (int(s[0]) % 2 == 0) and (int(s[1]) % 2 == 0) and (int(s[2]) % 2 == 0):\n",
    "            numbers.append(i)  # Add the number to the list if all digits are even\n",
    "\n",
    "    # Calculate the sum of all valid numbers\n",
    "    total_sum = sum(numbers)  # Use the sum function to calculate the total\n",
    "\n",
    "    # Print the results\n",
    "    print(\"Numbers where all digits are even:\", numbers)  # Display the numbers\n",
    "    print(f\"The sum of these numbers is: {total_sum}\")  # Display the sum"
   ]
  },
  {
   "cell_type": "markdown",
   "metadata": {},
   "source": [
    "# <font color='blue'> 14. WRITE A CODE THAT PRINTS I LOVE YOU FOLLOWED BY YOUR SIGNIFICANT OTHER NAME EVERY 3 SECONDS (EXTERNAL RESEARCH)\n",
    "- please research: time.sleep()"
   ]
  },
  {
   "cell_type": "code",
   "execution_count": null,
   "metadata": {},
   "outputs": [],
   "source": []
  },
  {
   "cell_type": "code",
   "execution_count": null,
   "metadata": {},
   "outputs": [],
   "source": [
    "# Import the time module for adding delays\n",
    "import time\n",
    "\n",
    "# Prompt the user for a name\n",
    "name = input(\"What's your significant other's name? \")\n",
    "\n",
    "# Infinite loop to print the message every 3 seconds\n",
    "while True:\n",
    "    print(f\"I love you, {name}! ❤️\")  # Display the message with the name and an emoji\n",
    "    time.sleep(3)  # Pause execution for 3 seconds"
   ]
  },
  {
   "cell_type": "markdown",
   "metadata": {},
   "source": [
    "# <font color='blue'> 15. WRITE A CODE THAT ASKS A USER TO ENTER A PASSWORD AND ENSURES THAT THE PASSWORD SATISIFIES THE FOLLOWING CONDITIONS: (A) AT LEAST 10 CHARACTERS, (B) CONTAINS AT LEAST ONE UPPER CASE, (C) AT LEAST ONE NUMBER"
   ]
  },
  {
   "cell_type": "code",
   "execution_count": 1,
   "metadata": {},
   "outputs": [
    {
     "name": "stdin",
     "output_type": "stream",
     "text": [
      "It's time to change your password. Select a new password:  tony12345\n"
     ]
    },
    {
     "name": "stdout",
     "output_type": "stream",
     "text": [
      "❌ Password does not satisfy the requirements. Please try again:\n",
      "- At least 10 characters long\n",
      "- Contains at least one digit\n",
      "- Contains at least one uppercase letter\n"
     ]
    },
    {
     "name": "stdin",
     "output_type": "stream",
     "text": [
      "It's time to change your password. Select a new password:  to123\n"
     ]
    },
    {
     "name": "stdout",
     "output_type": "stream",
     "text": [
      "❌ Password does not satisfy the requirements. Please try again:\n",
      "- At least 10 characters long\n",
      "- Contains at least one digit\n",
      "- Contains at least one uppercase letter\n"
     ]
    },
    {
     "name": "stdin",
     "output_type": "stream",
     "text": [
      "It's time to change your password. Select a new password:  tonyMI12345\n"
     ]
    },
    {
     "name": "stdout",
     "output_type": "stream",
     "text": [
      "✅ New Password Saved Successfully!\n"
     ]
    }
   ],
   "source": [
    "# Infinite loop to keep prompting the user until they provide a valid password\n",
    "while True:\n",
    "    # Prompt user for a password\n",
    "    password = input(\"It's time to change your password. Select a new password: \")\n",
    "\n",
    "    # Conditions:\n",
    "    # (A) Password must be at least 10 characters long\n",
    "    # (B) Password must contain at least one digit\n",
    "    # (C) Password must contain at least one uppercase letter\n",
    "    if (\n",
    "        len(password) >= 10  # Check password length\n",
    "        and any(char.isdigit() for char in password)  # Check for at least one digit\n",
    "        and any(char.isupper() for char in password)  # Check for at least one uppercase letter\n",
    "    ):\n",
    "        print(\"✅ New Password Saved Successfully!\")  # Success message\n",
    "        break  # Exit the loop if all conditions are met\n",
    "    else:\n",
    "        # If any condition is not met, print the requirements\n",
    "        print(\n",
    "            \"❌ Password does not satisfy the requirements. Please try again:\"\n",
    "            \"\\n- At least 10 characters long\"\n",
    "            \"\\n- Contains at least one digit\"\n",
    "            \"\\n- Contains at least one uppercase letter\"\n",
    "        )"
   ]
  },
  {
   "cell_type": "markdown",
   "metadata": {},
   "source": [
    "# <font color='blue'> 16. WRITE A CODE THAT CONTINOUSLY GETS DATA FROM THE USER AND CALCULATES THE AVERAGE AND PRINT IT OUT ON THE SCREEN"
   ]
  },
  {
   "cell_type": "code",
   "execution_count": 5,
   "metadata": {},
   "outputs": [
    {
     "name": "stdout",
     "output_type": "stream",
     "text": [
      "Keep entering numbers, and I will display the average to you! Enter -1 to stop.\n"
     ]
    },
    {
     "name": "stdin",
     "output_type": "stream",
     "text": [
      "Enter a number:  66\n"
     ]
    },
    {
     "name": "stdout",
     "output_type": "stream",
     "text": [
      "The current average is 66.00\n"
     ]
    },
    {
     "name": "stdin",
     "output_type": "stream",
     "text": [
      "Enter a number:  51\n"
     ]
    },
    {
     "name": "stdout",
     "output_type": "stream",
     "text": [
      "The current average is 58.50\n"
     ]
    },
    {
     "name": "stdin",
     "output_type": "stream",
     "text": [
      "Enter a number:  77\n"
     ]
    },
    {
     "name": "stdout",
     "output_type": "stream",
     "text": [
      "The current average is 64.67\n"
     ]
    },
    {
     "name": "stdin",
     "output_type": "stream",
     "text": [
      "Enter a number:  11\n"
     ]
    },
    {
     "name": "stdout",
     "output_type": "stream",
     "text": [
      "The current average is 51.25\n"
     ]
    },
    {
     "name": "stdin",
     "output_type": "stream",
     "text": [
      "Enter a number:  22\n"
     ]
    },
    {
     "name": "stdout",
     "output_type": "stream",
     "text": [
      "The current average is 45.40\n"
     ]
    },
    {
     "name": "stdin",
     "output_type": "stream",
     "text": [
      "Enter a number:  4\n"
     ]
    },
    {
     "name": "stdout",
     "output_type": "stream",
     "text": [
      "The current average is 38.50\n"
     ]
    },
    {
     "name": "stdin",
     "output_type": "stream",
     "text": [
      "Enter a number:  5\n"
     ]
    },
    {
     "name": "stdout",
     "output_type": "stream",
     "text": [
      "The current average is 33.71\n"
     ]
    },
    {
     "name": "stdin",
     "output_type": "stream",
     "text": [
      "Enter a number:  66\n"
     ]
    },
    {
     "name": "stdout",
     "output_type": "stream",
     "text": [
      "The current average is 37.75\n"
     ]
    },
    {
     "name": "stdin",
     "output_type": "stream",
     "text": [
      "Enter a number:  -1\n"
     ]
    },
    {
     "name": "stdout",
     "output_type": "stream",
     "text": [
      "Exiting... Thank you for using the program!\n"
     ]
    }
   ],
   "source": [
    "print(\"Keep entering numbers, and I will display the average to you! Enter -1 to stop.\")  # Instructions to the user\n",
    "\n",
    "avg = 0  # Variable to store the running average\n",
    "n = 0    # Counter for the number of numbers entered\n",
    "\n",
    "while True:  # Infinite loop to keep asking the user for numbers\n",
    "    # Prompt the user for a number\n",
    "    x = int(input(\"Enter a number: \"))\n",
    "    \n",
    "    # Exit condition\n",
    "    if x == -1:  # If the user enters -1, break the loop\n",
    "        print(\"Exiting... Thank you for using the program!\")\n",
    "        break\n",
    "    \n",
    "    n += 1  # Increment the count of numbers entered\n",
    "\n",
    "    # Calculate the updated average using the formula\n",
    "    avg = ((avg * (n - 1)) + x) / n  # Running average formula\n",
    "    print(f\"The current average is {avg:.2f}\")  # Print the average with 2 decimal points\n"
   ]
  },
  {
   "cell_type": "markdown",
   "metadata": {},
   "source": [
    "# NOW YOU SHOULD BE FAMILIAR WITH FOR AND WHILE LOOPS, GREAT JOB!"
   ]
  }
 ],
 "metadata": {
  "kernelspec": {
   "display_name": "Python [conda env:base] *",
   "language": "python",
   "name": "conda-base-py"
  },
  "language_info": {
   "codemirror_mode": {
    "name": "ipython",
    "version": 3
   },
   "file_extension": ".py",
   "mimetype": "text/x-python",
   "name": "python",
   "nbconvert_exporter": "python",
   "pygments_lexer": "ipython3",
   "version": "3.12.3"
  }
 },
 "nbformat": 4,
 "nbformat_minor": 4
}
