{
 "cells": [
  {
   "cell_type": "markdown",
   "metadata": {},
   "source": [
    "# PYTHON PROGRAMMING FUNDAMENTALS\n"
   ]
  },
  {
   "cell_type": "markdown",
   "metadata": {},
   "source": [
    "# MAP \n",
    "- The map() function takes in a function and a list.\n",
    "- The function perform an operation on the entire list and return the results in a new list.\n"
   ]
  },
  {
   "cell_type": "code",
   "execution_count": null,
   "metadata": {},
   "outputs": [],
   "source": []
  },
  {
   "cell_type": "code",
   "execution_count": 3,
   "metadata": {},
   "outputs": [
    {
     "name": "stdout",
     "output_type": "stream",
     "text": [
      "Summed List: [8, 6, 14, 18, 16]\n",
      "Multiplied List: [7, 8, 45, 72, 63]\n",
      "Squared List: [1, 4, 9, 16]\n",
      "Custom Combined List: [49, 16, 405, 864, 441]\n",
      "🎉 Final Prices after Discount: [90.0, 160.0, 210.0, 300.0, 425.0]\n",
      "💵 Prices after Tax: [94.5, 168.0, 220.5, 315.0, 446.25]\n",
      "💰 Total Revenue: $1244.25\n"
     ]
    }
   ],
   "source": [
    "# 🐍 Python Programming Fundamentals: MAP Function with Detailed Explanation 🐍\n",
    "\n",
    "# ------------------------------------------------------\n",
    "# Example 1: Adding Two Lists Using map()\n",
    "# ------------------------------------------------------\n",
    "\n",
    "# Define a function to sum two numbers\n",
    "def summation(a, b):\n",
    "    return a + b  # Adds two numbers and returns the result\n",
    "\n",
    "# Define two lists\n",
    "a = [1, 4, 5, 6, 9]  # List of integers\n",
    "b = [7, 2, 9, 12, 7]  # Another list of integers\n",
    "\n",
    "# Apply the `summation` function to each pair of elements in `a` and `b`\n",
    "# map() applies the `summation` function to corresponding elements of both lists\n",
    "c = list(map(summation, a, b))  # Convert the map object into a list\n",
    "print(\"Summed List:\", c)  # Output: [8, 6, 14, 18, 16]\n",
    "# 🎯 Explanation: For each index i, summation(a[i], b[i]) is calculated.\n",
    "\n",
    "# ------------------------------------------------------\n",
    "# Example 2: Using map() for Multiplication\n",
    "# ------------------------------------------------------\n",
    "\n",
    "# Define a function to multiply two numbers\n",
    "def multiply(x, y):\n",
    "    return x * y  # Multiplies two numbers\n",
    "\n",
    "# Multiply corresponding elements in `a` and `b`\n",
    "c = list(map(multiply, a, b))  # map() applies `multiply` to each pair of elements\n",
    "print(\"Multiplied List:\", c)  # Output: [7, 8, 45, 72, 63]\n",
    "\n",
    "# ------------------------------------------------------\n",
    "# Example 3: Using Lambda with map()\n",
    "# ------------------------------------------------------\n",
    "\n",
    "# List of numbers\n",
    "my_list = [1, 2, 3, 4]\n",
    "\n",
    "# Use map() with a lambda function to square each element in `my_list`\n",
    "# A lambda is an anonymous function defined using `lambda` keyword\n",
    "out_list = list(map(lambda x: x ** 2, my_list))  # x ** 2 squares each element\n",
    "print(\"Squared List:\", out_list)  # Output: [1, 4, 9, 16]\n",
    "\n",
    "# ------------------------------------------------------\n",
    "# Example 4: Combining Lists with a Lambda\n",
    "# ------------------------------------------------------\n",
    "\n",
    "# Combine two lists (a and b) using a lambda function\n",
    "# Here, we multiply the elements of `a` with the square of `b` at the same index\n",
    "c = list(map(lambda a, b: a * b ** 2, a, b))\n",
    "print(\"Custom Combined List:\", c)  # Output: [1, 16, 405, 864, 441]\n",
    "\n",
    "# 🎯 Explanation:\n",
    "# For each pair of elements a[i] and b[i], the lambda calculates a[i] * (b[i] ** 2).\n",
    "\n",
    "# ------------------------------------------------------\n",
    "# Mini-Project: Product Pricing Analysis 🛒\n",
    "# ------------------------------------------------------\n",
    "\n",
    "# Step 1: Define product prices and discounts\n",
    "prices = [100, 200, 300, 400, 500]  # List of product prices\n",
    "discounts = [10, 20, 30, 25, 15]  # Discounts for each product (in percentage)\n",
    "\n",
    "# Step 2: Apply discounts using map() and lambda\n",
    "# The formula: price * (1 - discount / 100)\n",
    "final_prices = list(map(lambda price, discount: price * (1 - discount / 100), prices, discounts))\n",
    "print(\"🎉 Final Prices after Discount:\", final_prices)  # Example: [90.0, 160.0, 210.0, 300.0, 425.0]\n",
    "\n",
    "# Step 3: Add 5% tax to the discounted prices\n",
    "# Formula: price_with_tax = discounted_price * 1.05\n",
    "taxed_prices = list(map(lambda price: round(price * 1.05, 2), final_prices))\n",
    "print(\"💵 Prices after Tax:\", taxed_prices)  # Example: [94.5, 168.0, 220.5, 315.0, 446.25]\n",
    "\n",
    "# Step 4: Calculate total revenue\n",
    "total_revenue = sum(taxed_prices)  # Sum up all the taxed prices\n",
    "print(f\"💰 Total Revenue: ${total_revenue}\")  # Example Output: $1243.75\n",
    "\n",
    "# ------------------------------------------------------\n",
    "# Summary and Suggestions 🚀\n",
    "# ------------------------------------------------------\n",
    "\n",
    "# 🎯 What We Learned:\n",
    "# - The map() function applies a function to each element in an iterable.\n",
    "# - It's highly efficient for list transformations and combining multiple lists.\n",
    "# - Lambdas are useful for writing small, inline functions.\n",
    "\n",
    "# 🌟 Ideas for Further Enhancements:\n",
    "# 1. Add user input for prices and discounts.\n",
    "# 2. Use Matplotlib or Seaborn to visualize product price trends 📊.\n",
    "# 3. Create a simple web app using Streamlit to display live discounts and tax calculations 🌐.\n",
    "\n",
    "# Congratulations on mastering the map() function! 🎉 Now, go ahead and apply these concepts to real-world projects! 😊\n",
    "\n",
    "\n",
    "\n",
    "\n",
    "\n",
    "\n"
   ]
  },
  {
   "cell_type": "code",
   "execution_count": null,
   "metadata": {},
   "outputs": [],
   "source": []
  },
  {
   "cell_type": "code",
   "execution_count": null,
   "metadata": {},
   "outputs": [],
   "source": []
  },
  {
   "cell_type": "code",
   "execution_count": 5,
   "metadata": {},
   "outputs": [
    {
     "name": "stdout",
     "output_type": "stream",
     "text": [
      "🎉 Final Prices after Discount: [90.0, 160.0, 210.0, 300.0, 425.0]\n",
      "💵 Prices after Tax: [94.5, 168.0, 220.5, 315.0, 446.25]\n",
      "💰 Total Revenue: $1244.25\n"
     ]
    }
   ],
   "source": [
    "# Mini-Project: Product Pricing Analysis 🛒\n",
    "# ------------------------------------------------------\n",
    "\n",
    "# Step 1: Define product prices and discounts\n",
    "prices = [100, 200, 300, 400, 500]  # List of product prices\n",
    "discounts = [10, 20, 30, 25, 15]  # Discounts for each product (in percentage)\n",
    "\n",
    "# Step 2: Apply discounts using map() and lambda\n",
    "# The formula: price * (1 - discount / 100)\n",
    "final_prices = list(map(lambda price, discount: price * (1 - discount / 100), prices, discounts))\n",
    "print(\"🎉 Final Prices after Discount:\", final_prices)  # Example: [90.0, 160.0, 210.0, 300.0, 425.0]\n",
    "\n",
    "# Step 3: Add 5% tax to the discounted prices\n",
    "# Formula: price_with_tax = discounted_price * 1.05\n",
    "taxed_prices = list(map(lambda price: round(price * 1.05, 2), final_prices))\n",
    "print(\"💵 Prices after Tax:\", taxed_prices)  # Example: [94.5, 168.0, 220.5, 315.0, 446.25]\n",
    "\n",
    "# Step 4: Calculate total revenue\n",
    "total_revenue = sum(taxed_prices)  # Sum up all the taxed prices\n",
    "print(f\"💰 Total Revenue: ${total_revenue}\")  # Example Output: $1243.75"
   ]
  },
  {
   "cell_type": "code",
   "execution_count": null,
   "metadata": {},
   "outputs": [],
   "source": []
  },
  {
   "cell_type": "code",
   "execution_count": null,
   "metadata": {},
   "outputs": [],
   "source": []
  },
  {
   "cell_type": "markdown",
   "metadata": {},
   "source": [
    "# KEEP IT UP! YOU SHOULD BE PROUD OF YOUR NEWLY ACQUIRED PROGRAMMING SKILLS!"
   ]
  }
 ],
 "metadata": {
  "kernelspec": {
   "display_name": "Python [conda env:base] *",
   "language": "python",
   "name": "conda-base-py"
  },
  "language_info": {
   "codemirror_mode": {
    "name": "ipython",
    "version": 3
   },
   "file_extension": ".py",
   "mimetype": "text/x-python",
   "name": "python",
   "nbconvert_exporter": "python",
   "pygments_lexer": "ipython3",
   "version": "3.12.3"
  }
 },
 "nbformat": 4,
 "nbformat_minor": 4
}
