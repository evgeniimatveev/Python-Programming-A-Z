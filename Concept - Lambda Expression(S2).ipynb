{
 "cells": [
  {
   "cell_type": "markdown",
   "metadata": {},
   "source": [
    "# PYTHON PROGRAMMING FUNDAMENTALS\n"
   ]
  },
  {
   "cell_type": "markdown",
   "metadata": {},
   "source": [
    "# LAMBDA EXPRESSIONS\n",
    "- Lambda function is a way to create small anonymous functions (without a name). \n",
    "- Lambda functions are mainly used with filter(), map() and reduce(). \n",
    "- It can take any number of arguments, but can only have one expression."
   ]
  },
  {
   "cell_type": "code",
   "execution_count": null,
   "metadata": {},
   "outputs": [],
   "source": []
  },
  {
   "cell_type": "code",
   "execution_count": 2,
   "metadata": {},
   "outputs": [
    {
     "name": "stdout",
     "output_type": "stream",
     "text": [
      "Named Function Result: 16\n",
      "Lambda Function Result: 16\n"
     ]
    }
   ],
   "source": [
    "# Python Programming Fundamentals: Lambda Expressions 🚀\n",
    "# ======================================================\n",
    "\n",
    "# Lambda expressions are small, anonymous functions that simplify coding tasks.\n",
    "# They are primarily used when we need simple one-line functionality without defining a named function.\n",
    "\n",
    "# Key Features:\n",
    "# - Concise syntax: `lambda arguments: expression`\n",
    "# - Useful for operations like filtering, mapping, and reducing.\n",
    "# - Great for temporary, one-time use functions.\n",
    "# Let's explore them step by step! 👇\n",
    "\n",
    "# Example 1: Named Function vs Lambda Expression\n",
    "def square(x):\n",
    "    # A named function that returns the square of a number\n",
    "    return x ** 2\n",
    "\n",
    "# Using the named function\n",
    "print(\"Named Function Result:\", square(4))  # Output: 16\n",
    "\n",
    "# Using a lambda expression for the same task\n",
    "square_lambda = lambda x: x ** 2\n",
    "print(\"Lambda Function Result:\", square_lambda(4))  # Output: 16"
   ]
  },
  {
   "cell_type": "code",
   "execution_count": null,
   "metadata": {},
   "outputs": [],
   "source": []
  },
  {
   "cell_type": "code",
   "execution_count": 4,
   "metadata": {},
   "outputs": [
    {
     "name": "stdout",
     "output_type": "stream",
     "text": [
      "Using map() with a named function: [2, 4, 6, 8, 10]\n",
      "Using map() with a lambda expression: [2, 4, 6, 8, 10]\n"
     ]
    }
   ],
   "source": [
    "# Example 2: Using map() with Lambda\n",
    "numbers = [1, 2, 3, 4, 5]\n",
    "\n",
    "# Doubling each element using map() and a named function\n",
    "def double(x):\n",
    "    return x * 2\n",
    "\n",
    "print(\"Using map() with a named function:\", list(map(double, numbers)))  # Output: [2, 4, 6, 8, 10]\n",
    "\n",
    "# Doubling each element using map() and a lambda expression\n",
    "print(\"Using map() with a lambda expression:\", list(map(lambda x: x * 2, numbers)))  # Output: [2, 4, 6, 8, 10]"
   ]
  },
  {
   "cell_type": "code",
   "execution_count": null,
   "metadata": {},
   "outputs": [],
   "source": []
  },
  {
   "cell_type": "code",
   "execution_count": 6,
   "metadata": {},
   "outputs": [
    {
     "name": "stdout",
     "output_type": "stream",
     "text": [
      "Using filter() with a named function: [2, 4, 6]\n",
      "Using filter() with a lambda expression: [2, 4, 6]\n"
     ]
    }
   ],
   "source": [
    "# Example 3: Using filter() with Lambda\n",
    "# Filtering even numbers from the list\n",
    "numbers = [1, 2, 3, 4, 5, 6]\n",
    "\n",
    "# Using a named function\n",
    "def is_even(x):\n",
    "    return x % 2 == 0\n",
    "\n",
    "print(\"Using filter() with a named function:\", list(filter(is_even, numbers)))  # Output: [2, 4, 6]\n",
    "\n",
    "# Using a lambda expression\n",
    "print(\"Using filter() with a lambda expression:\", list(filter(lambda x: x % 2 == 0, numbers)))  # Output: [2, 4, 6]"
   ]
  },
  {
   "cell_type": "code",
   "execution_count": null,
   "metadata": {},
   "outputs": [],
   "source": []
  },
  {
   "cell_type": "code",
   "execution_count": 8,
   "metadata": {},
   "outputs": [
    {
     "name": "stdout",
     "output_type": "stream",
     "text": [
      "Using reduce() with a named function: 24\n",
      "Using reduce() with a lambda expression: 24\n"
     ]
    }
   ],
   "source": [
    "# Example 4: Using reduce() with Lambda\n",
    "from functools import reduce\n",
    "\n",
    "# Calculating the product of all numbers in the list\n",
    "numbers = [1, 2, 3, 4]\n",
    "\n",
    "# Using a named function\n",
    "def product(x, y):\n",
    "    return x * y\n",
    "\n",
    "print(\"Using reduce() with a named function:\", reduce(product, numbers))  # Output: 24\n",
    "\n",
    "# Using a lambda expression\n",
    "print(\"Using reduce() with a lambda expression:\", reduce(lambda x, y: x * y, numbers))  # Output: 24"
   ]
  },
  {
   "cell_type": "code",
   "execution_count": null,
   "metadata": {},
   "outputs": [],
   "source": []
  },
  {
   "cell_type": "code",
   "execution_count": 10,
   "metadata": {},
   "outputs": [
    {
     "name": "stdout",
     "output_type": "stream",
     "text": [
      "Students sorted by grades: [{'name': 'Charlie', 'grade': 78}, {'name': 'Alice', 'grade': 85}, {'name': 'Bob', 'grade': 92}]\n",
      "Students sorted by names: [{'name': 'Charlie', 'grade': 78}, {'name': 'Bob', 'grade': 92}, {'name': 'Alice', 'grade': 85}]\n"
     ]
    }
   ],
   "source": [
    "# Example 5: Sorting with Lambda\n",
    "students = [\n",
    "    {\"name\": \"Alice\", \"grade\": 85},\n",
    "    {\"name\": \"Bob\", \"grade\": 92},\n",
    "    {\"name\": \"Charlie\", \"grade\": 78}\n",
    "]\n",
    "\n",
    "# Sorting students by grades in ascending order\n",
    "sorted_students = sorted(students, key=lambda x: x[\"grade\"])\n",
    "print(\"Students sorted by grades:\", sorted_students)\n",
    "\n",
    "# Sorting students by names in descending order\n",
    "sorted_by_name = sorted(students, key=lambda x: x[\"name\"], reverse=True)\n",
    "print(\"Students sorted by names:\", sorted_by_name)"
   ]
  },
  {
   "cell_type": "code",
   "execution_count": null,
   "metadata": {},
   "outputs": [],
   "source": []
  },
  {
   "cell_type": "code",
   "execution_count": 12,
   "metadata": {},
   "outputs": [
    {
     "name": "stdout",
     "output_type": "stream",
     "text": [
      "Multiplication Result: 42\n",
      "Division Result: 5.0\n"
     ]
    }
   ],
   "source": [
    "# Example 6: Custom Operations with Lambda\n",
    "# Create a dictionary of operations\n",
    "operations = {\n",
    "    \"add\": lambda x, y: x + y,\n",
    "    \"subtract\": lambda x, y: x - y,\n",
    "    \"multiply\": lambda x, y: x * y,\n",
    "    \"divide\": lambda x, y: x / y if y != 0 else \"Division by zero error!\"\n",
    "}\n",
    "\n",
    "# Using the \"multiply\" operation\n",
    "print(\"Multiplication Result:\", operations[\"multiply\"](6, 7))  # Output: 42\n",
    "\n",
    "# Using the \"divide\" operation\n",
    "print(\"Division Result:\", operations[\"divide\"](10, 2))  # Output: 5.0"
   ]
  },
  {
   "cell_type": "code",
   "execution_count": null,
   "metadata": {},
   "outputs": [],
   "source": []
  },
  {
   "cell_type": "code",
   "execution_count": null,
   "metadata": {},
   "outputs": [],
   "source": []
  },
  {
   "cell_type": "code",
   "execution_count": null,
   "metadata": {},
   "outputs": [],
   "source": []
  },
  {
   "cell_type": "code",
   "execution_count": null,
   "metadata": {},
   "outputs": [],
   "source": []
  },
  {
   "cell_type": "code",
   "execution_count": 14,
   "metadata": {},
   "outputs": [
    {
     "name": "stdout",
     "output_type": "stream",
     "text": [
      "🏆 Student Rankings:\n",
      "1. Charlie - Average Score: 91.50\n",
      "2. Alice - Average Score: 90.00\n",
      "3. Diana - Average Score: 90.00\n",
      "4. Bob - Average Score: 80.50\n"
     ]
    }
   ],
   "source": [
    "# Project: Ranking Students Based on Average Scores 🎓\n",
    "\n",
    "# Step 1: Define a list of students with their scores\n",
    "students_scores = [\n",
    "    {\"name\": \"Alice\", \"math\": 88, \"science\": 92},\n",
    "    {\"name\": \"Bob\", \"math\": 76, \"science\": 85},\n",
    "    {\"name\": \"Charlie\", \"math\": 89, \"science\": 94},\n",
    "    {\"name\": \"Diana\", \"math\": 92, \"science\": 88}\n",
    "]\n",
    "\n",
    "# Step 2: Use lambda to calculate average scores\n",
    "average_scores = list(map(lambda student: {\n",
    "    \"name\": student[\"name\"],\n",
    "    \"average\": (student[\"math\"] + student[\"science\"]) / 2\n",
    "}, students_scores))\n",
    "\n",
    "# Step 3: Sort the students by their average scores\n",
    "sorted_scores = sorted(average_scores, key=lambda x: x[\"average\"], reverse=True)\n",
    "\n",
    "# Step 4: Display the sorted results with rankings\n",
    "print(\"🏆 Student Rankings:\")\n",
    "for idx, student in enumerate(sorted_scores, start=1):\n",
    "    print(f\"{idx}. {student['name']} - Average Score: {student['average']:.2f}\")\n",
    "\n",
    "# Step 5: Suggestions for Improvement (Optional)\n",
    "# You can integrate this app with a database to handle larger student data.\n",
    "# Add a \"trend analysis\" feature to predict grade improvements.\n"
   ]
  },
  {
   "cell_type": "code",
   "execution_count": null,
   "metadata": {},
   "outputs": [],
   "source": []
  },
  {
   "cell_type": "code",
   "execution_count": null,
   "metadata": {},
   "outputs": [],
   "source": []
  },
  {
   "cell_type": "markdown",
   "metadata": {},
   "source": [
    "# KEEP IT UP! YOU SHOULD BE PROUD OF YOUR NEWLY ACQUIRED PROGRAMMING SKILLS!"
   ]
  }
 ],
 "metadata": {
  "kernelspec": {
   "display_name": "Python [conda env:base] *",
   "language": "python",
   "name": "conda-base-py"
  },
  "language_info": {
   "codemirror_mode": {
    "name": "ipython",
    "version": 3
   },
   "file_extension": ".py",
   "mimetype": "text/x-python",
   "name": "python",
   "nbconvert_exporter": "python",
   "pygments_lexer": "ipython3",
   "version": "3.12.3"
  }
 },
 "nbformat": 4,
 "nbformat_minor": 4
}
