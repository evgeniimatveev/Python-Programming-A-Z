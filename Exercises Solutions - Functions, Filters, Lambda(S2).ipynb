{
 "cells": [
  {
   "cell_type": "markdown",
   "metadata": {},
   "source": [
    "# <font color='red'> *INTERMEDIATE LEVEL* </font> \n",
    "## <font color='red'> FUNCTIONS, FILTERS AND LAMBDA EXPRESSIONS  </font> "
   ]
  },
  {
   "cell_type": "markdown",
   "metadata": {},
   "source": [
    "# <font color='blue'> 1. WRITE A FUNCTION THAT TAKES A VARIABLE AND SQUARE IT, THEN TEST THE FUNCTION BY TAKING AN INPUT FROM A USER"
   ]
  },
  {
   "cell_type": "code",
   "execution_count": null,
   "metadata": {},
   "outputs": [],
   "source": []
  },
  {
   "cell_type": "code",
   "execution_count": 33,
   "metadata": {},
   "outputs": [
    {
     "name": "stdin",
     "output_type": "stream",
     "text": [
      "Enter a number:  16\n"
     ]
    },
    {
     "name": "stdout",
     "output_type": "stream",
     "text": [
      "The square of 16 is 256\n"
     ]
    }
   ],
   "source": [
    "# 🐍 Question 1: Write a Function that Squares a Number 🐍\n",
    "# ---------------------------------------------------------\n",
    "# A function is a reusable block of code designed to perform a single task.\n",
    "# Functions allow us to organize code better and avoid repetition.\n",
    "\n",
    "# Step 1: Define a function named `squared` that takes one argument `x`\n",
    "# ---------------------------------------------------------\n",
    "# The function will calculate the square of `x` by multiplying it by itself.\n",
    "# The `return` keyword ensures the result is returned to the caller.\n",
    "def squared(x):\n",
    "    return x ** 2  # Returns the square of the input value\n",
    "\n",
    "# Step 2: Get input from the user\n",
    "# ---------------------------------------------------------\n",
    "# The `input` function prompts the user to enter a number.\n",
    "# Since input returns a string, we use `int()` to convert it to an integer.\n",
    "a = int(input(\"Enter a number: \"))\n",
    "\n",
    "# Step 3: Test the function with the user input\n",
    "# ---------------------------------------------------------\n",
    "# Call the `squared` function and pass the user-provided number `a` as an argument.\n",
    "# The result is formatted into a friendly message using `format()`.\n",
    "# The `print` function is used to display the result.\n",
    "print(\"The square of {} is {}\".format(a, squared(a)))\n",
    "\n",
    "# Example Run:\n",
    "# ---------------------------------------------------------\n",
    "# User enters: 5\n",
    "# Output: \"The square of 5 is 25\"\n",
    "\n",
    "# 💡 Key Notes:\n",
    "# - **Function Definition**: The `def` keyword is used to define a function.\n",
    "# - **Return Statement**: A function stops executing and sends the value back to the caller.\n",
    "# - **Reusability**: Functions like `squared()` can be reused with any number.\n",
    "# - **Input Handling**: Always ensure the input type matches the function’s expectations.\n",
    "\n",
    "# 🌟 Something Extra:\n",
    "# Let’s extend this code to handle invalid inputs gracefully using a `try-except` block.\n",
    "# It ensures the program won't crash if the user enters something other than a number.\n",
    "\n"
   ]
  },
  {
   "cell_type": "raw",
   "metadata": {},
   "source": []
  },
  {
   "cell_type": "raw",
   "metadata": {},
   "source": []
  },
  {
   "cell_type": "code",
   "execution_count": 3,
   "metadata": {},
   "outputs": [
    {
     "name": "stdout",
     "output_type": "stream",
     "text": [
      "Welcome to the Square Calculator! 🧮 (Type -1 to exit)\n",
      "\n"
     ]
    },
    {
     "name": "stdin",
     "output_type": "stream",
     "text": [
      "Enter a number (or -1 to exit):  -1\n"
     ]
    },
    {
     "name": "stdout",
     "output_type": "stream",
     "text": [
      "Thank you for using the Square Calculator. Goodbye! 👋\n"
     ]
    }
   ],
   "source": [
    "# 🐍 Mini Project: Enhanced Square Function with Exit Option 🐍\n",
    "# ---------------------------------------------------------\n",
    "# 1️⃣ This project allows users to calculate the square of a number repeatedly.\n",
    "# 2️⃣ If the user inputs `-1`, the program exits gracefully.\n",
    "# ---------------------------------------------------------\n",
    "\n",
    "# Define the square function\n",
    "def squared(x):\n",
    "    \"\"\"Returns the square of a number.\"\"\"\n",
    "    return x ** 2\n",
    "\n",
    "# Main loop to interact with the user\n",
    "print(\"Welcome to the Square Calculator! 🧮 (Type -1 to exit)\\n\")\n",
    "while True:\n",
    "    try:\n",
    "        # Prompt the user for a number\n",
    "        a = int(input(\"Enter a number (or -1 to exit): \"))\n",
    "        \n",
    "        # Check for the exit condition\n",
    "        if a == -1:\n",
    "            print(\"Thank you for using the Square Calculator. Goodbye! 👋\")\n",
    "            break\n",
    "        \n",
    "        # Calculate and display the square\n",
    "        print(\"The square of {} is {}\\n\".format(a, squared(a)))\n",
    "    except ValueError:\n",
    "        # Handle invalid input gracefully\n",
    "        print(\"Invalid input. Please enter an integer!\\n\")\n",
    "\n",
    "# ---------------------------------------------------------\n",
    "# Example Output:\n",
    "# Welcome to the Square Calculator! 🧮 (Type -1 to exit)\n",
    "# Enter a number (or -1 to exit): 5\n",
    "# The square of 5 is 25\n",
    "# Enter a number (or -1 to exit): -1\n",
    "# Thank you for using the Square Calculator. Goodbye! 👋\n"
   ]
  },
  {
   "cell_type": "code",
   "execution_count": null,
   "metadata": {},
   "outputs": [],
   "source": []
  },
  {
   "cell_type": "code",
   "execution_count": null,
   "metadata": {},
   "outputs": [],
   "source": []
  },
  {
   "cell_type": "code",
   "execution_count": null,
   "metadata": {},
   "outputs": [],
   "source": []
  },
  {
   "cell_type": "markdown",
   "metadata": {},
   "source": [
    "# <font color='blue'> 2. WRITE A FUNCTION THAT TAKES 2 VARIABLES FROM THE USER AND OBTAIN THE SUMMATION AND MULTIPLICATION, THEN TEST THE FUNCTION BY TAKING AN INPUT FROM A USER (REPEAT USING LAMBDA EXPRESSIONS)"
   ]
  },
  {
   "cell_type": "code",
   "execution_count": null,
   "metadata": {},
   "outputs": [],
   "source": []
  },
  {
   "cell_type": "code",
   "execution_count": 9,
   "metadata": {},
   "outputs": [
    {
     "name": "stdin",
     "output_type": "stream",
     "text": [
      "Enter any integer number:  4\n",
      "Enter another integer number:  4\n"
     ]
    },
    {
     "name": "stdout",
     "output_type": "stream",
     "text": [
      "Multiplication = 16, addition = 8\n"
     ]
    },
    {
     "name": "stdin",
     "output_type": "stream",
     "text": [
      "Enter any integer number:  4\n",
      "Enter another integer number:  4\n"
     ]
    },
    {
     "name": "stdout",
     "output_type": "stream",
     "text": [
      "Multiplication = 16, addition = 8\n",
      "Multiplication = 12, addition = 7\n"
     ]
    }
   ],
   "source": [
    "# 🐍 Question 2: Write a Function to Calculate Sum and Multiplication 🐍\n",
    "# ---------------------------------------------------------------------\n",
    "# In this task, we will:\n",
    "# 1️⃣ Create a function `sum_multiply` to compute both the summation and multiplication of two numbers.\n",
    "# 2️⃣ Use the `return` statement to return two results simultaneously as a tuple.\n",
    "# 3️⃣ Test the function with user inputs.\n",
    "# 4️⃣ Rewrite the same logic using Lambda expressions for compactness and demonstrate their usage.\n",
    "\n",
    "# Step 1: Define the function `sum_multiply`\n",
    "# ---------------------------------------------------------\n",
    "# This function takes two arguments, `x` and `y`.\n",
    "# It calculates:\n",
    "#  - Their summation (x + y)\n",
    "#  - Their multiplication (x * y)\n",
    "# Finally, it returns both results as a tuple.\n",
    "def sum_multiply(x, y):\n",
    "    summation = x + y  # Compute the sum of x and y\n",
    "    multiply = x * y   # Compute the product of x and y\n",
    "    return (summation, multiply)  # Return both values as a tuple\n",
    "\n",
    "# Step 2: Take input from the user\n",
    "# ---------------------------------------------------------\n",
    "# Prompt the user for two integer inputs using the `input()` function.\n",
    "# Convert the inputs to integers using the `int()` function.\n",
    "a = int(input(\"Enter any integer number: \"))  # First number\n",
    "b = int(input(\"Enter another integer number: \"))  # Second number\n",
    "\n",
    "# Step 3: Call the `sum_multiply` function\n",
    "# ---------------------------------------------------------\n",
    "# Pass the user inputs to the function.\n",
    "# Unpack the returned tuple into two variables: `result_sum` and `result_multiply`.\n",
    "result_sum, result_multiply = sum_multiply(a, b)\n",
    "\n",
    "# Step 4: Display the results\n",
    "# ---------------------------------------------------------\n",
    "# Use `format()` to display the sum and multiplication results in a formatted message.\n",
    "print('Multiplication = {}, addition = {}'.format(result_multiply, result_sum))\n",
    "\n",
    "# Example Run:\n",
    "# ---------------------------------------------------------\n",
    "# Enter any integer number: 3\n",
    "# Enter another integer number: 4\n",
    "# Output: \"Multiplication = 12, addition = 7\"\n",
    "\n",
    "# 💡 Key Concepts Covered:\n",
    "# - **Multiple Return Values**: Functions can return multiple values as a tuple.\n",
    "# - **Unpacking**: Assigning each value from the tuple to a separate variable.\n",
    "\n",
    "# ---------------------------------------------------------\n",
    "# Part 2: Using Lambda Expressions\n",
    "# ---------------------------------------------------------\n",
    "# Lambda expressions are anonymous functions (functions without a name).\n",
    "# They are used for short, one-line logic and can replace simple functions like `sum_multiply`.\n",
    "\n",
    "# Define two Lambda expressions for summation and multiplication\n",
    "summation = lambda x, y: x + y  # Lambda to compute sum\n",
    "multiply = lambda x, y: x * y  # Lambda to compute multiplication\n",
    "\n",
    "# Prompt user for input again\n",
    "a = int(input(\"Enter any integer number: \"))  # First number\n",
    "b = int(input(\"Enter another integer number: \"))  # Second number\n",
    "\n",
    "# Use the Lambda expressions to calculate results\n",
    "print('Multiplication = {}, addition = {}'.format(multiply(a, b), summation(a, b)))\n",
    "\n",
    "# Example Run:\n",
    "# ---------------------------------------------------------\n",
    "# Enter any integer number: 3\n",
    "# Enter another integer number: 4\n",
    "# Output: \"Multiplication = 12, addition = 7\"\n",
    "\n",
    "# ---------------------------------------------------------\n",
    "# Advanced Example: Use Lambdas with Inline Values\n",
    "# ---------------------------------------------------------\n",
    "# Lambdas can be directly used with hardcoded values if user input is not required.\n",
    "print('Multiplication = {}, addition = {}'.format(multiply(3, 4), summation(3, 4)))\n",
    "\n",
    "# 📝 Summary of the Script:\n",
    "# ---------------------------------------------------------\n",
    "# - Created a reusable function `sum_multiply` to compute two operations simultaneously.\n",
    "# - Introduced the concept of returning multiple values as a tuple and unpacking them.\n",
    "# - Used Lambda expressions to simplify summation and multiplication in one-liners.\n",
    "# - Demonstrated how Lambdas can replace simple named functions.\n",
    "\n",
    "# 🚀 Project Idea:\n",
    "# ---------------------------------------------------------\n",
    "# Build a **Basic Calculator** app with options for addition, subtraction, multiplication, and division.\n",
    "# Use Lambda expressions to implement the operations compactly.\n",
    "# Include an interactive menu for the user to select operations and provide inputs dynamically.\n",
    "\n",
    "# 🌟 What's Next?\n",
    "# - Add error handling (e.g., catching division by zero).\n",
    "# - Explore more complex functions, such as exponentiation and modulus, and implement them using Lambdas!"
   ]
  },
  {
   "cell_type": "code",
   "execution_count": null,
   "metadata": {},
   "outputs": [],
   "source": []
  },
  {
   "cell_type": "code",
   "execution_count": null,
   "metadata": {},
   "outputs": [],
   "source": []
  },
  {
   "cell_type": "code",
   "execution_count": 7,
   "metadata": {},
   "outputs": [
    {
     "name": "stdout",
     "output_type": "stream",
     "text": [
      "Welcome to the Sum and Multiply Calculator! 🧮 (Type -1 to exit)\n",
      "\n"
     ]
    },
    {
     "name": "stdin",
     "output_type": "stream",
     "text": [
      "Enter the first integer (or -1 to exit):  -1\n"
     ]
    },
    {
     "name": "stdout",
     "output_type": "stream",
     "text": [
      "Thank you for using the Sum and Multiply Calculator. Goodbye! 👋\n"
     ]
    }
   ],
   "source": [
    "# Mini Project for Question 2: Enhanced Sum and Multiply Calculator 🐍\n",
    "# ---------------------------------------------------------\n",
    "# 1️⃣ This project computes both summation and multiplication of two numbers.\n",
    "# 2️⃣ If the user inputs `-1` for either number, the program exits gracefully.\n",
    "# ---------------------------------------------------------\n",
    "\n",
    "# Define the function to calculate summation and multiplication\n",
    "def sum_multiply(x, y):\n",
    "    \"\"\"Returns the summation and multiplication of two numbers.\"\"\"\n",
    "    summation = x + y\n",
    "    multiply = x * y\n",
    "    return (summation, multiply)\n",
    "\n",
    "# Main loop to interact with the user\n",
    "print(\"Welcome to the Sum and Multiply Calculator! 🧮 (Type -1 to exit)\\n\")\n",
    "while True:\n",
    "    try:\n",
    "        # Prompt the user for two numbers\n",
    "        a = int(input(\"Enter the first integer (or -1 to exit): \"))\n",
    "        \n",
    "        # Check for the exit condition\n",
    "        if a == -1:\n",
    "            print(\"Thank you for using the Sum and Multiply Calculator. Goodbye! 👋\")\n",
    "            break\n",
    "        \n",
    "        b = int(input(\"Enter the second integer (or -1 to exit): \"))\n",
    "        \n",
    "        # Check for the exit condition\n",
    "        if b == -1:\n",
    "            print(\"Thank you for using the Sum and Multiply Calculator. Goodbye! 👋\")\n",
    "            break\n",
    "        \n",
    "        # Calculate summation and multiplication\n",
    "        result_sum, result_multiply = sum_multiply(a, b)\n",
    "        1\n",
    "        # Display the results\n",
    "        print(\"Multiplication = {}, Addition = {}\\n\".format(result_multiply, result_sum))\n",
    "    except ValueError:\n",
    "        # Handle invalid input gracefully\n",
    "        print(\"Invalid input. Please enter an integer!\\n\")\n",
    "\n",
    "# ---------------------------------------------------------\n",
    "# Example Output:\n",
    "# Welcome to the Sum and Multiply Calculator! 🧮 (Type -1 to exit)\n",
    "# Enter the first integer (or -1 to exit): 3\n",
    "# Enter the second integer (or -1 to exit): 4\n",
    "# Multiplication = 12, Addition = 7\n",
    "# Enter the first integer (or -1 to exit): -1\n",
    "# Thank you for using the Sum and Multiply Calculator. Goodbye! 👋\n"
   ]
  },
  {
   "cell_type": "code",
   "execution_count": null,
   "metadata": {},
   "outputs": [],
   "source": []
  },
  {
   "cell_type": "markdown",
   "metadata": {},
   "source": [
    "#  <font color='blue'>3. WRITE A FUNCTION THAT TAKES A VARIABLE AND RETURNS ITS FACTORIAL </font> "
   ]
  },
  {
   "cell_type": "code",
   "execution_count": null,
   "metadata": {},
   "outputs": [],
   "source": []
  },
  {
   "cell_type": "code",
   "execution_count": null,
   "metadata": {},
   "outputs": [],
   "source": []
  },
  {
   "cell_type": "code",
   "execution_count": 15,
   "metadata": {},
   "outputs": [
    {
     "name": "stdout",
     "output_type": "stream",
     "text": [
      "Welcome to the Factorial Calculator! 🧮 (Type -1 to exit)\n",
      "\n"
     ]
    },
    {
     "name": "stdin",
     "output_type": "stream",
     "text": [
      "Enter a number to calculate its factorial (or -1 to exit):  1\n"
     ]
    },
    {
     "name": "stdout",
     "output_type": "stream",
     "text": [
      "The factorial of 1 is 1\n",
      "\n"
     ]
    },
    {
     "name": "stdin",
     "output_type": "stream",
     "text": [
      "Enter a number to calculate its factorial (or -1 to exit):  4\n"
     ]
    },
    {
     "name": "stdout",
     "output_type": "stream",
     "text": [
      "The factorial of 4 is 24\n",
      "\n"
     ]
    },
    {
     "name": "stdin",
     "output_type": "stream",
     "text": [
      "Enter a number to calculate its factorial (or -1 to exit):  7\n"
     ]
    },
    {
     "name": "stdout",
     "output_type": "stream",
     "text": [
      "The factorial of 7 is 5040\n",
      "\n"
     ]
    },
    {
     "name": "stdin",
     "output_type": "stream",
     "text": [
      "Enter a number to calculate its factorial (or -1 to exit):  -1\n"
     ]
    },
    {
     "name": "stdout",
     "output_type": "stream",
     "text": [
      "Thank you for using the Factorial Calculator. Goodbye! 👋\n"
     ]
    }
   ],
   "source": [
    "# 🐍 Factorial Calculator with Exit Option 🐍\n",
    "# ---------------------------------------------------------\n",
    "# 1️⃣ This program calculates the factorial of a number entered by the user.\n",
    "# 2️⃣ Users can repeatedly calculate factorials or exit by entering `-1`.\n",
    "# 3️⃣ Includes recursion to calculate the factorial.\n",
    "# ---------------------------------------------------------\n",
    "\n",
    "# Define the factorial function\n",
    "def factorial(x):\n",
    "    \"\"\"\n",
    "    Recursive function to calculate the factorial of a number.\n",
    "    A factorial of a number (n!) is the product of all positive integers from 1 to n.\n",
    "    For example:\n",
    "    - factorial(4) = 4 * 3 * 2 * 1 = 24\n",
    "    - factorial(0) = 1 (base case)\n",
    "    \"\"\"\n",
    "    if x == 0:\n",
    "        return 1  # Base case: factorial of 0 is 1\n",
    "    return x * factorial(x - 1)  # Recursive case\n",
    "\n",
    "# Main loop to interact with the user\n",
    "print(\"Welcome to the Factorial Calculator! 🧮 (Type -1 to exit)\\n\")\n",
    "while True:\n",
    "    try:\n",
    "        # Prompt the user to input a number\n",
    "        a = int(input(\"Enter a number to calculate its factorial (or -1 to exit): \"))\n",
    "        \n",
    "        # Check for the exit condition\n",
    "        if a == -1:\n",
    "            print(\"Thank you for using the Factorial Calculator. Goodbye! 👋\")\n",
    "            break\n",
    "\n",
    "        # Validate input to ensure it is non-negative\n",
    "        if a < 0:\n",
    "            print(\"Factorial is only defined for non-negative integers. Please try again! ❌\\n\")\n",
    "            continue\n",
    "        \n",
    "        # Calculate and display the factorial\n",
    "        print(\"The factorial of {} is {}\\n\".format(a, factorial(a)))\n",
    "    except ValueError:\n",
    "        # Handle invalid input gracefully\n",
    "        print(\"Invalid input. Please enter an integer!\\n\")\n",
    "\n",
    "# ---------------------------------------------------------\n",
    "# Example Output:\n",
    "# Welcome to the Factorial Calculator! 🧮 (Type -1 to exit)\n",
    "# Enter a number to calculate its factorial (or -1 to exit): 4\n",
    "# The factorial of 4 is 24\n",
    "# Enter a number to calculate its factorial (or -1 to exit): -5\n",
    "# Factorial is only defined for non-negative integers. Please try again! ❌\n",
    "# Enter a number to calculate its factorial (or -1 to exit): -1\n",
    "# Thank you for using the Factorial Calculator. Goodbye! 👋\n",
    "\n",
    "# ---------------------------------------------------------\n",
    "# 🚀 Additional Features to Consider:\n",
    "# 1️⃣ **Iterative Approach:** Add a non-recursive version of the factorial function.\n",
    "# 2️⃣ **Performance Optimization:** Include memoization to cache previously calculated results.\n",
    "# 3️⃣ **Error Logging:** Create a log file to track invalid inputs or errors for debugging.\n",
    "# 4️⃣ **GUI Version:** Build a graphical interface using `tkinter` or `PyQt` for user-friendly interaction.\n",
    "\n",
    "# ---------------------------------------------------------\n",
    "# 💡 Mini-Project Idea for Enhancement:\n",
    "# Add a **history feature** to track all factorial calculations during the session:\n",
    "# - Store inputs and outputs in a list.\n",
    "# - Allow users to review all calculations made before exiting the app."
   ]
  },
  {
   "cell_type": "code",
   "execution_count": null,
   "metadata": {},
   "outputs": [],
   "source": []
  },
  {
   "cell_type": "markdown",
   "metadata": {},
   "source": [
    "# <font color='blue'> 4. DEVELOP A SCIPT WHOSE ITEMS ARE SQUARES OF THE ORIGINAL LIST </font> "
   ]
  },
  {
   "cell_type": "code",
   "execution_count": null,
   "metadata": {},
   "outputs": [],
   "source": []
  },
  {
   "cell_type": "code",
   "execution_count": null,
   "metadata": {},
   "outputs": [],
   "source": []
  },
  {
   "cell_type": "code",
   "execution_count": 28,
   "metadata": {},
   "outputs": [
    {
     "name": "stdout",
     "output_type": "stream",
     "text": [
      "Original List: [1, 2, 3, 4, 5, 6, 7, 8, 9, 10, 11, 12, 13, 14, 15, 16, 17, 18, 19, 20]\n",
      "Squared List: [1, 4, 9, 16, 25, 36, 49, 64, 81, 100, 121, 144, 169, 196, 225, 256, 289, 324, 361, 400]\n",
      "🔢 Welcome to the Square Calculator App!\n"
     ]
    },
    {
     "name": "stdin",
     "output_type": "stream",
     "text": [
      "Enter the starting number of the range:  1\n",
      "Enter the ending number of the range:  16\n"
     ]
    },
    {
     "name": "stdout",
     "output_type": "stream",
     "text": [
      "\n",
      "Original List: [1, 2, 3, 4, 5, 6, 7, 8, 9, 10, 11, 12, 13, 14, 15, 16]\n",
      "Squared List: [1, 4, 9, 16, 25, 36, 49, 64, 81, 100, 121, 144, 169, 196, 225, 256]\n"
     ]
    }
   ],
   "source": [
    "# 🟦 Squares of the Original List 🟦\n",
    "# ------------------------------------------\n",
    "# 1️⃣ This script generates a list of numbers from 1 to 20.\n",
    "# 2️⃣ It calculates the square of each number in the list.\n",
    "# 3️⃣ The result is a new list containing the squared values.\n",
    "# ------------------------------------------\n",
    "\n",
    "# Step 1: Create an original list of numbers using the range() function\n",
    "my_list = range(1, 21)  # Numbers from 1 to 20\n",
    "\n",
    "# Step 2: Use a list comprehension to calculate the square of each number\n",
    "squared_list = [x ** 2 for x in my_list]  # Square each element in the list\n",
    "\n",
    "# Step 3: Display the result\n",
    "print(\"Original List:\", list(my_list))  # Convert range to a list for display\n",
    "print(\"Squared List:\", squared_list)  # Print the list of squared values\n",
    "\n",
    "# ------------------------------------------\n",
    "# Example Output:\n",
    "# Original List: [1, 2, 3, 4, 5, 6, 7, 8, 9, 10, 11, 12, 13, 14, 15, 16, 17, 18, 19, 20]\n",
    "# Squared List: [1, 4, 9, 16, 25, 36, 49, 64, 81, 100, 121, 144, 169, 196, 225, 256, 289, 324, 361, 400]\n",
    "\n",
    "# ------------------------------------------\n",
    "# 🛠️ How It Works:\n",
    "# - `range(1, 21)` generates numbers from 1 to 20 (inclusive).\n",
    "# - The list comprehension `[x ** 2 for x in my_list]` iterates through each number in `my_list` and computes its square (`x ** 2`).\n",
    "# - The result is stored in `squared_list`.\n",
    "\n",
    "# ------------------------------------------\n",
    "# 🚀 Additional Ideas for Enhancement:\n",
    "# 1️⃣ **Custom Range Input:** Allow the user to define the range of numbers interactively.\n",
    "# 2️⃣ **Condition-Based Squares:** Only include squares of even or odd numbers.\n",
    "# 3️⃣ **Visualization:** Use a library like `matplotlib` to create a bar chart or line graph of the original vs. squared values.\n",
    "\n",
    "# ------------------------------------------\n",
    "# 💡 Mini Project: Interactive Square Calculator\n",
    "def square_calculator():\n",
    "    \"\"\"\n",
    "    Interactive application that calculates squares for a custom range of numbers.\n",
    "    \"\"\"\n",
    "    print(\"🔢 Welcome to the Square Calculator App!\")\n",
    "    \n",
    "    # Prompt the user for the range\n",
    "    try:\n",
    "        start = int(input(\"Enter the starting number of the range: \"))\n",
    "        end = int(input(\"Enter the ending number of the range: \"))\n",
    "        \n",
    "        # Generate and calculate squares\n",
    "        user_list = range(start, end + 1)  # Inclusive range\n",
    "        squared_values = [x ** 2 for x in user_list]\n",
    "        \n",
    "        # Display results\n",
    "        print(\"\\nOriginal List:\", list(user_list))\n",
    "        print(\"Squared List:\", squared_values)\n",
    "    except ValueError:\n",
    "        print(\"❌ Invalid input. Please enter valid integers!\")\n",
    "\n",
    "# Run the mini project\n",
    "square_calculator()"
   ]
  },
  {
   "cell_type": "code",
   "execution_count": null,
   "metadata": {},
   "outputs": [],
   "source": []
  },
  {
   "cell_type": "code",
   "execution_count": null,
   "metadata": {},
   "outputs": [],
   "source": []
  },
  {
   "cell_type": "markdown",
   "metadata": {},
   "source": [
    "# <font color='blue'> 5. WRITE A FUNCTION THAT SQUARES A VARIABLE AND THEN APPLY THE FUNCTION TO A LIST OF INTEGER NUMBERS RANING FROM -20 to 20"
   ]
  },
  {
   "cell_type": "code",
   "execution_count": null,
   "metadata": {},
   "outputs": [],
   "source": []
  },
  {
   "cell_type": "code",
   "execution_count": 31,
   "metadata": {},
   "outputs": [
    {
     "name": "stdout",
     "output_type": "stream",
     "text": [
      "Original Numbers: [-20, -19, -18, -17, -16, -15, -14, -13, -12, -11, -10, -9, -8, -7, -6, -5, -4, -3, -2, -1, 0, 1, 2, 3, 4, 5, 6, 7, 8, 9, 10, 11, 12, 13, 14, 15, 16, 17, 18, 19, 20]\n",
      "Squared Numbers: [400, 361, 324, 289, 256, 225, 196, 169, 144, 121, 100, 81, 64, 49, 36, 25, 16, 9, 4, 1, 0, 1, 4, 9, 16, 25, 36, 49, 64, 81, 100, 121, 144, 169, 196, 225, 256, 289, 324, 361, 400]\n",
      "🔢 Welcome to the Squared Range Calculator!\n",
      "Enter a range of numbers, and I'll calculate their squares! (Type -1 to exit)\n"
     ]
    },
    {
     "name": "stdin",
     "output_type": "stream",
     "text": [
      "Enter the starting number of the range (-1 to quit):  -100\n",
      "Enter the ending number of the range:  100\n"
     ]
    },
    {
     "name": "stdout",
     "output_type": "stream",
     "text": [
      "Original Numbers: [-100, -99, -98, -97, -96, -95, -94, -93, -92, -91, -90, -89, -88, -87, -86, -85, -84, -83, -82, -81, -80, -79, -78, -77, -76, -75, -74, -73, -72, -71, -70, -69, -68, -67, -66, -65, -64, -63, -62, -61, -60, -59, -58, -57, -56, -55, -54, -53, -52, -51, -50, -49, -48, -47, -46, -45, -44, -43, -42, -41, -40, -39, -38, -37, -36, -35, -34, -33, -32, -31, -30, -29, -28, -27, -26, -25, -24, -23, -22, -21, -20, -19, -18, -17, -16, -15, -14, -13, -12, -11, -10, -9, -8, -7, -6, -5, -4, -3, -2, -1, 0, 1, 2, 3, 4, 5, 6, 7, 8, 9, 10, 11, 12, 13, 14, 15, 16, 17, 18, 19, 20, 21, 22, 23, 24, 25, 26, 27, 28, 29, 30, 31, 32, 33, 34, 35, 36, 37, 38, 39, 40, 41, 42, 43, 44, 45, 46, 47, 48, 49, 50, 51, 52, 53, 54, 55, 56, 57, 58, 59, 60, 61, 62, 63, 64, 65, 66, 67, 68, 69, 70, 71, 72, 73, 74, 75, 76, 77, 78, 79, 80, 81, 82, 83, 84, 85, 86, 87, 88, 89, 90, 91, 92, 93, 94, 95, 96, 97, 98, 99, 100]\n",
      "Squared Values: [10000, 9801, 9604, 9409, 9216, 9025, 8836, 8649, 8464, 8281, 8100, 7921, 7744, 7569, 7396, 7225, 7056, 6889, 6724, 6561, 6400, 6241, 6084, 5929, 5776, 5625, 5476, 5329, 5184, 5041, 4900, 4761, 4624, 4489, 4356, 4225, 4096, 3969, 3844, 3721, 3600, 3481, 3364, 3249, 3136, 3025, 2916, 2809, 2704, 2601, 2500, 2401, 2304, 2209, 2116, 2025, 1936, 1849, 1764, 1681, 1600, 1521, 1444, 1369, 1296, 1225, 1156, 1089, 1024, 961, 900, 841, 784, 729, 676, 625, 576, 529, 484, 441, 400, 361, 324, 289, 256, 225, 196, 169, 144, 121, 100, 81, 64, 49, 36, 25, 16, 9, 4, 1, 0, 1, 4, 9, 16, 25, 36, 49, 64, 81, 100, 121, 144, 169, 196, 225, 256, 289, 324, 361, 400, 441, 484, 529, 576, 625, 676, 729, 784, 841, 900, 961, 1024, 1089, 1156, 1225, 1296, 1369, 1444, 1521, 1600, 1681, 1764, 1849, 1936, 2025, 2116, 2209, 2304, 2401, 2500, 2601, 2704, 2809, 2916, 3025, 3136, 3249, 3364, 3481, 3600, 3721, 3844, 3969, 4096, 4225, 4356, 4489, 4624, 4761, 4900, 5041, 5184, 5329, 5476, 5625, 5776, 5929, 6084, 6241, 6400, 6561, 6724, 6889, 7056, 7225, 7396, 7569, 7744, 7921, 8100, 8281, 8464, 8649, 8836, 9025, 9216, 9409, 9604, 9801, 10000]\n"
     ]
    },
    {
     "name": "stdin",
     "output_type": "stream",
     "text": [
      "Enter the starting number of the range (-1 to quit):  -1\n"
     ]
    },
    {
     "name": "stdout",
     "output_type": "stream",
     "text": [
      "👋 Thank you for using the app. Goodbye!\n"
     ]
    }
   ],
   "source": [
    "# 🟦 Function to Square a Variable and Apply It to a List 🟦\n",
    "# -------------------------------------------------------------------\n",
    "# 1️⃣ Define a function that squares a single variable.\n",
    "# 2️⃣ Generate a list of integers ranging from -20 to 20.\n",
    "# 3️⃣ Use the `map()` function to apply the squaring function to the list.\n",
    "# 4️⃣ Print the resulting list of squared values.\n",
    "# -------------------------------------------------------------------\n",
    "\n",
    "# Step 1: Define the function that calculates the square of a number\n",
    "def squared(x):\n",
    "    \"\"\"\n",
    "    Function to calculate the square of a given number.\n",
    "    :param x: Input number (integer)\n",
    "    :return: The square of the input number\n",
    "    \"\"\"\n",
    "    return x ** 2  # Square of the number\n",
    "\n",
    "# Step 2: Generate a range of numbers from -20 to 20\n",
    "numbers = range(-20, 21)  # Includes numbers from -20 to 20\n",
    "\n",
    "# Step 3: Apply the `squared` function to each number using `map()`\n",
    "# Use the `map()` function to apply the `squared` function\n",
    "numbers_squared = list(map(squared, numbers))  # Convert map object to a list\n",
    "\n",
    "# Step 4: Display the results\n",
    "print(\"Original Numbers:\", list(numbers))  # Display the original numbers\n",
    "print(\"Squared Numbers:\", numbers_squared)  # Display the squared results\n",
    "\n",
    "# -------------------------------------------------------------------\n",
    "# Example Output:\n",
    "# Original Numbers: [-20, -19, -18, ..., 0, ..., 18, 19, 20]\n",
    "# Squared Numbers: [400, 361, 324, ..., 0, ..., 324, 361, 400]\n",
    "# -------------------------------------------------------------------\n",
    "\n",
    "# 🛠️ Explanation of `map()`:\n",
    "# The `map()` function takes two arguments:\n",
    "# 1️⃣ A function (in this case, `squared`) that defines what operation to apply.\n",
    "# 2️⃣ An iterable (in this case, `numbers`), where each element is passed to the function.\n",
    "\n",
    "# 🚀 Additional Enhancements:\n",
    "# - Include a feature to filter squares of only positive or negative numbers.\n",
    "# - Allow the user to enter a custom range interactively.\n",
    "\n",
    "# -------------------------------------------------------------------\n",
    "# 💡 Mini Project: Interactive Squared Range Calculator\n",
    "def interactive_square_app():\n",
    "    \"\"\"\n",
    "    Interactive application to calculate the squares of a custom range of numbers.\n",
    "    \"\"\"\n",
    "    print(\"🔢 Welcome to the Squared Range Calculator!\")\n",
    "    print(\"Enter a range of numbers, and I'll calculate their squares! (Type -1 to exit)\")\n",
    "    \n",
    "    while True:\n",
    "        try:\n",
    "            # Take inputs for the range\n",
    "            start = int(input(\"Enter the starting number of the range (-1 to quit): \"))\n",
    "            if start == -1:\n",
    "                print(\"👋 Thank you for using the app. Goodbye!\")\n",
    "                break\n",
    "            \n",
    "            end = int(input(\"Enter the ending number of the range: \"))\n",
    "            \n",
    "            # Generate the range and calculate squares\n",
    "            user_numbers = range(start, end + 1)\n",
    "            squared_values = list(map(squared, user_numbers))\n",
    "            \n",
    "            # Display results\n",
    "            print(\"Original Numbers:\", list(user_numbers))\n",
    "            print(\"Squared Values:\", squared_values)\n",
    "        except ValueError:\n",
    "            print(\"❌ Invalid input. Please enter valid integers.\")\n",
    "\n",
    "# Run the interactive project\n",
    "interactive_square_app()"
   ]
  },
  {
   "cell_type": "code",
   "execution_count": null,
   "metadata": {},
   "outputs": [],
   "source": []
  },
  {
   "cell_type": "markdown",
   "metadata": {},
   "source": [
    "# <font color='blue'> 6. WRITE 3 FUNCTIONS THAT TAKE THE RADIUS OF A CIRCLE AND RETURN THE DIAMETER, AREA AND CIRCUMFERENCE, TEST THE FUNCTION USING AN INPUT FROM A USER "
   ]
  },
  {
   "cell_type": "code",
   "execution_count": null,
   "metadata": {},
   "outputs": [],
   "source": []
  },
  {
   "cell_type": "code",
   "execution_count": 37,
   "metadata": {},
   "outputs": [
    {
     "name": "stdout",
     "output_type": "stream",
     "text": [
      "⚪ Welcome to the Circle Property Calculator! ⚪\n",
      "📏 You can calculate the diameter, area, and circumference of a circle.\n",
      "⛔ Enter -1 to quit the app.\n"
     ]
    },
    {
     "name": "stdin",
     "output_type": "stream",
     "text": [
      "Enter the radius of a circle (or type -1 to quit):  7\n"
     ]
    },
    {
     "name": "stdout",
     "output_type": "stream",
     "text": [
      "\n",
      "📐 Circle Properties for Radius = 7.0:\n",
      "🔹 Diameter: 14.00\n",
      "🔹 Area: 153.94\n",
      "🔹 Circumference: 43.98\n",
      "\n"
     ]
    },
    {
     "name": "stdin",
     "output_type": "stream",
     "text": [
      "Enter the radius of a circle (or type -1 to quit):  -1\n"
     ]
    },
    {
     "name": "stdout",
     "output_type": "stream",
     "text": [
      "👋 Thank you for using the Circle Property Calculator. Goodbye!\n"
     ]
    }
   ],
   "source": [
    "# 🟢 Functions to Calculate Circle Properties 🟢\n",
    "# -------------------------------------------------------------------\n",
    "# This script contains three functions to calculate key properties of a circle:\n",
    "# 1️⃣ Diameter\n",
    "# 2️⃣ Area\n",
    "# 3️⃣ Circumference\n",
    "# These functions take the radius as input and return the respective property.\n",
    "# The script also allows the user to interactively calculate these properties.\n",
    "# -------------------------------------------------------------------\n",
    "\n",
    "# Step 1: Importing the math module\n",
    "import math  # This provides access to `math.pi` for precise calculations\n",
    "\n",
    "# Step 2: Define the function to calculate the diameter\n",
    "def circle_diameter(radius):\n",
    "    \"\"\"\n",
    "    Calculate the diameter of a circle.\n",
    "    :param radius: The radius of the circle\n",
    "    :return: Diameter = 2 * radius\n",
    "    \"\"\"\n",
    "    return 2 * radius\n",
    "\n",
    "# Step 3: Define the function to calculate the area\n",
    "def circle_area(radius):\n",
    "    \"\"\"\n",
    "    Calculate the area of a circle.\n",
    "    :param radius: The radius of the circle\n",
    "    :return: Area = π * radius²\n",
    "    \"\"\"\n",
    "    return math.pi * radius**2\n",
    "\n",
    "# Step 4: Define the function to calculate the circumference\n",
    "def circle_circumference(radius):\n",
    "    \"\"\"\n",
    "    Calculate the circumference of a circle.\n",
    "    :param radius: The radius of the circle\n",
    "    :return: Circumference = 2 * π * radius\n",
    "    \"\"\"\n",
    "    return 2 * math.pi * radius\n",
    "\n",
    "# Step 5: Interactive Application to Calculate Circle Properties\n",
    "def circle_app():\n",
    "    \"\"\"\n",
    "    An interactive app to calculate and display circle properties.\n",
    "    The user can input the radius and view the results or exit by typing -1.\n",
    "    \"\"\"\n",
    "    print(\"⚪ Welcome to the Circle Property Calculator! ⚪\")\n",
    "    print(\"📏 You can calculate the diameter, area, and circumference of a circle.\")\n",
    "    print(\"⛔ Enter -1 to quit the app.\")\n",
    "    \n",
    "    while True:\n",
    "        try:\n",
    "            # Step 6: Get the radius from the user\n",
    "            radius = float(input(\"Enter the radius of a circle (or type -1 to quit): \"))\n",
    "            \n",
    "            # Exit condition\n",
    "            if radius == -1:\n",
    "                print(\"👋 Thank you for using the Circle Property Calculator. Goodbye!\")\n",
    "                break\n",
    "            \n",
    "            # Step 7: Validate the input\n",
    "            if radius < 0:\n",
    "                print(\"❌ Radius cannot be negative. Please enter a valid value.\")\n",
    "                continue\n",
    "            \n",
    "            # Step 8: Calculate and display the results\n",
    "            print(f\"\\n📐 Circle Properties for Radius = {radius}:\")\n",
    "            print(f\"🔹 Diameter: {circle_diameter(radius):.2f}\")\n",
    "            print(f\"🔹 Area: {circle_area(radius):.2f}\")\n",
    "            print(f\"🔹 Circumference: {circle_circumference(radius):.2f}\\n\")\n",
    "        \n",
    "        except ValueError:\n",
    "            print(\"❌ Invalid input. Please enter a valid number.\")\n",
    "\n",
    "# Step 9: Run the app\n",
    "circle_app()\n",
    "\n",
    "# -------------------------------------------------------------------\n",
    "# 🔵 Additional Notes:\n",
    "# - The functions use `math.pi` for accurate calculations.\n",
    "# - The app includes input validation to handle invalid or negative values.\n",
    "# - User-friendly messages guide the interaction.\n",
    "# -------------------------------------------------------------------\n",
    "\n",
    "# 🔧 Possible Enhancements:\n",
    "# 1️⃣ Add the option to calculate properties for multiple circles at once.\n",
    "# 2️⃣ Include a visualization feature using a library like `matplotlib`.\n",
    "# 3️⃣ Allow the user to save results to a file.\n",
    "# -------------------------------------------------------------------\n",
    "\n",
    "# 🛠 Example Interaction:\n",
    "# Enter the radius of a circle: 7\n",
    "# 📐 Circle Properties for Radius = 7.0:\n",
    "# 🔹 Diameter: 14.00\n",
    "# 🔹 Area: 153.94\n",
    "# 🔹 Circumference: 43.98\n",
    "\n",
    "# Enter the radius of a circle: -1\n",
    "# 👋 Thank you for using the Circle Property Calculator. Goodbye!"
   ]
  },
  {
   "cell_type": "code",
   "execution_count": null,
   "metadata": {},
   "outputs": [],
   "source": []
  },
  {
   "cell_type": "code",
   "execution_count": null,
   "metadata": {},
   "outputs": [],
   "source": []
  },
  {
   "cell_type": "markdown",
   "metadata": {},
   "source": [
    "# <font color='blue'> 7. WRITE A CODE THAT TAKES A RANGE FROM A USER (UPPER AND LOWER BOUND) AND RETURNS A LIST OF POSITIVE AND EVEN NUMBERS ONLY"
   ]
  },
  {
   "cell_type": "code",
   "execution_count": null,
   "metadata": {},
   "outputs": [],
   "source": []
  },
  {
   "cell_type": "code",
   "execution_count": null,
   "metadata": {},
   "outputs": [],
   "source": []
  },
  {
   "cell_type": "code",
   "execution_count": 41,
   "metadata": {},
   "outputs": [
    {
     "name": "stdin",
     "output_type": "stream",
     "text": [
      "Enter a number (lower bound) *must be negative* :  1\n",
      "Enter a number (Upper bound):  9\n"
     ]
    },
    {
     "name": "stdout",
     "output_type": "stream",
     "text": [
      "\n",
      "📋 Positive and Even Numbers from the Range:\n",
      "[2, 4, 6, 8]\n",
      "📊 Welcome to the Number Filter App! 📊\n",
      "You can filter positive and even numbers from your specified range.\n",
      "⛔ Enter -1 to quit.\n"
     ]
    },
    {
     "name": "stdin",
     "output_type": "stream",
     "text": [
      "\n",
      "Enter a number (lower bound) *must be negative* :  -1\n"
     ]
    },
    {
     "name": "stdout",
     "output_type": "stream",
     "text": [
      "👋 Thank you for using the Number Filter App. Goodbye!\n"
     ]
    }
   ],
   "source": [
    "# 🟢 Filter Positive and Even Numbers from a User-Specified Range 🟢\n",
    "# ------------------------------------------------------------------------------\n",
    "# This program takes a range of numbers (lower and upper bounds) from the user.\n",
    "# It returns a list of numbers that are BOTH:\n",
    "# 1️⃣ Positive (greater than 0)\n",
    "# 2️⃣ Even (divisible by 2)\n",
    "# It uses the `filter()` function combined with a lambda expression for simplicity.\n",
    "# ------------------------------------------------------------------------------\n",
    "\n",
    "# Step 1: Ask the user for the range\n",
    "# We ensure the lower bound must be negative to demonstrate filtering\n",
    "min = int(input(\"Enter a number (lower bound) *must be negative* : \"))  # Example: -30\n",
    "max = int(input(\"Enter a number (Upper bound): \"))  # Example: 50\n",
    "\n",
    "# Step 2: Create a range of numbers\n",
    "numbers = range(min, max)\n",
    "\n",
    "# Step 3: Filter the numbers\n",
    "# Using `filter()` with a lambda function to retain positive and even numbers\n",
    "greater_than_zero = list(filter(lambda x: (x > 0 and x % 2 == 0), numbers))\n",
    "\n",
    "# Step 4: Display the result\n",
    "print(\"\\n📋 Positive and Even Numbers from the Range:\")\n",
    "print(greater_than_zero)  # Example output: [2, 4, 6, 8, ..., 48]\n",
    "\n",
    "# ------------------------------------------------------------------------------\n",
    "# 🔵 Explanation:\n",
    "# 1️⃣ `filter(lambda x: (x > 0 and x % 2 == 0), numbers)`\n",
    "#    - Checks each number `x` in the range.\n",
    "#    - `(x > 0)` ensures the number is positive.\n",
    "#    - `(x % 2 == 0)` ensures the number is even.\n",
    "# 2️⃣ `list()` converts the filtered object back to a list.\n",
    "# ------------------------------------------------------------------------------\n",
    "\n",
    "# 🛠 Example Interaction:\n",
    "# Input:\n",
    "# Enter a number (lower bound) *must be negative* : -10\n",
    "# Enter a number (Upper bound): 15\n",
    "#\n",
    "# Output:\n",
    "# 📋 Positive and Even Numbers from the Range:\n",
    "# [2, 4, 6, 8, 10, 12, 14]\n",
    "\n",
    "# ------------------------------------------------------------------------------\n",
    "# 🔧 Possible Enhancements:\n",
    "# 1️⃣ Add validation to ensure the lower bound is indeed negative.\n",
    "# 2️⃣ Allow users to choose additional filters, such as odd numbers or multiples of 3.\n",
    "# 3️⃣ Implement a function to display summary statistics like count, sum, or average.\n",
    "# ------------------------------------------------------------------------------\n",
    "\n",
    "# 🎯 Mini Project Extension:\n",
    "# Let's enhance this by creating an interactive menu-based app!\n",
    "def filter_numbers_app():\n",
    "    \"\"\"\n",
    "    An interactive app to filter numbers based on user-defined criteria.\n",
    "    \"\"\"\n",
    "    print(\"📊 Welcome to the Number Filter App! 📊\")\n",
    "    print(\"You can filter positive and even numbers from your specified range.\")\n",
    "    print(\"⛔ Enter -1 to quit.\")\n",
    "    \n",
    "    while True:\n",
    "        try:\n",
    "            # Ask for user input\n",
    "            min = int(input(\"\\nEnter a number (lower bound) *must be negative* : \"))\n",
    "            if min == -1:\n",
    "                print(\"👋 Thank you for using the Number Filter App. Goodbye!\")\n",
    "                break\n",
    "            \n",
    "            max = int(input(\"Enter a number (Upper bound): \"))\n",
    "            if max == -1:\n",
    "                print(\"👋 Thank you for using the Number Filter App. Goodbye!\")\n",
    "                break\n",
    "            \n",
    "            # Ensure the lower bound is negative\n",
    "            if min >= 0:\n",
    "                print(\"❌ Lower bound must be negative. Please try again.\")\n",
    "                continue\n",
    "            \n",
    "            # Filter positive and even numbers\n",
    "            numbers = range(min, max)\n",
    "            result = list(filter(lambda x: (x > 0 and x % 2 == 0), numbers))\n",
    "            \n",
    "            # Display results\n",
    "            print(\"\\n📋 Positive and Even Numbers from the Range:\")\n",
    "            print(result)\n",
    "        \n",
    "        except ValueError:\n",
    "            print(\"❌ Invalid input. Please enter valid integers.\")\n",
    "\n",
    "# Run the enhanced app\n",
    "filter_numbers_app()\n",
    "\n",
    "# ------------------------------------------------------------------------------\n",
    "# 🔵 Additional Notes:\n",
    "# - The mini project adds exit functionality and validation for user inputs.\n",
    "# - The app ensures a user-friendly experience with clear prompts and error handling.\n",
    "# ------------------------------------------------------------------------------"
   ]
  },
  {
   "cell_type": "code",
   "execution_count": null,
   "metadata": {},
   "outputs": [],
   "source": []
  },
  {
   "cell_type": "markdown",
   "metadata": {},
   "source": [
    "# <font color='blue'> 8. USING FILTER AND LAMBDA EXPRESSION, WRITE A CODE THAT TAKES A LIST OF NUMBERS BELOW AND RETURNS EVEN NUMBERS ONLY"
   ]
  },
  {
   "cell_type": "code",
   "execution_count": null,
   "metadata": {},
   "outputs": [],
   "source": []
  },
  {
   "cell_type": "code",
   "execution_count": null,
   "metadata": {},
   "outputs": [],
   "source": []
  },
  {
   "cell_type": "code",
   "execution_count": null,
   "metadata": {},
   "outputs": [],
   "source": []
  },
  {
   "cell_type": "code",
   "execution_count": 44,
   "metadata": {},
   "outputs": [
    {
     "name": "stdout",
     "output_type": "stream",
     "text": [
      "🔢 Numbers divisible by 2 are: [6, 22, 120, 220, 200]\n",
      "📊 Welcome to the Even Number Filter App!\n",
      "Enter numbers separated by commas (e.g., 1,2,3,4). Type -1 to exit.\n"
     ]
    },
    {
     "name": "stdin",
     "output_type": "stream",
     "text": [
      "\n",
      "Enter your list of numbers:  (1,2,3,4,5,6,7,8,9)\n"
     ]
    },
    {
     "name": "stdout",
     "output_type": "stream",
     "text": [
      "❌ Invalid input. Please enter integers separated by commas.\n"
     ]
    },
    {
     "name": "stdin",
     "output_type": "stream",
     "text": [
      "\n",
      "Enter your list of numbers:  1,2,3,4,5,6,7,8,9\n"
     ]
    },
    {
     "name": "stdout",
     "output_type": "stream",
     "text": [
      "🔢 Numbers divisible by 2 are: [2, 4, 6, 8]\n"
     ]
    },
    {
     "name": "stdin",
     "output_type": "stream",
     "text": [
      "\n",
      "Enter your list of numbers:  -1\n"
     ]
    },
    {
     "name": "stdout",
     "output_type": "stream",
     "text": [
      "👋 Thank you for using the app. Goodbye!\n"
     ]
    }
   ],
   "source": [
    "# 🟢 Filtering Even Numbers Using Filter and Lambda 🟢\n",
    "# -----------------------------------------------------\n",
    "# This script demonstrates how to use the `filter` function and a `lambda` expression\n",
    "# to extract only the even numbers from a given list.\n",
    "# -----------------------------------------------------\n",
    "\n",
    "# Step 1: Create a list of numbers\n",
    "numbers = [6, 17, 55, 22, 120, 59, 220, 200, 1]  # Mixed list of numbers\n",
    "\n",
    "# Step 2: Filter even numbers\n",
    "# Using filter() with a lambda function to check for even numbers.\n",
    "even = list(filter(lambda x: (x % 2 == 0), numbers))\n",
    "\n",
    "# Step 3: Display the result\n",
    "print(\"🔢 Numbers divisible by 2 are:\", even)\n",
    "\n",
    "# -----------------------------------------------------\n",
    "# Explanation of the Code:\n",
    "# -----------------------------------------------------\n",
    "# 1️⃣ `filter(lambda x: (x % 2 == 0), numbers)`:\n",
    "#     - `filter()` applies the lambda function to each element in `numbers`.\n",
    "#     - `(x % 2 == 0)` checks if a number is divisible by 2 (even).\n",
    "# 2️⃣ `list()` converts the filtered object into a list.\n",
    "# 3️⃣ `even` now holds all numbers from the original list that are even.\n",
    "# -----------------------------------------------------\n",
    "\n",
    "# 🛠 Example Output:\n",
    "# Numbers divisible by 2 are: [6, 22, 120, 220, 200]\n",
    "\n",
    "# -----------------------------------------------------\n",
    "# 🔵 Enhancements:\n",
    "# -----------------------------------------------------\n",
    "# Add a user input option for dynamic filtering:\n",
    "def filter_even_numbers():\n",
    "    \"\"\"\n",
    "    A function to take a user-defined list and return even numbers from it.\n",
    "    \"\"\"\n",
    "    print(\"📊 Welcome to the Even Number Filter App!\")\n",
    "    print(\"Enter numbers separated by commas (e.g., 1,2,3,4). Type -1 to exit.\")\n",
    "    \n",
    "    while True:\n",
    "        # Take user input\n",
    "        user_input = input(\"\\nEnter your list of numbers: \")\n",
    "        if user_input.strip() == \"-1\":\n",
    "            print(\"👋 Thank you for using the app. Goodbye!\")\n",
    "            break\n",
    "        \n",
    "        try:\n",
    "            # Convert the input into a list of integers\n",
    "            user_numbers = list(map(int, user_input.split(',')))\n",
    "            \n",
    "            # Filter even numbers\n",
    "            even_numbers = list(filter(lambda x: (x % 2 == 0), user_numbers))\n",
    "            \n",
    "            # Display results\n",
    "            print(\"🔢 Numbers divisible by 2 are:\", even_numbers)\n",
    "        \n",
    "        except ValueError:\n",
    "            print(\"❌ Invalid input. Please enter integers separated by commas.\")\n",
    "\n",
    "# Run the enhanced app\n",
    "filter_even_numbers()\n",
    "\n",
    "# -----------------------------------------------------\n",
    "# 🔧 Potential Additions:\n",
    "# 1️⃣ Allow filtering for different criteria, e.g., odd numbers or multiples of 5.\n",
    "# 2️⃣ Provide a summary of results, such as the count and sum of even numbers.\n",
    "# 3️⃣ Enable saving the filtered list to a file for further analysis.\n",
    "# -----------------------------------------------------\n",
    "\n",
    "# 🎯 Mini Project Summary:\n",
    "# This app demonstrates how to dynamically filter numbers using `filter()` and `lambda`.\n",
    "# It emphasizes user interaction, validation, and customization potential."
   ]
  },
  {
   "cell_type": "code",
   "execution_count": null,
   "metadata": {},
   "outputs": [],
   "source": []
  },
  {
   "cell_type": "code",
   "execution_count": null,
   "metadata": {},
   "outputs": [],
   "source": []
  },
  {
   "cell_type": "markdown",
   "metadata": {},
   "source": [
    "# <font color='blue'> 9. WRITE A FUNCTION THAT TAKES TWO NUMPY MATRICES AND RETURN THE ADDITION, SUBTRACTION, TRANSPOSE, PRODUCT, DOT PRODUCT"
   ]
  },
  {
   "cell_type": "code",
   "execution_count": 40,
   "metadata": {},
   "outputs": [],
   "source": []
  },
  {
   "cell_type": "code",
   "execution_count": null,
   "metadata": {},
   "outputs": [],
   "source": []
  },
  {
   "cell_type": "code",
   "execution_count": 50,
   "metadata": {},
   "outputs": [
    {
     "name": "stdout",
     "output_type": "stream",
     "text": [
      "Matrix A:\n",
      " [[1 9]\n",
      " [8 5]]\n",
      "\n",
      "Matrix B:\n",
      " [[2 3]\n",
      " [7 1]]\n",
      "🟢 Matrices Addition:\n",
      " [[ 3 12]\n",
      " [15  6]]\n",
      "\n",
      "🔵 Matrices Subtraction:\n",
      " [[-1  6]\n",
      " [ 1  4]]\n",
      "\n",
      "🟢 Matrices Multiplication:\n",
      " [[ 2 27]\n",
      " [56  5]]\n",
      "\n",
      "🔵 Matrix A Transpose:\n",
      " [[1 8]\n",
      " [9 5]]\n",
      "\n",
      "🔵 Matrix B Transpose:\n",
      " [[2 7]\n",
      " [3 1]]\n",
      "\n",
      "🟢 Matrices Dot Product:\n",
      " [[65 12]\n",
      " [51 29]]\n",
      "\n",
      "🔵 Square Root of Matrix A:\n",
      " [[1.         3.        ]\n",
      " [2.82842712 2.23606798]]\n",
      "\n",
      "🟢 Sum of all elements in Matrix A:\n",
      " 23\n",
      "\n",
      "🔵 Sum of all elements in Matrix B:\n",
      " 13\n",
      "\n",
      "🟢 Column-wise Summation of Matrix A:\n",
      " [ 9 14]\n",
      "\n",
      "🔵 Row-wise Summation of Matrix A:\n",
      " [10 13]\n"
     ]
    }
   ],
   "source": [
    "#🟢 Matrix Operations Using NumPy 🟢\n",
    "# -----------------------------------------------------\n",
    "# This script demonstrates how to perform a variety of matrix operations\n",
    "# such as addition, subtraction, multiplication, transpose, and more\n",
    "# using the powerful NumPy library.\n",
    "# -----------------------------------------------------\n",
    "\n",
    "# Step 1: Import the NumPy library\n",
    "import numpy as np  # NumPy is essential for numerical and matrix computations.\n",
    "\n",
    "# Step 2: Define a function for matrix operations\n",
    "def matrix_operations(a, b):\n",
    "    \"\"\"\n",
    "    Performs a variety of matrix operations on two input matrices:\n",
    "    - Addition\n",
    "    - Subtraction\n",
    "    - Element-wise multiplication\n",
    "    - Dot product\n",
    "    - Transpose\n",
    "    - Summation of elements row-wise and column-wise\n",
    "    \"\"\"\n",
    "    print(\"🟢 Matrices Addition:\\n\", np.add(a, b))  # Element-wise addition\n",
    "    print(\"\\n🔵 Matrices Subtraction:\\n\", np.subtract(a, b))  # Element-wise subtraction\n",
    "    print(\"\\n🟢 Matrices Multiplication:\\n\", np.multiply(a, b))  # Element-wise multiplication\n",
    "    print(\"\\n🔵 Matrix A Transpose:\\n\", a.T)  # Transpose of matrix A\n",
    "    print(\"\\n🔵 Matrix B Transpose:\\n\", b.T)  # Transpose of matrix B\n",
    "    print(\"\\n🟢 Matrices Dot Product:\\n\", np.dot(a, b))  # Matrix dot product\n",
    "    print(\"\\n🔵 Square Root of Matrix A:\\n\", np.sqrt(a))  # Element-wise square root\n",
    "    print(\"\\n🟢 Sum of all elements in Matrix A:\\n\", np.sum(a))  # Sum of all elements in matrix A\n",
    "    print(\"\\n🔵 Sum of all elements in Matrix B:\\n\", np.sum(b))  # Sum of all elements in matrix B\n",
    "    print(\"\\n🟢 Column-wise Summation of Matrix A:\\n\", np.sum(a, axis=0))  # Column-wise summation\n",
    "    print(\"\\n🔵 Row-wise Summation of Matrix A:\\n\", np.sum(a, axis=1))  # Row-wise summation\n",
    "\n",
    "# -----------------------------------------------------\n",
    "# Step 3: Create two sample matrices\n",
    "x = np.array([[1, 9], [8, 5]])  # 2x2 matrix\n",
    "y = np.array([[2, 3], [7, 1]])  # 2x2 matrix\n",
    "\n",
    "# Display the matrices for clarity\n",
    "print(\"Matrix A:\\n\", x)\n",
    "print(\"\\nMatrix B:\\n\", y)\n",
    "\n",
    "# Step 4: Call the matrix_operations function\n",
    "matrix_operations(x, y)\n",
    "\n",
    "# -----------------------------------------------------\n",
    "# 🛠 Example Output:\n",
    "# -----------------------------------------------------\n",
    "# Matrix A:\n",
    "# [[1 9]\n",
    "#  [8 5]]\n",
    "\n",
    "# Matrix B:\n",
    "# [[2 3]\n",
    "#  [7 1]]\n",
    "\n",
    "# 🟢 Matrices Addition:\n",
    "# [[ 3 12]\n",
    "#  [15  6]]\n",
    "\n",
    "# 🔵 Matrices Subtraction:\n",
    "# [[-1  6]\n",
    "#  [ 1  4]]\n",
    "\n",
    "# 🟢 Matrices Multiplication:\n",
    "# [[ 2 27]\n",
    "#  [56  5]]\n",
    "\n",
    "# 🔵 Matrix A Transpose:\n",
    "# [[1 8]\n",
    "#  [9 5]]\n",
    "\n",
    "# 🟢 Matrices Dot Product:\n",
    "# [[65 12]\n",
    "#  [49 29]]\n",
    "# -----------------------------------------------------\n",
    "\n",
    "# 🔵 Suggestions for Expansion:\n",
    "# -----------------------------------------------------\n",
    "# 1️⃣ Accept dynamic user input for matrices to allow real-world use cases.\n",
    "# 2️⃣ Save matrix results to a file (e.g., CSV or JSON).\n",
    "# 3️⃣ Include operations like inverse, determinant, and rank of matrices.\n",
    "# 4️⃣ Add error handling for invalid matrix operations (e.g., dot product compatibility).\n",
    "\n",
    "# 🔵 Mini Project Add-on:\n",
    "# -----------------------------------------------------\n",
    "# Add a menu-driven app for matrix operations:\n",
    "def matrix_app():\n",
    "    \"\"\"\n",
    "    A menu-based matrix operations application for the user to dynamically interact with matrices.\n",
    "    \"\"\"\n",
    "    print(\"📊 Welcome to the Matrix Operations App!\")\n",
    "    \n",
    "    # Input matrices from the user\n",
    "    print(\"\\nEnter Matrix A (row by row, separated by commas):\")\n",
    "    a = np.array(eval(input(\"Matrix A (e.g., [[1, 2], [3, 4]]): \")))\n",
    "    \n",
    "    print(\"\\nEnter Matrix B (row by row, separated by commas):\")\n",
    "    b = np.array(eval(input(\"Matrix B (e.g., [[5, 6], [7, 8]]): \")))\n",
    "\n",
    "    print(\"\\n🔧 Select an Operation:\")\n",
    "    print(\"1: Addition\")\n",
    "    print(\"2: Subtraction\")\n",
    "    print(\"3: Element-wise Multiplication\")\n",
    "    print(\"4: Dot Product\")\n",
    "    print(\"5: Transpose of Matrices\")\n",
    "    print(\"6: Exit\")\n",
    "\n",
    "    while True:\n",
    "        try:\n",
    "            choice = int(input(\"\\nEnter your choice (1-6): \"))\n",
    "            if choice == 1:\n",
    "                print(\"🟢 Matrices Addition:\\n\", np.add(a, b))\n",
    "            elif choice == 2:\n",
    "                print(\"🔵 Matrices Subtraction:\\n\", np.subtract(a, b))\n",
    "            elif choice == 3:\n",
    "                print(\"🟢 Element-wise Multiplication:\\n\", np.multiply(a, b))\n",
    "            elif choice == 4:\n",
    "                print(\"🔵 Dot Product:\\n\", np.dot(a, b))\n",
    "            elif choice == 5:\n",
    "                print(\"🟢 Matrix A Transpose:\\n\", a.T)\n",
    "                print(\"🔵 Matrix B Transpose:\\n\", b.T)\n",
    "            elif choice == 6:\n",
    "                print(\"👋 Thank you for using the app. Goodbye!\")\n",
    "                break\n",
    "            else:\n",
    "                print(\"❌ Invalid choice. Please select a number between 1 and 6.\")\n",
    "        except ValueError:\n",
    "            print(\"❌ Invalid input. Please enter a valid integer.\")\n",
    "\n",
    "# Uncomment the line below to run the app\n",
    "# matrix_app()"
   ]
  },
  {
   "cell_type": "code",
   "execution_count": null,
   "metadata": {},
   "outputs": [],
   "source": []
  },
  {
   "cell_type": "code",
   "execution_count": null,
   "metadata": {},
   "outputs": [],
   "source": []
  },
  {
   "cell_type": "markdown",
   "metadata": {},
   "source": [
    "# <font color='blue'> 10. WRITE A FUNCTION THAT TAKES TWO VALUES FORM A USER AND SUM THEM UP. IF NO VALUES ARE PROVIDED, ASSUME DEFAULT VALUES OF 3 AND 5"
   ]
  },
  {
   "cell_type": "code",
   "execution_count": null,
   "metadata": {},
   "outputs": [],
   "source": []
  },
  {
   "cell_type": "code",
   "execution_count": 55,
   "metadata": {},
   "outputs": [
    {
     "name": "stdout",
     "output_type": "stream",
     "text": [
      "Custom input - The sum of 5 and 7 is: 12\n",
      "Default input - The sum of 3 and 5 is: 8\n"
     ]
    }
   ],
   "source": [
    "# 🟢 Function with Default Arguments 🟢\n",
    "# -----------------------------------------------------\n",
    "# This function demonstrates how to use default arguments in Python.\n",
    "# Default arguments are used to provide pre-defined values to function parameters.\n",
    "# If the user doesn't provide any values, the function uses these defaults.\n",
    "# -----------------------------------------------------\n",
    "\n",
    "# Define a function with default parameters\n",
    "def summation(x=3, y=5):\n",
    "    \"\"\"\n",
    "    This function takes two arguments, x and y, and returns their sum.\n",
    "    If no arguments are provided, it uses the default values: x=3 and y=5.\n",
    "    \"\"\"\n",
    "    return x + y\n",
    "\n",
    "# 🟢 Testing the Function\n",
    "# -----------------------------------------------------\n",
    "\n",
    "# 1️⃣ Case 1: Providing custom values\n",
    "result_1 = summation(5, 7)  # User provides values 5 and 7\n",
    "print(f\"Custom input - The sum of 5 and 7 is: {result_1}\")  # Output: 12\n",
    "\n",
    "# 2️⃣ Case 2: Using default values\n",
    "result_2 = summation()  # No values provided, defaults (3 and 5) will be used\n",
    "print(f\"Default input - The sum of 3 and 5 is: {result_2}\")  # Output: 8\n",
    "\n",
    "# -----------------------------------------------------\n",
    "# 🟢 Explanation of Key Concepts\n",
    "# -----------------------------------------------------\n",
    "# 1️⃣ **Default Arguments**:\n",
    "#    - Default arguments allow a function to have optional parameters.\n",
    "#    - If the user provides values, they override the defaults.\n",
    "#    - If no values are provided, the function uses the default ones.\n",
    "#\n",
    "# 2️⃣ **Real-World Use Cases**:\n",
    "#    - Functions with default arguments are useful in scenarios where parameters \n",
    "#      often have standard or frequently used values, such as:\n",
    "#      ➡️ Tax rates\n",
    "#      ➡️ Interest rates in financial calculations\n",
    "#      ➡️ Default user settings in applications\n",
    "\n",
    "# 🟢 Mini Project Add-On: User Input with Default Fallback\n",
    "# -----------------------------------------------------\n",
    "\n",
    "# Enhanced version of the function to allow user input with defaults\n",
    "def user_summation():\n",
    "    \"\"\"\n",
    "    Takes input from the user for two numbers and calculates their sum.\n",
    "    If no input is provided, it uses the default values of x=3 and y=5.\n",
    "    \"\"\"\n",
    "    print(\"🔢 Let's calculate the sum of two numbers!\")\n",
    "    try:\n",
    "        # Prompting user for the first number\n",
    "        x = input(\"Enter the first number (press Enter to use default 3): \")\n",
    "        x = int(x) if x else 3  # Use default 3 if input is empty\n",
    "\n",
    "        # Prompting user for the second number\n",
    "        y = input(\"Enter the second number (press Enter to use default 5): \")\n",
    "        y = int(y) if y else 5  # Use default 5 if input is empty\n",
    "\n",
    "        # Calculate and print the sum\n",
    "        print(f\"The sum of {x} and {y} is: {summation(x, y)}\")  # Use the summation function\n",
    "    except ValueError:\n",
    "        print(\"❌ Invalid input! Please enter valid integers.\")\n",
    "\n",
    "# Uncomment the line below to test the enhanced version\n",
    "# user_summation()\n",
    "\n",
    "# -----------------------------------------------------\n",
    "# 🟢 Potential Improvements:\n",
    "# -----------------------------------------------------\n",
    "# 1️⃣ Add more functionality, such as subtraction, multiplication, and division.\n",
    "# 2️⃣ Extend the function to handle more than two inputs (e.g., summing a list of numbers).\n",
    "# 3️⃣ Incorporate error handling for invalid inputs more robustly.\n",
    "# -----------------------------------------------------\n",
    "\n",
    "# Example Output for user_summation():\n",
    "# 🔢 Let's calculate the sum of two numbers!\n",
    "# Enter the first number (press Enter to use default 3): \n",
    "# Enter the second number (press Enter to use default 5): \n",
    "# The sum of 3 and 5 is: 8"
   ]
  },
  {
   "cell_type": "code",
   "execution_count": null,
   "metadata": {},
   "outputs": [],
   "source": []
  },
  {
   "cell_type": "code",
   "execution_count": null,
   "metadata": {},
   "outputs": [],
   "source": []
  },
  {
   "cell_type": "code",
   "execution_count": null,
   "metadata": {},
   "outputs": [],
   "source": []
  },
  {
   "cell_type": "markdown",
   "metadata": {},
   "source": [
    "# <font color='blue'> 11. WRITE A SCRIPT THAT WILL PROMPT A USER FOR A RANGE (MIN/MAX VALUE) AND RETURNS NUMBERS THAT ARE DIVISIBLE BY 4 BUT ARE NOT MULTIPLES OF 3 "
   ]
  },
  {
   "cell_type": "code",
   "execution_count": null,
   "metadata": {},
   "outputs": [],
   "source": []
  },
  {
   "cell_type": "code",
   "execution_count": 59,
   "metadata": {},
   "outputs": [
    {
     "name": "stdin",
     "output_type": "stream",
     "text": [
      "Enter the minimum value of the range (inclusive):  4\n",
      "Enter the maximum value of the range (exclusive):  44\n"
     ]
    },
    {
     "name": "stdout",
     "output_type": "stream",
     "text": [
      "Numbers divisible by 4 but not multiples of 3: [4, 8, 16, 20, 28, 32, 40]\n"
     ]
    }
   ],
   "source": [
    "# 🟢 Script to Find Numbers Divisible by 4 but Not Multiples of 3 🟢\n",
    "# ------------------------------------------------------------\n",
    "# This script prompts the user to enter a range (minimum and maximum values).\n",
    "# It identifies numbers within this range that are:\n",
    "# ➡️ Divisible by 4\n",
    "# ➡️ NOT multiples of 3\n",
    "# ------------------------------------------------------------\n",
    "\n",
    "# Step 1: Get input from the user for the range\n",
    "# ------------------------------------------------------------\n",
    "# Prompt the user to enter the minimum and maximum range values.\n",
    "min_val = int(input(\"Enter the minimum value of the range (inclusive): \"))  # Starting point of the range\n",
    "max_val = int(input(\"Enter the maximum value of the range (exclusive): \"))  # Ending point of the range\n",
    "\n",
    "# Step 2: Initialize an empty list to store the results\n",
    "# ------------------------------------------------------------\n",
    "# `my_numbers` will hold numbers that satisfy the conditions.\n",
    "my_numbers = []\n",
    "\n",
    "# Step 3: Iterate through the range and apply the conditions\n",
    "# ------------------------------------------------------------\n",
    "for i in range(min_val, max_val):  # Loop from min_val to max_val (exclusive)\n",
    "    # Check if the number is divisible by 4 but not a multiple of 3\n",
    "    if (i % 4 == 0) and (i % 3 != 0):\n",
    "        my_numbers.append(i)  # Add the number to the list if it satisfies the conditions\n",
    "\n",
    "# Step 4: Display the results\n",
    "# ------------------------------------------------------------\n",
    "# Print the numbers that satisfy the conditions.\n",
    "print(\"Numbers divisible by 4 but not multiples of 3:\", my_numbers)\n",
    "\n",
    "# ------------------------------------------------------------\n",
    "# 🟢 Example Usage:\n",
    "# ------------------------------------------------------------\n",
    "# Enter the minimum value of the range (inclusive): 1\n",
    "# Enter the maximum value of the range (exclusive): 50\n",
    "# Numbers divisible by 4 but not multiples of 3: [4, 8, 16, 20, 28, 32, 40, 44]\n",
    "\n",
    "# ------------------------------------------------------------\n",
    "# 🟢 Explanation of Key Concepts:\n",
    "# ------------------------------------------------------------\n",
    "# 1️⃣ **Divisibility Check**:\n",
    "#    - A number is divisible by another if the remainder of the division is 0.\n",
    "#      ➡️ Example: `8 % 4 == 0` (8 is divisible by 4).\n",
    "#\n",
    "# 2️⃣ **Logical Conditions**:\n",
    "#    - `(i % 4 == 0)` checks if `i` is divisible by 4.\n",
    "#    - `(i % 3 != 0)` ensures `i` is NOT a multiple of 3.\n",
    "#    - Both conditions are combined using the logical AND operator (`and`).\n",
    "\n",
    "# ------------------------------------------------------------\n",
    "# 🟢 Possible Improvements:\n",
    "# ------------------------------------------------------------\n",
    "# 1️⃣ Add a feature to check for additional conditions (e.g., divisibility by 5, prime numbers).\n",
    "# 2️⃣ Allow the user to specify custom divisibility and exclusion rules.\n",
    "# 3️⃣ Visualize the results in a chart or graph for better understanding.\n",
    "\n",
    "# ------------------------------------------------------------\n",
    "# 🟢 Mini Project Idea:\n",
    "# ------------------------------------------------------------\n",
    "# Extend this script into a **Divisibility Checker App**:\n",
    "# ➡️ User specifies the conditions (e.g., divisible by 4 and not by 3).\n",
    "# ➡️ App returns results along with statistics (e.g., count of matching numbers).\n",
    "# ➡️ Add the option to save the results to a file for future reference."
   ]
  },
  {
   "cell_type": "code",
   "execution_count": null,
   "metadata": {},
   "outputs": [],
   "source": []
  },
  {
   "cell_type": "code",
   "execution_count": null,
   "metadata": {},
   "outputs": [],
   "source": []
  },
  {
   "cell_type": "code",
   "execution_count": null,
   "metadata": {},
   "outputs": [],
   "source": []
  },
  {
   "cell_type": "code",
   "execution_count": null,
   "metadata": {},
   "outputs": [],
   "source": []
  },
  {
   "cell_type": "markdown",
   "metadata": {},
   "source": [
    "# <font color='blue'> 12. DEFINE AN ENGLISH TO FRENCH TRANSLATOR FUNCTION THAT TAKES AN INPUT FROM A USER AND RETURNS THE TRANSLATION, USE ANY 5 KNOWN WORDS"
   ]
  },
  {
   "cell_type": "code",
   "execution_count": null,
   "metadata": {},
   "outputs": [],
   "source": []
  },
  {
   "cell_type": "code",
   "execution_count": 64,
   "metadata": {},
   "outputs": [
    {
     "name": "stdin",
     "output_type": "stream",
     "text": [
      "🔤 Enter an English word to translate:  love\n"
     ]
    },
    {
     "name": "stdout",
     "output_type": "stream",
     "text": [
      "French translation: amour\n"
     ]
    }
   ],
   "source": [
    "# 🟢 English to French Translator Function 🟢\n",
    "# ------------------------------------------------------------\n",
    "# This script implements a simple English-to-French translator.\n",
    "# ➡️ A dictionary is used to store translations for predefined words.\n",
    "# ➡️ The program prompts the user to input an English word and returns\n",
    "#    its French translation if available.\n",
    "# ➡️ If the word is not found, an appropriate message is displayed.\n",
    "# ------------------------------------------------------------\n",
    "\n",
    "# Step 1: Define a dictionary of English-to-French translations\n",
    "# ------------------------------------------------------------\n",
    "# The dictionary `eng_french` contains English words as keys and their\n",
    "# French translations as values.\n",
    "eng_french = {\n",
    "    'happy': 'heureux',            # Example: \"happy\" translates to \"heureux\"\n",
    "    'success': 'Succès',           # Example: \"success\" translates to \"Succès\"\n",
    "    'studying': \"en train d'étudier\",  # Example: \"studying\" translates to \"en train d'étudier\"\n",
    "    'traveling': 'en voyageant',   # Example: \"traveling\" translates to \"en voyageant\"\n",
    "    'love': 'amour'                # Example: \"love\" translates to \"amour\"\n",
    "}\n",
    "\n",
    "# Step 2: Define the translation function\n",
    "# ------------------------------------------------------------\n",
    "# The function takes an English word as input and looks it up in the dictionary.\n",
    "def dictionary_English2French(word):\n",
    "    \"\"\"\n",
    "    Translate an English word into French using a predefined dictionary.\n",
    "\n",
    "    Args:\n",
    "        word (str): The English word to translate.\n",
    "    \n",
    "    Returns:\n",
    "        str: The French translation, or an error message if not found.\n",
    "    \"\"\"\n",
    "    try:\n",
    "        # Try to fetch the word from the dictionary\n",
    "        return eng_french[word]\n",
    "    except KeyError:\n",
    "        # If the word is not found, return an error message\n",
    "        return \"⚠️ The dictionary does not contain this word.\"\n",
    "\n",
    "# Step 3: Prompt the user for input and return the translation\n",
    "# ------------------------------------------------------------\n",
    "# Ask the user to enter an English word.\n",
    "# `.lower()` ensures case insensitivity by converting the input to lowercase.\n",
    "word = input(\"🔤 Enter an English word to translate: \").lower()\n",
    "\n",
    "# Print the translated word or the error message.\n",
    "print(f\"French translation: {dictionary_English2French(word)}\")\n",
    "\n",
    "# ------------------------------------------------------------\n",
    "# 🟢 Example Usage:\n",
    "# ------------------------------------------------------------\n",
    "# 🔤 Enter an English word to translate: HAPPY\n",
    "# French translation: heureux\n",
    "# \n",
    "# 🔤 Enter an English word to translate: SUCCESS\n",
    "# French translation: Succès\n",
    "# \n",
    "# 🔤 Enter an English word to translate: UNKNOWN\n",
    "# French translation: ⚠️ The dictionary does not contain this word.\n",
    "\n",
    "# ------------------------------------------------------------\n",
    "# 🟢 Explanation of Key Concepts:\n",
    "# ------------------------------------------------------------\n",
    "# 1️⃣ **Dictionaries in Python**:\n",
    "#    - A dictionary is a collection of key-value pairs.\n",
    "#    - Here, the English word is the key, and its French translation is the value.\n",
    "#\n",
    "# 2️⃣ **Exception Handling**:\n",
    "#    - We use a `try-except` block to handle cases where the input word is not in the dictionary.\n",
    "#    - If a `KeyError` occurs (word not found), we return an error message.\n",
    "\n",
    "# ------------------------------------------------------------\n",
    "# 🟢 Ideas for Improvements:\n",
    "# ------------------------------------------------------------\n",
    "# 1️⃣ Add support for translating phrases instead of single words.\n",
    "# 2️⃣ Allow users to add new words to the dictionary dynamically.\n",
    "#    ➡️ Example: User can input both an English word and its French translation.\n",
    "# 3️⃣ Use an external database or API for translations to support larger vocabularies.\n",
    "# 4️⃣ Provide reverse translation (French-to-English).\n",
    "\n",
    "# ------------------------------------------------------------\n",
    "# 🟢 Fun Fact:\n",
    "# ------------------------------------------------------------\n",
    "# The word \"amour\" (French for \"love\") is one of the most borrowed words from French into other languages! 🥰"
   ]
  },
  {
   "cell_type": "code",
   "execution_count": null,
   "metadata": {},
   "outputs": [],
   "source": []
  },
  {
   "cell_type": "code",
   "execution_count": null,
   "metadata": {},
   "outputs": [],
   "source": []
  },
  {
   "cell_type": "code",
   "execution_count": null,
   "metadata": {},
   "outputs": [],
   "source": []
  },
  {
   "cell_type": "code",
   "execution_count": null,
   "metadata": {},
   "outputs": [],
   "source": []
  },
  {
   "cell_type": "markdown",
   "metadata": {},
   "source": [
    "# NOW YOU SHOULD BE FAMILIAR WITH FUNCTIONS, GREAT JOB!"
   ]
  },
  {
   "cell_type": "code",
   "execution_count": null,
   "metadata": {},
   "outputs": [],
   "source": []
  }
 ],
 "metadata": {
  "kernelspec": {
   "display_name": "Python [conda env:base] *",
   "language": "python",
   "name": "conda-base-py"
  },
  "language_info": {
   "codemirror_mode": {
    "name": "ipython",
    "version": 3
   },
   "file_extension": ".py",
   "mimetype": "text/x-python",
   "name": "python",
   "nbconvert_exporter": "python",
   "pygments_lexer": "ipython3",
   "version": "3.12.3"
  }
 },
 "nbformat": 4,
 "nbformat_minor": 4
}
