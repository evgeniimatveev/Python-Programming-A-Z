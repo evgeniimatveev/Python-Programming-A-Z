{
 "cells": [
  {
   "cell_type": "markdown",
   "metadata": {},
   "source": [
    "# PYTHON PROGRAMMING FUNDAMENTALS\n",
    "# PRINT AND GET USER INPUT  "
   ]
  },
  {
   "cell_type": "markdown",
   "metadata": {},
   "source": [
    "# PRINT OPERATION\n",
    "- print() function is used to print elements to the screen"
   ]
  },
  {
   "cell_type": "code",
   "execution_count": 4,
   "metadata": {},
   "outputs": [
    {
     "name": "stdout",
     "output_type": "stream",
     "text": [
      "Welcome to this python course\n",
      "<class 'str'>\n",
      "35 jay\n",
      "Welcome jay to this python course\n",
      "My name is jay and I'm 35 years old\n",
      "The value of Pi is approximately 3.14\n"
     ]
    }
   ],
   "source": [
    "# Step 1: Assign a string to the variable 'x'\n",
    "x = \"Welcome to this python course\"  # Assigning a string to variable x\n",
    "\n",
    "# Step 2: Use the print() function to display the value of 'x'\n",
    "print(x)  # Output: Welcome to this python course\n",
    "\n",
    "# Step 3: Check the type of variable 'x'\n",
    "# We use the type() function to confirm the data type of 'x'.\n",
    "print(type(x))  # Output: <class 'str'> (which means 'x' is a string)\n",
    "\n",
    "# Step 4: Using multiple variables in print\n",
    "name = \"jay\"  # Assigning a string to the variable 'name'\n",
    "age = 35      # Assigning an integer to the variable 'age'\n",
    "\n",
    "# We can output multiple variables using a tuple\n",
    "print(age, name)  # Output: 35 jay\n",
    "\n",
    "# Step 5: String formatting using the 'format()' method\n",
    "# The format() method allows you to insert values into a string at specified positions.\n",
    "print(\"Welcome {} to this python course\".format(name))  # Output: Welcome jay to this python course\n",
    "\n",
    "# Step 6: String formatting with multiple variables\n",
    "# You can include multiple variables inside a formatted string.\n",
    "print(\"My name is {} and I'm {} years old\".format(name, age))  # Output: My name is jay and I'm 35 years old\n",
    "\n",
    "# Step 7: Another example using format() for string formatting\n",
    "# We can reuse format() to insert other values.\n",
    "print(\"The value of Pi is approximately {}\".format(3.14))  # Output: The value of Pi is approximately 3.14"
   ]
  },
  {
   "cell_type": "code",
   "execution_count": 2,
   "metadata": {},
   "outputs": [
    {
     "name": "stdin",
     "output_type": "stream",
     "text": [
      "Enter your name:  tony\n",
      "Enter your age:  77\n"
     ]
    },
    {
     "name": "stdout",
     "output_type": "stream",
     "text": [
      "My name is tony and I'm 77 years old\n"
     ]
    }
   ],
   "source": [
    "# Step 1: Get user input for name and age\n",
    "name = input(\"Enter your name: \")  # The user inputs their name\n",
    "age = int(input(\"Enter your age: \"))  # The user inputs their age, converted to an integer\n",
    "\n",
    "# Step 2: Use print() with string formatting to display a message with the user's input\n",
    "print(\"My name is {} and I'm {} years old\".format(name, age))"
   ]
  },
  {
   "cell_type": "markdown",
   "metadata": {},
   "source": [
    "String format method"
   ]
  },
  {
   "cell_type": "code",
   "execution_count": null,
   "metadata": {},
   "outputs": [],
   "source": []
  },
  {
   "cell_type": "code",
   "execution_count": 6,
   "metadata": {},
   "outputs": [
    {
     "name": "stdout",
     "output_type": "stream",
     "text": [
      "Name: Alice | Age: 30 | City: New York\n",
      "apple, banana, cherry\n",
      "Hello!!! World\n",
      "My name is Alice and I'm 30 years old.\n",
      "\n",
      "This is a Python course.\n",
      "You are learning the print() function.\n",
      "Let's continue!\n",
      "\n",
      "The value of Pi is approximately 3.14\n",
      "The sum of 5 and 3 is 8\n"
     ]
    }
   ],
   "source": [
    "# Example 1: Multiple arguments in print\n",
    "name = \"Alice\"\n",
    "age = 30\n",
    "city = \"New York\"\n",
    "print(\"Name:\", name, \"| Age:\", age, \"| City:\", city)  # Output: Name: Alice | Age: 30 | City: New York\n",
    "\n",
    "# Example 2: Using 'sep' to change the separator\n",
    "print(\"apple\", \"banana\", \"cherry\", sep=\", \")  # Output: apple, banana, cherry\n",
    "\n",
    "# Example 3: Using 'end' to change the end of the line\n",
    "print(\"Hello\", end=\"!!! \")  # Output: Hello!!! World\n",
    "print(\"World\")\n",
    "\n",
    "# Example 4: Using f-strings for formatting\n",
    "print(f\"My name is {name} and I'm {age} years old.\")  # Output: My name is Alice and I'm 30 years old.\n",
    "\n",
    "# Example 5: Printing multiple lines with triple quotes\n",
    "print(\"\"\"\n",
    "This is a Python course.\n",
    "You are learning the print() function.\n",
    "Let's continue!\n",
    "\"\"\")\n",
    "\n",
    "# Example 6: Formatting numbers with f-strings\n",
    "pi = 3.141592653589793\n",
    "print(f\"The value of Pi is approximately {pi:.2f}\")  # Output: The value of Pi is approximately 3.14\n",
    "\n",
    "# Example 7: Performing calculations in print()\n",
    "a = 5\n",
    "b = 3\n",
    "print(f\"The sum of {a} and {b} is {a + b}\")  # Output: The sum of 5 and 3 is 8"
   ]
  },
  {
   "cell_type": "code",
   "execution_count": null,
   "metadata": {},
   "outputs": [],
   "source": []
  },
  {
   "cell_type": "markdown",
   "metadata": {},
   "source": [
    "# GET USER INPUT"
   ]
  },
  {
   "cell_type": "code",
   "execution_count": null,
   "metadata": {},
   "outputs": [],
   "source": [
    "# Example 1: Get user's name and greet them\n",
    "\n",
    "# Step 1: Prompt the user to input their name\n",
    "name = input(\"What's your name: \")  # input() captures the user's input as a string\n",
    "\n",
    "# Step 2: Use the print() function to greet the user\n",
    "print('Hello', name)  # Output: Hello <user_name>"
   ]
  },
  {
   "cell_type": "code",
   "execution_count": null,
   "metadata": {},
   "outputs": [],
   "source": []
  },
  {
   "cell_type": "code",
   "execution_count": null,
   "metadata": {},
   "outputs": [],
   "source": [
    "# Example 2: Get multiple pieces of information from the user\n",
    "\n",
    "# Step 1: Prompt the user for their name, age, and address\n",
    "name = input(\"Enter your name: \")  # User enters their name (as a string)\n",
    "age = input(\"Enter your age: \")    # User enters their age (as a string, we will leave it as a string for now)\n",
    "address = input(\"Enter your address: \")  # User enters their address (as a string)\n",
    "\n",
    "# Step 2: Use string formatting with the format() method to print a detailed message\n",
    "print(\"My name is {}, I am {} years old, and I live at {}\".format(name, age, address))  \n",
    "# Example Output: My name is Alice, I am 30 years old, and I live at 123 Main Street"
   ]
  },
  {
   "cell_type": "code",
   "execution_count": null,
   "metadata": {},
   "outputs": [],
   "source": []
  },
  {
   "cell_type": "code",
   "execution_count": 8,
   "metadata": {},
   "outputs": [
    {
     "name": "stdin",
     "output_type": "stream",
     "text": [
      "Enter an integer:  55\n",
      "Enter a second integer:  65\n"
     ]
    },
    {
     "name": "stdout",
     "output_type": "stream",
     "text": [
      "The sum of 55 and 65 is 120\n"
     ]
    }
   ],
   "source": [
    "# Example 3: Input two integers and calculate their sum\n",
    "\n",
    "# Step 1: Prompt the user for two integers\n",
    "a = input(\"Enter an integer: \")  # User inputs first integer as a string\n",
    "b = input(\"Enter a second integer: \")  # User inputs second integer as a string\n",
    "\n",
    "# Step 2: Perform addition (input() returns strings, so they must be converted to integers)\n",
    "print('The sum of {} and {} is {}'.format(a, b, int(a) + int(b)))  \n",
    "# Example Output: The sum of 3 and 4 is 7"
   ]
  },
  {
   "cell_type": "code",
   "execution_count": null,
   "metadata": {},
   "outputs": [],
   "source": []
  },
  {
   "cell_type": "code",
   "execution_count": null,
   "metadata": {},
   "outputs": [],
   "source": []
  },
  {
   "cell_type": "code",
   "execution_count": 1,
   "metadata": {},
   "outputs": [
    {
     "name": "stdout",
     "output_type": "stream",
     "text": [
      "Enter an integer: 3\n",
      "Enter a second integer: 4\n",
      "The sum of 3 and 4 is 34\n"
     ]
    }
   ],
   "source": []
  },
  {
   "cell_type": "code",
   "execution_count": 22,
   "metadata": {},
   "outputs": [
    {
     "name": "stdin",
     "output_type": "stream",
     "text": [
      "Enter an integer:  4\n",
      "Enter a second integer:  5\n"
     ]
    },
    {
     "name": "stdout",
     "output_type": "stream",
     "text": [
      "The sum of 4 and 5 is 9\n"
     ]
    }
   ],
   "source": [
    "# Example 4: Convert input from strings to integers for arithmetic operations\n",
    "\n",
    "# Step 1: Prompt the user for two integers, stored as strings\n",
    "a_str = input(\"Enter an integer: \")  # Input as string\n",
    "b_str = input(\"Enter a second integer: \")  # Input as string\n",
    "\n",
    "# Step 2: Convert the input strings to integers using int()\n",
    "a_int = int(a_str)  # Convert first string to integer\n",
    "b_int = int(b_str)  # Convert second string to integer\n",
    "\n",
    "# Step 3: Perform addition and display the result using print() and string formatting\n",
    "print('The sum of {} and {} is {}'.format(a_int, b_int, a_int + b_int))  \n",
    "# Example Output: The sum of 4 and 3 is 7"
   ]
  },
  {
   "cell_type": "markdown",
   "metadata": {},
   "source": [
    "# YOU ARE GETTING CLOSER TO MASTERING PYTHON! KEEP IT UP!"
   ]
  }
 ],
 "metadata": {
  "kernelspec": {
   "display_name": "Python 3 (ipykernel)",
   "language": "python",
   "name": "python3"
  },
  "language_info": {
   "codemirror_mode": {
    "name": "ipython",
    "version": 3
   },
   "file_extension": ".py",
   "mimetype": "text/x-python",
   "name": "python",
   "nbconvert_exporter": "python",
   "pygments_lexer": "ipython3",
   "version": "3.12.3"
  }
 },
 "nbformat": 4,
 "nbformat_minor": 4
}
