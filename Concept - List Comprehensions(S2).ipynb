{
 "cells": [
  {
   "cell_type": "markdown",
   "metadata": {},
   "source": [
    "# PYTHON PROGRAMMING FUNDAMENTALS\n"
   ]
  },
  {
   "cell_type": "markdown",
   "metadata": {},
   "source": [
    "# LIST COMPREHENSION \n",
    "- List comprehension is an elegant tool to transform one list into another list. \n",
    "- Instead of using loops and append, list comprehensions are used to iterate over a list, condition its elements and include them in a new list."
   ]
  },
  {
   "cell_type": "code",
   "execution_count": null,
   "metadata": {},
   "outputs": [],
   "source": []
  },
  {
   "cell_type": "code",
   "execution_count": null,
   "metadata": {},
   "outputs": [],
   "source": []
  },
  {
   "cell_type": "code",
   "execution_count": 1,
   "metadata": {},
   "outputs": [
    {
     "name": "stdout",
     "output_type": "stream",
     "text": [
      "Example 1: Using a traditional loop to square numbers:\n",
      "[1, 4, 9, 16]\n",
      "\n",
      "Example 1.1: Using list comprehension to achieve the same:\n",
      "[1, 4, 9, 16]\n",
      "\n",
      "Example 2: Multiplying each element by 10:\n",
      "[10, 20, 30, 40]\n",
      "\n",
      "Example 3: Filtering even numbers from a list:\n",
      "Filtered Even Numbers (using a loop): [2, 4, 6, 8, 10]\n",
      "Filtered Even Numbers (using list comprehension): [2, 4, 6, 8, 10]\n",
      "\n",
      "Example 4: Converting Celsius to Fahrenheit using list comprehension:\n",
      "Temperatures in Fahrenheit: [77.0, 86.0, 104.0, 122.0]\n",
      "\n",
      "Example 5: Extracting digits from a string:\n",
      "Digits in the string: ['3', '0']\n",
      "\n",
      "Bonus Example: Squaring only even numbers:\n",
      "Squared Even Numbers: [4, 16, 36, 64, 100]\n"
     ]
    }
   ],
   "source": [
    "# ===========================================================\n",
    "# PYTHON PROGRAMMING FUNDAMENTALS: LIST COMPREHENSION 🎯\n",
    "# ===========================================================\n",
    "\n",
    "# Introduction:\n",
    "# --------------\n",
    "# List comprehension is an elegant way to create new lists by iterating over an existing sequence.\n",
    "# Instead of using loops and appending, you can use a single line of code to transform or filter elements.\n",
    "# Syntax:\n",
    "#    [expression for item in iterable if condition]\n",
    "# Let's see some examples step-by-step! 🚀\n",
    "\n",
    "# Example 1: Squaring elements in a list\n",
    "print(\"Example 1: Using a traditional loop to square numbers:\")\n",
    "my_list = [1, 2, 3, 4]\n",
    "output_list = []  # Empty list to store results\n",
    "for element in my_list:\n",
    "    output_list.append(element ** 2)  # Square each number and append it\n",
    "print(output_list)  # Output: [1, 4, 9, 16]\n",
    "\n",
    "# Using list comprehension for the same operation\n",
    "print(\"\\nExample 1.1: Using list comprehension to achieve the same:\")\n",
    "output_list = [element ** 2 for element in my_list]  # Squaring in one line\n",
    "print(output_list)  # Output: [1, 4, 9, 16]\n",
    "\n",
    "\n",
    "# Example 2: Multiplying elements by 10\n",
    "print(\"\\nExample 2: Multiplying each element by 10:\")\n",
    "my_list = [1, 2, 3, 4]\n",
    "output_list = [element * 10 for element in my_list]  # Multiply each element by 10\n",
    "print(output_list)  # Output: [10, 20, 30, 40]\n",
    "\n",
    "\n",
    "# Example 3: Filtering even numbers\n",
    "print(\"\\nExample 3: Filtering even numbers from a list:\")\n",
    "my_list = [1, 2, 3, 4, 5, 6, 7, 8, 9, 10]\n",
    "new_list = []  # Using a traditional loop\n",
    "for i in my_list:\n",
    "    if i % 2 == 0:  # Check if the number is even\n",
    "        new_list.append(i)\n",
    "print(\"Filtered Even Numbers (using a loop):\", new_list)  # Output: [2, 4, 6, 8, 10]\n",
    "\n",
    "# Now using list comprehension\n",
    "new_list = [i for i in my_list if i % 2 == 0]  # Add only even numbers\n",
    "print(\"Filtered Even Numbers (using list comprehension):\", new_list)  # Output: [2, 4, 6, 8, 10]\n",
    "\n",
    "\n",
    "# Example 4: Temperature Conversion (Celsius to Fahrenheit)\n",
    "print(\"\\nExample 4: Converting Celsius to Fahrenheit using list comprehension:\")\n",
    "temp_c = [25, 30, 40, 50]  # Temperatures in Celsius\n",
    "temp_f = [(9/5) * i + 32 for i in temp_c]  # Convert each temperature to Fahrenheit\n",
    "print(\"Temperatures in Fahrenheit:\", temp_f)  # Output: [77.0, 86.0, 104.0, 122.0]\n",
    "\n",
    "\n",
    "# Example 5: Extracting numbers from a string\n",
    "print(\"\\nExample 5: Extracting digits from a string:\")\n",
    "my_string = \"I am becoming a Python master in 30 days!\"\n",
    "numbers = [i for i in my_string if i.isdigit()]  # Add only numeric characters to the list\n",
    "print(\"Digits in the string:\", numbers)  # Output: ['3', '0']\n",
    "\n",
    "\n",
    "# --- BONUS --- 🌟\n",
    "# Combine transformation and filtering in a single list comprehension!\n",
    "# Example: Square only the even numbers from a list\n",
    "print(\"\\nBonus Example: Squaring only even numbers:\")\n",
    "squared_evens = [i ** 2 for i in my_list if i % 2 == 0]\n",
    "print(\"Squared Even Numbers:\", squared_evens)  # Output: [4, 16, 36, 64, 100]\n",
    "\n",
    "\n",
    "# --- SUMMARY ---\n",
    "# ---------------\n",
    "# 1️⃣ List comprehension is powerful for transforming and filtering lists concisely.\n",
    "# 2️⃣ Syntax: [expression for item in iterable if condition]\n",
    "# 3️⃣ It can replace traditional loops in many scenarios, improving readability and reducing lines of code.\n",
    "# 4️⃣ Practice combining transformations and filters for complex tasks! 💪"
   ]
  },
  {
   "cell_type": "code",
   "execution_count": null,
   "metadata": {},
   "outputs": [],
   "source": []
  },
  {
   "cell_type": "code",
   "execution_count": null,
   "metadata": {},
   "outputs": [],
   "source": []
  },
  {
   "cell_type": "code",
   "execution_count": null,
   "metadata": {},
   "outputs": [],
   "source": []
  },
  {
   "cell_type": "code",
   "execution_count": null,
   "metadata": {},
   "outputs": [],
   "source": []
  },
  {
   "cell_type": "markdown",
   "metadata": {},
   "source": [
    "# KEEP IT UP! YOU ARE GETTING BETTER AT IT EVERY DAY!"
   ]
  }
 ],
 "metadata": {
  "kernelspec": {
   "display_name": "Python [conda env:base] *",
   "language": "python",
   "name": "conda-base-py"
  },
  "language_info": {
   "codemirror_mode": {
    "name": "ipython",
    "version": 3
   },
   "file_extension": ".py",
   "mimetype": "text/x-python",
   "name": "python",
   "nbconvert_exporter": "python",
   "pygments_lexer": "ipython3",
   "version": "3.12.3"
  }
 },
 "nbformat": 4,
 "nbformat_minor": 4
}
