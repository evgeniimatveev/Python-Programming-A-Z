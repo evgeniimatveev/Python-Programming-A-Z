{
 "cells": [
  {
   "cell_type": "markdown",
   "metadata": {
    "jp-MarkdownHeadingCollapsed": true
   },
   "source": [
    "# <font color='red'> *ABSOLUTE BEGINNER LEVEL* </font> \n",
    "# <font color='red'> STRINGS </font> "
   ]
  },
  {
   "cell_type": "markdown",
   "metadata": {},
   "source": [
    "#  <font color='blue'>1. WHAT WENT WRONG? FIX THE ISSUE AND INDICATE WHAT DOES THIS CODE DO?  </font> "
   ]
  },
  {
   "cell_type": "code",
   "execution_count": 47,
   "metadata": {},
   "outputs": [
    {
     "ename": "NameError",
     "evalue": "name 'Name' is not defined",
     "output_type": "error",
     "traceback": [
      "\u001b[1;31m---------------------------------------------------------------------------\u001b[0m",
      "\u001b[1;31mNameError\u001b[0m                                 Traceback (most recent call last)",
      "Cell \u001b[1;32mIn[47], line 5\u001b[0m\n\u001b[0;32m      2\u001b[0m Age \u001b[38;5;241m=\u001b[39m \u001b[38;5;241m26\u001b[39m\n\u001b[0;32m      3\u001b[0m Full_time_Employee \u001b[38;5;241m=\u001b[39m \u001b[38;5;28;01mTrue\u001b[39;00m\n\u001b[1;32m----> 5\u001b[0m \u001b[38;5;28mprint\u001b[39m(Name, age, full_time_employee)\n",
      "\u001b[1;31mNameError\u001b[0m: name 'Name' is not defined"
     ]
    }
   ],
   "source": [
    "name = \"Mitch\"\n",
    "Age = 26\n",
    "Full_time_Employee = True\n",
    "\n",
    "print(Name, age, full_time_employee)\n"
   ]
  },
  {
   "cell_type": "code",
   "execution_count": 3,
   "metadata": {},
   "outputs": [
    {
     "name": "stdout",
     "output_type": "stream",
     "text": [
      "The largest number in the list is: 77\n",
      "The number 29 is prime.\n",
      "The number 10 is not prime.\n",
      "The number 3 is prime.\n",
      "The number 77 is not prime.\n",
      "The number 23 is prime.\n",
      "The number 18 is not prime.\n"
     ]
    }
   ],
   "source": [
    "# We don't need to import anything for this simple example, but math library could be useful for more complex cases\n",
    "# No import statements are needed for basic functionality like this.\n",
    "\n",
    "# Function to find the maximum number in a list\n",
    "def find_max(numbers):\n",
    "    \"\"\"\n",
    "    This function takes a list of numbers and finds the largest number.\n",
    "    \n",
    "    Args:\n",
    "    numbers -- list of numbers to check\n",
    "    \n",
    "    Returns:\n",
    "    The maximum (largest) number from the list\n",
    "    \"\"\"\n",
    "    # First, check if the list is empty to avoid errors\n",
    "    if len(numbers) == 0:\n",
    "        # If the list is empty, print a message and return None\n",
    "        print(\"The list is empty. Cannot find the maximum value.\")\n",
    "        return None\n",
    "    \n",
    "    # Start by assuming the first number in the list is the largest\n",
    "    max_number = numbers[0]\n",
    "    \n",
    "    # Loop through each number in the list to find the actual largest one\n",
    "    for number in numbers:\n",
    "        if number > max_number:\n",
    "            # If we find a number larger than the current max_number, update max_number\n",
    "            max_number = number\n",
    "    \n",
    "    # After the loop ends, max_number will hold the largest number in the list\n",
    "    return max_number\n",
    "\n",
    "# Function to check if a number is prime\n",
    "def is_prime(number):\n",
    "    \"\"\"\n",
    "    This function checks if a number is a prime number.\n",
    "    \n",
    "    Args:\n",
    "    number -- the number to check\n",
    "    \n",
    "    Returns:\n",
    "    True if the number is prime, False if it is not prime\n",
    "    \"\"\"\n",
    "    # Prime numbers must be greater than 1, so return False if the number is less than or equal to 1\n",
    "    if number <= 1:\n",
    "        return False\n",
    "    \n",
    "    # Now check if the number is divisible by any number other than 1 and itself\n",
    "    # We check numbers from 2 to the square root of the number for efficiency\n",
    "    for i in range(2, int(number ** 0.5) + 1):\n",
    "        if number % i == 0:\n",
    "            # If we find a number that divides evenly, then it is not prime\n",
    "            return False\n",
    "    \n",
    "    # If no divisors were found, then the number is prime\n",
    "    return True\n",
    "\n",
    "# Main part of the program where we use the functions\n",
    "\n",
    "# Example list of numbers to work with\n",
    "numbers = [29, 10, 3, 77, 23, 18]\n",
    "\n",
    "# Step 1: Find the maximum number in the list\n",
    "max_number = find_max(numbers)\n",
    "\n",
    "# Step 2: Print the maximum number if the list was not empty\n",
    "if max_number is not None:\n",
    "    # This line will print the largest number in the list\n",
    "    print(f\"The largest number in the list is: {max_number}\")\n",
    "\n",
    "# Step 3: Check if each number in the list is a prime number\n",
    "for number in numbers:\n",
    "    # Use the is_prime function to check each number\n",
    "    if is_prime(number):\n",
    "        # If the number is prime, print that it is prime\n",
    "        print(f\"The number {number} is prime.\")\n",
    "    else:\n",
    "        # If the number is not prime, print that it is not prime\n",
    "        print(f\"The number {number} is not prime.\")"
   ]
  },
  {
   "cell_type": "markdown",
   "metadata": {},
   "source": [
    "# <font color='blue'> 2. WHAT WENT WRONG? FIX THE ERROR TO GET x-y </font> "
   ]
  },
  {
   "cell_type": "code",
   "execution_count": 10,
   "metadata": {},
   "outputs": [
    {
     "name": "stdout",
     "output_type": "stream",
     "text": [
      "16\n",
      "16\n"
     ]
    }
   ],
   "source": [
    "x = 20\n",
    "y = 4\n",
    "\n",
    "print(x - y)\n",
    "print(int(x) - y)\n"
   ]
  },
  {
   "cell_type": "code",
   "execution_count": 8,
   "metadata": {},
   "outputs": [
    {
     "name": "stdout",
     "output_type": "stream",
     "text": [
      "16\n",
      "16\n"
     ]
    }
   ],
   "source": [
    "# Variable x is a string that contains the number \"20\"\n",
    "# Variable y is an integer with the value 4\n",
    "x = \"20\"\n",
    "y = 4\n",
    "\n",
    "# First, we need to convert x from a string to an integer\n",
    "# We do this using the int() function to ensure x becomes a number\n",
    "# Then, we can safely subtract y from x because both will be integers now\n",
    "print(int(x) - y)  # This converts \"20\" to 20, then subtracts 4, so the result will be 16\n",
    "\n",
    "# Another approach: if you want to ensure x is always treated as a number in your code\n",
    "# you can convert it to an integer before any operations\n",
    "x_as_int = int(x)\n",
    "\n",
    "# Now x_as_int is 20 (as an integer), and we can subtract y (4) from it\n",
    "print(x_as_int - y)  # This also outputs 16"
   ]
  },
  {
   "cell_type": "markdown",
   "metadata": {},
   "source": [
    "# <font color='blue'> 3. WRITE A CODE THAT TAKES AN INPUT FROM A USER, SPLITS IT INTO WORDS AND PRINT THEM ON THE SCREEN </font> "
   ]
  },
  {
   "cell_type": "code",
   "execution_count": 16,
   "metadata": {},
   "outputs": [
    {
     "name": "stdin",
     "output_type": "stream",
     "text": [
      "How's your day going? good man \n"
     ]
    },
    {
     "name": "stdout",
     "output_type": "stream",
     "text": [
      "Here are the list of words you entered: ['good', 'man', '']\n"
     ]
    }
   ],
   "source": [
    "my_string = str(input(\"How's your day going?\"))\n",
    "words = my_string.split(\" \")\n",
    "print(\"Here are the list of words you entered:\", words)"
   ]
  },
  {
   "cell_type": "code",
   "execution_count": 18,
   "metadata": {},
   "outputs": [
    {
     "data": {
      "text/plain": [
       "['good', 'man', '']"
      ]
     },
     "execution_count": 18,
     "metadata": {},
     "output_type": "execute_result"
    }
   ],
   "source": [
    "words"
   ]
  },
  {
   "cell_type": "code",
   "execution_count": null,
   "metadata": {},
   "outputs": [],
   "source": [
    "# Step 1: Take input from the user\n",
    "# The input function captures a string typed by the user in the terminal\n",
    "# We wrap the input function in str() just in case to ensure it's treated as a string\n",
    "my_string = str(input(\"Please enter a sentence: \"))\n",
    "\n",
    "# Step 2: Split the input string into a list of words\n",
    "# The split() function breaks the string into words based on spaces (\" \")\n",
    "# By default, split() splits on spaces, so you can also call split() without any argument\n",
    "words = my_string.split(\" \")\n",
    "\n",
    "# Step 3: Output the list of words\n",
    "# We print the result to the screen\n",
    "print(\"Here are the list of words you entered:\", words)"
   ]
  },
  {
   "cell_type": "code",
   "execution_count": 20,
   "metadata": {},
   "outputs": [
    {
     "data": {
      "text/plain": [
       "['good', 'man', '']"
      ]
     },
     "execution_count": 20,
     "metadata": {},
     "output_type": "execute_result"
    }
   ],
   "source": [
    "words"
   ]
  },
  {
   "cell_type": "code",
   "execution_count": 14,
   "metadata": {},
   "outputs": [
    {
     "name": "stdin",
     "output_type": "stream",
     "text": [
      "Please enter a sentence:   which one\n"
     ]
    },
    {
     "name": "stdout",
     "output_type": "stream",
     "text": [
      "Here are the list of words you entered: ['which', 'one']\n"
     ]
    }
   ],
   "source": [
    "# Step 1: Take input from the user\n",
    "my_string = str(input(\"Please enter a sentence: \"))\n",
    "\n",
    "# Step 2: Check if the input is empty and handle that case\n",
    "if my_string.strip() == \"\":\n",
    "    # If the input is just spaces or empty, print a warning message\n",
    "    print(\"You entered an empty string. Please try again.\")\n",
    "else:\n",
    "    # Step 3: Split the string into words, ignoring extra spaces\n",
    "    # The split() function without an argument automatically handles multiple spaces\n",
    "    words = my_string.split()\n",
    "\n",
    "    # Step 4: Print the list of words entered by the user\n",
    "    print(\"Here are the list of words you entered:\", words)"
   ]
  },
  {
   "cell_type": "code",
   "execution_count": null,
   "metadata": {},
   "outputs": [],
   "source": []
  },
  {
   "cell_type": "markdown",
   "metadata": {},
   "source": [
    "# <font color='blue'> 4. WRITE A CODE THAT TAKES AN INPUT FROM A USER, CONVERT IT TO UPPER CASE AND PRINT THEM ON THE SCREEN </font> "
   ]
  },
  {
   "cell_type": "code",
   "execution_count": 18,
   "metadata": {},
   "outputs": [
    {
     "name": "stdout",
     "output_type": "stream",
     "text": [
      "\n",
      "\n"
     ]
    }
   ],
   "source": [
    "input_str = input()\n",
    "out_str = input_str.upper()\n",
    "print(out_str)"
   ]
  },
  {
   "cell_type": "code",
   "execution_count": 22,
   "metadata": {},
   "outputs": [
    {
     "name": "stdin",
     "output_type": "stream",
     "text": [
      "Please enter a sentence:  kk next time i giess\n"
     ]
    },
    {
     "name": "stdout",
     "output_type": "stream",
     "text": [
      "KK NEXT TIME I GIESS\n"
     ]
    }
   ],
   "source": [
    "# Step 1: Take input from the user\n",
    "# The input() function waits for the user to type something\n",
    "input_str = input(\"Please enter a sentence: \")\n",
    "\n",
    "# Step 2: Convert the string to uppercase\n",
    "# We use the .upper() method to convert the input string to uppercase letters\n",
    "out_str = input_str.upper()\n",
    "\n",
    "# Step 3: Print the result\n",
    "# The print() function outputs the result to the screen\n",
    "print(out_str)"
   ]
  },
  {
   "cell_type": "code",
   "execution_count": 18,
   "metadata": {},
   "outputs": [
    {
     "name": "stdout",
     "output_type": "stream",
     "text": [
      "\n",
      "\n"
     ]
    }
   ],
   "source": []
  },
  {
   "cell_type": "code",
   "execution_count": 24,
   "metadata": {},
   "outputs": [
    {
     "name": "stdin",
     "output_type": "stream",
     "text": [
      "Please enter a sentence:  asdd asd dadadda__man\n"
     ]
    },
    {
     "name": "stdout",
     "output_type": "stream",
     "text": [
      "ASDD ASD DADADDA__MAN\n"
     ]
    }
   ],
   "source": [
    "# Step 1: Take input from the user\n",
    "input_str = input(\"Please enter a sentence: \")\n",
    "\n",
    "# Step 2: Check if the input is empty\n",
    "if input_str.strip() == \"\":\n",
    "    print(\"You entered an empty string. Please try again.\")\n",
    "else:\n",
    "    # Step 3: Convert to uppercase and print\n",
    "    out_str = input_str.upper()\n",
    "    print(out_str)"
   ]
  },
  {
   "cell_type": "code",
   "execution_count": null,
   "metadata": {},
   "outputs": [],
   "source": []
  },
  {
   "cell_type": "code",
   "execution_count": 29,
   "metadata": {},
   "outputs": [
    {
     "name": "stdin",
     "output_type": "stream",
     "text": [
      "Please enter a sentence:  фыв фм\n"
     ]
    },
    {
     "name": "stdout",
     "output_type": "stream",
     "text": [
      "Uppercase version: ФЫВ ФМ\n",
      "Lowercase version: фыв фм\n",
      "Title case version: Фыв Фм\n",
      "Reversed string: мф выф\n",
      "Swap case version: ФЫВ ФМ\n",
      "List of words in your sentence: ['фыв', 'фм']\n",
      "The word 'the' appears 0 times in your sentence.\n"
     ]
    }
   ],
   "source": [
    "# Lecture: Advanced String Manipulation in Python with User Input\n",
    "\n",
    "# Introduction:\n",
    "# This code demonstrates multiple ways to manipulate strings in Python based on user input.\n",
    "# We will cover:\n",
    "# - Taking input from the user\n",
    "# - Converting text to upper case, lower case, and title case\n",
    "# - Reversing strings\n",
    "# - Swapping case of each character\n",
    "# - Handling empty input and multiple spaces\n",
    "# - Printing formatted results\n",
    "\n",
    "# Let's begin!\n",
    "\n",
    "# Step 1: Taking input from the user\n",
    "# The input function captures user input from the keyboard.\n",
    "# We will first ask the user to input a sentence.\n",
    "input_str = input(\"Please enter a sentence: \")\n",
    "\n",
    "# Step 2: Handling empty input\n",
    "# If the user does not type anything or types only spaces, the program should notify them.\n",
    "# We use the strip() method to remove leading/trailing spaces and check if the input is empty.\n",
    "if input_str.strip() == \"\":\n",
    "    # If the input is empty after stripping spaces, print a message and stop the program.\n",
    "    print(\"You entered an empty string. Please try again.\")\n",
    "else:\n",
    "    # If the input is valid, proceed with string manipulations.\n",
    "    \n",
    "    # Step 3: Convert the input string to uppercase\n",
    "    # The upper() method converts all characters in the string to uppercase.\n",
    "    uppercase_str = input_str.upper()\n",
    "    print(\"Uppercase version:\", uppercase_str)\n",
    "\n",
    "    # Step 4: Convert the input string to lowercase\n",
    "    # The lower() method converts all characters in the string to lowercase.\n",
    "    lowercase_str = input_str.lower()\n",
    "    print(\"Lowercase version:\", lowercase_str)\n",
    "\n",
    "    # Step 5: Capitalize each word in the input (Title Case)\n",
    "    # The title() method capitalizes the first letter of every word in the string.\n",
    "    titlecase_str = input_str.title()\n",
    "    print(\"Title case version:\", titlecase_str)\n",
    "\n",
    "    # Step 6: Reverse the input string\n",
    "    # We can reverse the string using slicing [::-1].\n",
    "    reversed_str = input_str[::-1]\n",
    "    print(\"Reversed string:\", reversed_str)\n",
    "\n",
    "    # Step 7: Swap case of each character (upper becomes lower, lower becomes upper)\n",
    "    # The swapcase() method switches the case of each letter.\n",
    "    swapcase_str = input_str.swapcase()\n",
    "    print(\"Swap case version:\", swapcase_str)\n",
    "\n",
    "    # Step 8: Split the input into words and print each word separately\n",
    "    # The split() method splits the string into a list of words based on spaces.\n",
    "    words = input_str.split()  # By default, it splits on any number of spaces\n",
    "    print(\"List of words in your sentence:\", words)\n",
    "\n",
    "    # Step 9: Check if the sentence starts or ends with a certain word\n",
    "    # Let's check if the input starts with \"hello\" (ignoring case) and ends with \"bye\".\n",
    "    # We use the lower() method to make the comparison case-insensitive.\n",
    "    if input_str.lower().startswith(\"hello\"):\n",
    "        print(\"Your sentence starts with 'hello'.\")\n",
    "    if input_str.lower().endswith(\"bye\"):\n",
    "        print(\"Your sentence ends with 'bye'.\")\n",
    "\n",
    "    # Step 10: Count the number of occurrences of a specific word or character\n",
    "    # Let's count how many times the word \"the\" appears in the sentence (case insensitive).\n",
    "    count_the = input_str.lower().count(\"the\")\n",
    "    print(f\"The word 'the' appears {count_the} times in your sentence.\")"
   ]
  },
  {
   "cell_type": "code",
   "execution_count": null,
   "metadata": {},
   "outputs": [],
   "source": []
  },
  {
   "cell_type": "markdown",
   "metadata": {},
   "source": [
    "# <font color='blue'> 5. WRITE A CODE THAT PROMPTS A USER REQUESTING HIS/HER E-MAIL AND THEN EXTRACTS THE USERNAME (NOTE THAT THE EMAIL IS IN FIRSTNAME.LASTNAME@GMAIL.COM </font> "
   ]
  },
  {
   "cell_type": "code",
   "execution_count": 21,
   "metadata": {},
   "outputs": [
    {
     "name": "stdout",
     "output_type": "stream",
     "text": [
      "Enter your e-mail address:ryan.ahmed@gmail.com\n",
      "ryan.ahmed\n"
     ]
    }
   ],
   "source": [
    "input_str = input(\"Enter your e-mail address:\")\n",
    "out_str = input_str.split('@')\n",
    "print(out_str[0])"
   ]
  },
  {
   "cell_type": "markdown",
   "metadata": {},
   "source": [
    "# <font color='blue'> 6. EXPAND ON THE PERVIOUS CODE TO PRINT \"HELLO FIRSTNAME LASTNAME\" </font> \n",
    "\n"
   ]
  },
  {
   "cell_type": "code",
   "execution_count": 24,
   "metadata": {},
   "outputs": [
    {
     "name": "stdout",
     "output_type": "stream",
     "text": [
      "Enter your e-mail address:ryan.ahmed@gmail.com\n",
      "Hello ryan ahmed \n"
     ]
    }
   ],
   "source": [
    "input_str = input(\"Enter your e-mail address:\")\n",
    "out_str = input_str.split('@')\n",
    "\n",
    "out_str_2 = out_str[0].split('.')\n",
    "out_str_2\n",
    "print('Hello {} {} '.format(out_str_2[0], out_str_2[1]))"
   ]
  },
  {
   "cell_type": "code",
   "execution_count": 23,
   "metadata": {},
   "outputs": [
    {
     "data": {
      "text/plain": [
       "['ryan', 'ahmed']"
      ]
     },
     "execution_count": 23,
     "metadata": {},
     "output_type": "execute_result"
    }
   ],
   "source": [
    "out_str_2"
   ]
  },
  {
   "cell_type": "code",
   "execution_count": null,
   "metadata": {},
   "outputs": [],
   "source": []
  },
  {
   "cell_type": "code",
   "execution_count": null,
   "metadata": {},
   "outputs": [],
   "source": []
  },
  {
   "cell_type": "code",
   "execution_count": 32,
   "metadata": {},
   "outputs": [
    {
     "name": "stdin",
     "output_type": "stream",
     "text": [
      "Enter your e-mail address:  tim@gmail.com\n"
     ]
    },
    {
     "name": "stdout",
     "output_type": "stream",
     "text": [
      "Your username is: tim\n",
      "Your email domain is: gmail.com\n"
     ]
    }
   ],
   "source": [
    "# Lecture: Extracting Username from Email Address\n",
    "\n",
    "# Introduction:\n",
    "# This code prompts the user to enter their email address.\n",
    "# It then extracts the username (the part of the email before the '@' symbol).\n",
    "# Additionally, we will add error handling to ensure the input is a valid email format.\n",
    "\n",
    "# Step 1: Take the email input from the user\n",
    "# The input function waits for the user to type their email address.\n",
    "input_str = input(\"Enter your e-mail address: \")\n",
    "\n",
    "# Step 2: Split the email address at the '@' symbol\n",
    "# We use the split() method to separate the email into two parts: username and domain.\n",
    "# The username is everything before '@', and the domain is everything after '@'.\n",
    "email_parts = input_str.split('@')\n",
    "\n",
    "# Step 3: Check if the email format is valid (contains '@')\n",
    "# If the email does not contain an '@' symbol, the split() will return a list with only one element.\n",
    "if len(email_parts) != 2:\n",
    "    # If there are not exactly two parts, the email format is incorrect.\n",
    "    print(\"Invalid email format. Please try again.\")\n",
    "else:\n",
    "    # Step 4: Extract and print the username (part before '@')\n",
    "    username = email_parts[0]\n",
    "    print(\"Your username is:\", username)\n",
    "\n",
    "    # Step 5: Optionally, extract and print the domain (part after '@')\n",
    "    # This can be useful if you need to know the email provider (like gmail.com or yahoo.com)\n",
    "    domain = email_parts[1]\n",
    "    print(\"Your email domain is:\", domain)"
   ]
  },
  {
   "cell_type": "code",
   "execution_count": null,
   "metadata": {},
   "outputs": [],
   "source": []
  },
  {
   "cell_type": "markdown",
   "metadata": {},
   "source": [
    "# <font color='blue'> 7. WRITE A CODE THAT REQUESTS THE FIRST, LAST NAME, AND AGE AND PRINTS\n",
    "    - HELLO \"FIRST NAME\" \"LAST NAME\", YOU ARE NOW \"AGE\", FYI: AGE IS JUST A NUMBER, YOU ARE YOUNGER THAN EVER!  </font> \n",
    "\n"
   ]
  },
  {
   "cell_type": "code",
   "execution_count": 29,
   "metadata": {},
   "outputs": [
    {
     "name": "stdout",
     "output_type": "stream",
     "text": [
      "Enter your first name:ds\n",
      "Enter your last name:sd\n",
      "Enter your ages\n",
      "Hello ds sd, you are s, FYI: Age is just a number, you are younger than ever!\n"
     ]
    }
   ],
   "source": [
    "first = input(\"Enter your first name:\")\n",
    "last = input(\"Enter your last name:\")\n",
    "age = input(\"Enter your age\")\n",
    "\n",
    "print(\"Hello {}, you are {}, FYI: Age is just a number, you are younger than ever!\".format(first + \" \"+ last, age))\n"
   ]
  },
  {
   "cell_type": "code",
   "execution_count": null,
   "metadata": {},
   "outputs": [],
   "source": []
  },
  {
   "cell_type": "code",
   "execution_count": 35,
   "metadata": {},
   "outputs": [
    {
     "name": "stdin",
     "output_type": "stream",
     "text": [
      "Enter your first name:  jay\n",
      "Enter your last name:  mir\n",
      "Enter your age:  36\n"
     ]
    },
    {
     "name": "stdout",
     "output_type": "stream",
     "text": [
      "Hello jay mir, you are 36 years old, FYI: Age is just a number, you are younger than ever!\n"
     ]
    }
   ],
   "source": [
    "# Lecture: Requesting and Printing User's First Name, Last Name, and Age\n",
    "\n",
    "# Introduction:\n",
    "# This code asks the user for their first name, last name, and age.\n",
    "# After receiving the input, it formats and prints a personalized message.\n",
    "# We will also handle cases where the user might input incorrect data types.\n",
    "\n",
    "# Step 1: Request first name from the user\n",
    "first_name = input(\"Enter your first name: \")\n",
    "\n",
    "# Step 2: Request last name from the user\n",
    "last_name = input(\"Enter your last name: \")\n",
    "\n",
    "# Step 3: Request age from the user\n",
    "# We need to ensure that the age is entered as a number.\n",
    "# We use a loop to make sure the input is a valid number (integer).\n",
    "while True:\n",
    "    age = input(\"Enter your age: \")\n",
    "    \n",
    "    # Check if the age is a valid integer\n",
    "    if age.isdigit():\n",
    "        # Convert the string to an integer for future calculations\n",
    "        age = int(age)\n",
    "        break\n",
    "    else:\n",
    "        # If the input is not a number, ask the user again\n",
    "        print(\"Invalid age. Please enter a valid number.\")\n",
    "\n",
    "# Step 4: Print the final message using formatted strings\n",
    "# Here we use f-strings for clearer and more concise formatting.\n",
    "print(f\"Hello {first_name} {last_name}, you are {age} years old, FYI: Age is just a number, you are younger than ever!\")"
   ]
  },
  {
   "cell_type": "code",
   "execution_count": null,
   "metadata": {},
   "outputs": [],
   "source": []
  },
  {
   "cell_type": "markdown",
   "metadata": {},
   "source": [
    "# <font color='blue'> # 8. REPEAT THE PREVIOUS EXERCISE BUT PRTNT THE NAME AND AGE IN A NEW LINE. (RESEARCH HOW TO PRINT IN A NEW LINE)\n",
    "- \\n is used for printing statements in a new line\n",
    "- please read: https://docs.python.org/2/tutorial/introduction.html\n"
   ]
  },
  {
   "cell_type": "code",
   "execution_count": 37,
   "metadata": {},
   "outputs": [
    {
     "name": "stdin",
     "output_type": "stream",
     "text": [
      "Enter your first name: kan\n",
      "Enter your last name: lee\n",
      "Enter your age 22\n"
     ]
    },
    {
     "name": "stdout",
     "output_type": "stream",
     "text": [
      "Hello kan lee\n",
      "You are 22\n",
      "FYI: Age is just a number, you are younger than ever!\n"
     ]
    }
   ],
   "source": [
    "first = input(\"Enter your first name:\")\n",
    "last = input(\"Enter your last name:\")\n",
    "age = input(\"Enter your age\")\n",
    "\n",
    "print(\"Hello {}\\nYou are {}\\nFYI: Age is just a number, you are younger than ever!\".format(first + \" \"+ last, age))\n",
    "\n"
   ]
  },
  {
   "cell_type": "code",
   "execution_count": 31,
   "metadata": {},
   "outputs": [
    {
     "name": "stdout",
     "output_type": "stream",
     "text": [
      "first name: {} \n",
      " last name: {}\n"
     ]
    }
   ],
   "source": [
    "print(\"first name: {} \\n last name: {}\".format)\n"
   ]
  },
  {
   "cell_type": "code",
   "execution_count": 39,
   "metadata": {},
   "outputs": [
    {
     "name": "stdin",
     "output_type": "stream",
     "text": [
      "Enter your first name:  mn\n",
      "Enter your last name:  yi\n",
      "Enter your age:  44\n"
     ]
    },
    {
     "name": "stdout",
     "output_type": "stream",
     "text": [
      "Hello mn yi,\n",
      "You are 44 years old.\n",
      "FYI: Age is just a number, you are younger than ever!\n"
     ]
    }
   ],
   "source": [
    "# Lecture: Printing name and age on new lines\n",
    "\n",
    "# Introduction:\n",
    "# This code asks the user for their first name, last name, and age.\n",
    "# It then prints the name and age on different lines using the newline character '\\n'.\n",
    "# We will handle incorrect inputs for age and ensure proper formatting.\n",
    "\n",
    "# Step 1: Request first name from the user\n",
    "first_name = input(\"Enter your first name: \")\n",
    "\n",
    "# Step 2: Request last name from the user\n",
    "last_name = input(\"Enter your last name: \")\n",
    "\n",
    "# Step 3: Request age from the user, ensuring the input is a valid number\n",
    "while True:\n",
    "    age = input(\"Enter your age: \")\n",
    "    if age.isdigit():  # Check if the input is a valid number\n",
    "        age = int(age)  # Convert age to integer for further use\n",
    "        break\n",
    "    else:\n",
    "        print(\"Invalid age. Please enter a number.\")\n",
    "\n",
    "# Step 4: Print the name and age on new lines\n",
    "# Using \\n to move content to a new line\n",
    "print(f\"Hello {first_name} {last_name},\\nYou are {age} years old.\\nFYI: Age is just a number, you are younger than ever!\")"
   ]
  },
  {
   "cell_type": "markdown",
   "metadata": {},
   "source": [
    "# <font color='blue'> # 9. WRITE A CODE THAT TAKES THE USER E-MAIL AND COUNTS THE NUMBER OF USERNAME CHARACTERS\n",
    "    - please research len() that can be used to obtain the number of charachters in a string \n"
   ]
  },
  {
   "cell_type": "code",
   "execution_count": 39,
   "metadata": {},
   "outputs": [
    {
     "name": "stdout",
     "output_type": "stream",
     "text": [
      "Enter your e-mail address:ryan.ahmed@gmail.com\n",
      "There are 10 characters in your username\n"
     ]
    }
   ],
   "source": [
    "input_str = input(\"Enter your e-mail address:\")\n",
    "out_str = input_str.split('@')\n",
    "\n",
    "print('There are {} characters in your username'.format(len(out_str[0])))"
   ]
  },
  {
   "cell_type": "code",
   "execution_count": null,
   "metadata": {},
   "outputs": [],
   "source": []
  },
  {
   "cell_type": "code",
   "execution_count": null,
   "metadata": {},
   "outputs": [],
   "source": []
  },
  {
   "cell_type": "code",
   "execution_count": 42,
   "metadata": {},
   "outputs": [
    {
     "name": "stdin",
     "output_type": "stream",
     "text": [
      "Enter your e-mail address:  tim883@mail.ru\n"
     ]
    },
    {
     "name": "stdout",
     "output_type": "stream",
     "text": [
      "There are 6 characters in your username.\n"
     ]
    }
   ],
   "source": [
    "# Lecture: Counting the number of characters in the username part of an email\n",
    "\n",
    "# Introduction:\n",
    "# This code asks the user for their email address and counts the number of characters\n",
    "# in the username (the part before the '@' symbol).\n",
    "# We will also handle cases where the input is not a valid email format.\n",
    "\n",
    "# Step 1: Request the email address from the user\n",
    "email_input = input(\"Enter your e-mail address: \")\n",
    "\n",
    "# Step 2: Split the email into username and domain\n",
    "# We will split the email at the '@' symbol.\n",
    "# The first part (before '@') is the username, and the second part is the domain.\n",
    "email_parts = email_input.split('@')\n",
    "\n",
    "# Step 3: Check if the email format is valid (contains exactly one '@' symbol)\n",
    "if len(email_parts) != 2:\n",
    "    print(\"Invalid email format. Please enter a valid e-mail address.\")\n",
    "else:\n",
    "    # Step 4: Extract the username (part before '@') and count the characters\n",
    "    username = email_parts[0]\n",
    "    \n",
    "    # Step 5: Use the len() function to count the number of characters in the username\n",
    "    username_length = len(username)\n",
    "    \n",
    "    # Step 6: Print the number of characters in the username\n",
    "    print(f\"There are {username_length} characters in your username.\")"
   ]
  },
  {
   "cell_type": "code",
   "execution_count": null,
   "metadata": {},
   "outputs": [],
   "source": []
  },
  {
   "cell_type": "markdown",
   "metadata": {},
   "source": [
    "# <font color='blue'> # 10. WRITE A CODE THAT EXTRACTS THE WORD HELLO FROM \"HELLO WORLD\" IN TWO DIFFERENT WAYS\n",
    "    - please research string slicing: https://www.pythonlearn.com/html-008/cfbook007.html\n"
   ]
  },
  {
   "cell_type": "code",
   "execution_count": 43,
   "metadata": {},
   "outputs": [
    {
     "name": "stdout",
     "output_type": "stream",
     "text": [
      "Hello\n"
     ]
    }
   ],
   "source": [
    "my_string = 'Hello world'\n",
    "out_string = my_string.split()\n",
    "print(out_string[0])"
   ]
  },
  {
   "cell_type": "code",
   "execution_count": 44,
   "metadata": {},
   "outputs": [
    {
     "name": "stdout",
     "output_type": "stream",
     "text": [
      "Hello\n"
     ]
    }
   ],
   "source": [
    "print(my_string[0:5])\n"
   ]
  },
  {
   "cell_type": "code",
   "execution_count": null,
   "metadata": {},
   "outputs": [],
   "source": []
  },
  {
   "cell_type": "code",
   "execution_count": null,
   "metadata": {},
   "outputs": [],
   "source": []
  },
  {
   "cell_type": "code",
   "execution_count": 45,
   "metadata": {},
   "outputs": [
    {
     "name": "stdout",
     "output_type": "stream",
     "text": [
      "Hello\n",
      "Hello\n"
     ]
    }
   ],
   "source": [
    "# Lecture: Extracting the word \"Hello\" from \"Hello world\" in two different ways\n",
    "\n",
    "# Introduction:\n",
    "# This code demonstrates two different methods for extracting the word \"Hello\" from the string \"Hello world\".\n",
    "# Method 1: Using the split() method\n",
    "# Method 2: Using string slicing (slicing a part of the string by index)\n",
    "\n",
    "# Step 1: Define the string \"Hello world\"\n",
    "my_string = 'Hello world'\n",
    "\n",
    "# Method 1: Using split() to separate the string by spaces and extract the first word\n",
    "# The split() method divides the string into a list of words, and we extract the first element\n",
    "out_string = my_string.split()  # Split by spaces by default\n",
    "print(out_string[0])  # Extract and print the first word (\"Hello\")\n",
    "\n",
    "# Method 2: Using slicing to extract the first 5 characters (index 0 to 4)\n",
    "# Slicing allows us to select a range of characters from the string\n",
    "print(my_string[0:5])  # This prints the first 5 characters (\"Hello\")"
   ]
  },
  {
   "cell_type": "code",
   "execution_count": null,
   "metadata": {},
   "outputs": [],
   "source": []
  },
  {
   "cell_type": "markdown",
   "metadata": {},
   "source": [
    "# NOW YOU KNOW HOW STRINGS WORK, KEEP IT UP!"
   ]
  }
 ],
 "metadata": {
  "kernelspec": {
   "display_name": "Python 3 (ipykernel)",
   "language": "python",
   "name": "python3"
  },
  "language_info": {
   "codemirror_mode": {
    "name": "ipython",
    "version": 3
   },
   "file_extension": ".py",
   "mimetype": "text/x-python",
   "name": "python",
   "nbconvert_exporter": "python",
   "pygments_lexer": "ipython3",
   "version": "3.12.3"
  }
 },
 "nbformat": 4,
 "nbformat_minor": 4
}
