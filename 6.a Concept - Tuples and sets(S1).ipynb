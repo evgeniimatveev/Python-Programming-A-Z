{
 "cells": [
  {
   "cell_type": "markdown",
   "metadata": {},
   "source": [
    "# PYTHON PROGRAMMING FUNDAMENTALS\n",
    "# TUPLES AND SETS"
   ]
  },
  {
   "cell_type": "markdown",
   "metadata": {},
   "source": [
    "# TUPLES \n",
    "A tuple is a sequence of immutable Python objects. Tuples are sequences, just like lists. The differences between tuples and lists are, the tuples cannot be changed unlike lists and tuples use parentheses, whereas lists use square brackets."
   ]
  },
  {
   "cell_type": "code",
   "execution_count": 82,
   "metadata": {},
   "outputs": [
    {
     "data": {
      "text/plain": [
       "tuple"
      ]
     },
     "execution_count": 82,
     "metadata": {},
     "output_type": "execute_result"
    }
   ],
   "source": [
    "tuple_1 = ('Mitch', 'Sandy', 10, 15, 1992);\n",
    "tuple_2 = (4, 5, 9, 2);\n",
    "type(tuple_1)\n"
   ]
  },
  {
   "cell_type": "code",
   "execution_count": 83,
   "metadata": {},
   "outputs": [
    {
     "data": {
      "text/plain": [
       "('Mitch', 'Sandy', 10, 15, 1992)"
      ]
     },
     "execution_count": 83,
     "metadata": {},
     "output_type": "execute_result"
    }
   ],
   "source": [
    "tuple_1\n"
   ]
  },
  {
   "cell_type": "code",
   "execution_count": 85,
   "metadata": {},
   "outputs": [
    {
     "data": {
      "text/plain": [
       "'Sandy'"
      ]
     },
     "execution_count": 85,
     "metadata": {},
     "output_type": "execute_result"
    }
   ],
   "source": [
    "# Accessing elements in a tuple\n",
    "tuple_1[1]\n"
   ]
  },
  {
   "cell_type": "code",
   "execution_count": 86,
   "metadata": {},
   "outputs": [
    {
     "data": {
      "text/plain": [
       "('Sandy', 10)"
      ]
     },
     "execution_count": 86,
     "metadata": {},
     "output_type": "execute_result"
    }
   ],
   "source": [
    "tuple_1[1:3]"
   ]
  },
  {
   "cell_type": "code",
   "execution_count": 87,
   "metadata": {},
   "outputs": [
    {
     "ename": "TypeError",
     "evalue": "'tuple' object does not support item assignment",
     "output_type": "error",
     "traceback": [
      "\u001b[1;31m---------------------------------------------------------------------------\u001b[0m",
      "\u001b[1;31mTypeError\u001b[0m                                 Traceback (most recent call last)",
      "\u001b[1;32m<ipython-input-87-3b8c70321b8f>\u001b[0m in \u001b[0;36m<module>\u001b[1;34m()\u001b[0m\n\u001b[1;32m----> 1\u001b[1;33m \u001b[0mtuple_1\u001b[0m\u001b[1;33m[\u001b[0m\u001b[1;36m1\u001b[0m\u001b[1;33m]\u001b[0m \u001b[1;33m=\u001b[0m \u001b[1;36m0\u001b[0m\u001b[1;33m\u001b[0m\u001b[0m\n\u001b[0m",
      "\u001b[1;31mTypeError\u001b[0m: 'tuple' object does not support item assignment"
     ]
    }
   ],
   "source": [
    "tuple_1[1] = 0"
   ]
  },
  {
   "cell_type": "code",
   "execution_count": 88,
   "metadata": {},
   "outputs": [
    {
     "data": {
      "text/plain": [
       "('Mitch', 'Sandy', 10, 15, 1992, 4, 5, 9, 2)"
      ]
     },
     "execution_count": 88,
     "metadata": {},
     "output_type": "execute_result"
    }
   ],
   "source": [
    "# Create a New Tuple from existing Tuples\n",
    "tuple_3 = tuple_1 + tuple_2\n",
    "tuple_3"
   ]
  },
  {
   "cell_type": "markdown",
   "metadata": {},
   "source": [
    "# SETS\n",
    "- A set is an unordered collection of items. Every element is unique (no duplicates).\n",
    "- A set is created by placing all the items (elements) inside curly braces {}, separated by comma or by using the built-in function set()."
   ]
  },
  {
   "cell_type": "code",
   "execution_count": 89,
   "metadata": {},
   "outputs": [
    {
     "name": "stdout",
     "output_type": "stream",
     "text": [
      "{1, 2, 3}\n"
     ]
    }
   ],
   "source": [
    "# set of integers\n",
    "my_set = {1, 2, 3}\n",
    "print(my_set)\n"
   ]
  },
  {
   "cell_type": "code",
   "execution_count": 90,
   "metadata": {},
   "outputs": [
    {
     "name": "stdout",
     "output_type": "stream",
     "text": [
      "{1, 2, 3, 4}\n"
     ]
    }
   ],
   "source": [
    "# set do not have duplicates\n",
    "my_set = {1,2,3,4,3,2}\n",
    "print(my_set)"
   ]
  },
  {
   "cell_type": "code",
   "execution_count": 91,
   "metadata": {},
   "outputs": [
    {
     "name": "stdout",
     "output_type": "stream",
     "text": [
      "{1, 2, 3}\n"
     ]
    }
   ],
   "source": [
    "my_list = [1,2,3,2]\n",
    "my_set = set(my_list)\n",
    "print(my_set)"
   ]
  },
  {
   "cell_type": "code",
   "execution_count": null,
   "metadata": {},
   "outputs": [],
   "source": []
  },
  {
   "cell_type": "code",
   "execution_count": null,
   "metadata": {},
   "outputs": [],
   "source": []
  },
  {
   "cell_type": "code",
   "execution_count": 3,
   "metadata": {},
   "outputs": [
    {
     "name": "stdout",
     "output_type": "stream",
     "text": [
      "📋 My tuple:\n",
      "('chanel', 'daisy', 18, 1995)\n",
      "\n",
      "🔍 Access the first element:\n",
      "chanel\n",
      "\n",
      "🔍 Access the last element:\n",
      "1995\n",
      "\n",
      "🚨 Error when trying to modify a tuple element:\n",
      "'tuple' object does not support item assignment\n",
      "\n",
      "📋 New tuple after concatenation:\n",
      "('chanel', 'daisy', 18, 1995, 'extra', 42)\n",
      "\n",
      "✂️ Sliced portion of the tuple:\n",
      "('daisy', 18)\n",
      "\n",
      "🧳 Unpacked tuple values:\n",
      "Name 1: chanel\n",
      "Name 2: daisy\n",
      "Age: 18\n",
      "Year: 1995\n",
      "\n",
      "📚 Nested tuple:\n",
      "(('chanel', 'daisy', 18, 1995), ('nested', 'tuple'))\n"
     ]
    }
   ],
   "source": [
    "# Step 1️⃣: Creating a tuple 📦\n",
    "# Tuples can hold elements of different types\n",
    "my_tuple = (\"chanel\", \"daisy\", 18, 1995)\n",
    "\n",
    "print(\"📋 My tuple:\")\n",
    "print(my_tuple)  # Output: ('chanel', 'daisy', 18, 1995)\n",
    "\n",
    "# Step 2️⃣: Accessing tuple elements using indexing 🔢\n",
    "print(\"\\n🔍 Access the first element:\")\n",
    "print(my_tuple[0])  # Output: 'chanel'\n",
    "\n",
    "print(\"\\n🔍 Access the last element:\")\n",
    "print(my_tuple[-1])  # Output: 1995\n",
    "\n",
    "# Step 3️⃣: Attempting to modify a tuple 🚫\n",
    "# Tuples are immutable, so you cannot change their elements\n",
    "try:\n",
    "    my_tuple[1] = \"rose\"  # This will raise an error\n",
    "except TypeError as e:\n",
    "    print(\"\\n🚨 Error when trying to modify a tuple element:\")\n",
    "    print(e)\n",
    "\n",
    "# Step 4️⃣: Concatenating tuples ➕\n",
    "# You can create a new tuple by combining existing ones\n",
    "new_tuple = my_tuple + (\"extra\", 42)\n",
    "print(\"\\n📋 New tuple after concatenation:\")\n",
    "print(new_tuple)  # Output: ('chanel', 'daisy', 18, 1995, 'extra', 42)\n",
    "\n",
    "# Step 5️⃣: Slicing a tuple ✂️\n",
    "# Extract a portion of the tuple using slicing\n",
    "sliced_tuple = my_tuple[1:3]\n",
    "print(\"\\n✂️ Sliced portion of the tuple:\")\n",
    "print(sliced_tuple)  # Output: ('daisy', 18)\n",
    "\n",
    "# Step 6️⃣: Tuple unpacking 🧳\n",
    "# Assign tuple elements to individual variables\n",
    "(name1, name2, age, year) = my_tuple\n",
    "print(\"\\n🧳 Unpacked tuple values:\")\n",
    "print(\"Name 1:\", name1)  # Output: 'chanel'\n",
    "print(\"Name 2:\", name2)  # Output: 'daisy'\n",
    "print(\"Age:\", age)       # Output: 18\n",
    "print(\"Year:\", year)     # Output: 1995\n",
    "\n",
    "# Step 7️⃣: Nested tuples 📚\n",
    "# Tuples can contain other tuples\n",
    "nested_tuple = (my_tuple, (\"nested\", \"tuple\"))\n",
    "print(\"\\n📚 Nested tuple:\")\n",
    "print(nested_tuple)  # Output: (('chanel', 'daisy', 18, 1995), ('nested', 'tuple'))"
   ]
  },
  {
   "cell_type": "code",
   "execution_count": null,
   "metadata": {},
   "outputs": [],
   "source": []
  },
  {
   "cell_type": "code",
   "execution_count": null,
   "metadata": {},
   "outputs": [],
   "source": []
  },
  {
   "cell_type": "markdown",
   "metadata": {},
   "source": [
    "# YOU ARE GETTING CLOSER TO MASTERING PYTHON! KEEP IT UP!"
   ]
  }
 ],
 "metadata": {
  "kernelspec": {
   "display_name": "Python [conda env:base] *",
   "language": "python",
   "name": "conda-base-py"
  },
  "language_info": {
   "codemirror_mode": {
    "name": "ipython",
    "version": 3
   },
   "file_extension": ".py",
   "mimetype": "text/x-python",
   "name": "python",
   "nbconvert_exporter": "python",
   "pygments_lexer": "ipython3",
   "version": "3.12.3"
  }
 },
 "nbformat": 4,
 "nbformat_minor": 4
}
