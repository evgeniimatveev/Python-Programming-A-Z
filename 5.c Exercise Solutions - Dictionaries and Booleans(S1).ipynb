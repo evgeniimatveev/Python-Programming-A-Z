{
 "cells": [
  {
   "cell_type": "markdown",
   "metadata": {},
   "source": [
    "# <font color='red'> *ABSOLUTE BEGINNER LEVEL* </font> \n",
    "# <font color='red'> DICTIONARIES </font> "
   ]
  },
  {
   "cell_type": "markdown",
   "metadata": {},
   "source": [
    "# <font color='blue'> 1. CREATE A DICTIONARY WITH 3 OF YOUR FAVOURITE FRIENDS AND THEIR RESPECTIVE AGE AND PRINT OUT THE AGE OF SECOND NAME YOU CHOOSE</font> "
   ]
  },
  {
   "cell_type": "code",
   "execution_count": 2,
   "metadata": {},
   "outputs": [
    {
     "name": "stdout",
     "output_type": "stream",
     "text": [
      "22\n"
     ]
    }
   ],
   "source": [
    "my_friends = {\"laila\": 25, \n",
    "              \"sally\": 22,\n",
    "              \"rob\": 31}\n",
    "my_friends\n",
    "print(my_friends[\"sally\"])"
   ]
  },
  {
   "cell_type": "code",
   "execution_count": null,
   "metadata": {},
   "outputs": [],
   "source": []
  },
  {
   "cell_type": "code",
   "execution_count": 2,
   "metadata": {},
   "outputs": [
    {
     "name": "stdout",
     "output_type": "stream",
     "text": [
      "📋 My friends and their ages:\n",
      "{'laila': 25, 'sally': 22, 'rob': 31}\n",
      "\n",
      "🔍 The age of sally is:\n",
      "22\n"
     ]
    }
   ],
   "source": [
    "# Step 1️⃣: Create a dictionary with friends and their respective ages\n",
    "# The dictionary stores the name of each friend as the key and their age as the value\n",
    "my_friends = {\n",
    "    \"laila\": 25,  # Name: laila, Age: 25\n",
    "    \"sally\": 22,  # Name: sally, Age: 22\n",
    "    \"rob\": 31     # Name: rob, Age: 31\n",
    "}\n",
    "\n",
    "# Step 2️⃣: Print the entire dictionary 🗂️\n",
    "print(\"📋 My friends and their ages:\")\n",
    "print(my_friends)\n",
    "# Output: {'laila': 25, 'sally': 22, 'rob': 31}\n",
    "\n",
    "# Step 3️⃣: Access and print the age of the second friend 🔑\n",
    "# Here, \"sally\" is the second friend\n",
    "print(\"\\n🔍 The age of sally is:\")\n",
    "print(my_friends[\"sally\"])  # Access the value associated with the key 'sally'\n",
    "# Output: 22"
   ]
  },
  {
   "cell_type": "code",
   "execution_count": null,
   "metadata": {},
   "outputs": [],
   "source": []
  },
  {
   "cell_type": "markdown",
   "metadata": {},
   "source": [
    "# <font color='blue'> 2. CREATE A DICTIONARY WITH 3 OF YOUR FAVOURITE FRIENDS AND THEIR RESPECTIVE HOURLY WAGE AND OBTAIN THE AVERAGE OF ALL THEIR SALARIES </font> "
   ]
  },
  {
   "cell_type": "code",
   "execution_count": 3,
   "metadata": {},
   "outputs": [
    {
     "name": "stdout",
     "output_type": "stream",
     "text": [
      "{'laila': 25, 'sally': 22, 'rob': 31}\n",
      "26.0\n"
     ]
    }
   ],
   "source": [
    "my_friends = {\"laila\": 25, \n",
    "              \"sally\": 22,\n",
    "              \"rob\": 31}\n",
    "print(my_friends)\n",
    "print((my_friends[\"laila\"] + my_friends[\"sally\"] + my_friends[\"rob\"])/3 )"
   ]
  },
  {
   "cell_type": "code",
   "execution_count": null,
   "metadata": {},
   "outputs": [],
   "source": []
  },
  {
   "cell_type": "code",
   "execution_count": null,
   "metadata": {},
   "outputs": [],
   "source": []
  },
  {
   "cell_type": "code",
   "execution_count": 5,
   "metadata": {},
   "outputs": [
    {
     "name": "stdout",
     "output_type": "stream",
     "text": [
      "📋 Hourly wages of my friends:\n",
      "{'laila': 25, 'sally': 22, 'rob': 31}\n",
      "\n",
      "📊 Average hourly wage:\n",
      "26.0\n",
      "\n",
      "🆕 Updated dictionary after adding Mike:\n",
      "{'laila': 25, 'sally': 22, 'rob': 31, 'mike': 28}\n",
      "\n",
      "📊 New average wage after adding Mike:\n",
      "26.5\n",
      "\n",
      "💰 Highest and lowest wages:\n",
      "Highest earner: rob with $31/hour\n",
      "Lowest earner: sally with $22/hour\n",
      "\n",
      "📋 Friends sorted by hourly wage (ascending):\n",
      "{'sally': 22, 'laila': 25, 'mike': 28, 'rob': 31}\n",
      "\n",
      "🔍 Friends earning more than $25/hour:\n",
      "{'rob': 31, 'mike': 28}\n"
     ]
    }
   ],
   "source": [
    "# Step 1️⃣: Create a dictionary of hourly wages\n",
    "my_friends = {\n",
    "    \"laila\": 25,\n",
    "    \"sally\": 22,\n",
    "    \"rob\": 31\n",
    "}\n",
    "print(\"📋 Hourly wages of my friends:\")\n",
    "print(my_friends)\n",
    "\n",
    "# Step 2️⃣: Calculate the average wage\n",
    "average_wage = sum(my_friends.values()) / len(my_friends)\n",
    "print(\"\\n📊 Average hourly wage:\")\n",
    "print(round(average_wage, 2))\n",
    "\n",
    "# Step 3️⃣: Add a new friend and recalculate\n",
    "my_friends[\"mike\"] = 28\n",
    "print(\"\\n🆕 Updated dictionary after adding Mike:\")\n",
    "print(my_friends)\n",
    "new_average_wage = sum(my_friends.values()) / len(my_friends)\n",
    "print(\"\\n📊 New average wage after adding Mike:\")\n",
    "print(round(new_average_wage, 2))\n",
    "\n",
    "# Step 4️⃣: Find the highest and lowest earners\n",
    "highest_earner = max(my_friends, key=my_friends.get)\n",
    "lowest_earner = min(my_friends, key=my_friends.get)\n",
    "print(\"\\n💰 Highest and lowest wages:\")\n",
    "print(f\"Highest earner: {highest_earner} with ${my_friends[highest_earner]}/hour\")\n",
    "print(f\"Lowest earner: {lowest_earner} with ${my_friends[lowest_earner]}/hour\")\n",
    "\n",
    "# Step 5️⃣: Sort friends by their hourly wage\n",
    "sorted_friends = dict(sorted(my_friends.items(), key=lambda item: item[1]))\n",
    "print(\"\\n📋 Friends sorted by hourly wage (ascending):\")\n",
    "print(sorted_friends)\n",
    "\n",
    "# Step 6️⃣: Find friends earning more than $25/hour\n",
    "high_earners = {name: wage for name, wage in my_friends.items() if wage > 25}\n",
    "print(\"\\n🔍 Friends earning more than $25/hour:\")\n",
    "print(high_earners)"
   ]
  },
  {
   "cell_type": "code",
   "execution_count": null,
   "metadata": {},
   "outputs": [],
   "source": []
  },
  {
   "cell_type": "code",
   "execution_count": null,
   "metadata": {},
   "outputs": [],
   "source": []
  },
  {
   "cell_type": "markdown",
   "metadata": {},
   "source": [
    "# <font color='blue'> 3. UPDATE THE PREVIOUS DICTIONARY WITH TWO OF YOUR NEXT FAVOURITE FRIENDS AND THEIR RESPECTIVE SALARIES AND OBTAIN THE AVERAGE OF ALL THEIR SALARIES </font> "
   ]
  },
  {
   "cell_type": "code",
   "execution_count": 88,
   "metadata": {},
   "outputs": [
    {
     "name": "stdout",
     "output_type": "stream",
     "text": [
      "{'laila': 25, 'sally': 22, 'rob': 31, 'Mary': 22, 'Peter': 25}\n",
      "25.0\n"
     ]
    }
   ],
   "source": [
    "\n",
    "my_friends = {\"laila\": 25, \n",
    "              \"sally\": 22,\n",
    "              \"rob\": 31}\n",
    "\n",
    "my_friends [\"Mary\"] = 22\n",
    "my_friends [\"Peter\"] = 25\n",
    "\n",
    "\n",
    "print(my_friends)\n",
    "print( (my_friends[\"laila\"] + my_friends[\"sally\"] + my_friends[\"rob\"] + my_friends[\"Mary\"] + my_friends[\"Peter\"])/5)\n"
   ]
  },
  {
   "cell_type": "code",
   "execution_count": null,
   "metadata": {},
   "outputs": [],
   "source": [
    "print(sum(my_friends.values())/5)\n"
   ]
  },
  {
   "cell_type": "code",
   "execution_count": null,
   "metadata": {},
   "outputs": [],
   "source": []
  },
  {
   "cell_type": "code",
   "execution_count": 8,
   "metadata": {},
   "outputs": [
    {
     "name": "stdout",
     "output_type": "stream",
     "text": [
      "📋 Original dictionary with friends' salaries:\n",
      "{'laila': 25, 'sally': 22, 'rob': 31}\n",
      "\n",
      "🆕 Updated dictionary after adding new friends:\n",
      "{'laila': 25, 'sally': 22, 'rob': 31, 'Mary': 22, 'Peter': 25}\n",
      "\n",
      "📊 Average salary of friends:\n",
      "25.0\n"
     ]
    }
   ],
   "source": [
    "# Step 1️⃣: Create a dictionary with friends and their salaries 💵\n",
    "# The dictionary stores the friend's name as the key and their salary as the value\n",
    "my_friends = {\n",
    "    \"laila\": 25,  # Laila earns $25\n",
    "    \"sally\": 22,  # Sally earns $22\n",
    "    \"rob\": 31     # Rob earns $31\n",
    "}\n",
    "\n",
    "# Display the original dictionary\n",
    "print(\"📋 Original dictionary with friends' salaries:\")\n",
    "print(my_friends)\n",
    "# Output: {'laila': 25, 'sally': 22, 'rob': 31}\n",
    "\n",
    "# Step 2️⃣: Update the dictionary with two more friends 🆕\n",
    "# Add a new friend Mary with a salary of $22\n",
    "my_friends[\"Mary\"] = 22\n",
    "\n",
    "# Add another friend Peter with a salary of $25\n",
    "my_friends[\"Peter\"] = 25\n",
    "\n",
    "# Display the updated dictionary\n",
    "print(\"\\n🆕 Updated dictionary after adding new friends:\")\n",
    "print(my_friends)\n",
    "# Output: {'laila': 25, 'sally': 22, 'rob': 31, 'Mary': 22, 'Peter': 25}\n",
    "\n",
    "# Step 3️⃣: Calculate the average salary 🧮\n",
    "# Use the sum() function to calculate the total of all salaries, \n",
    "# and divide by the total number of friends (len(my_friends))\n",
    "average_salary = sum(my_friends.values()) / len(my_friends)\n",
    "\n",
    "# Display the average salary\n",
    "print(\"\\n📊 Average salary of friends:\")\n",
    "print(round(average_salary, 2))  # Round the result to 2 decimal places\n",
    "# Output: 25.0"
   ]
  },
  {
   "cell_type": "code",
   "execution_count": null,
   "metadata": {},
   "outputs": [],
   "source": []
  },
  {
   "cell_type": "code",
   "execution_count": null,
   "metadata": {},
   "outputs": [],
   "source": []
  },
  {
   "cell_type": "markdown",
   "metadata": {},
   "source": [
    "# <font color='blue'> 4. WRITE A CODE THAT MULTIPLIES ALL THE ELEMENTS IN THE FOLLOWING DICTIONARY"
   ]
  },
  {
   "cell_type": "code",
   "execution_count": 10,
   "metadata": {},
   "outputs": [
    {
     "name": "stdout",
     "output_type": "stream",
     "text": [
      "-1500000\n"
     ]
    }
   ],
   "source": [
    "my_dict = {'data1':500,\n",
    "           'data2':-10,\n",
    "           'data3':300}\n",
    "\n",
    "total = 1\n",
    "    \n",
    "total = total * my_dict['data1']\n",
    "total = total * my_dict['data2']\n",
    "total = total * my_dict['data3']\n",
    "\n",
    "print(total)"
   ]
  },
  {
   "cell_type": "code",
   "execution_count": null,
   "metadata": {},
   "outputs": [],
   "source": []
  },
  {
   "cell_type": "code",
   "execution_count": null,
   "metadata": {},
   "outputs": [],
   "source": []
  },
  {
   "cell_type": "code",
   "execution_count": 11,
   "metadata": {},
   "outputs": [
    {
     "name": "stdout",
     "output_type": "stream",
     "text": [
      "📊 The product of all elements in the dictionary is:\n",
      "-1500000\n"
     ]
    }
   ],
   "source": [
    "# Step 1️⃣: Create a dictionary with numeric values 🗂️\n",
    "# Keys represent labels, and values are the numbers we want to multiply\n",
    "my_dict = {\n",
    "    \"data1\": 500,\n",
    "    \"data2\": -10,\n",
    "    \"data3\": 300\n",
    "}\n",
    "\n",
    "# Step 2️⃣: Initialize a variable to store the result\n",
    "# Start with 1 because multiplying by 1 doesn't affect the result\n",
    "total = 1\n",
    "\n",
    "# Step 3️⃣: Multiply all the values in the dictionary 🔄\n",
    "# Iterate through all the values in the dictionary\n",
    "for value in my_dict.values():\n",
    "    total *= value  # Multiply the current total by each value\n",
    "\n",
    "# Step 4️⃣: Print the final result 📊\n",
    "print(\"📊 The product of all elements in the dictionary is:\")\n",
    "print(total)\n",
    "# Output: -1500000"
   ]
  },
  {
   "cell_type": "code",
   "execution_count": null,
   "metadata": {},
   "outputs": [],
   "source": []
  },
  {
   "cell_type": "code",
   "execution_count": null,
   "metadata": {},
   "outputs": [],
   "source": []
  },
  {
   "cell_type": "markdown",
   "metadata": {},
   "source": [
    "# <font color='blue'> 5. FOR EACH OF THE STUDENTS LIST BELOW, CALCULATE THE AVERAGE MARK FOR THE MIDTERM AND FINAL EXAMS FOR EACH STUDENT AND PUT THE AVERAGE IN A SEPARATE DICTIONARY ALONG WITH WITH THE STUDENT ID "
   ]
  },
  {
   "cell_type": "code",
   "execution_count": 91,
   "metadata": {},
   "outputs": [
    {
     "name": "stdout",
     "output_type": "stream",
     "text": [
      "[{'average': 72.5, 'student_id': 1},\n",
      " {'average': 79.0, 'student_id': 2},\n",
      " {'average': 87.5, 'student_id': 3}]\n"
     ]
    }
   ],
   "source": [
    "student_details = [\n",
    "  {'student_id' : 1, 'subject' : 'math', 'midterm' : 60, 'final' : 85},\n",
    "  {'student_id' : 2, 'subject' : 'math', 'midterm' : 80, 'final' : 78},\n",
    "  {'student_id' : 3, 'subject' : 'math', 'midterm' : 90, 'final' : 85}\n",
    "]\n",
    "\n",
    "\n",
    "average_1 = (student_details[0][\"midterm\"]+student_details[0][\"final\"])/2\n",
    "average_2 = (student_details[1][\"midterm\"]+student_details[1][\"final\"])/2\n",
    "average_3 = (student_details[2][\"midterm\"]+student_details[2][\"final\"])/2\n",
    "\n",
    "\n",
    "my_average = [{'student_id': 1, 'average' : average_1},\n",
    "              {'student_id': 2, 'average' : average_2},\n",
    "              {'student_id': 3, 'average' : average_3}\n",
    "             ]\n",
    "\n",
    "from pprint import pprint\n",
    "\n",
    "pprint(my_average)"
   ]
  },
  {
   "cell_type": "code",
   "execution_count": null,
   "metadata": {},
   "outputs": [],
   "source": []
  },
  {
   "cell_type": "code",
   "execution_count": null,
   "metadata": {},
   "outputs": [],
   "source": []
  },
  {
   "cell_type": "code",
   "execution_count": 14,
   "metadata": {},
   "outputs": [
    {
     "name": "stdout",
     "output_type": "stream",
     "text": [
      "📊 Averages for each student:\n",
      "[{'average': 72.5, 'student_id': 1},\n",
      " {'average': 79.0, 'student_id': 2},\n",
      " {'average': 87.5, 'student_id': 3}]\n"
     ]
    }
   ],
   "source": [
    "# Step 1️⃣: Create the list of student details 📝\n",
    "# Each dictionary in the list contains a student's ID, subject, midterm score, and final exam score\n",
    "student_details = [\n",
    "    {\"student_id\": 1, \"subject\": \"math\", \"midterm\": 60, \"final\": 85},\n",
    "    {\"student_id\": 2, \"subject\": \"math\", \"midterm\": 80, \"final\": 78},\n",
    "    {\"student_id\": 3, \"subject\": \"math\", \"midterm\": 90, \"final\": 85},\n",
    "]\n",
    "\n",
    "# Step 2️⃣: Initialize a new list to store student averages 📊\n",
    "averages = []\n",
    "\n",
    "# Step 3️⃣: Loop through each student's data to calculate their average 🔄\n",
    "for student in student_details:\n",
    "    # Calculate the average of midterm and final scores\n",
    "    average_score = (student[\"midterm\"] + student[\"final\"]) / 2\n",
    "    \n",
    "    # Create a new dictionary with student_id and their average score\n",
    "    student_average = {\"student_id\": student[\"student_id\"], \"average\": average_score}\n",
    "    \n",
    "    # Append the new dictionary to the averages list\n",
    "    averages.append(student_average)\n",
    "\n",
    "# Step 4️⃣: Display the results using pprint for better readability 📋\n",
    "from pprint import pprint  # Import pprint for structured output\n",
    "print(\"📊 Averages for each student:\")\n",
    "pprint(averages)\n",
    "\n",
    "# Output:\n",
    "# [{'student_id': 1, 'average': 72.5},\n",
    "#  {'student_id': 2, 'average': 79.0},\n",
    "#  {'student_id': 3, 'average': 87.5}]"
   ]
  },
  {
   "cell_type": "code",
   "execution_count": null,
   "metadata": {},
   "outputs": [],
   "source": []
  },
  {
   "cell_type": "markdown",
   "metadata": {},
   "source": [
    "# <font color='blue'> 6. REPEAT THE PREVIOUS EXERCISE BUT ADD THE AVERAGE IN A NEW DICTINARY LINE WITH \"AVERAGE\" AS A KEY"
   ]
  },
  {
   "cell_type": "code",
   "execution_count": 34,
   "metadata": {},
   "outputs": [],
   "source": [
    "student_details[0]['average'] = (student_details[0][\"midterm\"]+student_details[0][\"final\"])/2\n",
    "student_details[1]['average'] = (student_details[1][\"midterm\"]+student_details[1][\"final\"])/2\n",
    "student_details[2]['average'] = (student_details[2][\"midterm\"]+student_details[2][\"final\"])/2\n",
    "\n",
    "print(student_details[0])"
   ]
  },
  {
   "cell_type": "code",
   "execution_count": null,
   "metadata": {},
   "outputs": [],
   "source": []
  },
  {
   "cell_type": "code",
   "execution_count": null,
   "metadata": {},
   "outputs": [],
   "source": []
  },
  {
   "cell_type": "code",
   "execution_count": 17,
   "metadata": {},
   "outputs": [
    {
     "name": "stdout",
     "output_type": "stream",
     "text": [
      "📊 Updated student details with average scores:\n",
      "{'student_id': 1, 'subject': 'math', 'midterm': 60, 'final': 85, 'average': 72.5}\n",
      "{'student_id': 2, 'subject': 'math', 'midterm': 80, 'final': 78, 'average': 79.0}\n",
      "{'student_id': 3, 'subject': 'math', 'midterm': 90, 'final': 85, 'average': 87.5}\n"
     ]
    }
   ],
   "source": [
    "# Step 1️⃣: Create a list of student details 📝\n",
    "# Each dictionary contains student ID, subject, midterm score, and final exam score\n",
    "student_details = [\n",
    "    {\"student_id\": 1, \"subject\": \"math\", \"midterm\": 60, \"final\": 85},\n",
    "    {\"student_id\": 2, \"subject\": \"math\", \"midterm\": 80, \"final\": 78},\n",
    "    {\"student_id\": 3, \"subject\": \"math\", \"midterm\": 90, \"final\": 85},\n",
    "]\n",
    "\n",
    "# Step 2️⃣: Calculate the average for each student and add it to their dictionary 🔄\n",
    "# Iterate over the list of students\n",
    "for student in student_details:\n",
    "    # Calculate the average of midterm and final scores\n",
    "    student[\"average\"] = (student[\"midterm\"] + student[\"final\"]) / 2\n",
    "\n",
    "# Step 3️⃣: Display the updated list of student details 📋\n",
    "print(\"📊 Updated student details with average scores:\")\n",
    "for student in student_details:\n",
    "    print(student)\n",
    "\n",
    "# Example Output:\n",
    "# {'student_id': 1, 'subject': 'math', 'midterm': 60, 'final': 85, 'average': 72.5}\n",
    "# {'student_id': 2, 'subject': 'math', 'midterm': 80, 'final': 78, 'average': 79.0}\n",
    "# {'student_id': 3, 'subject': 'math', 'midterm': 90, 'final': 85, 'average': 87.5}"
   ]
  },
  {
   "cell_type": "code",
   "execution_count": null,
   "metadata": {},
   "outputs": [],
   "source": []
  },
  {
   "cell_type": "code",
   "execution_count": null,
   "metadata": {},
   "outputs": [],
   "source": []
  },
  {
   "cell_type": "markdown",
   "metadata": {},
   "source": [
    "# <font color='blue'> 7. SQUARE EACH ELEMENT IN THE FOLLOWING DICTIONARY"
   ]
  },
  {
   "cell_type": "code",
   "execution_count": 45,
   "metadata": {},
   "outputs": [],
   "source": [
    "dictionary = {'C1' : [10,20,30],\n",
    "              'C2' : [20,30,40]}\n",
    "\n",
    "dictionary['C1'] = [ dictionary['C1'][0]**2 , dictionary['C1'][1]**2, dictionary['C1'][2]**2]\n",
    "dictionary['C2'] = [ dictionary['C2'][0]**2 , dictionary['C2'][1]**2, dictionary['C2'][2]**2]\n"
   ]
  },
  {
   "cell_type": "code",
   "execution_count": 46,
   "metadata": {},
   "outputs": [
    {
     "name": "stdout",
     "output_type": "stream",
     "text": [
      "{'C1': [100, 400, 900], 'C2': [400, 900, 1600]}\n"
     ]
    }
   ],
   "source": [
    "print(dictionary)"
   ]
  },
  {
   "cell_type": "code",
   "execution_count": null,
   "metadata": {},
   "outputs": [],
   "source": []
  },
  {
   "cell_type": "code",
   "execution_count": null,
   "metadata": {},
   "outputs": [],
   "source": []
  },
  {
   "cell_type": "code",
   "execution_count": 20,
   "metadata": {},
   "outputs": [
    {
     "name": "stdout",
     "output_type": "stream",
     "text": [
      "📊 Dictionary after squaring each element:\n",
      "{'C1': [100, 400, 900], 'C2': [400, 900, 1600]}\n"
     ]
    }
   ],
   "source": [
    "# Step 1️⃣: Define the dictionary 📋\n",
    "# The dictionary contains keys (\"C1\", \"C2\") and lists of numbers as values\n",
    "dictionary = {\n",
    "    \"C1\": [10, 20, 30],  # Key \"C1\" with values [10, 20, 30]\n",
    "    \"C2\": [20, 30, 40],  # Key \"C2\" with values [20, 30, 40]\n",
    "}\n",
    "\n",
    "# Step 2️⃣: Square each element in the lists 🔄\n",
    "# Explanation: We'll loop through the dictionary, access each list, and square each value dynamically\n",
    "\n",
    "for key, value_list in dictionary.items():  # Iterate through key-value pairs in the dictionary\n",
    "    dictionary[key] = [num**2 for num in value_list]  # Square each number in the list\n",
    "\n",
    "# Step 3️⃣: Display the updated dictionary 📋\n",
    "print(\"📊 Dictionary after squaring each element:\")\n",
    "print(dictionary)\n",
    "# Output: {'C1': [100, 400, 900], 'C2': [400, 900, 1600]}"
   ]
  },
  {
   "cell_type": "code",
   "execution_count": null,
   "metadata": {},
   "outputs": [],
   "source": []
  },
  {
   "cell_type": "code",
   "execution_count": null,
   "metadata": {},
   "outputs": [],
   "source": []
  },
  {
   "cell_type": "code",
   "execution_count": null,
   "metadata": {},
   "outputs": [],
   "source": []
  },
  {
   "cell_type": "markdown",
   "metadata": {},
   "source": [
    "# <font color='blue'>  8. CREATE A LIST OF ALL KEYS AND A LIST OF ALL VALUES AND THE TOTAL SUM OF ALL VALUES "
   ]
  },
  {
   "cell_type": "code",
   "execution_count": 77,
   "metadata": {},
   "outputs": [],
   "source": [
    "my_salary = {\"alex\": 25, \"sally\": 28, \"dina\": 30}\n",
    "\n",
    "names = list(my_salary.keys())\n",
    "salaries = list(my_salary.values())"
   ]
  },
  {
   "cell_type": "code",
   "execution_count": 78,
   "metadata": {},
   "outputs": [
    {
     "data": {
      "text/plain": [
       "[25, 28, 30]"
      ]
     },
     "execution_count": 78,
     "metadata": {},
     "output_type": "execute_result"
    }
   ],
   "source": [
    "salaries"
   ]
  },
  {
   "cell_type": "code",
   "execution_count": 79,
   "metadata": {},
   "outputs": [
    {
     "data": {
      "text/plain": [
       "['alex', 'sally', 'dina']"
      ]
     },
     "execution_count": 79,
     "metadata": {},
     "output_type": "execute_result"
    }
   ],
   "source": [
    "names"
   ]
  },
  {
   "cell_type": "code",
   "execution_count": 80,
   "metadata": {},
   "outputs": [
    {
     "data": {
      "text/plain": [
       "dict_values([23, 22, 50, 10, 44])"
      ]
     },
     "execution_count": 80,
     "metadata": {},
     "output_type": "execute_result"
    }
   ],
   "source": [
    "my_dict.values()"
   ]
  },
  {
   "cell_type": "code",
   "execution_count": 81,
   "metadata": {},
   "outputs": [],
   "source": [
    "total_salaries = sum(my_salary.values())"
   ]
  },
  {
   "cell_type": "code",
   "execution_count": 82,
   "metadata": {},
   "outputs": [
    {
     "data": {
      "text/plain": [
       "83"
      ]
     },
     "execution_count": 82,
     "metadata": {},
     "output_type": "execute_result"
    }
   ],
   "source": [
    "total_salaries"
   ]
  },
  {
   "cell_type": "code",
   "execution_count": null,
   "metadata": {},
   "outputs": [],
   "source": []
  },
  {
   "cell_type": "code",
   "execution_count": null,
   "metadata": {},
   "outputs": [],
   "source": []
  },
  {
   "cell_type": "code",
   "execution_count": 23,
   "metadata": {},
   "outputs": [
    {
     "name": "stdout",
     "output_type": "stream",
     "text": [
      "📋 List of all names (keys):\n",
      "['alex', 'sally', 'dina']\n",
      "\n",
      "📋 List of all salaries (values):\n",
      "[25, 28, 30]\n",
      "\n",
      "📊 Total sum of all salaries:\n",
      "83\n"
     ]
    }
   ],
   "source": [
    "# Step 1️⃣: Define a dictionary 🗂️\n",
    "# The dictionary stores names as keys and salaries as values\n",
    "my_salary = {\n",
    "    \"alex\": 25,   # Alex's salary is 25\n",
    "    \"sally\": 28,  # Sally's salary is 28\n",
    "    \"dina\": 30    # Dina's salary is 30\n",
    "}\n",
    "\n",
    "# Step 2️⃣: Extract the keys and values from the dictionary 🔑\n",
    "# Convert the keys to a list\n",
    "names = list(my_salary.keys())  # ['alex', 'sally', 'dina']\n",
    "\n",
    "# Convert the values to a list\n",
    "salaries = list(my_salary.values())  # [25, 28, 30]\n",
    "\n",
    "# Step 3️⃣: Calculate the total sum of all values 🧮\n",
    "# Use the sum() function to calculate the total salaries\n",
    "total_salaries = sum(my_salary.values())  # 83\n",
    "\n",
    "# Step 4️⃣: Display the results 📊\n",
    "print(\"📋 List of all names (keys):\")\n",
    "print(names)  # ['alex', 'sally', 'dina']\n",
    "\n",
    "print(\"\\n📋 List of all salaries (values):\")\n",
    "print(salaries)  # [25, 28, 30]\n",
    "\n",
    "print(\"\\n📊 Total sum of all salaries:\")\n",
    "print(total_salaries)  # 83\n"
   ]
  },
  {
   "cell_type": "code",
   "execution_count": null,
   "metadata": {},
   "outputs": [],
   "source": []
  },
  {
   "cell_type": "code",
   "execution_count": null,
   "metadata": {},
   "outputs": [],
   "source": []
  },
  {
   "cell_type": "code",
   "execution_count": null,
   "metadata": {},
   "outputs": [],
   "source": []
  },
  {
   "cell_type": "markdown",
   "metadata": {},
   "source": [
    "# <font color='blue'>  9. OBTAIN THE LENGTH OF THE FOLLOWING DICTIONARY AND SORT ITS ELEMENTS"
   ]
  },
  {
   "cell_type": "code",
   "execution_count": 72,
   "metadata": {},
   "outputs": [
    {
     "name": "stdout",
     "output_type": "stream",
     "text": [
      "5\n",
      "[10, 22, 23, 44, 50]\n"
     ]
    }
   ],
   "source": [
    "my_dict = {\"sally\": 23, \"dina\": 22, \"holy\": 50, \"Joe\": 10, \"Peter\": 44}\n",
    "\n",
    "print(len(my_dict.values()))\n",
    "\n",
    "print(sorted(my_dict.values()))"
   ]
  },
  {
   "cell_type": "code",
   "execution_count": null,
   "metadata": {},
   "outputs": [],
   "source": []
  },
  {
   "cell_type": "code",
   "execution_count": null,
   "metadata": {},
   "outputs": [],
   "source": []
  },
  {
   "cell_type": "code",
   "execution_count": null,
   "metadata": {},
   "outputs": [],
   "source": []
  },
  {
   "cell_type": "code",
   "execution_count": 26,
   "metadata": {},
   "outputs": [
    {
     "name": "stdout",
     "output_type": "stream",
     "text": [
      "📋 Length of the dictionary:\n",
      "5\n",
      "\n",
      "📋 Sorted list of dictionary values:\n",
      "[10, 22, 23, 44, 50]\n"
     ]
    }
   ],
   "source": [
    "# Step 1️⃣: Define the dictionary 🗂️\n",
    "# This dictionary contains names as keys and numerical values as their associated data\n",
    "my_dict = {\n",
    "    \"sally\": 23,   # Sally's value is 23\n",
    "    \"dina\": 22,    # Dina's value is 22\n",
    "    \"holy\": 50,    # Holy's value is 50\n",
    "    \"Joe\": 10,     # Joe's value is 10\n",
    "    \"Peter\": 44    # Peter's value is 44\n",
    "}\n",
    "\n",
    "# Step 2️⃣: Get the length of the dictionary 📏\n",
    "# The length of a dictionary is the number of key-value pairs it contains\n",
    "dict_length = len(my_dict)\n",
    "\n",
    "# Step 3️⃣: Sort the values of the dictionary 📊\n",
    "# Extract the dictionary's values and sort them in ascending order\n",
    "sorted_values = sorted(my_dict.values())\n",
    "\n",
    "# Step 4️⃣: Display the results ✨\n",
    "print(\"📋 Length of the dictionary:\")\n",
    "print(dict_length)  # Output: 5\n",
    "\n",
    "print(\"\\n📋 Sorted list of dictionary values:\")\n",
    "print(sorted_values)  # Output: [10, 22, 23, 44, 50]\n"
   ]
  },
  {
   "cell_type": "code",
   "execution_count": null,
   "metadata": {},
   "outputs": [],
   "source": []
  },
  {
   "cell_type": "code",
   "execution_count": null,
   "metadata": {},
   "outputs": [],
   "source": []
  },
  {
   "cell_type": "markdown",
   "metadata": {},
   "source": [
    "# <font color='blue'> 10. FILTER OUT VALUES THAT ARE GREATER THAN OR EQUAL TO 30 (ADVANCED)(TO BE COVERED) </font> "
   ]
  },
  {
   "cell_type": "code",
   "execution_count": 92,
   "metadata": {},
   "outputs": [
    {
     "name": "stdout",
     "output_type": "stream",
     "text": [
      "{'Key 1': 20, 'Key 2': 30}\n"
     ]
    }
   ],
   "source": [
    "my_dictionary = {\"Key 1\": 20, \"Key 2\": 30, \"Key 3\": 50}\n",
    "\n",
    "result = dict((key, value) for key, value in my_dictionary.items() if value <= 30)\n",
    "print(result)\n"
   ]
  },
  {
   "cell_type": "code",
   "execution_count": null,
   "metadata": {},
   "outputs": [],
   "source": []
  },
  {
   "cell_type": "code",
   "execution_count": null,
   "metadata": {},
   "outputs": [],
   "source": []
  },
  {
   "cell_type": "code",
   "execution_count": 29,
   "metadata": {},
   "outputs": [
    {
     "name": "stdout",
     "output_type": "stream",
     "text": [
      "📋 Filtered dictionary (values <= 30):\n",
      "{'Key 1': 20, 'Key 2': 30}\n"
     ]
    }
   ],
   "source": [
    "# Step 1️⃣: Define the dictionary 🗂️\n",
    "# The dictionary contains keys and their associated numerical values\n",
    "my_dictionary = {\n",
    "    \"Key 1\": 20,  # \"Key 1\" has a value of 20\n",
    "    \"Key 2\": 30,  # \"Key 2\" has a value of 30\n",
    "    \"Key 3\": 50   # \"Key 3\" has a value of 50\n",
    "}\n",
    "\n",
    "# Step 2️⃣: Filter out values greater than 30 🔍\n",
    "# Use dictionary comprehension to create a new dictionary\n",
    "# Keep only key-value pairs where the value is less than or equal to 30\n",
    "result = {key: value for key, value in my_dictionary.items() if value <= 30}\n",
    "\n",
    "# Step 3️⃣: Display the filtered dictionary ✨\n",
    "print(\"📋 Filtered dictionary (values <= 30):\")\n",
    "print(result)\n",
    "# Output: {'Key 1': 20, 'Key 2': 30}я\n"
   ]
  },
  {
   "cell_type": "code",
   "execution_count": null,
   "metadata": {},
   "outputs": [],
   "source": []
  },
  {
   "cell_type": "code",
   "execution_count": null,
   "metadata": {},
   "outputs": [],
   "source": []
  },
  {
   "cell_type": "code",
   "execution_count": 31,
   "metadata": {},
   "outputs": [
    {
     "ename": "SyntaxError",
     "evalue": "invalid syntax (4139694029.py, line 6)",
     "output_type": "error",
     "traceback": [
      "\u001b[1;36m  Cell \u001b[1;32mIn[31], line 6\u001b[1;36m\u001b[0m\n\u001b[1;33m    print(x!=y)Я\u001b[0m\n\u001b[1;37m               ^\u001b[0m\n\u001b[1;31mSyntaxError\u001b[0m\u001b[1;31m:\u001b[0m invalid syntax\n"
     ]
    }
   ],
   "source": [
    "x = 10\n",
    "y = 20\n",
    "print(x>y)\n",
    "print(x<y)\n",
    "print(x==y)\n",
    "print(x!=y)Я\n"
   ]
  },
  {
   "cell_type": "markdown",
   "metadata": {},
   "source": [
    "# <font color='blue'> 11. WHAT WILL THIS CODE GENERATE? </font> "
   ]
  },
  {
   "cell_type": "code",
   "execution_count": null,
   "metadata": {},
   "outputs": [],
   "source": []
  },
  {
   "cell_type": "code",
   "execution_count": 34,
   "metadata": {},
   "outputs": [
    {
     "name": "stdout",
     "output_type": "stream",
     "text": [
      "Is x > y? ➡️ False\n",
      "Is x < y? ➡️ True\n",
      "Is x == y? ➡️ False\n",
      "Is x != y? ➡️ True\n",
      "\n",
      "Is a < b < c? ➡️ True\n",
      "\n",
      "Is x > y? ➡️ True\n",
      "Is x < z? ➡️ True\n",
      "\n",
      "Is x > 5 AND y < 30? ➡️ False\n",
      "Is x > 15 OR y < 25? ➡️ True\n",
      "Is x NOT less than y? ➡️ True\n",
      "Grade: B\n"
     ]
    }
   ],
   "source": [
    "# Define variables\n",
    "x = 10\n",
    "y = 20\n",
    "\n",
    "# Simple comparisons\n",
    "print(\"Is x > y? ➡️\", x > y)\n",
    "print(\"Is x < y? ➡️\", x < y)\n",
    "print(\"Is x == y? ➡️\", x == y)\n",
    "print(\"Is x != y? ➡️\", x != y)\n",
    "\n",
    "# Chained comparisons\n",
    "a = 10\n",
    "b = 20\n",
    "c = 30\n",
    "print(\"\\nIs a < b < c? ➡️\", a < b < c)\n",
    "\n",
    "# Negative numbers\n",
    "x = -10\n",
    "y = -20\n",
    "z = 0\n",
    "print(\"\\nIs x > y? ➡️\", x > y)\n",
    "print(\"Is x < z? ➡️\", x < z)\n",
    "\n",
    "# Logical operations\n",
    "print(\"\\nIs x > 5 AND y < 30? ➡️\", x > 5 and y < 30)\n",
    "print(\"Is x > 15 OR y < 25? ➡️\", x > 15 or y < 25)\n",
    "print(\"Is x NOT less than y? ➡️\", not (x < y))\n",
    "\n",
    "# Real-world grading example\n",
    "score = 85\n",
    "if score >= 90:\n",
    "    print(\"\\nGrade: A\")\n",
    "elif score >= 80:\n",
    "    print(\"Grade: B\")\n",
    "elif score >= 70:\n",
    "    print(\"Grade: C\")\n",
    "else:\n",
    "    print(\"Grade: F\")"
   ]
  },
  {
   "cell_type": "code",
   "execution_count": null,
   "metadata": {},
   "outputs": [],
   "source": []
  },
  {
   "cell_type": "markdown",
   "metadata": {},
   "source": [
    "# NOW YOU SHOULD BE FAMILIAR WITH DICTIONARIES, GREAT JOB!"
   ]
  }
 ],
 "metadata": {
  "kernelspec": {
   "display_name": "Python [conda env:base] *",
   "language": "python",
   "name": "conda-base-py"
  },
  "language_info": {
   "codemirror_mode": {
    "name": "ipython",
    "version": 3
   },
   "file_extension": ".py",
   "mimetype": "text/x-python",
   "name": "python",
   "nbconvert_exporter": "python",
   "pygments_lexer": "ipython3",
   "version": "3.12.3"
  }
 },
 "nbformat": 4,
 "nbformat_minor": 4
}
