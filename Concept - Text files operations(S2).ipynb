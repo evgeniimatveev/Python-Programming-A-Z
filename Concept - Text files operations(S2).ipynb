{
 "cells": [
  {
   "cell_type": "markdown",
   "metadata": {},
   "source": [
    "# PYTHON PROGRAMMING FUNDAMENTALS\n"
   ]
  },
  {
   "cell_type": "markdown",
   "metadata": {},
   "source": [
    "This Notebook will cover the following topics:    \n",
    "- Files operations\n",
    "\n"
   ]
  },
  {
   "cell_type": "markdown",
   "metadata": {},
   "source": [
    "# TEXT FILES\n",
    "- fopen() is the key function to handle files \n",
    "- open() function takes two parameters; filename, and mode.\n",
    "- Modes for files opening: \n",
    "\n",
    "    - \"r\" - Read - Default value. Opens a file for reading, error if the file does not exist\n",
    "    - \"a\" - Append - Opens a file for appending, creates the file if it does not exist\n",
    "    - \"w\" - Write - Opens a file for writing, creates the file if it does not exist\n",
    "    - \"x\" - Create - Creates the specified file, returns an error if the file exists\n",
    "\n",
    "- files can be used in a binary or text mode\n",
    "\n",
    "    - \"t\" - Text - Default value. Text mode\n",
    "    - \"b\" - Binary - Binary mode (e.g. images)"
   ]
  },
  {
   "cell_type": "code",
   "execution_count": null,
   "metadata": {},
   "outputs": [],
   "source": []
  },
  {
   "cell_type": "code",
   "execution_count": null,
   "metadata": {},
   "outputs": [],
   "source": []
  },
  {
   "cell_type": "code",
   "execution_count": 2,
   "metadata": {},
   "outputs": [
    {
     "name": "stdout",
     "output_type": "stream",
     "text": [
      "✅ Content written to 'example.txt' successfully!\n",
      "\n",
      "🔹 Content of the file:\n",
      "Python is a great programming language!\n",
      "Text files are easy to handle in Python.\n",
      "This is an example of writing to a text file.\n",
      "\n",
      "✅ New lines appended to 'example.txt'!\n",
      "\n",
      "🔹 Reading file line-by-line:\n",
      "Python is a great programming language!\n",
      "Text files are easy to handle in Python.\n",
      "This is an example of writing to a text file.\n",
      "You can also append new lines to an existing file.\n",
      "Python makes it super simple to do this!\n",
      "\n",
      "🔹 The file 'example.txt' contains 42 words.\n"
     ]
    }
   ],
   "source": [
    "# 🟢 PYTHON PROGRAMMING FUNDAMENTALS: WORKING WITH TEXT FILES 🟢\n",
    "\n",
    "# ------------------------------------------------------------\n",
    "# 📁 Introduction to Text Files\n",
    "# ------------------------------------------------------------\n",
    "# A **text file** is a common way to store data in plain text format. It can include strings, numbers, or other characters.\n",
    "# Python provides a built-in mechanism to **read**, **write**, and **process** text files easily.\n",
    "\n",
    "# ------------------------------------------------------------\n",
    "# 🔑 Key Functions for Text File Handling:\n",
    "# ------------------------------------------------------------\n",
    "# 1️⃣ **open()**: Used to open a file for reading, writing, or appending.\n",
    "# 2️⃣ **read() / readline() / readlines()**: For reading file content.\n",
    "# 3️⃣ **write() / writelines()**: To write content to a file.\n",
    "# 4️⃣ **close()**: Always close a file to release system resources.\n",
    "# \n",
    "# ------------------------------------------------------------\n",
    "# 🔑 Modes for File Opening:\n",
    "# ------------------------------------------------------------\n",
    "# - **'r'**: Read (default). Opens the file for reading. File must exist.\n",
    "# - **'w'**: Write. Creates a file if it doesn’t exist, overwrites if it does.\n",
    "# - **'a'**: Append. Adds content to an existing file or creates it.\n",
    "# - **'x'**: Exclusive creation. Fails if the file already exists.\n",
    "# \n",
    "# Files can also be opened in:\n",
    "# - **Text Mode ('t')**: Default mode for text files.\n",
    "# - **Binary Mode ('b')**: For non-text files like images.\n",
    "\n",
    "# ------------------------------------------------------------\n",
    "# 🟢 Example 1: Writing to a Text File\n",
    "# ------------------------------------------------------------\n",
    "# Write content into a file using the **'w'** mode.\n",
    "file_name = \"example_txt.txt\"  # Specify file name\n",
    "with open(file_name, 'w') as f:\n",
    "    f.write(\"Python is a great programming language!\\n\")\n",
    "    f.write(\"Text files are easy to handle in Python.\\n\")\n",
    "    f.write(\"This is an example of writing to a text file.\")\n",
    "\n",
    "print(\"✅ Content written to 'example.txt' successfully!\")\n",
    "\n",
    "# ------------------------------------------------------------\n",
    "# 🟢 Example 2: Reading from a Text File\n",
    "# ------------------------------------------------------------\n",
    "# Open the file in **read** mode and retrieve its contents.\n",
    "with open(file_name, 'r') as f:\n",
    "    content = f.read()  # Reads the entire content of the file\n",
    "    print(\"\\n🔹 Content of the file:\")\n",
    "    print(content)\n",
    "\n",
    "# ------------------------------------------------------------\n",
    "# 🟢 Example 3: Appending to a Text File\n",
    "# ------------------------------------------------------------\n",
    "# Append new content to the existing file using the **'a'** mode.\n",
    "with open(file_name, 'a') as f:\n",
    "    f.write(\"\\nYou can also append new lines to an existing file.\")\n",
    "    f.write(\"\\nPython makes it super simple to do this!\")\n",
    "\n",
    "print(\"\\n✅ New lines appended to 'example.txt'!\")\n",
    "\n",
    "# ------------------------------------------------------------\n",
    "# 🟢 Example 4: Reading File Line-by-Line\n",
    "# ------------------------------------------------------------\n",
    "# **readlines()** reads all lines into a list, and you can iterate over the list.\n",
    "with open(file_name, 'r') as f:\n",
    "    lines = f.readlines()\n",
    "    print(\"\\n🔹 Reading file line-by-line:\")\n",
    "    for line in lines:\n",
    "        print(line.strip())  # Strip removes extra whitespace\n",
    "\n",
    "# ------------------------------------------------------------\n",
    "# 🟢 Example 5: Word Count in a File (Mini Project)\n",
    "# ------------------------------------------------------------\n",
    "# Let’s write a script to count the number of words in the file.\n",
    "\n",
    "def word_count(file_name):\n",
    "    \"\"\"\n",
    "    Function to count the number of words in a text file.\n",
    "    \"\"\"\n",
    "    with open(file_name, 'r') as f:\n",
    "        content = f.read()  # Read entire content\n",
    "    words = content.split()  # Split content by spaces\n",
    "    return len(words)\n",
    "\n",
    "# Count words in the 'example.txt' file\n",
    "num_words = word_count(file_name)\n",
    "print(f\"\\n🔹 The file '{file_name}' contains {num_words} words.\")\n",
    "\n",
    "# ------------------------------------------------------------\n",
    "# 🟢 What to Explore Next?\n",
    "# ------------------------------------------------------------\n",
    "# 1️⃣ **Binary Files**: Learn to handle binary data (e.g., images).\n",
    "# 2️⃣ **File Operations in Large Files**: Efficient techniques like streaming large files.\n",
    "# 3️⃣ **Error Handling**: Handle file-related exceptions gracefully with `try-except`.\n",
    "\n",
    "# ------------------------------------------------------------\n",
    "# 🚀 Challenge for You!\n",
    "# ------------------------------------------------------------\n",
    "# Create a script that:\n",
    "# - Asks the user to input a file name and creates it if it doesn’t exist.\n",
    "# - Lets the user add content to the file interactively.\n",
    "# - Displays the total word count of the file after the user finishes editing.\n",
    "\n",
    "\n",
    "\n",
    "\n",
    "\n",
    "\n"
   ]
  },
  {
   "cell_type": "code",
   "execution_count": null,
   "metadata": {},
   "outputs": [],
   "source": []
  },
  {
   "cell_type": "code",
   "execution_count": null,
   "metadata": {},
   "outputs": [],
   "source": []
  },
  {
   "cell_type": "markdown",
   "metadata": {},
   "source": [
    "# KEEP IT UP! YOU SHOULD BE PROUD OF YOUR NEWLY ACQUIRED PROGRAMMING SKILLS!"
   ]
  }
 ],
 "metadata": {
  "kernelspec": {
   "display_name": "Python [conda env:base] *",
   "language": "python",
   "name": "conda-base-py"
  },
  "language_info": {
   "codemirror_mode": {
    "name": "ipython",
    "version": 3
   },
   "file_extension": ".py",
   "mimetype": "text/x-python",
   "name": "python",
   "nbconvert_exporter": "python",
   "pygments_lexer": "ipython3",
   "version": "3.12.3"
  }
 },
 "nbformat": 4,
 "nbformat_minor": 4
}
