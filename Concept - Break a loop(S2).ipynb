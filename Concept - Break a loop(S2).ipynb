{
 "cells": [
  {
   "cell_type": "markdown",
   "metadata": {},
   "source": [
    "# PYTHON PROGRAMMING FUNDAMENTALS\n"
   ]
  },
  {
   "cell_type": "markdown",
   "metadata": {},
   "source": [
    "# BREAK A LOOP/CONTINUE\n",
    "- break() is used to exit a for loop or a while loop\n",
    "- continue() is used to skip the current block, and return to the \"for\" or \"while\" statement."
   ]
  },
  {
   "cell_type": "code",
   "execution_count": null,
   "metadata": {},
   "outputs": [],
   "source": []
  },
  {
   "cell_type": "code",
   "execution_count": 3,
   "metadata": {},
   "outputs": [
    {
     "name": "stdout",
     "output_type": "stream",
     "text": [
      "Example 1: Print all items in the list:\n",
      "apple\n",
      "blueberries\n",
      "mango\n",
      "watermelon\n",
      "apricots\n",
      "\n",
      "\n",
      "Example 2: Stop the loop when 'mango' is encountered:\n",
      "apple\n",
      "blueberries\n",
      "mango\n",
      "\n",
      "\n",
      "Example 3: Stop the loop when 'watermelon' is encountered:\n",
      "apple\n",
      "blueberries\n",
      "mango\n",
      "watermelon\n",
      "\n",
      "\n",
      "Example 4: Skip even numbers and only print odd numbers:\n",
      "1\n",
      "3\n",
      "5\n",
      "7\n",
      "9\n",
      "\n",
      "\n",
      "Example 5: Stop a while loop when the count reaches 5:\n",
      "Count: 0\n",
      "Count: 1\n",
      "Count: 2\n",
      "Count: 3\n",
      "Count: 4\n",
      "Count: 5\n",
      "\n",
      "\n",
      "Example 6: Skip numbers divisible by 3 in a while loop:\n",
      "Count: 1\n",
      "Count: 2\n",
      "Count: 4\n",
      "Count: 5\n",
      "Count: 7\n",
      "Count: 8\n",
      "Count: 10\n",
      "\n",
      "\n"
     ]
    }
   ],
   "source": [
    "# ===================================================\n",
    "# PYTHON PROGRAMMING FUNDAMENTALS: BREAK AND CONTINUE\n",
    "# ===================================================\n",
    "\n",
    "# --- 1. BREAK STATEMENT ---\n",
    "# The `break` statement is used to exit a loop prematurely.\n",
    "# When encountered, it stops the current loop entirely and moves to the next line of code after the loop.\n",
    "\n",
    "# Example: Breaking a loop when a specific condition is met\n",
    "my_list = [\"apple\", \"blueberries\", \"mango\", \"watermelon\", \"apricots\"]\n",
    "\n",
    "# Step 1: Print all items without any condition\n",
    "print(\"Example 1: Print all items in the list:\")\n",
    "for i in my_list:\n",
    "    print(i)  # This will print each item one by one\n",
    "print(\"\\n\")\n",
    "\n",
    "# Step 2: Use break to exit the loop when the item is \"mango\"\n",
    "print(\"Example 2: Stop the loop when 'mango' is encountered:\")\n",
    "for i in my_list:\n",
    "    print(i)\n",
    "    if i == \"mango\":  # Condition to break the loop\n",
    "        break  # Loop stops as soon as this line is executed\n",
    "print(\"\\n\")\n",
    "\n",
    "# Step 3: Another example - breaking when 'watermelon' is found\n",
    "print(\"Example 3: Stop the loop when 'watermelon' is encountered:\")\n",
    "for i in my_list:\n",
    "    print(i)\n",
    "    if i == \"watermelon\":  # Breaking condition\n",
    "        break\n",
    "print(\"\\n\")\n",
    "\n",
    "\n",
    "# --- 2. CONTINUE STATEMENT ---\n",
    "# The `continue` statement skips the current iteration and moves to the next one.\n",
    "# It doesn't terminate the loop entirely, just skips the rest of the code for the current iteration.\n",
    "\n",
    "# Example: Skip even numbers in a list\n",
    "my_list = [1, 2, 3, 4, 5, 6, 7, 8, 9, 10]\n",
    "\n",
    "print(\"Example 4: Skip even numbers and only print odd numbers:\")\n",
    "for i in my_list:\n",
    "    if i % 2 == 0:  # Condition to check for even numbers\n",
    "        continue  # Skip the rest of the code for this iteration\n",
    "    print(i)  # Print only odd numbers\n",
    "print(\"\\n\")\n",
    "\n",
    "\n",
    "# --- BONUS EXAMPLES ---\n",
    "# Add more variety and explanations for advanced learners!\n",
    "\n",
    "# Example 5: Using break with a while loop\n",
    "print(\"Example 5: Stop a while loop when the count reaches 5:\")\n",
    "count = 0\n",
    "while count < 10:\n",
    "    print(\"Count:\", count)\n",
    "    if count == 5:\n",
    "        break  # Exit the loop when count is 5\n",
    "    count += 1  # Increment the count\n",
    "print(\"\\n\")\n",
    "\n",
    "# Example 6: Using continue with a while loop\n",
    "print(\"Example 6: Skip numbers divisible by 3 in a while loop:\")\n",
    "count = 0\n",
    "while count < 10:\n",
    "    count += 1  # Increment before checking\n",
    "    if count % 3 == 0:  # Check if divisible by 3\n",
    "        continue  # Skip printing numbers divisible by 3\n",
    "    print(\"Count:\", count)\n",
    "print(\"\\n\")\n",
    "\n",
    "# --- SUMMARY ---\n",
    "# 1️⃣ The `break` statement stops the loop entirely when a condition is met.\n",
    "# 2️⃣ The `continue` statement skips the current iteration and moves to the next one.\n",
    "# 3️⃣ Both are essential tools for controlling the flow of loops in Python.\n",
    "\n",
    "# 🌟 PRACTICE IDEA:\n",
    "# Create a loop that takes input from the user. Stop when they type \"exit\", and skip over any input with less than 3 characters!"
   ]
  },
  {
   "cell_type": "code",
   "execution_count": null,
   "metadata": {},
   "outputs": [],
   "source": []
  },
  {
   "cell_type": "code",
   "execution_count": null,
   "metadata": {},
   "outputs": [],
   "source": []
  },
  {
   "cell_type": "code",
   "execution_count": null,
   "metadata": {},
   "outputs": [],
   "source": []
  },
  {
   "cell_type": "code",
   "execution_count": null,
   "metadata": {},
   "outputs": [],
   "source": []
  },
  {
   "cell_type": "markdown",
   "metadata": {},
   "source": [
    "# KEEP IT UP! YOU ARE GETTING BETTER AT IT EVERY DAY!"
   ]
  }
 ],
 "metadata": {
  "kernelspec": {
   "display_name": "Python [conda env:base] *",
   "language": "python",
   "name": "conda-base-py"
  },
  "language_info": {
   "codemirror_mode": {
    "name": "ipython",
    "version": 3
   },
   "file_extension": ".py",
   "mimetype": "text/x-python",
   "name": "python",
   "nbconvert_exporter": "python",
   "pygments_lexer": "ipython3",
   "version": "3.12.3"
  }
 },
 "nbformat": 4,
 "nbformat_minor": 4
}
