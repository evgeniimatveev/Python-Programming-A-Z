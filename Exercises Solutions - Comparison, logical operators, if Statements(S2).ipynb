{
 "cells": [
  {
   "cell_type": "markdown",
   "metadata": {},
   "source": [
    "# <font color='red'> *INTERMEDIATE LEVEL* </font> \n",
    "## <font color='red'> COMPARISON AND LOGICAL OPERATORS AND IF STATEMENTS  </font> "
   ]
  },
  {
   "cell_type": "markdown",
   "metadata": {},
   "source": [
    "#  <font color='blue'>1. WHAT WILL THIS CODE GENERATE? PLEASE DO NOT RUN THE CODE! </font> "
   ]
  },
  {
   "cell_type": "code",
   "execution_count": 2,
   "metadata": {},
   "outputs": [
    {
     "name": "stdout",
     "output_type": "stream",
     "text": [
      "False\n",
      "True\n",
      "False\n",
      "True\n"
     ]
    }
   ],
   "source": [
    "print('Python' == 'PYTHON')\n",
    "print('PYTHON' == 'PYTHON')\n",
    "print('PYTHON' != 'PYTHON')\n",
    "print(15!=10)"
   ]
  },
  {
   "cell_type": "code",
   "execution_count": null,
   "metadata": {},
   "outputs": [],
   "source": []
  },
  {
   "cell_type": "code",
   "execution_count": 4,
   "metadata": {},
   "outputs": [
    {
     "name": "stdout",
     "output_type": "stream",
     "text": [
      "False\n",
      "True\n",
      "False\n",
      "True\n",
      "False\n",
      "True\n",
      "True\n"
     ]
    }
   ],
   "source": [
    "# ============================================\n",
    "# QUESTION 1: Understanding Code Outputs 🚀\n",
    "# ============================================\n",
    "\n",
    "# What does this code do? Let's analyze it step by step without running the code.\n",
    "\n",
    "# Statement 1: Compare the string 'Python' with 'PYTHON'\n",
    "# Python is case-sensitive, meaning 'Python' is different from 'PYTHON'.\n",
    "print('Python' == 'PYTHON')  \n",
    "# OUTPUT: False because both strings differ in case.\n",
    "\n",
    "# Statement 2: Compare the string 'PYTHON' with itself\n",
    "# This time, the case matches as we are comparing 'PYTHON' with 'PYTHON'.\n",
    "print('PYTHON' == 'PYTHON')  \n",
    "# OUTPUT: True because both strings are identical in both content and case.\n",
    "\n",
    "# Statement 3: Check if 'PYTHON' is NOT equal to 'PYTHON'\n",
    "# The != operator checks if two values are NOT equal.\n",
    "print('PYTHON' != 'PYTHON')  \n",
    "# OUTPUT: False because the two strings are exactly the same.\n",
    "\n",
    "# Statement 4: Compare two numbers, 15 and 10\n",
    "# The != operator checks if 15 is NOT equal to 10.\n",
    "print(15 != 10)  \n",
    "# OUTPUT: True because 15 and 10 are indeed different.\n",
    "\n",
    "# ================================================\n",
    "# OUTPUTS (Expected Results without Running Code):\n",
    "# ================================================\n",
    "# False  -> 'Python' == 'PYTHON'\n",
    "# True   -> 'PYTHON' == 'PYTHON'\n",
    "# False  -> 'PYTHON' != 'PYTHON'\n",
    "# True   -> 15 != 10\n",
    "\n",
    "# -----------------------------\n",
    "# KEY CONCEPTS TO REMEMBER ✍️\n",
    "# -----------------------------\n",
    "\n",
    "# 1️⃣ Case Sensitivity in Strings:\n",
    "#    In Python, strings are case-sensitive. This means 'Python' and 'PYTHON' are treated as two different values.\n",
    "\n",
    "# 2️⃣ Equality Operator (==):\n",
    "#    This operator checks if two values are exactly the same (same value and type). \n",
    "\n",
    "# 3️⃣ Inequality Operator (!=):\n",
    "#    This operator checks if two values are NOT the same.\n",
    "\n",
    "# 4️⃣ Comparing Numbers:\n",
    "#    Python handles numerical comparisons intuitively. For example, 15 != 10 checks if 15 is not equal to 10, which evaluates to True.\n",
    "\n",
    "# -----------------------------\n",
    "# WHAT DID WE LEARN? 🧠\n",
    "# -----------------------------\n",
    "\n",
    "# 1. Comparison operators (== and !=) are crucial for checking equality or inequality.\n",
    "# 2. String comparisons depend on case sensitivity, so always consider capitalization.\n",
    "# 3. Numerical comparisons are straightforward and rely purely on value differences.\n",
    "\n",
    "# -----------------------------\n",
    "# A SMALL CHALLENGE FOR YOU 🤔\n",
    "# -----------------------------\n",
    "\n",
    "# Can you explain what the following lines of code will output?\n",
    "# Try to figure it out before running them!\n",
    "\n",
    "print('hello' == 'HELLO')  # What will this output?\n",
    "print('HELLO' != 'hello')  # And this?\n",
    "print(100 == 100.0)        # What happens when comparing an integer with a float?\n",
    "\n",
    "# 💡 Hint: Pay attention to case sensitivity and Python's flexibility with numerical types!\n",
    "\n",
    "# -----------------------------\n",
    "# EXTRA NOTE FROM ME 📝\n",
    "# -----------------------------\n",
    "\n",
    "# Consistent testing and observation of outputs are key to understanding Python's behavior.\n",
    "# Always ask \"why\" an output appears as it does—this strengthens your problem-solving skills! 💪"
   ]
  },
  {
   "cell_type": "code",
   "execution_count": null,
   "metadata": {},
   "outputs": [],
   "source": []
  },
  {
   "cell_type": "code",
   "execution_count": null,
   "metadata": {},
   "outputs": [],
   "source": []
  },
  {
   "cell_type": "code",
   "execution_count": null,
   "metadata": {},
   "outputs": [],
   "source": []
  },
  {
   "cell_type": "markdown",
   "metadata": {},
   "source": [
    "#  <font color='blue'>2. WHAT WILL THIS CODE GENERATE? PLEASE DO NOT RUN THE CODE! </font> \n"
   ]
  },
  {
   "cell_type": "code",
   "execution_count": 6,
   "metadata": {},
   "outputs": [
    {
     "name": "stdout",
     "output_type": "stream",
     "text": [
      "True\n"
     ]
    }
   ],
   "source": [
    "print( 'Hello'!='HELLO' and (6 > 2) and (5 == 5)) "
   ]
  },
  {
   "cell_type": "code",
   "execution_count": 8,
   "metadata": {},
   "outputs": [
    {
     "name": "stdout",
     "output_type": "stream",
     "text": [
      "True\n"
     ]
    }
   ],
   "source": [
    "print( 'Hello'!='HELLO' or (6 > 2) or (5 == 5)) "
   ]
  },
  {
   "cell_type": "code",
   "execution_count": null,
   "metadata": {},
   "outputs": [],
   "source": []
  },
  {
   "cell_type": "code",
   "execution_count": null,
   "metadata": {},
   "outputs": [],
   "source": []
  },
  {
   "cell_type": "code",
   "execution_count": 7,
   "metadata": {},
   "outputs": [
    {
     "name": "stdout",
     "output_type": "stream",
     "text": [
      "True\n",
      "True\n",
      "True\n",
      "True\n"
     ]
    }
   ],
   "source": [
    "# ========================================\n",
    "# QUESTION 2: Understanding Logical Operators 🧠\n",
    "# ========================================\n",
    "\n",
    "# Let's break this code into parts and evaluate it step by step.\n",
    "# We are using logical operators (AND, OR) along with comparison operators (!=, >, ==).\n",
    "\n",
    "# Example 1:\n",
    "# -----------------------------------------------------\n",
    "# Statement: 'Hello' != 'HELLO' AND (6 > 2) AND (5 == 5)\n",
    "print('Hello' != 'HELLO' and (6 > 2) and (5 == 5))  \n",
    "\n",
    "# STEP-BY-STEP EXPLANATION:\n",
    "# 1️⃣ 'Hello' != 'HELLO' -> True\n",
    "#     - 'Hello' and 'HELLO' are not equal because Python is case-sensitive.\n",
    "#     - So, this evaluates to True.\n",
    "\n",
    "# 2️⃣ (6 > 2) -> True\n",
    "#     - 6 is greater than 2, so this evaluates to True.\n",
    "\n",
    "# 3️⃣ (5 == 5) -> True\n",
    "#     - 5 is equal to 5, so this evaluates to True.\n",
    "\n",
    "# Logical AND combines all three:\n",
    "# True AND True AND True -> True\n",
    "\n",
    "# FINAL OUTPUT: True\n",
    "\n",
    "\n",
    "# Example 2:\n",
    "# -----------------------------------------------------\n",
    "# Statement: 'Hello' != 'HELLO' OR (6 > 2) OR (5 == 5)\n",
    "print('Hello' != 'HELLO' or (6 > 2) or (5 == 5))\n",
    "\n",
    "# STEP-BY-STEP EXPLANATION:\n",
    "# 1️⃣ 'Hello' != 'HELLO' -> True\n",
    "#     - Same as the first example. 'Hello' is not equal to 'HELLO', so it evaluates to True.\n",
    "\n",
    "# 2️⃣ (6 > 2) -> True\n",
    "#     - 6 is greater than 2, so this is also True.\n",
    "\n",
    "# 3️⃣ (5 == 5) -> True\n",
    "#     - 5 is equal to 5, which evaluates to True.\n",
    "\n",
    "# Logical OR combines all three:\n",
    "# True OR True OR True -> True\n",
    "\n",
    "# FINAL OUTPUT: True\n",
    "\n",
    "\n",
    "# -------------------------------\n",
    "# WHY DOES THIS HAPPEN? 🧐\n",
    "# -------------------------------\n",
    "\n",
    "# 💡 Logical AND:\n",
    "# The \"and\" operator requires all conditions to be True for the final result to be True.\n",
    "# If any one condition is False, the final result will be False.\n",
    "\n",
    "# 💡 Logical OR:\n",
    "# The \"or\" operator requires only one condition to be True for the final result to be True.\n",
    "# Even if all conditions are True, the final result remains True.\n",
    "\n",
    "# ----------------------------------------\n",
    "# A REAL-WORLD ANALOGY FOR UNDERSTANDING 🎯\n",
    "# ----------------------------------------\n",
    "\n",
    "# Imagine you're deciding on a vacation:\n",
    "# - Logical AND: \"I will go on vacation ONLY IF all these conditions are met:\n",
    "#   1️⃣ I have enough money.\n",
    "#   2️⃣ I have free time.\n",
    "#   3️⃣ The weather is good.\"\n",
    "#   - If even one condition fails, you won't go on vacation.\n",
    "\n",
    "# - Logical OR: \"I will go on vacation IF:\n",
    "#   1️⃣ I have enough money, OR\n",
    "#   2️⃣ I have free time, OR\n",
    "#   3️⃣ The weather is good.\"\n",
    "#   - If any one condition is True, you'll go on vacation.\n",
    "\n",
    "\n",
    "# -----------------------------------------------\n",
    "# CHALLENGE: Test Yourself! 📝\n",
    "# -----------------------------------------------\n",
    "# Try to predict the outputs of the following lines:\n",
    "print('python' != 'Python' and (10 < 2) or (100 == 100))  # What will this output?\n",
    "print((2 * 2 == 4) and ('hello' == 'HELLO') or (7 > 3))  # What about this?\n",
    "\n",
    "# -------------------------\n",
    "# KEY TAKEAWAYS 📚\n",
    "# -------------------------\n",
    "# 1️⃣ Logical operators (\"and\", \"or\") are used to combine multiple conditions.\n",
    "# 2️⃣ \"and\" needs ALL conditions to be True, while \"or\" needs ONLY ONE.\n",
    "# 3️⃣ Python's case sensitivity plays a significant role in string comparisons.\n",
    "# 4️⃣ Breaking down conditions step by step helps in debugging and understanding.\n"
   ]
  },
  {
   "cell_type": "code",
   "execution_count": null,
   "metadata": {},
   "outputs": [],
   "source": []
  },
  {
   "cell_type": "code",
   "execution_count": null,
   "metadata": {},
   "outputs": [],
   "source": []
  },
  {
   "cell_type": "markdown",
   "metadata": {},
   "source": [
    "#  <font color='blue'> 3. WHAT WILL THIS CODE GENERATE? </font> "
   ]
  },
  {
   "cell_type": "code",
   "execution_count": null,
   "metadata": {},
   "outputs": [],
   "source": [
    "x = 20\n",
    "y = 30\n",
    "\n",
    "print(x == y) \n",
    "print(x != y) \n",
    "print(x > y)\n",
    "print(x < y) \n",
    "print(x == y or x!=y) \n",
    "print(x == y and x!=y) \n"
   ]
  },
  {
   "cell_type": "code",
   "execution_count": null,
   "metadata": {},
   "outputs": [],
   "source": []
  },
  {
   "cell_type": "code",
   "execution_count": 10,
   "metadata": {},
   "outputs": [
    {
     "name": "stdout",
     "output_type": "stream",
     "text": [
      "False\n",
      "True\n",
      "False\n",
      "True\n",
      "True\n",
      "False\n",
      "True\n",
      "False\n",
      "True\n",
      "True\n"
     ]
    }
   ],
   "source": [
    "# ========================================\n",
    "# QUESTION 3: What will this code generate? 🧐\n",
    "# ========================================\n",
    "\n",
    "# Initial variable assignments\n",
    "x = 20  # Assigning value 20 to x\n",
    "y = 30  # Assigning value 30 to y\n",
    "\n",
    "# -----------------------------------------------------\n",
    "# 1️⃣ Comparison: Are x and y equal?\n",
    "print(x == y)  # Evaluates if x is equal to y\n",
    "\n",
    "# Explanation:\n",
    "# x = 20, y = 30 -> These are NOT equal, so the output is False.\n",
    "\n",
    "# -----------------------------------------------------\n",
    "# 2️⃣ Comparison: Are x and y NOT equal?\n",
    "print(x != y)  # Evaluates if x is NOT equal to y\n",
    "\n",
    "# Explanation:\n",
    "# x = 20, y = 30 -> These are NOT equal, so the output is True.\n",
    "\n",
    "# -----------------------------------------------------\n",
    "# 3️⃣ Comparison: Is x greater than y?\n",
    "print(x > y)  # Evaluates if x is greater than y\n",
    "\n",
    "# Explanation:\n",
    "# x = 20, y = 30 -> x is LESS than y, so the output is False.\n",
    "\n",
    "# -----------------------------------------------------\n",
    "# 4️⃣ Comparison: Is x less than y?\n",
    "print(x < y)  # Evaluates if x is less than y\n",
    "\n",
    "# Explanation:\n",
    "# x = 20, y = 30 -> x is LESS than y, so the output is True.\n",
    "\n",
    "# -----------------------------------------------------\n",
    "# 5️⃣ Logical OR: (x == y) OR (x != y)\n",
    "print(x == y or x != y)  # Combines the results of x == y and x != y using the OR operator.\n",
    "\n",
    "# Explanation:\n",
    "# From above:\n",
    "# x == y -> False\n",
    "# x != y -> True\n",
    "# OR requires only ONE condition to be True -> Output is True.\n",
    "\n",
    "# -----------------------------------------------------\n",
    "# 6️⃣ Logical AND: (x == y) AND (x != y)\n",
    "print(x == y and x != y)  # Combines the results of x == y and x != y using the AND operator.\n",
    "\n",
    "# Explanation:\n",
    "# From above:\n",
    "# x == y -> False\n",
    "# x != y -> True\n",
    "# AND requires BOTH conditions to be True -> Output is False.\n",
    "\n",
    "# -------------------------\n",
    "# Expected Outputs Summary 📋\n",
    "# -------------------------\n",
    "# 1️⃣ print(x == y): False\n",
    "# 2️⃣ print(x != y): True\n",
    "# 3️⃣ print(x > y): False\n",
    "# 4️⃣ print(x < y): True\n",
    "# 5️⃣ print(x == y or x != y): True\n",
    "# 6️⃣ print(x == y and x != y): False\n",
    "\n",
    "# -------------------------\n",
    "# WHY IS THIS IMPORTANT? 💡\n",
    "# -------------------------\n",
    "# 1️⃣ Comparison operators (==, !=, >, <) are used to compare two values.\n",
    "# 2️⃣ Logical operators (and, or) are used to combine conditions.\n",
    "# 3️⃣ Understanding these operators is essential for making decisions in your code.\n",
    "\n",
    "# --------------------------------------------------------\n",
    "# ANALOGY: Imagine comparing two numbers for a contest:\n",
    "# --------------------------------------------------------\n",
    "# - x = 20 and y = 30 represent two players' scores.\n",
    "# - You might ask:\n",
    "#   - \"Did both players score the same?\" (x == y)\n",
    "#   - \"Did one player score differently?\" (x != y)\n",
    "#   - \"Did player x outperform player y?\" (x > y)\n",
    "#   - \"Was player x outperformed by player y?\" (x < y)\n",
    "\n",
    "# --------------------------------------------------------\n",
    "# EXERCISE: Test Yourself! 🎯\n",
    "# --------------------------------------------------------\n",
    "# Predict the output for the following comparisons:\n",
    "a = 50\n",
    "b = 25\n",
    "\n",
    "print(a >= b)  # True or False?\n",
    "print(a < b or a == b)  # True or False?\n",
    "print(a > b and b == 25)  # True or False?\n",
    "print(a != b and b != 50)  # True or False?"
   ]
  },
  {
   "cell_type": "code",
   "execution_count": null,
   "metadata": {},
   "outputs": [],
   "source": []
  },
  {
   "cell_type": "code",
   "execution_count": null,
   "metadata": {},
   "outputs": [],
   "source": []
  },
  {
   "cell_type": "markdown",
   "metadata": {},
   "source": [
    "# <font color='blue'> 4. GIVEN THE DICTIONARY BELOW, WRITE TO CODE TO SELECT DICTIONARY ELEMENTS THAT ARE GREATER THAN OR EQUAL 30 AND PLACE THE VALUES IN A LIST </font> "
   ]
  },
  {
   "cell_type": "markdown",
   "metadata": {},
   "source": [
    "Please note that we did not cover loops yet so the answer below is pretty basic!"
   ]
  },
  {
   "cell_type": "code",
   "execution_count": 43,
   "metadata": {},
   "outputs": [],
   "source": [
    "input_dictionary = {\"Key 1\": 20, \"Key 2\": 30, \"Key 3\": 50}\n"
   ]
  },
  {
   "cell_type": "code",
   "execution_count": 44,
   "metadata": {},
   "outputs": [],
   "source": [
    "out_dictionary = []"
   ]
  },
  {
   "cell_type": "code",
   "execution_count": 45,
   "metadata": {},
   "outputs": [],
   "source": [
    "if input_dictionary[\"Key 2\"] >= 30:\n",
    "    out_dictionary.append(input_dictionary[\"Key 2\"])"
   ]
  },
  {
   "cell_type": "code",
   "execution_count": 46,
   "metadata": {},
   "outputs": [
    {
     "data": {
      "text/plain": [
       "[30]"
      ]
     },
     "execution_count": 46,
     "metadata": {},
     "output_type": "execute_result"
    }
   ],
   "source": [
    "out_dictionary"
   ]
  },
  {
   "cell_type": "code",
   "execution_count": 47,
   "metadata": {},
   "outputs": [],
   "source": [
    "out_dictionary = []\n",
    "if input_dictionary[\"Key 1\"] >= 30:\n",
    "    out_dictionary.append(input_dictionary[\"Key 1\"])\n",
    "    \n",
    "if input_dictionary[\"Key 2\"] >= 30:\n",
    "    out_dictionary.append(input_dictionary[\"Key 2\"])\n",
    "       \n",
    "if input_dictionary[\"Key 3\"] >= 30:\n",
    "    out_dictionary.append(input_dictionary[\"Key 3\"])\n",
    "        "
   ]
  },
  {
   "cell_type": "code",
   "execution_count": 48,
   "metadata": {},
   "outputs": [
    {
     "data": {
      "text/plain": [
       "[30, 50]"
      ]
     },
     "execution_count": 48,
     "metadata": {},
     "output_type": "execute_result"
    }
   ],
   "source": [
    "out_dictionary"
   ]
  },
  {
   "cell_type": "code",
   "execution_count": null,
   "metadata": {},
   "outputs": [],
   "source": []
  },
  {
   "cell_type": "code",
   "execution_count": null,
   "metadata": {},
   "outputs": [],
   "source": []
  },
  {
   "cell_type": "code",
   "execution_count": 13,
   "metadata": {},
   "outputs": [
    {
     "name": "stdout",
     "output_type": "stream",
     "text": [
      "[30]\n",
      "[30, 50]\n",
      "[30, 50]\n",
      "[30, 50]\n"
     ]
    }
   ],
   "source": [
    "# ====================================================\n",
    "# QUESTION 4: Filtering dictionary values based on a condition 🧐\n",
    "# ====================================================\n",
    "\n",
    "# Input dictionary containing keys and values\n",
    "input_dictionary = {\n",
    "    \"Key 1\": 20,  # Value is 20\n",
    "    \"Key 2\": 30,  # Value is 30\n",
    "    \"Key 3\": 50   # Value is 50\n",
    "}\n",
    "\n",
    "# ==============================================\n",
    "# GOAL:\n",
    "# Filter out values from the dictionary that are \n",
    "# greater than or equal to 30 and store them in a list.\n",
    "# ==============================================\n",
    "\n",
    "# Step 1: Create an empty list to store the filtered values\n",
    "out_dictionary = []  # This will store the final result\n",
    "\n",
    "# -----------------------------------------------------\n",
    "# Step 2: Check each value manually (NO LOOPS YET)\n",
    "# -----------------------------------------------------\n",
    "\n",
    "# Example 1: Check if \"Key 2\" value is >= 30\n",
    "if input_dictionary[\"Key 2\"] >= 30:  # Condition to check\n",
    "    out_dictionary.append(input_dictionary[\"Key 2\"])  # Append the value if condition is met\n",
    "\n",
    "# Output the result\n",
    "print(out_dictionary)  # Output will be: [30]\n",
    "\n",
    "# -----------------------------------------------------\n",
    "# Example 2: Check all keys manually (still NO loops) 🚀\n",
    "# -----------------------------------------------------\n",
    "out_dictionary = []  # Reset the list to avoid duplication\n",
    "\n",
    "# Check \"Key 1\"\n",
    "if input_dictionary[\"Key 1\"] >= 30:\n",
    "    out_dictionary.append(input_dictionary[\"Key 1\"])\n",
    "\n",
    "# Check \"Key 2\"\n",
    "if input_dictionary[\"Key 2\"] >= 30:\n",
    "    out_dictionary.append(input_dictionary[\"Key 2\"])\n",
    "\n",
    "# Check \"Key 3\"\n",
    "if input_dictionary[\"Key 3\"] >= 30:\n",
    "    out_dictionary.append(input_dictionary[\"Key 3\"])\n",
    "\n",
    "# Output the result\n",
    "print(out_dictionary)  # Output will be: [30, 50]\n",
    "\n",
    "# ====================================================\n",
    "# ADVANCED SOLUTION: Using a loop 🔄 (optional if loops are covered)\n",
    "# ====================================================\n",
    "out_dictionary = []  # Reset the list\n",
    "\n",
    "# Loop through each key-value pair in the dictionary\n",
    "for key, value in input_dictionary.items():  # .items() gives both key and value\n",
    "    if value >= 30:  # Check if the value meets the condition\n",
    "        out_dictionary.append(value)  # Append the value to the result list\n",
    "\n",
    "# Output the result\n",
    "print(out_dictionary)  # Output will be: [30, 50]\n",
    "\n",
    "# -----------------------------------------------------\n",
    "# Why is the loop better? 🤔\n",
    "# - The loop eliminates the need to write separate conditions for each key.\n",
    "# - It makes the code scalable for dictionaries with many elements.\n",
    "# -----------------------------------------------------\n",
    "\n",
    "# ====================================================\n",
    "# ALTERNATE SOLUTION: Using list comprehension 🌟\n",
    "# ====================================================\n",
    "# List comprehension is a compact way to filter values\n",
    "out_dictionary = [value for value in input_dictionary.values() if value >= 30]\n",
    "print(out_dictionary)  # Output will be: [30, 50]\n",
    "\n",
    "# ====================================================\n",
    "# ADDITIONAL EXERCISE: Predict the outputs! 📝\n",
    "# ====================================================\n",
    "# 1. input_dictionary = {\"A\": 10, \"B\": 40, \"C\": 25}\n",
    "#    Condition: >= 25\n",
    "#    Output? [40, 25]\n",
    "\n",
    "# 2. input_dictionary = {\"X\": 100, \"Y\": 50, \"Z\": 5}\n",
    "#    Condition: >= 50\n",
    "#    Output? [100, 50]\n",
    "\n",
    "# 3. input_dictionary = {\"P\": -10, \"Q\": 0, \"R\": 10}\n",
    "#    Condition: > 0\n",
    "#    Output? [10]"
   ]
  },
  {
   "cell_type": "code",
   "execution_count": null,
   "metadata": {},
   "outputs": [],
   "source": []
  },
  {
   "cell_type": "code",
   "execution_count": null,
   "metadata": {},
   "outputs": [],
   "source": []
  },
  {
   "cell_type": "markdown",
   "metadata": {},
   "source": [
    "# <font color='blue'> 5. WRITE A CODE THAT TAKES A NUMBER FROM A USER AND COMPARE IT TO A RANDOMLY GENERATRED NUMBER AND STATES WHICH ONE IS LARGER/SMALLER </font> "
   ]
  },
  {
   "cell_type": "code",
   "execution_count": 9,
   "metadata": {},
   "outputs": [
    {
     "name": "stdout",
     "output_type": "stream",
     "text": [
      "Enter a number between 1 and 100:70\n"
     ]
    }
   ],
   "source": [
    "import random \n",
    "comp = random.randint(1,100)\n",
    "user = int(input(\"Enter a number between 1 and 100:\"))\n"
   ]
  },
  {
   "cell_type": "code",
   "execution_count": 10,
   "metadata": {},
   "outputs": [
    {
     "data": {
      "text/plain": [
       "78"
      ]
     },
     "execution_count": 10,
     "metadata": {},
     "output_type": "execute_result"
    }
   ],
   "source": [
    "comp"
   ]
  },
  {
   "cell_type": "code",
   "execution_count": 11,
   "metadata": {},
   "outputs": [
    {
     "data": {
      "text/plain": [
       "70"
      ]
     },
     "execution_count": 11,
     "metadata": {},
     "output_type": "execute_result"
    }
   ],
   "source": [
    "user"
   ]
  },
  {
   "cell_type": "code",
   "execution_count": 12,
   "metadata": {},
   "outputs": [
    {
     "name": "stdout",
     "output_type": "stream",
     "text": [
      "The value you entered is 70 and the randomly generated value is 78\n",
      "The value you entered is smaller than the randomly generated\n"
     ]
    }
   ],
   "source": [
    "print(\"The value you entered is {} and the randomly generated value is {}\".format(user, comp))\n",
    "if user > comp:\n",
    "  print(\"The value you entered is greater than the randomly generated one\")\n",
    "elif user == comp:\n",
    "  print(\"The value you entered is equal to the randomly generated one\")\n",
    "else:\n",
    "  print(\"The value you entered is smaller than the randomly generated one\")"
   ]
  },
  {
   "cell_type": "code",
   "execution_count": null,
   "metadata": {},
   "outputs": [],
   "source": []
  },
  {
   "cell_type": "code",
   "execution_count": null,
   "metadata": {},
   "outputs": [],
   "source": []
  },
  {
   "cell_type": "code",
   "execution_count": 18,
   "metadata": {},
   "outputs": [
    {
     "name": "stdin",
     "output_type": "stream",
     "text": [
      "Enter a number between 1 and 100:  101\n"
     ]
    },
    {
     "name": "stdout",
     "output_type": "stream",
     "text": [
      "The value you entered is 101 and the randomly generated value is 48\n",
      "The value you entered is greater than the randomly generated one\n"
     ]
    },
    {
     "name": "stdin",
     "output_type": "stream",
     "text": [
      "Enter a number between 1 and 100:  3\n"
     ]
    },
    {
     "name": "stdout",
     "output_type": "stream",
     "text": [
      "The value you entered is 3 and the randomly generated value is 29\n",
      "Your number is smaller!\n"
     ]
    },
    {
     "name": "stdin",
     "output_type": "stream",
     "text": [
      "Guess a number between 1 and 100:  2\n"
     ]
    },
    {
     "name": "stdout",
     "output_type": "stream",
     "text": [
      "Too low! Try again.\n"
     ]
    },
    {
     "name": "stdin",
     "output_type": "stream",
     "text": [
      "Guess a number between 1 and 100:  break\n"
     ]
    },
    {
     "ename": "ValueError",
     "evalue": "invalid literal for int() with base 10: 'break'",
     "output_type": "error",
     "traceback": [
      "\u001b[1;31m---------------------------------------------------------------------------\u001b[0m",
      "\u001b[1;31mValueError\u001b[0m                                Traceback (most recent call last)",
      "Cell \u001b[1;32mIn[18], line 82\u001b[0m\n\u001b[0;32m     79\u001b[0m attempts \u001b[38;5;241m=\u001b[39m \u001b[38;5;241m0\u001b[39m  \u001b[38;5;66;03m# Counter for the number of guesses\u001b[39;00m\n\u001b[0;32m     81\u001b[0m \u001b[38;5;28;01mwhile\u001b[39;00m \u001b[38;5;28;01mTrue\u001b[39;00m:\n\u001b[1;32m---> 82\u001b[0m     user \u001b[38;5;241m=\u001b[39m \u001b[38;5;28mint\u001b[39m(\u001b[38;5;28minput\u001b[39m(\u001b[38;5;124m\"\u001b[39m\u001b[38;5;124mGuess a number between 1 and 100: \u001b[39m\u001b[38;5;124m\"\u001b[39m))\n\u001b[0;32m     83\u001b[0m     attempts \u001b[38;5;241m+\u001b[39m\u001b[38;5;241m=\u001b[39m \u001b[38;5;241m1\u001b[39m\n\u001b[0;32m     84\u001b[0m     \u001b[38;5;28;01mif\u001b[39;00m user \u001b[38;5;241m>\u001b[39m comp:\n",
      "\u001b[1;31mValueError\u001b[0m: invalid literal for int() with base 10: 'break'"
     ]
    }
   ],
   "source": [
    "# ================================================\n",
    "# QUESTION 5: Compare User Input to Random Number 🎲\n",
    "# ================================================\n",
    "\n",
    "# Step 1: Import the `random` module\n",
    "# -----------------------------------------------\n",
    "# The `random` module provides functions to generate random numbers.\n",
    "import random\n",
    "\n",
    "# Step 2: Generate a random number between 1 and 100\n",
    "# -----------------------------------------------\n",
    "# `randint(a, b)` generates a random integer between `a` and `b` (both inclusive).\n",
    "comp = random.randint(1, 100)  # Computer-generated number\n",
    "\n",
    "# Step 3: Ask the user for input\n",
    "# -----------------------------------------------\n",
    "# Use `input()` to get a number from the user.\n",
    "# Convert the input to an integer using `int()`.\n",
    "user = int(input(\"Enter a number between 1 and 100: \"))\n",
    "\n",
    "# Debugging Step: Print the random number and user input (for testing purposes)\n",
    "# Uncomment these lines during testing to verify the inputs\n",
    "# print(f\"Randomly generated number: {comp}\")\n",
    "# print(f\"User's input: {user}\")\n",
    "\n",
    "# Step 4: Compare the user's number with the random number\n",
    "# -----------------------------------------------\n",
    "# Print the values of `user` and `comp` for context\n",
    "print(f\"The value you entered is {user} and the randomly generated value is {comp}\")\n",
    "\n",
    "# Step 5: Use conditional statements to compare values\n",
    "# -----------------------------------------------\n",
    "# If the user's number is greater than the computer-generated number\n",
    "if user > comp:\n",
    "    print(\"The value you entered is greater than the randomly generated one\")\n",
    "# If the user's number is equal to the computer-generated number\n",
    "elif user == comp:\n",
    "    print(\"The value you entered is equal to the randomly generated one\")\n",
    "# If the user's number is smaller than the computer-generated number\n",
    "else:\n",
    "    print(\"The value you entered is smaller than the randomly generated one\")\n",
    "\n",
    "# ================================================\n",
    "# ADDITIONAL EXAMPLES FOR PRACTICE 🌟\n",
    "# ================================================\n",
    "\n",
    "# Example 1: Add more input validation 🛡️\n",
    "# -----------------------------------------------\n",
    "# Ensure the user enters a valid number within the range.\n",
    "# Wrap the code in a loop to handle invalid inputs.\n",
    "\n",
    "valid_input = False  # Flag to track if the input is valid\n",
    "\n",
    "while not valid_input:\n",
    "    try:\n",
    "        user = int(input(\"Enter a number between 1 and 100: \"))\n",
    "        if 1 <= user <= 100:  # Check if the number is within range\n",
    "            valid_input = True\n",
    "        else:\n",
    "            print(\"Please enter a number within the range 1-100!\")\n",
    "    except ValueError:  # Catch non-integer inputs\n",
    "        print(\"Invalid input! Please enter a valid number.\")\n",
    "\n",
    "comp = random.randint(1, 100)\n",
    "print(f\"The value you entered is {user} and the randomly generated value is {comp}\")\n",
    "\n",
    "if user > comp:\n",
    "    print(\"Your number is larger!\")\n",
    "elif user < comp:\n",
    "    print(\"Your number is smaller!\")\n",
    "else:\n",
    "    print(\"It's a tie!\")\n",
    "\n",
    "# Example 2: Let the user guess multiple times 🌀\n",
    "# -----------------------------------------------\n",
    "# Use a loop to allow the user to guess until they get the correct number.\n",
    "\n",
    "comp = random.randint(1, 100)\n",
    "attempts = 0  # Counter for the number of guesses\n",
    "\n",
    "while True:\n",
    "    user = int(input(\"Guess a number between 1 and 100: \"))\n",
    "    attempts += 1\n",
    "    if user > comp:\n",
    "        print(\"Too high! Try again.\")\n",
    "    elif user < comp:\n",
    "        print(\"Too low! Try again.\")\n",
    "    else:\n",
    "        print(f\"Correct! The number was {comp}. You guessed it in {attempts} attempts.\")\n",
    "        break\n",
    "\n",
    "# ================================================\n",
    "# SUMMARY ✍️\n",
    "# ================================================\n",
    "# 1. **Random Number Generation**: Used `random.randint()` to generate a number.\n",
    "# 2. **Input Handling**: Took user input using `input()` and converted it to an integer.\n",
    "# 3. **Conditionals**: Used `if`, `elif`, and `else` to compare the user's input with the random number.\n",
    "# 4. **Extensions**:\n",
    "#    - Added input validation to ensure valid entries.\n",
    "#    - Implemented a guessing game with multiple attempts."
   ]
  },
  {
   "cell_type": "code",
   "execution_count": null,
   "metadata": {},
   "outputs": [],
   "source": []
  },
  {
   "cell_type": "code",
   "execution_count": null,
   "metadata": {},
   "outputs": [],
   "source": []
  },
  {
   "cell_type": "markdown",
   "metadata": {},
   "source": [
    "# <font color='blue'> 6. WRITE A CODE THAT TAKES A NUMBER AND INDICATES IF IT IS POSITIVE, NEGATIVE OR ZERO </font> "
   ]
  },
  {
   "cell_type": "code",
   "execution_count": 18,
   "metadata": {},
   "outputs": [
    {
     "name": "stdout",
     "output_type": "stream",
     "text": [
      "Please enter an integer: d\n"
     ]
    },
    {
     "ename": "ValueError",
     "evalue": "invalid literal for int() with base 10: 'd'",
     "output_type": "error",
     "traceback": [
      "\u001b[1;31m---------------------------------------------------------------------------\u001b[0m",
      "\u001b[1;31mValueError\u001b[0m                                Traceback (most recent call last)",
      "\u001b[1;32m<ipython-input-18-fc8960773286>\u001b[0m in \u001b[0;36m<module>\u001b[1;34m()\u001b[0m\n\u001b[1;32m----> 1\u001b[1;33m \u001b[0mx\u001b[0m \u001b[1;33m=\u001b[0m \u001b[0mint\u001b[0m\u001b[1;33m(\u001b[0m\u001b[0minput\u001b[0m\u001b[1;33m(\u001b[0m\u001b[1;34m\"Please enter an integer: \"\u001b[0m\u001b[1;33m)\u001b[0m\u001b[1;33m)\u001b[0m\u001b[1;33m\u001b[0m\u001b[0m\n\u001b[0m\u001b[0;32m      2\u001b[0m \u001b[1;33m\u001b[0m\u001b[0m\n\u001b[0;32m      3\u001b[0m \u001b[1;32mif\u001b[0m \u001b[0mx\u001b[0m \u001b[1;33m<\u001b[0m \u001b[1;36m0\u001b[0m\u001b[1;33m:\u001b[0m\u001b[1;33m\u001b[0m\u001b[0m\n\u001b[0;32m      4\u001b[0m     \u001b[0mprint\u001b[0m\u001b[1;33m(\u001b[0m\u001b[1;34m'Number is Negative'\u001b[0m\u001b[1;33m)\u001b[0m\u001b[1;33m\u001b[0m\u001b[0m\n\u001b[0;32m      5\u001b[0m \u001b[1;32melif\u001b[0m \u001b[0mx\u001b[0m \u001b[1;33m>\u001b[0m \u001b[1;36m0\u001b[0m\u001b[1;33m:\u001b[0m\u001b[1;33m\u001b[0m\u001b[0m\n",
      "\u001b[1;31mValueError\u001b[0m: invalid literal for int() with base 10: 'd'"
     ]
    }
   ],
   "source": [
    "x = int(input(\"Please enter an integer: \"))\n",
    "\n",
    "if x < 0:\n",
    "    print('Number is Negative')\n",
    "elif x > 0:\n",
    "    print('Number is Positive')\n",
    "else:    \n",
    "    print ('Number is zero')\n"
   ]
  },
  {
   "cell_type": "code",
   "execution_count": null,
   "metadata": {},
   "outputs": [],
   "source": []
  },
  {
   "cell_type": "code",
   "execution_count": null,
   "metadata": {},
   "outputs": [],
   "source": []
  },
  {
   "cell_type": "code",
   "execution_count": 21,
   "metadata": {},
   "outputs": [
    {
     "name": "stdin",
     "output_type": "stream",
     "text": [
      "Please enter an integer:  66\n"
     ]
    },
    {
     "name": "stdout",
     "output_type": "stream",
     "text": [
      "Number is Positive\n"
     ]
    },
    {
     "name": "stdin",
     "output_type": "stream",
     "text": [
      "Enter an integer (loop example):  51,55,78,88,99\n"
     ]
    },
    {
     "name": "stdout",
     "output_type": "stream",
     "text": [
      "Error: Please enter a valid integer!\n"
     ]
    },
    {
     "name": "stdin",
     "output_type": "stream",
     "text": [
      "Enter an integer (loop example):  144\n"
     ]
    },
    {
     "name": "stdout",
     "output_type": "stream",
     "text": [
      "The number you entered is POSITIVE.\n"
     ]
    },
    {
     "name": "stdin",
     "output_type": "stream",
     "text": [
      "Enter any number (can be decimal):  0\n"
     ]
    },
    {
     "name": "stdout",
     "output_type": "stream",
     "text": [
      "The number you entered is ZERO.\n"
     ]
    }
   ],
   "source": [
    "# ===============================================\n",
    "# QUESTION 6: Determine if a Number is Positive, Negative, or Zero 🌟\n",
    "# ===============================================\n",
    "\n",
    "# Step 1: Ask the user to input a number\n",
    "# -----------------------------------------------\n",
    "# `input()` gets the input as a string from the user.\n",
    "# `int()` converts the string input into an integer.\n",
    "# We'll use a `try` block to handle invalid inputs.\n",
    "try:\n",
    "    x = int(input(\"Please enter an integer: \"))  # User inputs a number\n",
    "except ValueError:  # Handle invalid inputs (e.g., entering letters or symbols)\n",
    "    print(\"Invalid input! Please enter a valid integer.\")  # Display an error message\n",
    "else:\n",
    "    # Step 2: Use conditional statements to check if the number is positive, negative, or zero\n",
    "    # -----------------------------------------------\n",
    "    if x < 0:\n",
    "        print(\"Number is Negative\")  # Output when the number is less than 0\n",
    "    elif x > 0:\n",
    "        print(\"Number is Positive\")  # Output when the number is greater than 0\n",
    "    else:\n",
    "        print(\"Number is Zero\")  # Output when the number is 0\n",
    "\n",
    "# ===============================================\n",
    "# ADDITIONAL IMPROVEMENTS 🌟\n",
    "# ===============================================\n",
    "\n",
    "# 1️⃣ Example with Loop: Keep asking the user until they enter a valid integer\n",
    "while True:\n",
    "    try:\n",
    "        x = int(input(\"Enter an integer (loop example): \"))  # Retry until valid input\n",
    "        break  # Exit the loop if input is valid\n",
    "    except ValueError:\n",
    "        print(\"Error: Please enter a valid integer!\")  # Keep prompting until valid\n",
    "\n",
    "# Check the number's type\n",
    "if x < 0:\n",
    "    print(\"The number you entered is NEGATIVE.\")\n",
    "elif x > 0:\n",
    "    print(\"The number you entered is POSITIVE.\")\n",
    "else:\n",
    "    print(\"The number you entered is ZERO.\")\n",
    "\n",
    "# 2️⃣ Example with Floats: Allow decimal inputs and determine positivity\n",
    "try:\n",
    "    y = float(input(\"Enter any number (can be decimal): \"))  # Accept float input\n",
    "    if y < 0:\n",
    "        print(\"The number you entered is NEGATIVE.\")\n",
    "    elif y > 0:\n",
    "        print(\"The number you entered is POSITIVE.\")\n",
    "    else:\n",
    "        print(\"The number you entered is ZERO.\")\n",
    "except ValueError:\n",
    "    print(\"Error: Please enter a valid number!\")\n",
    "\n",
    "# ===============================================\n",
    "# SUMMARY ✍️\n",
    "# ===============================================\n",
    "# 1. The program takes a number from the user.\n",
    "# 2. It determines if the number is positive, negative, or zero using `if`, `elif`, and `else`.\n",
    "# 3. Added error handling to avoid program crashes when invalid inputs are entered.\n",
    "# 4. Examples with loops and float inputs for broader use cases.\n"
   ]
  },
  {
   "cell_type": "code",
   "execution_count": null,
   "metadata": {},
   "outputs": [],
   "source": []
  },
  {
   "cell_type": "code",
   "execution_count": null,
   "metadata": {},
   "outputs": [],
   "source": []
  },
  {
   "cell_type": "code",
   "execution_count": null,
   "metadata": {},
   "outputs": [],
   "source": []
  },
  {
   "cell_type": "markdown",
   "metadata": {},
   "source": [
    "# <font color='blue'> 7. WRITE A SCRIPT THAT WILL PROMPT A USER FOR AN INPUT AND CHECKS OF THE NUMBER IS DIVISIBLE BY 5 BUT ARE NOT MULTIPLES OF 7 "
   ]
  },
  {
   "cell_type": "code",
   "execution_count": 21,
   "metadata": {},
   "outputs": [
    {
     "name": "stdout",
     "output_type": "stream",
     "text": [
      "Enter a number between 1 and 100:30\n",
      "Number satisfies the requirement; The number is divisible by 5 and not multiple of 7\n"
     ]
    }
   ],
   "source": [
    "i = int(input(\"Enter a number between 1 and 100:\"))\n",
    "\n",
    "if (i % 5 == 0) and (i % 7 !=0):\n",
    "    print(\"Number satisfies the requirement; The number is divisible by 5 and not multiple of 7\")\n",
    "else:\n",
    "    print(\"The number does not satisfy the requirements\")\n"
   ]
  },
  {
   "cell_type": "code",
   "execution_count": null,
   "metadata": {},
   "outputs": [],
   "source": []
  },
  {
   "cell_type": "code",
   "execution_count": null,
   "metadata": {},
   "outputs": [],
   "source": []
  },
  {
   "cell_type": "code",
   "execution_count": 24,
   "metadata": {},
   "outputs": [
    {
     "name": "stdin",
     "output_type": "stream",
     "text": [
      "Enter a number between 1 and 100:  9\n"
     ]
    },
    {
     "name": "stdout",
     "output_type": "stream",
     "text": [
      "❌ The number does not satisfy the requirements.\n"
     ]
    },
    {
     "name": "stdin",
     "output_type": "stream",
     "text": [
      "Enter a number between 1 and 100 (loop example):  48\n"
     ]
    },
    {
     "name": "stdout",
     "output_type": "stream",
     "text": [
      "❌ The number does not satisfy the requirements.\n"
     ]
    }
   ],
   "source": [
    "# ===============================================\n",
    "# QUESTION 7: Check Divisibility by 5 but NOT Multiples of 7 🌟\n",
    "# ===============================================\n",
    "\n",
    "# Step 1: Prompt the user for a number\n",
    "# -----------------------------------------------\n",
    "# Ask the user to enter a number between 1 and 100\n",
    "try:\n",
    "    i = int(input(\"Enter a number between 1 and 100: \"))  # Convert input to integer\n",
    "    # Check if the number is within the valid range\n",
    "    if i < 1 or i > 100:\n",
    "        print(\"Invalid input! Please enter a number between 1 and 100.\")  # Notify user\n",
    "    else:\n",
    "        # Step 2: Use conditional statements to check requirements\n",
    "        # -----------------------------------------------\n",
    "        # Condition 1: The number must be divisible by 5 (i % 5 == 0)\n",
    "        # Condition 2: The number must NOT be divisible by 7 (i % 7 != 0)\n",
    "        if (i % 5 == 0) and (i % 7 != 0):\n",
    "            print(\"✅ Number satisfies the requirement: The number is divisible by 5 and NOT a multiple of 7.\")\n",
    "        else:\n",
    "            print(\"❌ The number does not satisfy the requirements.\")\n",
    "except ValueError:\n",
    "    print(\"Error: Please enter a valid integer!\")  # Handle invalid inputs\n",
    "\n",
    "# ===============================================\n",
    "# ADDITIONAL IMPROVEMENTS 🌟\n",
    "# ===============================================\n",
    "\n",
    "# 1️⃣ Use a loop to keep prompting until valid input is provided\n",
    "while True:\n",
    "    try:\n",
    "        num = int(input(\"Enter a number between 1 and 100 (loop example): \"))  # User enters a number\n",
    "        if 1 <= num <= 100:  # Check if the number is in the valid range\n",
    "            if (num % 5 == 0) and (num % 7 != 0):\n",
    "                print(\"✅ Number satisfies the requirement: Divisible by 5 and NOT a multiple of 7.\")\n",
    "            else:\n",
    "                print(\"❌ The number does not satisfy the requirements.\")\n",
    "            break  # Exit the loop once a valid number is processed\n",
    "        else:\n",
    "            print(\"Please enter a number BETWEEN 1 and 100.\")  # Notify for invalid range\n",
    "    except ValueError:\n",
    "        print(\"Error: Please enter a valid integer!\")  # Handle invalid input\n",
    "\n",
    "# ===============================================\n",
    "# SUMMARY ✍️\n",
    "# ===============================================\n",
    "# 1. The program checks two conditions:\n",
    "#    - Divisible by 5 (`i % 5 == 0`)\n",
    "#    - NOT a multiple of 7 (`i % 7 != 0`)\n",
    "# 2. Added error handling (`try-except`) to prevent crashes on invalid input.\n",
    "# 3. Used range validation to ensure the input is between 1 and 100.\n",
    "# 4. Added a loop example to keep asking the user until valid input is provided.\n"
   ]
  },
  {
   "cell_type": "code",
   "execution_count": null,
   "metadata": {},
   "outputs": [],
   "source": []
  },
  {
   "cell_type": "code",
   "execution_count": null,
   "metadata": {},
   "outputs": [],
   "source": []
  },
  {
   "cell_type": "code",
   "execution_count": null,
   "metadata": {},
   "outputs": [],
   "source": []
  },
  {
   "cell_type": "markdown",
   "metadata": {},
   "source": [
    "# <font color='blue'> 8. WRITE A CODE THAT TAKES AN INPUT FROM THE USER AND INDICATES ITS NUMBER OF DIGITS"
   ]
  },
  {
   "cell_type": "code",
   "execution_count": 33,
   "metadata": {},
   "outputs": [
    {
     "name": "stdout",
     "output_type": "stream",
     "text": [
      "Enter a positive number1003\n"
     ]
    }
   ],
   "source": [
    "x = int(input('Enter a positive number')) "
   ]
  },
  {
   "cell_type": "code",
   "execution_count": 34,
   "metadata": {},
   "outputs": [
    {
     "name": "stdout",
     "output_type": "stream",
     "text": [
      "Number is 4 digit\n"
     ]
    }
   ],
   "source": [
    "\n",
    "if 0 <= x <= 9:\n",
    "    print(\"Number is single digit\")\n",
    "elif 10 <= x <= 99:\n",
    "    print(\"Number is double digit\")\n",
    "elif 100 <= x <= 999:\n",
    "    print(\"Number is 3 digits\")\n",
    "elif 1000 <= x <= 9999:\n",
    "    print(\"Number is 4 digits\")\n",
    "else:\n",
    "    print(\"Number is more than 4 digits\")"
   ]
  },
  {
   "cell_type": "code",
   "execution_count": null,
   "metadata": {},
   "outputs": [],
   "source": []
  },
  {
   "cell_type": "code",
   "execution_count": 30,
   "metadata": {},
   "outputs": [
    {
     "name": "stdin",
     "output_type": "stream",
     "text": [
      "Enter a positive number:  1444\n"
     ]
    },
    {
     "name": "stdout",
     "output_type": "stream",
     "text": [
      "The number is a four-digit number. ✨\n"
     ]
    },
    {
     "name": "stdin",
     "output_type": "stream",
     "text": [
      "Enter a positive number (alternative method):  55\n"
     ]
    },
    {
     "name": "stdout",
     "output_type": "stream",
     "text": [
      "The number has 2 digit(s). ✨\n"
     ]
    }
   ],
   "source": [
    "# ===============================================\n",
    "# QUESTION 8: Determine the Number of Digits in a Positive Number ✨\n",
    "# ===============================================\n",
    "\n",
    "# Step 1: Prompt the user for input\n",
    "# -----------------------------------------------\n",
    "# Ask the user to enter a positive integer\n",
    "try:\n",
    "    x = int(input(\"Enter a positive number: \"))  # Convert the input to an integer\n",
    "    \n",
    "    # Step 2: Validate the input\n",
    "    # -----------------------------------------------\n",
    "    # If the number is less than 0, it is invalid\n",
    "    if x < 0:\n",
    "        print(\"❌ Invalid input! Please enter a positive number.\")\n",
    "    else:\n",
    "        # Step 3: Check the number of digits using conditional statements\n",
    "        # -----------------------------------------------\n",
    "        # Check ranges to determine the number of digits\n",
    "        if 0 <= x <= 9:  # Single digit numbers\n",
    "            print(\"The number is a single-digit number. ✨\")\n",
    "        elif 10 <= x <= 99:  # Two-digit numbers\n",
    "            print(\"The number is a double-digit number. ✨\")\n",
    "        elif 100 <= x <= 999:  # Three-digit numbers\n",
    "            print(\"The number is a three-digit number. ✨\")\n",
    "        elif 1000 <= x <= 9999:  # Four-digit numbers\n",
    "            print(\"The number is a four-digit number. ✨\")\n",
    "        else:  # Numbers with more than four digits\n",
    "            print(\"The number has more than four digits. 🚀\")\n",
    "\n",
    "except ValueError:\n",
    "    print(\"❌ Error: Please enter a valid positive integer!\")  # Handle non-numeric inputs\n",
    "\n",
    "# ===============================================\n",
    "# ALTERNATIVE SOLUTION 🌟\n",
    "# ===============================================\n",
    "\n",
    "# Using the length of the string representation of the number\n",
    "try:\n",
    "    # Step 1: Get input from the user\n",
    "    y = input(\"Enter a positive number (alternative method): \")\n",
    "\n",
    "    # Step 2: Check if the input is a valid positive number\n",
    "    if not y.isdigit():\n",
    "        print(\"❌ Invalid input! Please enter a valid positive integer.\")\n",
    "    else:\n",
    "        # Step 3: Calculate the number of digits using the string length\n",
    "        num_digits = len(y)  # Length of the string gives the number of digits\n",
    "        print(f\"The number has {num_digits} digit(s). ✨\")\n",
    "\n",
    "except Exception as e:\n",
    "    print(f\"An unexpected error occurred: {e}\")  # Handle unexpected errors\n",
    "\n",
    "# ===============================================\n",
    "# SUMMARY ✍️\n",
    "# ===============================================\n",
    "# 1️⃣ We implemented two methods to determine the number of digits:\n",
    "#     - Using conditional statements to check the range of the number.\n",
    "#     - Using the length of the string representation of the number.\n",
    "# 2️⃣ Input validation was added to handle negative numbers and invalid entries.\n",
    "# 3️⃣ Clear, user-friendly messages were displayed to explain the results."
   ]
  },
  {
   "cell_type": "code",
   "execution_count": null,
   "metadata": {},
   "outputs": [],
   "source": []
  },
  {
   "cell_type": "code",
   "execution_count": null,
   "metadata": {},
   "outputs": [],
   "source": []
  },
  {
   "cell_type": "markdown",
   "metadata": {},
   "source": [
    "# <font color='blue'> 9. WRITE A CODE THAT TAKES AN INPUT FROM THE USER AND INDICATES IF IT IS EVEN OR ODD"
   ]
  },
  {
   "cell_type": "code",
   "execution_count": 37,
   "metadata": {},
   "outputs": [
    {
     "name": "stdout",
     "output_type": "stream",
     "text": [
      "Please enter an integer from 1 to 1000: 20\n",
      "Number is Even\n"
     ]
    }
   ],
   "source": [
    "x = int(input(\"Please enter an integer from 1 to 1000: \"))\n",
    "\n",
    "if x % 2==0:\n",
    "    print('Number is Even')\n",
    "else:\n",
    "    print('Number is odd')\n"
   ]
  },
  {
   "cell_type": "code",
   "execution_count": null,
   "metadata": {},
   "outputs": [],
   "source": []
  },
  {
   "cell_type": "code",
   "execution_count": null,
   "metadata": {},
   "outputs": [],
   "source": []
  },
  {
   "cell_type": "code",
   "execution_count": 32,
   "metadata": {},
   "outputs": [
    {
     "name": "stdin",
     "output_type": "stream",
     "text": [
      "Please enter an integer from 1 to 1000:  97\n"
     ]
    },
    {
     "name": "stdout",
     "output_type": "stream",
     "text": [
      "✅ The number is Odd.\n"
     ]
    },
    {
     "name": "stdin",
     "output_type": "stream",
     "text": [
      "Enter another integer:  41\n"
     ]
    },
    {
     "name": "stdout",
     "output_type": "stream",
     "text": [
      "The number 41 is ✅ Odd.\n"
     ]
    }
   ],
   "source": [
    "# ==========================================\n",
    "# QUESTION 9: Check if a number is Even or Odd ✨\n",
    "# ==========================================\n",
    "\n",
    "# Step 1: Prompt the user for input\n",
    "# ----------------------------------------------\n",
    "# Ask the user to enter an integer within a specified range (1 to 1000)\n",
    "try:\n",
    "    x = int(input(\"Please enter an integer from 1 to 1000: \"))  # Convert the input to an integer\n",
    "\n",
    "    # Step 2: Validate the input\n",
    "    # ----------------------------------------------\n",
    "    # Check if the input number is within the valid range\n",
    "    if x < 1 or x > 1000:\n",
    "        print(\"❌ Invalid input! Please enter a number between 1 and 1000.\")\n",
    "    else:\n",
    "        # Step 3: Check if the number is Even or Odd\n",
    "        # ----------------------------------------------\n",
    "        # Use the modulo operator (%) to check divisibility by 2\n",
    "        if x % 2 == 0:  # If the remainder is 0, the number is Even\n",
    "            print(\"✅ The number is Even.\")\n",
    "        else:  # Otherwise, it is Odd\n",
    "            print(\"✅ The number is Odd.\")\n",
    "\n",
    "except ValueError:\n",
    "    print(\"❌ Error: Please enter a valid integer!\")  # Handle non-numeric inputs\n",
    "\n",
    "# ==========================================\n",
    "# ALTERNATIVE SOLUTION 🌟\n",
    "# ==========================================\n",
    "# Using a reusable function for reusability\n",
    "\n",
    "def check_even_odd(number):\n",
    "    \"\"\"\n",
    "    This function checks if the given number is even or odd.\n",
    "    \"\"\"\n",
    "    # Check divisibility by 2\n",
    "    if number % 2 == 0:\n",
    "        return \"✅ Even\"\n",
    "    else:\n",
    "        return \"✅ Odd\"\n",
    "\n",
    "# Prompt user for another input\n",
    "try:\n",
    "    y = int(input(\"Enter another integer: \"))\n",
    "    print(f\"The number {y} is {check_even_odd(y)}.\")\n",
    "except ValueError:\n",
    "    print(\"❌ Error: Please enter a valid integer!\")\n",
    "\n",
    "# ==========================================\n",
    "# SUMMARY ✍️\n",
    "# ==========================================\n",
    "# 1️⃣ This script prompts the user to input a number within the range of 1 to 1000.\n",
    "# 2️⃣ It checks whether the input is valid (integer and within range).\n",
    "# 3️⃣ Using the modulo operator (%), the program determines whether the number is Even or Odd.\n",
    "# 4️⃣ An alternative solution demonstrates a reusable function to make the code cleaner."
   ]
  },
  {
   "cell_type": "code",
   "execution_count": null,
   "metadata": {},
   "outputs": [],
   "source": []
  },
  {
   "cell_type": "code",
   "execution_count": null,
   "metadata": {},
   "outputs": [],
   "source": []
  },
  {
   "cell_type": "markdown",
   "metadata": {},
   "source": [
    "# <font color='blue'> 10. WRITE A CODE THAT TAKES THE VALUES OF THE DICTIONARY BELOW AND OUTPUT VALUES MORE THAN 25 IN AN OUTPUT LIST"
   ]
  },
  {
   "cell_type": "code",
   "execution_count": 49,
   "metadata": {},
   "outputs": [],
   "source": [
    "my_dict = {\"sally\": 23, \"dina\": 30, \"holy\": 50}\n",
    "\n",
    "out = []\n",
    "\n",
    "x = list(my_dict.values())\n",
    "\n",
    "if x[0]>25:\n",
    "    out.append(x[0])\n",
    "\n",
    "if x[1]>25:\n",
    "    out.append(x[1])\n",
    "\n",
    "if x[2]>25:\n",
    "    out.append(x[2])\n"
   ]
  },
  {
   "cell_type": "code",
   "execution_count": 50,
   "metadata": {},
   "outputs": [
    {
     "data": {
      "text/plain": [
       "[30, 50]"
      ]
     },
     "execution_count": 50,
     "metadata": {},
     "output_type": "execute_result"
    }
   ],
   "source": [
    "out"
   ]
  },
  {
   "cell_type": "code",
   "execution_count": null,
   "metadata": {},
   "outputs": [],
   "source": []
  },
  {
   "cell_type": "code",
   "execution_count": null,
   "metadata": {},
   "outputs": [],
   "source": []
  },
  {
   "cell_type": "code",
   "execution_count": 35,
   "metadata": {},
   "outputs": [
    {
     "name": "stdout",
     "output_type": "stream",
     "text": [
      "[30, 50]\n",
      "Filtered values greater than 25: [30, 50]\n"
     ]
    }
   ],
   "source": [
    "# ==========================================\n",
    "# QUESTION 10: Filter dictionary values greater than 25\n",
    "# ==========================================\n",
    "\n",
    "# Step 1: Define the dictionary\n",
    "# ----------------------------------------------\n",
    "# Our dictionary contains names as keys and their associated values\n",
    "my_dict = {\"sally\": 23, \"dina\": 30, \"holy\": 50}\n",
    "\n",
    "# Step 2: Initialize an empty list to store the filtered values\n",
    "# ----------------------------------------------\n",
    "# This list will hold all values from the dictionary that are greater than 25\n",
    "output = []\n",
    "\n",
    "# Step 3: Extract the values from the dictionary\n",
    "# ----------------------------------------------\n",
    "# The values() method of the dictionary returns all the values in the dictionary\n",
    "values = list(my_dict.values())  # Convert to a list for easy indexing (optional)\n",
    "\n",
    "# Step 4: Apply filtering logic for each value\n",
    "# ----------------------------------------------\n",
    "# Check each value to determine if it is greater than 25\n",
    "if values[0] > 25:  # Check the first value\n",
    "    output.append(values[0])  # Add to the output list if the condition is satisfied\n",
    "\n",
    "if values[1] > 25:  # Check the second value\n",
    "    output.append(values[1])  # Add to the output list if the condition is satisfied\n",
    "\n",
    "if values[2] > 25:  # Check the third value\n",
    "    output.append(values[2])  # Add to the output list if the condition is satisfied\n",
    "\n",
    "# Step 5: Display the output\n",
    "# ----------------------------------------------\n",
    "# The filtered values will now be in the output list\n",
    "print(output)  # Output: [30, 50]\n",
    "\n",
    "# ==========================================\n",
    "# ALTERNATIVE SOLUTION 🌟 (Using Loops)\n",
    "# ==========================================\n",
    "# Use a loop to make the code more dynamic and scalable\n",
    "output = []\n",
    "\n",
    "for value in my_dict.values():  # Iterate through all dictionary values\n",
    "    if value > 25:  # Check if the value satisfies the condition\n",
    "        output.append(value)  # Add the value to the output list if condition is met\n",
    "\n",
    "print(\"Filtered values greater than 25:\", output)  # Output: [30, 50]\n",
    "\n",
    "# ==========================================\n",
    "# SUMMARY ✍️\n",
    "# ==========================================\n",
    "# 1️⃣ The dictionary stores key-value pairs. We only focus on the values.\n",
    "# 2️⃣ A filtering condition is applied to extract values greater than 25.\n",
    "# 3️⃣ The filtered values are stored in an output list.\n",
    "# 4️⃣ Alternative solutions include using loops or list comprehensions."
   ]
  },
  {
   "cell_type": "code",
   "execution_count": null,
   "metadata": {},
   "outputs": [],
   "source": []
  },
  {
   "cell_type": "code",
   "execution_count": null,
   "metadata": {},
   "outputs": [],
   "source": []
  },
  {
   "cell_type": "markdown",
   "metadata": {},
   "source": [
    "# NOW YOU SHOULD BE FAMILIAR WITH LOGICAL OPERATORS, COMPARISON OPERATORS, AND IF STATMENTS, GREAT JOB!"
   ]
  }
 ],
 "metadata": {
  "kernelspec": {
   "display_name": "Python [conda env:base] *",
   "language": "python",
   "name": "conda-base-py"
  },
  "language_info": {
   "codemirror_mode": {
    "name": "ipython",
    "version": 3
   },
   "file_extension": ".py",
   "mimetype": "text/x-python",
   "name": "python",
   "nbconvert_exporter": "python",
   "pygments_lexer": "ipython3",
   "version": "3.12.3"
  }
 },
 "nbformat": 4,
 "nbformat_minor": 4
}
