{
 "cells": [
  {
   "cell_type": "markdown",
   "metadata": {},
   "source": [
    "# <font color='red'> *ABSOLUTE BEGINNER LEVEL* </font> \n",
    "# <font color='red'> SETS AND TUPLES </font> "
   ]
  },
  {
   "cell_type": "markdown",
   "metadata": {},
   "source": [
    "# <font color='blue'> 1. PRINT HELLO FOLLOWED BY THE NAMES AND THE AGE IN THE TUPLE"
   ]
  },
  {
   "cell_type": "code",
   "execution_count": null,
   "metadata": {},
   "outputs": [],
   "source": [
    "my_tuple = (\"chanel\", 26)\n",
    "\n",
    "print(\"Hello {}, you are {} years old!\".format(my_tuple[0], my_tuple[1]))  "
   ]
  },
  {
   "cell_type": "code",
   "execution_count": null,
   "metadata": {},
   "outputs": [],
   "source": []
  },
  {
   "cell_type": "code",
   "execution_count": null,
   "metadata": {},
   "outputs": [],
   "source": []
  },
  {
   "cell_type": "code",
   "execution_count": 2,
   "metadata": {},
   "outputs": [
    {
     "name": "stdout",
     "output_type": "stream",
     "text": [
      "📋 Accessing tuple elements:\n",
      "Name: chanel\n",
      "Age: 26\n",
      "\n",
      "👋 Personalized message:\n",
      "Hello chanel, you are 26 years old!\n",
      "\n",
      "🧹 Using f-strings for the same message:\n",
      "Hello chanel, you are 26 years old!\n",
      "\n",
      "⌨️ Dynamic input example:\n"
     ]
    },
    {
     "name": "stdin",
     "output_type": "stream",
     "text": [
      "Enter your name:  tom\n",
      "Enter your age:  45\n"
     ]
    },
    {
     "name": "stdout",
     "output_type": "stream",
     "text": [
      "Hello tom, you are 45 years old!\n",
      "\n",
      "🧑‍🤝‍🧑 Handling multiple people:\n",
      "Hello chanel, you are 26 years old!\n",
      "Hello ryan, you are 30 years old!\n",
      "Hello sarah, you are 22 years old!\n",
      "\n",
      "📚 Working with a nested tuple:\n",
      "Access 'details': ('details', ('location', 'NYC', 'USA'))\n",
      "Location inside 'details': ('location', 'NYC', 'USA')\n"
     ]
    }
   ],
   "source": [
    "# Step 1️⃣: Create a tuple to store name and age 🖊️\n",
    "# A tuple is immutable and can store multiple pieces of information together.\n",
    "my_tuple = (\"chanel\", 26)  # The tuple contains a name ('chanel') and an age (26).\n",
    "\n",
    "# Step 2️⃣: Access tuple elements using indexing 🔢\n",
    "# Tuples are indexed from 0. Here, my_tuple[0] is the name, and my_tuple[1] is the age.\n",
    "print(\"📋 Accessing tuple elements:\")\n",
    "print(\"Name:\", my_tuple[0])  # Output: 'chanel'\n",
    "print(\"Age:\", my_tuple[1])   # Output: 26\n",
    "\n",
    "# Step 3️⃣: Print a personalized message using the tuple values ✨\n",
    "# Use the format() method to dynamically include the name and age in the message.\n",
    "print(\"\\n👋 Personalized message:\")\n",
    "print(\"Hello {}, you are {} years old!\".format(my_tuple[0], my_tuple[1]))  # Output: 'Hello chanel, you are 26 years old!'\n",
    "\n",
    "# Step 4️⃣: Use f-strings for cleaner formatting (Python 3.6+ feature) 🧹\n",
    "# F-strings make string formatting concise and easy to read.\n",
    "print(\"\\n🧹 Using f-strings for the same message:\")\n",
    "print(f\"Hello {my_tuple[0]}, you are {my_tuple[1]} years old!\")  # Output: 'Hello chanel, you are 26 years old!'\n",
    "\n",
    "# Step 5️⃣: Experimenting with dynamic inputs ⌨️\n",
    "# Take the name and age as input from the user and store them in a tuple.\n",
    "print(\"\\n⌨️ Dynamic input example:\")\n",
    "name = input(\"Enter your name: \")  # User inputs their name\n",
    "age = int(input(\"Enter your age: \"))  # User inputs their age (convert to integer)\n",
    "\n",
    "# Create a tuple from the user input\n",
    "user_tuple = (name, age)\n",
    "\n",
    "# Print a personalized message based on user input\n",
    "print(f\"Hello {user_tuple[0]}, you are {user_tuple[1]} years old!\")  # Output will depend on user input.\n",
    "\n",
    "# Step 6️⃣: Handling multiple people in a tuple 🧑‍🤝‍🧑\n",
    "# Define a tuple that contains multiple names and ages\n",
    "people_tuple = ((\"chanel\", 26), (\"ryan\", 30), (\"sarah\", 22))\n",
    "\n",
    "print(\"\\n🧑‍🤝‍🧑 Handling multiple people:\")\n",
    "for person in people_tuple:\n",
    "    # For each person (a tuple), print their name and age\n",
    "    print(f\"Hello {person[0]}, you are {person[1]} years old!\")\n",
    "\n",
    "# Step 7️⃣: Using a nested tuple for advanced examples 📚\n",
    "# Tuples can be nested inside other tuples to store more complex data\n",
    "nested_tuple = ((\"john\", 40), (\"emma\", 35), (\"details\", (\"location\", \"NYC\", \"USA\")))\n",
    "\n",
    "print(\"\\n📚 Working with a nested tuple:\")\n",
    "print(\"Access 'details':\", nested_tuple[2])  # Access the nested tuple\n",
    "print(\"Location inside 'details':\", nested_tuple[2][1])  # Access 'NYC' inside the nested tuple"
   ]
  },
  {
   "cell_type": "code",
   "execution_count": null,
   "metadata": {},
   "outputs": [],
   "source": []
  },
  {
   "cell_type": "code",
   "execution_count": null,
   "metadata": {},
   "outputs": [],
   "source": []
  },
  {
   "cell_type": "markdown",
   "metadata": {},
   "source": [
    "# <font color='blue'> 2. DEFINE A TUPLE WITH 6 OF YOUR FAVOURITE FRIENDS, PRINT (1) ALL THE TUPLE, (2) LAST ELEMENT, (2) FIRST TWO ELEMENTS "
   ]
  },
  {
   "cell_type": "code",
   "execution_count": 2,
   "metadata": {},
   "outputs": [
    {
     "name": "stdout",
     "output_type": "stream",
     "text": [
      "('chanel', 'mitch', 'sara', 'cynthia', 'diane', 'steeve')\n"
     ]
    }
   ],
   "source": [
    "my_tuple = (\"chanel\", \"mitch\", \"sarah\", \"cynthia\", \"diane\", \"steeve\")\n",
    "print(my_tuple)"
   ]
  },
  {
   "cell_type": "code",
   "execution_count": 5,
   "metadata": {},
   "outputs": [
    {
     "name": "stdout",
     "output_type": "stream",
     "text": [
      "steeve\n"
     ]
    }
   ],
   "source": [
    "print(my_tuple[-1])"
   ]
  },
  {
   "cell_type": "code",
   "execution_count": 7,
   "metadata": {},
   "outputs": [
    {
     "name": "stdout",
     "output_type": "stream",
     "text": [
      "('chanel', 'mitch')\n"
     ]
    }
   ],
   "source": [
    "print(my_tuple[0:2])"
   ]
  },
  {
   "cell_type": "code",
   "execution_count": null,
   "metadata": {},
   "outputs": [],
   "source": []
  },
  {
   "cell_type": "code",
   "execution_count": null,
   "metadata": {},
   "outputs": [],
   "source": []
  },
  {
   "cell_type": "code",
   "execution_count": 6,
   "metadata": {},
   "outputs": [
    {
     "name": "stdout",
     "output_type": "stream",
     "text": [
      "📋 All friends in the tuple:\n",
      "('chanel', 'mitch', 'sarah', 'cynthia', 'diane', 'steeve')\n",
      "\n",
      "🔚 Last friend in the tuple:\n",
      "steeve\n",
      "\n",
      "🔝 First two friends in the tuple:\n",
      "('chanel', 'mitch')\n"
     ]
    }
   ],
   "source": [
    "# Step 1️⃣: Define a tuple with the names of 6 friends 👫\n",
    "# Tuples are immutable collections of ordered elements.\n",
    "my_tuple = (\"chanel\", \"mitch\", \"sarah\", \"cynthia\", \"diane\", \"steeve\")\n",
    "\n",
    "# Step 2️⃣: Print the entire tuple 📋\n",
    "# Use the print() function to display all the elements in the tuple.\n",
    "print(\"📋 All friends in the tuple:\")\n",
    "print(my_tuple)\n",
    "# Output: ('chanel', 'mitch', 'sarah', 'cynthia', 'diane', 'steeve')\n",
    "\n",
    "# Step 3️⃣: Print the last element of the tuple 🔚\n",
    "# Access the last element using negative indexing (my_tuple[-1]).\n",
    "print(\"\\n🔚 Last friend in the tuple:\")\n",
    "print(my_tuple[-1])  # Output: 'steeve'\n",
    "\n",
    "# Step 4️⃣: Print the first two elements of the tuple 🔝\n",
    "# Use slicing (my_tuple[0:2]) to extract the first two elements.\n",
    "print(\"\\n🔝 First two friends in the tuple:\")\n",
    "print(my_tuple[0:2])  # Output: ('chanel', 'mitch')"
   ]
  },
  {
   "cell_type": "code",
   "execution_count": null,
   "metadata": {},
   "outputs": [],
   "source": []
  },
  {
   "cell_type": "code",
   "execution_count": null,
   "metadata": {},
   "outputs": [],
   "source": []
  },
  {
   "cell_type": "markdown",
   "metadata": {},
   "source": [
    "#  <font color='blue'> 3. DEFINE A TUPLE WITH YOUR FIRST NAME, LAST NAME AND AGE. FIND THE LENGTH AND THE TYPE AS WELL."
   ]
  },
  {
   "cell_type": "code",
   "execution_count": 13,
   "metadata": {},
   "outputs": [
    {
     "name": "stdout",
     "output_type": "stream",
     "text": [
      "('Ryan', 'ahmed', 25)\n"
     ]
    }
   ],
   "source": [
    "my_tuple = (\"Ryan\", \"ahmed\", 25)\n",
    "print(my_tuple)\n"
   ]
  },
  {
   "cell_type": "code",
   "execution_count": 14,
   "metadata": {},
   "outputs": [
    {
     "data": {
      "text/plain": [
       "3"
      ]
     },
     "execution_count": 14,
     "metadata": {},
     "output_type": "execute_result"
    }
   ],
   "source": [
    "len(my_tuple)"
   ]
  },
  {
   "cell_type": "code",
   "execution_count": 15,
   "metadata": {},
   "outputs": [
    {
     "data": {
      "text/plain": [
       "tuple"
      ]
     },
     "execution_count": 15,
     "metadata": {},
     "output_type": "execute_result"
    }
   ],
   "source": [
    "type(my_tuple)"
   ]
  },
  {
   "cell_type": "code",
   "execution_count": null,
   "metadata": {},
   "outputs": [],
   "source": []
  },
  {
   "cell_type": "code",
   "execution_count": 9,
   "metadata": {},
   "outputs": [
    {
     "name": "stdout",
     "output_type": "stream",
     "text": [
      "📋 My tuple:\n",
      "('Ryan', 'Ahmed', 25)\n",
      "\n",
      "📏 Length of the tuple:\n",
      "3\n",
      "\n",
      "🧪 Type of the tuple:\n",
      "<class 'tuple'>\n",
      "\n",
      "🔍 Accessing individual elements:\n",
      "First Name: Ryan\n",
      "Last Name: Ahmed\n",
      "Age: 25\n",
      "\n",
      "📝 Updated tuple with profession:\n",
      "('Ryan', 'Ahmed', 25, 'Software Developer')\n"
     ]
    }
   ],
   "source": [
    "# Step 1️⃣: Define a tuple containing personal information 🖊️\n",
    "# Tuples are used to store multiple pieces of data in an immutable structure.\n",
    "my_tuple = (\"Ryan\", \"Ahmed\", 25)  # Contains: First Name, Last Name, Age\n",
    "\n",
    "# Step 2️⃣: Print the entire tuple 📋\n",
    "# This displays all elements stored in the tuple.\n",
    "print(\"📋 My tuple:\")\n",
    "print(my_tuple)  # Output: ('Ryan', 'Ahmed', 25)\n",
    "\n",
    "# Step 3️⃣: Find the length of the tuple 📏\n",
    "# The len() function counts the total number of elements in the tuple.\n",
    "print(\"\\n📏 Length of the tuple:\")\n",
    "print(len(my_tuple))  # Output: 3\n",
    "\n",
    "# Step 4️⃣: Check the data type of the tuple 🧪\n",
    "# Use the type() function to verify that this is a tuple.\n",
    "print(\"\\n🧪 Type of the tuple:\")\n",
    "print(type(my_tuple))  # Output: <class 'tuple'>\n",
    "\n",
    "# Step 5️⃣: Access individual elements using indexing 🔢\n",
    "# Access specific pieces of data by their position in the tuple.\n",
    "print(\"\\n🔍 Accessing individual elements:\")\n",
    "print(\"First Name:\", my_tuple[0])  # Output: Ryan\n",
    "print(\"Last Name:\", my_tuple[1])   # Output: Ahmed\n",
    "print(\"Age:\", my_tuple[2])         # Output: 25\n",
    "\n",
    "# Step 6️⃣: Update summary-like information 📝\n",
    "# Although tuples are immutable, we can \"simulate\" updates by creating a new tuple.\n",
    "updated_tuple = my_tuple + (\"Software Developer\",)  # Add a new field\n",
    "print(\"\\n📝 Updated tuple with profession:\")\n",
    "print(updated_tuple)  # Output: ('Ryan', 'Ahmed', 25, 'Software Developer')"
   ]
  },
  {
   "cell_type": "code",
   "execution_count": null,
   "metadata": {},
   "outputs": [],
   "source": []
  },
  {
   "cell_type": "markdown",
   "metadata": {},
   "source": [
    "# <font color='blue'> 4. PRINT THE NUMBER \"40\", PRINT THE WORD \"WORLD\", PRINT THE NUMBER 25, AND PRINT THE ENTIRE LIST AND TUPLE LISTED BELOW"
   ]
  },
  {
   "cell_type": "code",
   "execution_count": 20,
   "metadata": {},
   "outputs": [
    {
     "name": "stdout",
     "output_type": "stream",
     "text": [
      "40\n",
      "world\n",
      "25\n",
      "[87, 40, 60]\n",
      "(10, 25, 30)\n"
     ]
    }
   ],
   "source": [
    "my_tuple = (\"hello\", [87, 40, 60], \"world\", (10, 25, 30))\n",
    "\n",
    "print(my_tuple[1][1])\n",
    "\n",
    "print(my_tuple[2])\n",
    "\n",
    "print(my_tuple[3][1])\n",
    "\n",
    "print(my_tuple[1])\n",
    "\n",
    "print(my_tuple[3])"
   ]
  },
  {
   "cell_type": "code",
   "execution_count": null,
   "metadata": {},
   "outputs": [],
   "source": []
  },
  {
   "cell_type": "code",
   "execution_count": null,
   "metadata": {},
   "outputs": [],
   "source": []
  },
  {
   "cell_type": "code",
   "execution_count": 12,
   "metadata": {},
   "outputs": [
    {
     "name": "stdout",
     "output_type": "stream",
     "text": [
      "🔢 Number 40 from the list:\n",
      "40\n",
      "\n",
      "🌍 The word 'world':\n",
      "world\n",
      "\n",
      "🔢 Number 25 from the nested tuple:\n",
      "25\n",
      "\n",
      "📝 The entire list inside the tuple:\n",
      "[87, 40, 60]\n",
      "\n",
      "🧳 The entire nested tuple inside the main tuple:\n",
      "(10, 25, 30)\n"
     ]
    }
   ],
   "source": [
    "# Step 1️⃣: Define a tuple containing mixed data types 🎨\n",
    "# The tuple contains:\n",
    "# - A string: \"hello\"\n",
    "# - A list: [87, 40, 60]\n",
    "# - Another string: \"world\"\n",
    "# - A nested tuple: (10, 25, 30)\n",
    "my_tuple = (\"hello\", [87, 40, 60], \"world\", (10, 25, 30))\n",
    "\n",
    "# Step 2️⃣: Print the number 40 from the nested list 🔢\n",
    "# Access the second element of the tuple (index 1), which is a list.\n",
    "# Then, access the second element of that list (index 1).\n",
    "print(\"🔢 Number 40 from the list:\")\n",
    "print(my_tuple[1][1])  # Output: 40\n",
    "\n",
    "# Step 3️⃣: Print the word \"world\" 🌍\n",
    "# Access the third element of the tuple (index 2), which is the string \"world\".\n",
    "print(\"\\n🌍 The word 'world':\")\n",
    "print(my_tuple[2])  # Output: world\n",
    "\n",
    "# Step 4️⃣: Print the number 25 from the nested tuple 🔢\n",
    "# Access the fourth element of the tuple (index 3), which is another tuple.\n",
    "# Then, access the second element of that nested tuple (index 1).\n",
    "print(\"\\n🔢 Number 25 from the nested tuple:\")\n",
    "print(my_tuple[3][1])  # Output: 25\n",
    "\n",
    "# Step 5️⃣: Print the entire list inside the tuple 📝\n",
    "# Access the second element of the tuple (index 1), which is the list.\n",
    "print(\"\\n📝 The entire list inside the tuple:\")\n",
    "print(my_tuple[1])  # Output: [87, 40, 60]\n",
    "\n",
    "# Step 6️⃣: Print the entire nested tuple inside the main tuple 🧳\n",
    "# Access the fourth element of the tuple (index 3), which is the nested tuple.\n",
    "print(\"\\n🧳 The entire nested tuple inside the main tuple:\")\n",
    "print(my_tuple[3])  # Output: (10, 25, 30)"
   ]
  },
  {
   "cell_type": "code",
   "execution_count": null,
   "metadata": {},
   "outputs": [],
   "source": []
  },
  {
   "cell_type": "code",
   "execution_count": null,
   "metadata": {},
   "outputs": [],
   "source": []
  },
  {
   "cell_type": "markdown",
   "metadata": {},
   "source": [
    "# <font color='blue'> 5.EXECUTE THE FOLLOWING COMMANDS AND EXPLAIN WHAT WENT WRONG AND WHAT WENT RIGHT!"
   ]
  },
  {
   "cell_type": "code",
   "execution_count": 24,
   "metadata": {},
   "outputs": [
    {
     "ename": "TypeError",
     "evalue": "'tuple' object does not support item assignment",
     "output_type": "error",
     "traceback": [
      "\u001b[1;31m---------------------------------------------------------------------------\u001b[0m",
      "\u001b[1;31mTypeError\u001b[0m                                 Traceback (most recent call last)",
      "\u001b[1;32m<ipython-input-24-c1df273e31fe>\u001b[0m in \u001b[0;36m<module>\u001b[1;34m()\u001b[0m\n\u001b[0;32m      1\u001b[0m \u001b[0mmy_tuple\u001b[0m \u001b[1;33m=\u001b[0m \u001b[1;33m(\u001b[0m\u001b[1;36m40\u001b[0m\u001b[1;33m,\u001b[0m \u001b[1;36m3\u001b[0m\u001b[1;33m,\u001b[0m \u001b[1;36m2\u001b[0m\u001b[1;33m,\u001b[0m \u001b[1;33m[\u001b[0m\u001b[1;36m10\u001b[0m\u001b[1;33m,\u001b[0m \u001b[1;36m4\u001b[0m\u001b[1;33m]\u001b[0m\u001b[1;33m)\u001b[0m\u001b[1;33m\u001b[0m\u001b[0m\n\u001b[0;32m      2\u001b[0m \u001b[1;33m\u001b[0m\u001b[0m\n\u001b[1;32m----> 3\u001b[1;33m \u001b[0mmy_tuple\u001b[0m\u001b[1;33m[\u001b[0m\u001b[1;36m2\u001b[0m\u001b[1;33m]\u001b[0m \u001b[1;33m=\u001b[0m \u001b[1;36m10\u001b[0m\u001b[1;33m\u001b[0m\u001b[0m\n\u001b[0m",
      "\u001b[1;31mTypeError\u001b[0m: 'tuple' object does not support item assignment"
     ]
    }
   ],
   "source": [
    "my_tuple = (40, 3, 2, [10, 4])\n",
    "\n",
    "my_tuple[2] = 10\n"
   ]
  },
  {
   "cell_type": "code",
   "execution_count": 25,
   "metadata": {},
   "outputs": [
    {
     "name": "stdout",
     "output_type": "stream",
     "text": [
      "(40, 3, 2, [9, 4])\n"
     ]
    }
   ],
   "source": [
    "my_tuple[3][0] = 9\n",
    "print(my_tuple)\n"
   ]
  },
  {
   "cell_type": "code",
   "execution_count": null,
   "metadata": {},
   "outputs": [],
   "source": []
  },
  {
   "cell_type": "code",
   "execution_count": null,
   "metadata": {},
   "outputs": [],
   "source": []
  },
  {
   "cell_type": "code",
   "execution_count": 16,
   "metadata": {},
   "outputs": [
    {
     "name": "stdout",
     "output_type": "stream",
     "text": [
      "❌ Error: 'tuple' object does not support item assignment\n",
      "\n",
      "✅ Modified tuple with changes to the nested list:\n",
      "(40, 3, 2, [9, 4])\n"
     ]
    }
   ],
   "source": [
    "# Step 1️⃣: Define a tuple with mixed data types 📋\n",
    "# The tuple contains:\n",
    "# - Integers: 40, 3, 2\n",
    "# - A nested list: [10, 4]\n",
    "my_tuple = (40, 3, 2, [10, 4])\n",
    "\n",
    "# Step 2️⃣: Try to modify an element directly ❌\n",
    "# Attempting to change the third element of the tuple (index 2) to 10.\n",
    "# This will result in an error because tuples are immutable.\n",
    "try:\n",
    "    my_tuple[2] = 10  # This line will throw a TypeError\n",
    "except TypeError as e:\n",
    "    print(\"❌ Error:\", e)\n",
    "\n",
    "# Step 3️⃣: Modify an element inside the nested list ✅\n",
    "# Access the fourth element (index 3), which is a list.\n",
    "# Modify the first element of this nested list (index 0).\n",
    "my_tuple[3][0] = 9\n",
    "\n",
    "# Step 4️⃣: Print the modified tuple 📋\n",
    "# The tuple remains unchanged in structure, but the list inside it is modified.\n",
    "print(\"\\n✅ Modified tuple with changes to the nested list:\")\n",
    "print(my_tuple)  # Output: (40, 3, 2, [9, 4])"
   ]
  },
  {
   "cell_type": "code",
   "execution_count": null,
   "metadata": {},
   "outputs": [],
   "source": []
  },
  {
   "cell_type": "code",
   "execution_count": null,
   "metadata": {},
   "outputs": [],
   "source": []
  },
  {
   "cell_type": "code",
   "execution_count": null,
   "metadata": {},
   "outputs": [],
   "source": []
  },
  {
   "cell_type": "markdown",
   "metadata": {},
   "source": [
    "# <font color='blue'> 6.EXECUTE THE FOLLOWING COMMANDS AND EXPLAIN WHAT WENT WRONG AND WHAT WENT RIGHT!"
   ]
  },
  {
   "cell_type": "code",
   "execution_count": 26,
   "metadata": {},
   "outputs": [
    {
     "ename": "TypeError",
     "evalue": "'tuple' object doesn't support item deletion",
     "output_type": "error",
     "traceback": [
      "\u001b[1;31m---------------------------------------------------------------------------\u001b[0m",
      "\u001b[1;31mTypeError\u001b[0m                                 Traceback (most recent call last)",
      "\u001b[1;32m<ipython-input-26-6a61b4518dda>\u001b[0m in \u001b[0;36m<module>\u001b[1;34m()\u001b[0m\n\u001b[0;32m      1\u001b[0m \u001b[0mmy_tuple\u001b[0m \u001b[1;33m=\u001b[0m \u001b[1;33m(\u001b[0m\u001b[1;36m40\u001b[0m\u001b[1;33m,\u001b[0m \u001b[1;36m3\u001b[0m\u001b[1;33m,\u001b[0m \u001b[1;36m2\u001b[0m\u001b[1;33m,\u001b[0m \u001b[1;33m[\u001b[0m\u001b[1;36m10\u001b[0m\u001b[1;33m,\u001b[0m \u001b[1;36m4\u001b[0m\u001b[1;33m]\u001b[0m\u001b[1;33m)\u001b[0m\u001b[1;33m\u001b[0m\u001b[0m\n\u001b[0;32m      2\u001b[0m \u001b[1;33m\u001b[0m\u001b[0m\n\u001b[1;32m----> 3\u001b[1;33m \u001b[1;32mdel\u001b[0m \u001b[0mmy_tuple\u001b[0m\u001b[1;33m[\u001b[0m\u001b[1;36m3\u001b[0m\u001b[1;33m]\u001b[0m\u001b[1;33m\u001b[0m\u001b[0m\n\u001b[0m",
      "\u001b[1;31mTypeError\u001b[0m: 'tuple' object doesn't support item deletion"
     ]
    }
   ],
   "source": [
    "my_tuple = (40, 3, 2, [10, 4])\n",
    "\n",
    "del my_tuple[3]"
   ]
  },
  {
   "cell_type": "code",
   "execution_count": 27,
   "metadata": {},
   "outputs": [
    {
     "ename": "NameError",
     "evalue": "name 'my_tuple' is not defined",
     "output_type": "error",
     "traceback": [
      "\u001b[1;31m---------------------------------------------------------------------------\u001b[0m",
      "\u001b[1;31mNameError\u001b[0m                                 Traceback (most recent call last)",
      "\u001b[1;32m<ipython-input-27-e1832238cbcc>\u001b[0m in \u001b[0;36m<module>\u001b[1;34m()\u001b[0m\n\u001b[0;32m      1\u001b[0m \u001b[1;32mdel\u001b[0m \u001b[0mmy_tuple\u001b[0m\u001b[1;33m\u001b[0m\u001b[0m\n\u001b[1;32m----> 2\u001b[1;33m \u001b[0mprint\u001b[0m\u001b[1;33m(\u001b[0m\u001b[0mmy_tuple\u001b[0m\u001b[1;33m)\u001b[0m\u001b[1;33m\u001b[0m\u001b[0m\n\u001b[0m",
      "\u001b[1;31mNameError\u001b[0m: name 'my_tuple' is not defined"
     ]
    }
   ],
   "source": [
    "del my_tuple\n",
    "print(my_tuple)"
   ]
  },
  {
   "cell_type": "code",
   "execution_count": null,
   "metadata": {},
   "outputs": [],
   "source": []
  },
  {
   "cell_type": "code",
   "execution_count": null,
   "metadata": {},
   "outputs": [],
   "source": []
  },
  {
   "cell_type": "code",
   "execution_count": null,
   "metadata": {},
   "outputs": [],
   "source": []
  },
  {
   "cell_type": "code",
   "execution_count": 19,
   "metadata": {},
   "outputs": [
    {
     "name": "stdout",
     "output_type": "stream",
     "text": [
      "❌ Error: 'tuple' object doesn't support item deletion\n",
      "❌ Error: name 'my_tuple' is not defined\n"
     ]
    }
   ],
   "source": [
    "# Step 1️⃣: Define a tuple with mixed data types 📋\n",
    "# The tuple contains:\n",
    "# - Integers: 40, 3, 2\n",
    "# - A nested list: [10, 4]\n",
    "my_tuple = (40, 3, 2, [10, 4])\n",
    "\n",
    "# Step 2️⃣: Try to delete an individual element ❌\n",
    "# Attempt to delete the fourth element of the tuple (index 3).\n",
    "# This will raise a TypeError because tuples are immutable.\n",
    "try:\n",
    "    del my_tuple[3]  # Trying to delete the fourth element\n",
    "except TypeError as e:\n",
    "    print(\"❌ Error:\", e)\n",
    "\n",
    "# Step 3️⃣: Delete the entire tuple ✅\n",
    "# Use the `del` keyword to remove the entire tuple from memory.\n",
    "del my_tuple\n",
    "\n",
    "# Step 4️⃣: Try to access the deleted tuple ❌\n",
    "# Attempting to access `my_tuple` after deletion will raise a NameError.\n",
    "try:\n",
    "    print(my_tuple)  # This will raise an error because the tuple no longer exists.\n",
    "except NameError as e:\n",
    "    print(\"❌ Error:\", e)\n"
   ]
  },
  {
   "cell_type": "code",
   "execution_count": null,
   "metadata": {},
   "outputs": [],
   "source": []
  },
  {
   "cell_type": "code",
   "execution_count": null,
   "metadata": {},
   "outputs": [],
   "source": []
  },
  {
   "cell_type": "markdown",
   "metadata": {},
   "source": [
    "# <font color='blue'> 7. CHECK IF THE NAME \"PYTHON\" EXISTS IN A TUPLE"
   ]
  },
  {
   "cell_type": "code",
   "execution_count": 28,
   "metadata": {},
   "outputs": [
    {
     "name": "stdout",
     "output_type": "stream",
     "text": [
      "True\n",
      "False\n",
      "True\n"
     ]
    }
   ],
   "source": [
    "my_tuple = ('math','science','science','python','english')\n",
    "\n",
    "print('python' in my_tuple)\n",
    "\n",
    "print('Python' in my_tuple)\n",
    "\n",
    "print('physics' not in my_tuple)"
   ]
  },
  {
   "cell_type": "code",
   "execution_count": null,
   "metadata": {},
   "outputs": [],
   "source": []
  },
  {
   "cell_type": "code",
   "execution_count": null,
   "metadata": {},
   "outputs": [],
   "source": []
  },
  {
   "cell_type": "code",
   "execution_count": null,
   "metadata": {},
   "outputs": [],
   "source": []
  },
  {
   "cell_type": "code",
   "execution_count": 22,
   "metadata": {},
   "outputs": [
    {
     "name": "stdout",
     "output_type": "stream",
     "text": [
      "'python' exists in my_tuple: True\n",
      "'Python' exists in my_tuple (case-sensitive check): False\n",
      "'physics' does not exist in my_tuple: True\n",
      "The word 'science' appears 2 times.\n",
      "At least one of the subjects exists in my_tuple: True\n",
      "🎉 The subject 'python' is found in my_tuple!\n",
      "'PYTHON' exists in my_tuple (case-insensitive): True\n"
     ]
    }
   ],
   "source": [
    "# 🟢 Step 1: Create a tuple containing subjects\n",
    "# This tuple includes a mix of subjects. Note that 'science' appears twice.\n",
    "my_tuple = ('math', 'science', 'science', 'python', 'english')\n",
    "\n",
    "# 🟢 Step 2: Check if 'python' exists in the tuple ✅\n",
    "# The `in` operator checks whether 'python' exists in the tuple.\n",
    "# It returns True if the element is present, False otherwise.\n",
    "print(\"'python' exists in my_tuple:\", 'python' in my_tuple)  # Output: True\n",
    "\n",
    "# 🟢 Step 3: Check for a case-sensitive match ❌\n",
    "# Python is case-sensitive, so 'Python' (uppercase 'P') is not the same as 'python'.\n",
    "print(\"'Python' exists in my_tuple (case-sensitive check):\", 'Python' in my_tuple)  # Output: False\n",
    "\n",
    "# 🟢 Step 4: Check if 'physics' does NOT exist in the tuple ✅\n",
    "# The `not in` operator checks for the absence of an element in the tuple.\n",
    "# It returns True if the element is NOT in the tuple, False otherwise.\n",
    "print(\"'physics' does not exist in my_tuple:\", 'physics' not in my_tuple)  # Output: True\n",
    "\n",
    "# 🟢 Step 5: Count how many times 'science' appears in the tuple 🧮\n",
    "# The count() method counts the number of occurrences of an element in the tuple.\n",
    "science_count = my_tuple.count('science')\n",
    "print(\"The word 'science' appears\", science_count, \"times.\")  # Output: 2\n",
    "\n",
    "# 🟢 Step 6: Check if at least one subject from a given list exists in the tuple 🧑‍🎓\n",
    "# Using `any()` with a comprehension to see if any of the subjects in the list are in my_tuple.\n",
    "subjects_to_check = ['biology', 'math', 'chemistry']  # List of subjects to check\n",
    "exists = any(subject in my_tuple for subject in subjects_to_check)\n",
    "print(\"At least one of the subjects exists in my_tuple:\", exists)  # Output: True\n",
    "\n",
    "# 🟢 Step 7: Use tuple membership in a conditional statement 🎯\n",
    "# Example: Print a special message if 'python' is found in the tuple.\n",
    "if 'python' in my_tuple:\n",
    "    print(\"🎉 The subject 'python' is found in my_tuple!\")\n",
    "else:\n",
    "    print(\"❌ The subject 'python' is not in my_tuple.\")\n",
    "\n",
    "# 🟢 Step 8: Create an advanced check for multiple words (case-insensitive) 🔍\n",
    "# Let's convert the tuple to lowercase strings and check for a case-insensitive match.\n",
    "# This is done using a generator and the `any()` function.\n",
    "search_term = \"PYTHON\"\n",
    "exists_case_insensitive = any(term.lower() == search_term.lower() for term in my_tuple)\n",
    "print(f\"'{search_term}' exists in my_tuple (case-insensitive):\", exists_case_insensitive)  # Output: True"
   ]
  },
  {
   "cell_type": "code",
   "execution_count": null,
   "metadata": {},
   "outputs": [],
   "source": []
  },
  {
   "cell_type": "code",
   "execution_count": null,
   "metadata": {},
   "outputs": [],
   "source": []
  },
  {
   "cell_type": "markdown",
   "metadata": {},
   "source": [
    "# <font color='blue'> 8. REMOVE THE DUPLICATES FROM THE FOLLOWING LIST   </font> "
   ]
  },
  {
   "cell_type": "code",
   "execution_count": 29,
   "metadata": {},
   "outputs": [
    {
     "name": "stdout",
     "output_type": "stream",
     "text": [
      "['2', 4, 6, 9, 50]\n"
     ]
    }
   ],
   "source": [
    "my_list = [\"2\", 50, \"2\", 50, 4, 6, 9, 9]\n",
    "out_list = list(set(my_list))\n",
    "print(out_list)"
   ]
  },
  {
   "cell_type": "code",
   "execution_count": null,
   "metadata": {},
   "outputs": [],
   "source": []
  },
  {
   "cell_type": "code",
   "execution_count": null,
   "metadata": {},
   "outputs": [],
   "source": []
  },
  {
   "cell_type": "code",
   "execution_count": null,
   "metadata": {},
   "outputs": [],
   "source": []
  },
  {
   "cell_type": "code",
   "execution_count": 33,
   "metadata": {},
   "outputs": [
    {
     "name": "stdout",
     "output_type": "stream",
     "text": [
      "Original list: ['2', 50, '2', 50, 4, 6, 9, 9]\n",
      "List after removing duplicates and sorting: ['2', '4', '50', '6', '9']\n",
      "List with original order and duplicates removed: ['2', 50, 4, 6, 9]\n"
     ]
    }
   ],
   "source": [
    "# 🟢 Step 1: Define the list with duplicates (mixed types)\n",
    "# This list contains both strings and integers.\n",
    "my_list = [\"2\", 50, \"2\", 50, 4, 6, 9, 9]\n",
    "\n",
    "# 🟢 Step 2: Convert elements to a uniform type (e.g., strings)\n",
    "# Converting all elements to strings for consistency.\n",
    "uniform_list = list(map(str, my_list))  # Ensures all elements are strings.\n",
    "\n",
    "# 🟢 Step 3: Remove duplicates using a set\n",
    "unique_set = set(uniform_list)  # Removes duplicates.\n",
    "\n",
    "# 🟢 Step 4: Convert back to a list and sort it\n",
    "out_list_sorted = sorted(unique_set)  # Sorts the unique elements.\n",
    "\n",
    "# 🟢 Step 5: Print the results\n",
    "print(\"Original list:\", my_list)\n",
    "print(\"List after removing duplicates and sorting:\", out_list_sorted)\n",
    "\n",
    "# 🟢 Advanced: Maintain original order while removing duplicates\n",
    "ordered_unique_list = []\n",
    "for item in my_list:\n",
    "    if item not in ordered_unique_list:\n",
    "        ordered_unique_list.append(item)\n",
    "\n",
    "print(\"List with original order and duplicates removed:\", ordered_unique_list)"
   ]
  },
  {
   "cell_type": "code",
   "execution_count": null,
   "metadata": {},
   "outputs": [],
   "source": []
  },
  {
   "cell_type": "code",
   "execution_count": null,
   "metadata": {},
   "outputs": [],
   "source": []
  },
  {
   "cell_type": "markdown",
   "metadata": {},
   "source": [
    "#  <font color='blue'> 9. ADD YOUR NAME TO THE FOLLOWING SET AND CONVERT INTO A LIST"
   ]
  },
  {
   "cell_type": "code",
   "execution_count": 38,
   "metadata": {},
   "outputs": [
    {
     "name": "stdout",
     "output_type": "stream",
     "text": [
      "{'sara', 'jon', 'mike', 'ryan'}\n"
     ]
    }
   ],
   "source": [
    "my_set = {\"sara\", \"mike\", \"jon\", \"jon\", \"mike\"}\n",
    "\n",
    "my_set.add(\"ryan\")\n",
    "\n",
    "print(my_set)"
   ]
  },
  {
   "cell_type": "code",
   "execution_count": 39,
   "metadata": {},
   "outputs": [
    {
     "name": "stdout",
     "output_type": "stream",
     "text": [
      "['sara', 'jon', 'mike', 'ryan']\n"
     ]
    }
   ],
   "source": [
    "out_list = list(my_set)\n",
    "print(out_list)"
   ]
  },
  {
   "cell_type": "code",
   "execution_count": null,
   "metadata": {},
   "outputs": [],
   "source": []
  },
  {
   "cell_type": "code",
   "execution_count": null,
   "metadata": {},
   "outputs": [],
   "source": []
  },
  {
   "cell_type": "code",
   "execution_count": 36,
   "metadata": {},
   "outputs": [
    {
     "name": "stdout",
     "output_type": "stream",
     "text": [
      "{'sara', 'ryan', 'mike', 'jon'}\n",
      "['sara', 'ryan', 'mike', 'jon']\n"
     ]
    }
   ],
   "source": [
    "# Step 1: Define a set with some names\n",
    "my_set = {\"sara\", \"mike\", \"jon\", \"jon\", \"mike\"}  \n",
    "# A set automatically removes duplicate values. So, even though 'jon' and 'mike' are repeated,\n",
    "# they will only appear once in the set.\n",
    "\n",
    "# Step 2: Add your name to the set\n",
    "my_set.add(\"ryan\")  \n",
    "# The `.add()` method adds a new element to the set. \n",
    "# Sets do not allow duplicates, so if 'ryan' already existed, no change would happen.\n",
    "\n",
    "# Step 3: Print the updated set\n",
    "print(my_set)  \n",
    "# The set is now updated with your name added to it. \n",
    "\n",
    "# Step 4: Convert the set into a list\n",
    "out_list = list(my_set)  \n",
    "# The `list()` function converts the set into a list. This is useful if you need ordered elements.\n",
    "\n",
    "# Step 5: Print the resulting list\n",
    "print(out_list)  \n",
    "# You will see the set converted into a list. The order of elements in a set is not guaranteed,\n",
    "# so the order of elements in the list might also seem random."
   ]
  },
  {
   "cell_type": "code",
   "execution_count": null,
   "metadata": {},
   "outputs": [],
   "source": []
  },
  {
   "cell_type": "code",
   "execution_count": null,
   "metadata": {},
   "outputs": [],
   "source": []
  },
  {
   "cell_type": "markdown",
   "metadata": {},
   "source": [
    "#  <font color='blue'> 10. RUN THIS CODE AND EXPLAIN WHAT IT DOES (WE WILL COVER IF CONDITIONS NEXT)"
   ]
  },
  {
   "cell_type": "code",
   "execution_count": 42,
   "metadata": {},
   "outputs": [],
   "source": [
    "my_grocery = {\"banana\", \"cherry\"}\n",
    "\n",
    "if (\"orange\" in my_grocery):\n",
    "  print(\"Yes, I have got orange in my grocery list!\")"
   ]
  },
  {
   "cell_type": "code",
   "execution_count": null,
   "metadata": {},
   "outputs": [],
   "source": [
    "my_grocery = {\"orange\", \"banana\", \"cherry\"}\n",
    "\n",
    "if (\"orange\" in my_grocery):\n",
    "  print(\"Yes, I have got orange in my grocery list!\")"
   ]
  },
  {
   "cell_type": "code",
   "execution_count": null,
   "metadata": {},
   "outputs": [],
   "source": []
  },
  {
   "cell_type": "code",
   "execution_count": null,
   "metadata": {},
   "outputs": [],
   "source": []
  },
  {
   "cell_type": "code",
   "execution_count": 39,
   "metadata": {},
   "outputs": [
    {
     "name": "stdout",
     "output_type": "stream",
     "text": [
      "No, orange is not in my grocery list!\n",
      "Updated grocery list: {'orange', 'cherry', 'banana'}\n",
      "Yes, now I have orange in my grocery list!\n",
      "Milk is not in the grocery list.\n",
      "My grocery list contains 3 items.\n",
      "Grocery list as a list: ['orange', 'cherry', 'banana']\n",
      "Sorted grocery list: ['banana', 'cherry', 'orange']\n",
      "Both orange and cherry are in the list!\n",
      "Either milk or banana is in the grocery list!\n"
     ]
    }
   ],
   "source": [
    "# Step 1: Define a set with grocery items 🍌🍒\n",
    "# A set is an unordered collection of unique items.\n",
    "my_grocery = {\"banana\", \"cherry\"}\n",
    "\n",
    "# Step 2: Use an if statement to check if \"orange\" exists in the set\n",
    "# The \"in\" keyword checks if an item is present in the set.\n",
    "if \"orange\" in my_grocery:\n",
    "    print(\"Yes, I have got orange in my grocery list!\")\n",
    "else:\n",
    "    # If \"orange\" is not found, this block will execute.\n",
    "    print(\"No, orange is not in my grocery list!\")\n",
    "\n",
    "# Step 3: Add \"orange\" to the set 🍊\n",
    "# The .add() method adds a single element to the set.\n",
    "my_grocery.add(\"orange\")\n",
    "print(\"Updated grocery list:\", my_grocery)\n",
    "\n",
    "# Step 4: Check again for \"orange\" using an if statement\n",
    "if \"orange\" in my_grocery:\n",
    "    print(\"Yes, now I have orange in my grocery list!\")\n",
    "\n",
    "# Step 5: Check if an item is NOT in the set 🚫\n",
    "if \"milk\" not in my_grocery:\n",
    "    print(\"Milk is not in the grocery list.\")\n",
    "\n",
    "# Step 6: Count the total items in the set 🧮\n",
    "# Use the len() function to get the number of items in the set.\n",
    "print(f\"My grocery list contains {len(my_grocery)} items.\")\n",
    "\n",
    "# Step 7: Convert the set to a list for ordering 🔄\n",
    "# The list() function converts a set into a list.\n",
    "grocery_list = list(my_grocery)\n",
    "print(\"Grocery list as a list:\", grocery_list)\n",
    "\n",
    "# Step 8: Sort the list alphabetically 🔤\n",
    "# The sorted() function returns a sorted version of the list.\n",
    "sorted_grocery = sorted(grocery_list)\n",
    "print(\"Sorted grocery list:\", sorted_grocery)\n",
    "\n",
    "# Step 9: Example of checking multiple items with \"and\" and \"or\"\n",
    "if \"orange\" in my_grocery and \"cherry\" in my_grocery:\n",
    "    print(\"Both orange and cherry are in the list!\")\n",
    "\n",
    "if \"milk\" in my_grocery or \"banana\" in my_grocery:\n",
    "    print(\"Either milk or banana is in the grocery list!\")"
   ]
  },
  {
   "cell_type": "code",
   "execution_count": null,
   "metadata": {},
   "outputs": [],
   "source": []
  },
  {
   "cell_type": "code",
   "execution_count": null,
   "metadata": {},
   "outputs": [],
   "source": []
  },
  {
   "cell_type": "markdown",
   "metadata": {},
   "source": [
    "# NOW YOU SHOULD BE FAMILIAR WITH SETS AND TUPLES, GREAT JOB!"
   ]
  }
 ],
 "metadata": {
  "kernelspec": {
   "display_name": "Python [conda env:base] *",
   "language": "python",
   "name": "conda-base-py"
  },
  "language_info": {
   "codemirror_mode": {
    "name": "ipython",
    "version": 3
   },
   "file_extension": ".py",
   "mimetype": "text/x-python",
   "name": "python",
   "nbconvert_exporter": "python",
   "pygments_lexer": "ipython3",
   "version": "3.12.3"
  }
 },
 "nbformat": 4,
 "nbformat_minor": 4
}
