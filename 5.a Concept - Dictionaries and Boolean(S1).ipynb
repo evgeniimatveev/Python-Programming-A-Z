{
 "cells": [
  {
   "cell_type": "markdown",
   "metadata": {},
   "source": [
    "# PYTHON PROGRAMMING FUNDAMENTALS\n",
    "# DICTIONARIES AND BOOLEANS"
   ]
  },
  {
   "cell_type": "markdown",
   "metadata": {},
   "source": [
    "# DICTIONARIES"
   ]
  },
  {
   "cell_type": "markdown",
   "metadata": {},
   "source": [
    "- my_dict = {'key1':'value1', 'key2':'value2', 'key3':'value3'}\n",
    "- Dictionary consists of a collection of key-value pairs. Each key-value pair maps the key to its corresponding value.\n",
    "- Keys are unique within a dictionary while values may not be. \n",
    "- List elements are accessed by their position in the list, via indexing while Dictionary elements are accessed via keys"
   ]
  },
  {
   "cell_type": "code",
   "execution_count": 71,
   "metadata": {},
   "outputs": [],
   "source": [
    "my_dict = {'key1':'value1',\n",
    "           'key2':'value2', \n",
    "           'key3':'value3'}"
   ]
  },
  {
   "cell_type": "code",
   "execution_count": 72,
   "metadata": {},
   "outputs": [
    {
     "data": {
      "text/plain": [
       "{'key1': 'value1', 'key2': 'value2', 'key3': 'value3'}"
      ]
     },
     "execution_count": 72,
     "metadata": {},
     "output_type": "execute_result"
    }
   ],
   "source": [
    "my_dict"
   ]
  },
  {
   "cell_type": "code",
   "execution_count": 73,
   "metadata": {},
   "outputs": [
    {
     "data": {
      "text/plain": [
       "dict"
      ]
     },
     "execution_count": 73,
     "metadata": {},
     "output_type": "execute_result"
    }
   ],
   "source": [
    "type(my_dict)"
   ]
  },
  {
   "cell_type": "code",
   "execution_count": 74,
   "metadata": {},
   "outputs": [
    {
     "data": {
      "text/plain": [
       "'value2'"
      ]
     },
     "execution_count": 74,
     "metadata": {},
     "output_type": "execute_result"
    }
   ],
   "source": [
    "my_dict['key2']"
   ]
  },
  {
   "cell_type": "code",
   "execution_count": 75,
   "metadata": {},
   "outputs": [
    {
     "name": "stdout",
     "output_type": "stream",
     "text": [
      "{'brand': 'Apple', 'model': 'iphone X', 'year': 2018}\n"
     ]
    }
   ],
   "source": [
    "my_dict = {\"brand\": \"Apple\",\n",
    "           \"model\": \"iphone X\",\n",
    "           \"year\" : 2018}\n",
    "\n",
    "print(my_dict)"
   ]
  },
  {
   "cell_type": "code",
   "execution_count": 76,
   "metadata": {},
   "outputs": [
    {
     "data": {
      "text/plain": [
       "'iphone X'"
      ]
     },
     "execution_count": 76,
     "metadata": {},
     "output_type": "execute_result"
    }
   ],
   "source": [
    "my_dict[\"model\"]"
   ]
  },
  {
   "cell_type": "code",
   "execution_count": 77,
   "metadata": {},
   "outputs": [
    {
     "name": "stdout",
     "output_type": "stream",
     "text": [
      "{'brand': 'Apple', 'model': 'iphone X', 'year': 2018, 'color': 'red'}\n"
     ]
    }
   ],
   "source": [
    "# Add a new item to an existing dictionary\n",
    "my_dict[\"color\"] = \"red\"\n",
    "print(my_dict)"
   ]
  },
  {
   "cell_type": "code",
   "execution_count": 78,
   "metadata": {},
   "outputs": [
    {
     "name": "stdout",
     "output_type": "stream",
     "text": [
      "{'model': 'iphone X', 'year': 2018, 'color': 'red'}\n"
     ]
    }
   ],
   "source": [
    "# remove an item from the dictionary\n",
    "del my_dict[\"brand\"]\n",
    "print(my_dict)"
   ]
  },
  {
   "cell_type": "code",
   "execution_count": 79,
   "metadata": {},
   "outputs": [
    {
     "ename": "NameError",
     "evalue": "name 'my_dict' is not defined",
     "output_type": "error",
     "traceback": [
      "\u001b[1;31m---------------------------------------------------------------------------\u001b[0m",
      "\u001b[1;31mNameError\u001b[0m                                 Traceback (most recent call last)",
      "\u001b[1;32m<ipython-input-79-87237349faac>\u001b[0m in \u001b[0;36m<module>\u001b[1;34m()\u001b[0m\n\u001b[0;32m      1\u001b[0m \u001b[1;31m# delete the entire dictionary\u001b[0m\u001b[1;33m\u001b[0m\u001b[1;33m\u001b[0m\u001b[0m\n\u001b[0;32m      2\u001b[0m \u001b[1;32mdel\u001b[0m \u001b[0mmy_dict\u001b[0m\u001b[1;33m\u001b[0m\u001b[0m\n\u001b[1;32m----> 3\u001b[1;33m \u001b[0mprint\u001b[0m\u001b[1;33m(\u001b[0m\u001b[0mmy_dict\u001b[0m\u001b[1;33m)\u001b[0m\u001b[1;33m\u001b[0m\u001b[0m\n\u001b[0m",
      "\u001b[1;31mNameError\u001b[0m: name 'my_dict' is not defined"
     ]
    }
   ],
   "source": [
    "# delete the entire dictionary\n",
    "del my_dict\n",
    "print(my_dict)"
   ]
  },
  {
   "cell_type": "markdown",
   "metadata": {},
   "source": [
    "# BOOLEANS \n",
    "- Boolean values can be represented as one of two constant objects \"False\" and \"True\". \n",
    "- Booleans behave like the integers 0 and 1, respectively.\n"
   ]
  },
  {
   "cell_type": "code",
   "execution_count": null,
   "metadata": {},
   "outputs": [],
   "source": [
    "True "
   ]
  },
  {
   "cell_type": "code",
   "execution_count": null,
   "metadata": {},
   "outputs": [],
   "source": [
    "False "
   ]
  },
  {
   "cell_type": "code",
   "execution_count": 81,
   "metadata": {},
   "outputs": [
    {
     "name": "stdout",
     "output_type": "stream",
     "text": [
      "True\n"
     ]
    }
   ],
   "source": [
    "x = 10\n",
    "y = 10\n",
    "print(x == y)"
   ]
  },
  {
   "cell_type": "code",
   "execution_count": null,
   "metadata": {},
   "outputs": [],
   "source": []
  },
  {
   "cell_type": "code",
   "execution_count": null,
   "metadata": {},
   "outputs": [],
   "source": []
  },
  {
   "cell_type": "code",
   "execution_count": 4,
   "metadata": {},
   "outputs": [
    {
     "name": "stdout",
     "output_type": "stream",
     "text": [
      "📋 Original dictionary:\n",
      "{'name': 'John', 'age': 25, 'city': 'New York'}\n",
      "\n",
      "🔍 Accessing elements:\n",
      "Name: John\n",
      "Age: 25\n",
      "\n",
      "✏️ Adding and updating elements:\n",
      "Updated dictionary:\n",
      "{'name': 'John', 'age': 26, 'city': 'New York', 'job': 'Engineer'}\n",
      "\n",
      "🗑️ Removing elements:\n",
      "Removed city: New York\n",
      "{'name': 'John', 'age': 26, 'job': 'Engineer'}\n",
      "\n",
      "🔄 Iterating over dictionary:\n",
      "name: John\n",
      "age: 26\n",
      "job: Engineer\n",
      "\n",
      "💣 Deleting the dictionary:\n",
      "\n",
      "🔍 Boolean comparisons:\n",
      "Is 10 greater than 20? False\n",
      "Is 10 less than 20? True\n",
      "\n",
      "☀️ Conditional example:\n",
      "It's a sunny day! 🌞\n",
      "\n",
      "🔧 Using boolean functions:\n",
      "Is 4 even? True\n",
      "Does the string contain 'Python'? True\n",
      "\n",
      "🌧️ Combining dictionaries and booleans:\n",
      "Is it raining? No\n"
     ]
    }
   ],
   "source": [
    "# 📚 Working with Dictionaries 🗂️\n",
    "\n",
    "# Step 1️⃣: Create a dictionary 🛠️\n",
    "my_dict = {\"name\": \"John\", \"age\": 25, \"city\": \"New York\"}\n",
    "print(\"📋 Original dictionary:\")\n",
    "print(my_dict)\n",
    "# Output: {'name': 'John', 'age': 25, 'city': 'New York'}\n",
    "\n",
    "# Step 2️⃣: Accessing elements 🔑\n",
    "print(\"\\n🔍 Accessing elements:\")\n",
    "print(f\"Name: {my_dict['name']}\")  # Access the value of the key 'name'\n",
    "print(f\"Age: {my_dict['age']}\")  # Access the value of the key 'age'\n",
    "# Output:\n",
    "# Name: John\n",
    "# Age: 25\n",
    "\n",
    "# Step 3️⃣: Adding and updating elements ✏️\n",
    "print(\"\\n✏️ Adding and updating elements:\")\n",
    "my_dict[\"job\"] = \"Engineer\"  # Add a new key-value pair\n",
    "my_dict[\"age\"] = 26  # Update the value of an existing key\n",
    "print(\"Updated dictionary:\")\n",
    "print(my_dict)\n",
    "# Output: {'name': 'John', 'age': 26, 'city': 'New York', 'job': 'Engineer'}\n",
    "\n",
    "# Step 4️⃣: Removing elements 🗑️\n",
    "print(\"\\n🗑️ Removing elements:\")\n",
    "removed_city = my_dict.pop(\"city\")  # Remove 'city' using pop()\n",
    "print(f\"Removed city: {removed_city}\")\n",
    "print(my_dict)\n",
    "# Output:\n",
    "# Removed city: New York\n",
    "# {'name': 'John', 'age': 26, 'job': 'Engineer'}\n",
    "\n",
    "# Step 5️⃣: Iterating over a dictionary 🔄\n",
    "print(\"\\n🔄 Iterating over dictionary:\")\n",
    "for key, value in my_dict.items():\n",
    "    print(f\"{key}: {value}\")\n",
    "# Output:\n",
    "# name: John\n",
    "# age: 26\n",
    "# job: Engineer\n",
    "\n",
    "# Step 6️⃣: Delete entire dictionary 💣\n",
    "print(\"\\n💣 Deleting the dictionary:\")\n",
    "del my_dict  # Delete the dictionary\n",
    "# Uncommenting the next line will raise an error:\n",
    "# print(my_dict)  # NameError: name 'my_dict' is not defined\n",
    "\n",
    "\n",
    "# 📚 Working with Booleans 🤔\n",
    "\n",
    "# Step 7️⃣: Boolean values and comparison operators 🔍\n",
    "a = 10\n",
    "b = 20\n",
    "print(\"\\n🔍 Boolean comparisons:\")\n",
    "print(f\"Is {a} greater than {b}? {a > b}\")  # Output: False\n",
    "print(f\"Is {a} less than {b}? {a < b}\")  # Output: True\n",
    "\n",
    "# Step 8️⃣: Using booleans in conditional statements ✅❌\n",
    "is_sunny = True\n",
    "print(\"\\n☀️ Conditional example:\")\n",
    "if is_sunny:\n",
    "    print(\"It's a sunny day! 🌞\")\n",
    "else:\n",
    "    print(\"It's not sunny today. ☁️\")\n",
    "# Output: It's a sunny day! 🌞\n",
    "\n",
    "# Step 9️⃣: Boolean functions 🔧\n",
    "print(\"\\n🔧 Using boolean functions:\")\n",
    "num = 4\n",
    "print(f\"Is {num} even? {num % 2 == 0}\")  # Check if a number is even\n",
    "string = \"Python programming is fun!\"\n",
    "print(f\"Does the string contain 'Python'? {'Python' in string}\")\n",
    "# Output:\n",
    "# Is 4 even? True\n",
    "# Does the string contain 'Python'? True\n",
    "\n",
    "# Step 🔟: Combining dictionaries and booleans 🧠\n",
    "bool_dict = {True: \"Yes\", False: \"No\"}\n",
    "is_raining = False\n",
    "print(\"\\n🌧️ Combining dictionaries and booleans:\")\n",
    "print(f\"Is it raining? {bool_dict[is_raining]}\")\n",
    "# Output: Is it raining? No"
   ]
  },
  {
   "cell_type": "code",
   "execution_count": null,
   "metadata": {},
   "outputs": [],
   "source": []
  },
  {
   "cell_type": "code",
   "execution_count": null,
   "metadata": {},
   "outputs": [],
   "source": []
  },
  {
   "cell_type": "code",
   "execution_count": null,
   "metadata": {},
   "outputs": [],
   "source": []
  },
  {
   "cell_type": "code",
   "execution_count": null,
   "metadata": {},
   "outputs": [],
   "source": []
  },
  {
   "cell_type": "code",
   "execution_count": null,
   "metadata": {},
   "outputs": [],
   "source": []
  },
  {
   "cell_type": "markdown",
   "metadata": {},
   "source": [
    "# YOU ARE GETTING CLOSER TO MASTER PYTHON! KEEP IT UP!"
   ]
  },
  {
   "cell_type": "code",
   "execution_count": null,
   "metadata": {},
   "outputs": [],
   "source": []
  },
  {
   "cell_type": "code",
   "execution_count": null,
   "metadata": {},
   "outputs": [],
   "source": []
  },
  {
   "cell_type": "code",
   "execution_count": null,
   "metadata": {},
   "outputs": [],
   "source": []
  }
 ],
 "metadata": {
  "kernelspec": {
   "display_name": "Python [conda env:base] *",
   "language": "python",
   "name": "conda-base-py"
  },
  "language_info": {
   "codemirror_mode": {
    "name": "ipython",
    "version": 3
   },
   "file_extension": ".py",
   "mimetype": "text/x-python",
   "name": "python",
   "nbconvert_exporter": "python",
   "pygments_lexer": "ipython3",
   "version": "3.12.3"
  }
 },
 "nbformat": 4,
 "nbformat_minor": 4
}
